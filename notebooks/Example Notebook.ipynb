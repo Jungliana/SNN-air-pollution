{
 "cells": [
  {
   "cell_type": "code",
   "execution_count": 1,
   "id": "065b933a",
   "metadata": {},
   "outputs": [],
   "source": [
    "# Adding autoreload will let you edit your package and see the changes without restarting the notebook.\n",
    "\n",
    "%load_ext autoreload\n",
    "\n",
    "%autoreload 2"
   ]
  },
  {
   "cell_type": "code",
   "execution_count": 2,
   "id": "fa457ac8",
   "metadata": {},
   "outputs": [],
   "source": [
    "import pandas as pd"
   ]
  },
  {
   "cell_type": "code",
   "execution_count": 3,
   "id": "75ae2ded",
   "metadata": {},
   "outputs": [],
   "source": [
    "from project_name.visualization.visualize import dummy_plot"
   ]
  },
  {
   "cell_type": "code",
   "execution_count": 4,
   "id": "fe8869ae",
   "metadata": {},
   "outputs": [],
   "source": [
    "data = pd.DataFrame({\"x\": [1, 2, 3, 4], \"y\": [1, 4, 9, 16]})"
   ]
  },
  {
   "cell_type": "code",
   "execution_count": 5,
   "id": "0c1d3d90",
   "metadata": {},
   "outputs": [
    {
     "data": {
      "text/plain": [
       "<AxesSubplot:>"
      ]
     },
     "execution_count": 5,
     "metadata": {},
     "output_type": "execute_result"
    },
    {
     "data": {
      "image/png": "[encoded data removed]",
      "text/plain": [
       "<Figure size 432x288 with 1 Axes>"
      ]
     },
     "metadata": {
      "needs_background": "light"
     },
     "output_type": "display_data"
    }
   ],
   "source": [
    "dummy_plot(data)"
   ]
  },
  {
   "cell_type": "code",
   "execution_count": null,
   "id": "06d04a0b",
   "metadata": {},
   "outputs": [],
   "source": []
  }
 ],
 "metadata": {
  "kernelspec": {
   "display_name": "Python 3 (ipykernel)",
   "language": "python",
   "name": "python3"
  },
  "language_info": {
   "codemirror_mode": {
    "name": "ipython",
    "version": 3
   },
   "file_extension": ".py",
   "mimetype": "text/x-python",
   "name": "python",
   "nbconvert_exporter": "python",
   "pygments_lexer": "ipython3",
   "version": "3.8.3"
  }
 },
 "nbformat": 4,
 "nbformat_minor": 5
}
