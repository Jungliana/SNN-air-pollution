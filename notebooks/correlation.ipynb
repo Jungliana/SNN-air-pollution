{
 "cells": [
  {
   "cell_type": "code",
   "execution_count": 1,
   "metadata": {
    "collapsed": true
   },
   "outputs": [],
   "source": [
    "import pandas as pd"
   ]
  },
  {
   "cell_type": "code",
   "execution_count": 2,
   "outputs": [],
   "source": [
    "data = pd.read_csv(\"../data/processed/pollution-weather.csv\")\n",
    "data['date-time'] = pd.to_datetime(data['date-time'])"
   ],
   "metadata": {
    "collapsed": false,
    "pycharm": {
     "name": "#%%\n"
    }
   }
  },
  {
   "cell_type": "markdown",
   "source": [
    "### Współczynnik korelacji\n",
    "## $r_{XY} = \\dfrac{cov(X,Y)}{\\sigma_X \\sigma_Y}$"
   ],
   "metadata": {
    "collapsed": false
   }
  },
  {
   "cell_type": "code",
   "execution_count": 3,
   "outputs": [
    {
     "data": {
      "text/plain": "                pm2_5  wind-east  wind-north  temperature  pressure\npm2_5        1.000000   0.216699   -0.122668    -0.330747  0.130883\nwind-east    0.216699   1.000000   -0.236909     0.018249  0.051069\nwind-north  -0.122668  -0.236909    1.000000    -0.050478  0.108393\ntemperature -0.330747   0.018249   -0.050478     1.000000 -0.035673\npressure     0.130883   0.051069    0.108393    -0.035673  1.000000",
      "text/html": "<div>\n<style scoped>\n    .dataframe tbody tr th:only-of-type {\n        vertical-align: middle;\n    }\n\n    .dataframe tbody tr th {\n        vertical-align: top;\n    }\n\n    .dataframe thead th {\n        text-align: right;\n    }\n</style>\n<table border=\"1\" class=\"dataframe\">\n  <thead>\n    <tr style=\"text-align: right;\">\n      <th></th>\n      <th>pm2_5</th>\n      <th>wind-east</th>\n      <th>wind-north</th>\n      <th>temperature</th>\n      <th>pressure</th>\n    </tr>\n  </thead>\n  <tbody>\n    <tr>\n      <th>pm2_5</th>\n      <td>1.000000</td>\n      <td>0.216699</td>\n      <td>-0.122668</td>\n      <td>-0.330747</td>\n      <td>0.130883</td>\n    </tr>\n    <tr>\n      <th>wind-east</th>\n      <td>0.216699</td>\n      <td>1.000000</td>\n      <td>-0.236909</td>\n      <td>0.018249</td>\n      <td>0.051069</td>\n    </tr>\n    <tr>\n      <th>wind-north</th>\n      <td>-0.122668</td>\n      <td>-0.236909</td>\n      <td>1.000000</td>\n      <td>-0.050478</td>\n      <td>0.108393</td>\n    </tr>\n    <tr>\n      <th>temperature</th>\n      <td>-0.330747</td>\n      <td>0.018249</td>\n      <td>-0.050478</td>\n      <td>1.000000</td>\n      <td>-0.035673</td>\n    </tr>\n    <tr>\n      <th>pressure</th>\n      <td>0.130883</td>\n      <td>0.051069</td>\n      <td>0.108393</td>\n      <td>-0.035673</td>\n      <td>1.000000</td>\n    </tr>\n  </tbody>\n</table>\n</div>"
     },
     "execution_count": 3,
     "metadata": {},
     "output_type": "execute_result"
    }
   ],
   "source": [
    "data.corr()"
   ],
   "metadata": {
    "collapsed": false,
    "pycharm": {
     "name": "#%%\n"
    }
   }
  },
  {
   "cell_type": "code",
   "execution_count": 4,
   "outputs": [
    {
     "data": {
      "text/plain": "                pm2_5  wind-east  wind-north  temperature     pressure\ndate-time                                                             \n2021-01-01  32.488333   0.082155   -1.431997    -0.125000   997.966667\n2021-01-02  52.236250   1.364717   -0.704986     0.650000  1003.800000\n2021-01-03  23.772083   3.315934    1.621786     1.487500  1003.950000\n2021-01-04  34.702500   3.145808    1.146105     2.800000  1003.916667\n2021-01-05  22.851667   3.702931    2.338863     3.087500   998.779167\n...               ...        ...         ...          ...          ...\n2021-12-27  54.067500   3.680998   -0.518715    -9.870833  1004.283333\n2021-12-28  28.182500   5.743422   -2.431569    -5.545833   998.512500\n2021-12-29  40.446667   3.695867   -1.874503    -2.466667   995.537500\n2021-12-30  42.038333  -0.206690   -1.164237     2.837500   999.454167\n2021-12-31   9.327917  -5.165879   -1.288802     9.687500   998.045833\n\n[365 rows x 5 columns]",
      "text/html": "<div>\n<style scoped>\n    .dataframe tbody tr th:only-of-type {\n        vertical-align: middle;\n    }\n\n    .dataframe tbody tr th {\n        vertical-align: top;\n    }\n\n    .dataframe thead th {\n        text-align: right;\n    }\n</style>\n<table border=\"1\" class=\"dataframe\">\n  <thead>\n    <tr style=\"text-align: right;\">\n      <th></th>\n      <th>pm2_5</th>\n      <th>wind-east</th>\n      <th>wind-north</th>\n      <th>temperature</th>\n      <th>pressure</th>\n    </tr>\n    <tr>\n      <th>date-time</th>\n      <th></th>\n      <th></th>\n      <th></th>\n      <th></th>\n      <th></th>\n    </tr>\n  </thead>\n  <tbody>\n    <tr>\n      <th>2021-01-01</th>\n      <td>32.488333</td>\n      <td>0.082155</td>\n      <td>-1.431997</td>\n      <td>-0.125000</td>\n      <td>997.966667</td>\n    </tr>\n    <tr>\n      <th>2021-01-02</th>\n      <td>52.236250</td>\n      <td>1.364717</td>\n      <td>-0.704986</td>\n      <td>0.650000</td>\n      <td>1003.800000</td>\n    </tr>\n    <tr>\n      <th>2021-01-03</th>\n      <td>23.772083</td>\n      <td>3.315934</td>\n      <td>1.621786</td>\n      <td>1.487500</td>\n      <td>1003.950000</td>\n    </tr>\n    <tr>\n      <th>2021-01-04</th>\n      <td>34.702500</td>\n      <td>3.145808</td>\n      <td>1.146105</td>\n      <td>2.800000</td>\n      <td>1003.916667</td>\n    </tr>\n    <tr>\n      <th>2021-01-05</th>\n      <td>22.851667</td>\n      <td>3.702931</td>\n      <td>2.338863</td>\n      <td>3.087500</td>\n      <td>998.779167</td>\n    </tr>\n    <tr>\n      <th>...</th>\n      <td>...</td>\n      <td>...</td>\n      <td>...</td>\n      <td>...</td>\n      <td>...</td>\n    </tr>\n    <tr>\n      <th>2021-12-27</th>\n      <td>54.067500</td>\n      <td>3.680998</td>\n      <td>-0.518715</td>\n      <td>-9.870833</td>\n      <td>1004.283333</td>\n    </tr>\n    <tr>\n      <th>2021-12-28</th>\n      <td>28.182500</td>\n      <td>5.743422</td>\n      <td>-2.431569</td>\n      <td>-5.545833</td>\n      <td>998.512500</td>\n    </tr>\n    <tr>\n      <th>2021-12-29</th>\n      <td>40.446667</td>\n      <td>3.695867</td>\n      <td>-1.874503</td>\n      <td>-2.466667</td>\n      <td>995.537500</td>\n    </tr>\n    <tr>\n      <th>2021-12-30</th>\n      <td>42.038333</td>\n      <td>-0.206690</td>\n      <td>-1.164237</td>\n      <td>2.837500</td>\n      <td>999.454167</td>\n    </tr>\n    <tr>\n      <th>2021-12-31</th>\n      <td>9.327917</td>\n      <td>-5.165879</td>\n      <td>-1.288802</td>\n      <td>9.687500</td>\n      <td>998.045833</td>\n    </tr>\n  </tbody>\n</table>\n<p>365 rows × 5 columns</p>\n</div>"
     },
     "execution_count": 4,
     "metadata": {},
     "output_type": "execute_result"
    }
   ],
   "source": [
    "# Grupowanie danych - średnia względem dni\n",
    "grouped = data.groupby(pd.Grouper(key='date-time', axis=0,\n",
    "                                  freq='D')).mean()\n",
    "grouped"
   ],
   "metadata": {
    "collapsed": false,
    "pycharm": {
     "name": "#%%\n"
    }
   }
  },
  {
   "cell_type": "markdown",
   "source": [
    "### Współczynniki korelacji - dane pogrupowane"
   ],
   "metadata": {
    "collapsed": false
   }
  },
  {
   "cell_type": "code",
   "execution_count": 5,
   "outputs": [
    {
     "data": {
      "text/plain": "                pm2_5  wind-east  wind-north  temperature  pressure\npm2_5        1.000000   0.256259   -0.166598    -0.357743  0.153946\nwind-east    0.256259   1.000000   -0.281239     0.043123  0.061173\nwind-north  -0.166598  -0.281239    1.000000    -0.041831  0.124447\ntemperature -0.357743   0.043123   -0.041831     1.000000 -0.019376\npressure     0.153946   0.061173    0.124447    -0.019376  1.000000",
      "text/html": "<div>\n<style scoped>\n    .dataframe tbody tr th:only-of-type {\n        vertical-align: middle;\n    }\n\n    .dataframe tbody tr th {\n        vertical-align: top;\n    }\n\n    .dataframe thead th {\n        text-align: right;\n    }\n</style>\n<table border=\"1\" class=\"dataframe\">\n  <thead>\n    <tr style=\"text-align: right;\">\n      <th></th>\n      <th>pm2_5</th>\n      <th>wind-east</th>\n      <th>wind-north</th>\n      <th>temperature</th>\n      <th>pressure</th>\n    </tr>\n  </thead>\n  <tbody>\n    <tr>\n      <th>pm2_5</th>\n      <td>1.000000</td>\n      <td>0.256259</td>\n      <td>-0.166598</td>\n      <td>-0.357743</td>\n      <td>0.153946</td>\n    </tr>\n    <tr>\n      <th>wind-east</th>\n      <td>0.256259</td>\n      <td>1.000000</td>\n      <td>-0.281239</td>\n      <td>0.043123</td>\n      <td>0.061173</td>\n    </tr>\n    <tr>\n      <th>wind-north</th>\n      <td>-0.166598</td>\n      <td>-0.281239</td>\n      <td>1.000000</td>\n      <td>-0.041831</td>\n      <td>0.124447</td>\n    </tr>\n    <tr>\n      <th>temperature</th>\n      <td>-0.357743</td>\n      <td>0.043123</td>\n      <td>-0.041831</td>\n      <td>1.000000</td>\n      <td>-0.019376</td>\n    </tr>\n    <tr>\n      <th>pressure</th>\n      <td>0.153946</td>\n      <td>0.061173</td>\n      <td>0.124447</td>\n      <td>-0.019376</td>\n      <td>1.000000</td>\n    </tr>\n  </tbody>\n</table>\n</div>"
     },
     "execution_count": 5,
     "metadata": {},
     "output_type": "execute_result"
    }
   ],
   "source": [
    "grouped.corr()"
   ],
   "metadata": {
    "collapsed": false,
    "pycharm": {
     "name": "#%%\n"
    }
   }
  },
  {
   "cell_type": "markdown",
   "source": [
    "### Współczynnik informacji wzajemnej\n",
    "## $I(X;Y) = \\sum_y \\sum_x P_{(X,Y)} (x, y)  log \\left( \\dfrac{P_{(X,Y)} (x,y)}{P_X (x) P_Y (y)} \\right)$\n",
    "https://en.wikipedia.org/wiki/Mutual_information"
   ],
   "metadata": {
    "collapsed": false
   }
  },
  {
   "cell_type": "code",
   "execution_count": 6,
   "outputs": [
    {
     "data": {
      "text/plain": "array([0.0726591 , 0.05063169, 0.12908659, 0.1192571 ])"
     },
     "execution_count": 6,
     "metadata": {},
     "output_type": "execute_result"
    }
   ],
   "source": [
    "from sklearn.feature_selection import mutual_info_regression\n",
    "\n",
    "no_null = data.dropna()\n",
    "mutual_info_regression(no_null[['wind-east', 'wind-north', 'temperature', 'pressure']], no_null['pm2_5'], n_neighbors=3)"
   ],
   "metadata": {
    "collapsed": false,
    "pycharm": {
     "name": "#%%\n"
    }
   }
  },
  {
   "cell_type": "code",
   "execution_count": 7,
   "outputs": [
    {
     "data": {
      "text/plain": "array([0.11989735, 0.0450831 , 0.09640267, 0.04470842])"
     },
     "execution_count": 7,
     "metadata": {},
     "output_type": "execute_result"
    }
   ],
   "source": [
    "mutual_info_regression(grouped[['wind-east', 'wind-north', 'temperature', 'pressure']], grouped['pm2_5'], n_neighbors=3)"
   ],
   "metadata": {
    "collapsed": false,
    "pycharm": {
     "name": "#%%\n"
    }
   }
  },
  {
   "cell_type": "code",
   "execution_count": 7,
   "outputs": [],
   "source": [],
   "metadata": {
    "collapsed": false,
    "pycharm": {
     "name": "#%%\n"
    }
   }
  }
 ],
 "metadata": {
  "kernelspec": {
   "display_name": "Python 3",
   "language": "python",
   "name": "python3"
  },
  "language_info": {
   "codemirror_mode": {
    "name": "ipython",
    "version": 2
   },
   "file_extension": ".py",
   "mimetype": "text/x-python",
   "name": "python",
   "nbconvert_exporter": "python",
   "pygments_lexer": "ipython2",
   "version": "2.7.6"
  }
 },
 "nbformat": 4,
 "nbformat_minor": 0
}