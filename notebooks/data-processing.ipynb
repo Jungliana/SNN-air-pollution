{
 "cells": [
  {
   "cell_type": "code",
   "execution_count": 188,
   "outputs": [],
   "source": [
    "import pandas as pd"
   ],
   "metadata": {
    "collapsed": false,
    "pycharm": {
     "name": "#%%\n"
    }
   }
  },
  {
   "cell_type": "markdown",
   "source": [
    "https://powietrze.gios.gov.pl/pjp/archives\n",
    "Wyniki pomiarów z 2021 roku DANE WSTĘPNIE ZWERYFIKOWANE"
   ],
   "metadata": {
    "collapsed": false
   }
  },
  {
   "cell_type": "code",
   "execution_count": 189,
   "outputs": [],
   "source": [
    "pollution = pd.read_csv(\"../data/raw/2021_DANE_1H.csv\", delimiter=';', parse_dates=True)\n",
    "pollution[\"date-time\"] = pd.to_datetime(pollution[\"date-time\"])"
   ],
   "metadata": {
    "collapsed": false,
    "pycharm": {
     "name": "#%%\n"
    }
   }
  },
  {
   "cell_type": "code",
   "execution_count": 190,
   "outputs": [
    {
     "data": {
      "text/plain": "               date-time  MzWarAlNiepo-PM25-1g\n0    2021-01-01 01:00:00                 26.68\n1    2021-01-01 02:00:00                 35.09\n2    2021-01-01 03:00:00                 43.55\n3    2021-01-01 04:00:00                 46.44\n4    2021-01-01 05:00:00                 41.24\n...                  ...                   ...\n8755 2021-12-31 20:00:00                  9.03\n8756 2021-12-31 21:00:00                  8.88\n8757 2021-12-31 22:00:00                  8.10\n8758 2021-12-31 23:00:00                  8.65\n8759 2022-01-01 00:00:00                 24.92\n\n[8760 rows x 2 columns]",
      "text/html": "<div>\n<style scoped>\n    .dataframe tbody tr th:only-of-type {\n        vertical-align: middle;\n    }\n\n    .dataframe tbody tr th {\n        vertical-align: top;\n    }\n\n    .dataframe thead th {\n        text-align: right;\n    }\n</style>\n<table border=\"1\" class=\"dataframe\">\n  <thead>\n    <tr style=\"text-align: right;\">\n      <th></th>\n      <th>date-time</th>\n      <th>MzWarAlNiepo-PM25-1g</th>\n    </tr>\n  </thead>\n  <tbody>\n    <tr>\n      <th>0</th>\n      <td>2021-01-01 01:00:00</td>\n      <td>26.68</td>\n    </tr>\n    <tr>\n      <th>1</th>\n      <td>2021-01-01 02:00:00</td>\n      <td>35.09</td>\n    </tr>\n    <tr>\n      <th>2</th>\n      <td>2021-01-01 03:00:00</td>\n      <td>43.55</td>\n    </tr>\n    <tr>\n      <th>3</th>\n      <td>2021-01-01 04:00:00</td>\n      <td>46.44</td>\n    </tr>\n    <tr>\n      <th>4</th>\n      <td>2021-01-01 05:00:00</td>\n      <td>41.24</td>\n    </tr>\n    <tr>\n      <th>...</th>\n      <td>...</td>\n      <td>...</td>\n    </tr>\n    <tr>\n      <th>8755</th>\n      <td>2021-12-31 20:00:00</td>\n      <td>9.03</td>\n    </tr>\n    <tr>\n      <th>8756</th>\n      <td>2021-12-31 21:00:00</td>\n      <td>8.88</td>\n    </tr>\n    <tr>\n      <th>8757</th>\n      <td>2021-12-31 22:00:00</td>\n      <td>8.10</td>\n    </tr>\n    <tr>\n      <th>8758</th>\n      <td>2021-12-31 23:00:00</td>\n      <td>8.65</td>\n    </tr>\n    <tr>\n      <th>8759</th>\n      <td>2022-01-01 00:00:00</td>\n      <td>24.92</td>\n    </tr>\n  </tbody>\n</table>\n<p>8760 rows × 2 columns</p>\n</div>"
     },
     "execution_count": 190,
     "metadata": {},
     "output_type": "execute_result"
    }
   ],
   "source": [
    "pollution"
   ],
   "metadata": {
    "collapsed": false,
    "pycharm": {
     "name": "#%%\n"
    }
   }
  },
  {
   "cell_type": "code",
   "execution_count": 191,
   "outputs": [
    {
     "data": {
      "text/plain": "               date-time  MzWarAlNiepo-PM25-1g\n0    2021-01-01 00:00:00                 26.68\n1    2021-01-01 01:00:00                 35.09\n2    2021-01-01 02:00:00                 43.55\n3    2021-01-01 03:00:00                 46.44\n4    2021-01-01 04:00:00                 41.24\n...                  ...                   ...\n8755 2021-12-31 19:00:00                  9.03\n8756 2021-12-31 20:00:00                  8.88\n8757 2021-12-31 21:00:00                  8.10\n8758 2021-12-31 22:00:00                  8.65\n8759 2021-12-31 23:00:00                 24.92\n\n[8760 rows x 2 columns]",
      "text/html": "<div>\n<style scoped>\n    .dataframe tbody tr th:only-of-type {\n        vertical-align: middle;\n    }\n\n    .dataframe tbody tr th {\n        vertical-align: top;\n    }\n\n    .dataframe thead th {\n        text-align: right;\n    }\n</style>\n<table border=\"1\" class=\"dataframe\">\n  <thead>\n    <tr style=\"text-align: right;\">\n      <th></th>\n      <th>date-time</th>\n      <th>MzWarAlNiepo-PM25-1g</th>\n    </tr>\n  </thead>\n  <tbody>\n    <tr>\n      <th>0</th>\n      <td>2021-01-01 00:00:00</td>\n      <td>26.68</td>\n    </tr>\n    <tr>\n      <th>1</th>\n      <td>2021-01-01 01:00:00</td>\n      <td>35.09</td>\n    </tr>\n    <tr>\n      <th>2</th>\n      <td>2021-01-01 02:00:00</td>\n      <td>43.55</td>\n    </tr>\n    <tr>\n      <th>3</th>\n      <td>2021-01-01 03:00:00</td>\n      <td>46.44</td>\n    </tr>\n    <tr>\n      <th>4</th>\n      <td>2021-01-01 04:00:00</td>\n      <td>41.24</td>\n    </tr>\n    <tr>\n      <th>...</th>\n      <td>...</td>\n      <td>...</td>\n    </tr>\n    <tr>\n      <th>8755</th>\n      <td>2021-12-31 19:00:00</td>\n      <td>9.03</td>\n    </tr>\n    <tr>\n      <th>8756</th>\n      <td>2021-12-31 20:00:00</td>\n      <td>8.88</td>\n    </tr>\n    <tr>\n      <th>8757</th>\n      <td>2021-12-31 21:00:00</td>\n      <td>8.10</td>\n    </tr>\n    <tr>\n      <th>8758</th>\n      <td>2021-12-31 22:00:00</td>\n      <td>8.65</td>\n    </tr>\n    <tr>\n      <th>8759</th>\n      <td>2021-12-31 23:00:00</td>\n      <td>24.92</td>\n    </tr>\n  </tbody>\n</table>\n<p>8760 rows × 2 columns</p>\n</div>"
     },
     "execution_count": 191,
     "metadata": {},
     "output_type": "execute_result"
    }
   ],
   "source": [
    "# Converting times from CET to GMT\n",
    "pollution[\"date-time\"] = pollution[\"date-time\"] - pd.DateOffset(hours=1)\n",
    "pollution"
   ],
   "metadata": {
    "collapsed": false,
    "pycharm": {
     "name": "#%%\n"
    }
   }
  },
  {
   "cell_type": "markdown",
   "source": [
    "https://danepubliczne.imgw.pl/data/dane_pomiarowo_obserwacyjne/dane_meteorologiczne/terminowe/synop/2021/\n",
    "2021_375_s.zip\t2022-01-28 09:15\t360K"
   ],
   "metadata": {
    "collapsed": false
   }
  },
  {
   "cell_type": "code",
   "execution_count": 192,
   "outputs": [],
   "source": [
    "names = [\"Kod stacji\",\n",
    "         \"Nazwa stacji\",\n",
    "         \"Rok\",\n",
    "         \"Miesiąc\",\n",
    "         \"Dzień\",\n",
    "         \"Godzina\",\n",
    "         \"Wysokość podstawy chmur CL CM szyfrowana [kod]\",\n",
    "         \"Status pomiaru HPOD\",\n",
    "         \"Wysokość podstawy niższej  [m]\",\n",
    "         \"Status pomiaru HPON\",\n",
    "         \"Wysokość podstawy wyższej [m]\",\n",
    "         \"Status pomiaru HPOW\",\n",
    "         \"Wysokość podstawy tekstowy [opis]\",\n",
    "         \"Pomiar przyrzadem 1 (niższa) [P]\",\n",
    "         \"Pomiar przyrzadem 2 (wyższa) [P]\",\n",
    "         \"Widzialność  [kod]\",\n",
    "         \"Status pomiaru WID\",\n",
    "         \"Widzialność operatora [m]\",\n",
    "         \"Status pomiaru WIDO\",\n",
    "         \"Widzialność automat [m]\",\n",
    "         \"Status pomiaru WIDA\",\n",
    "         \"Zachmurzenie ogólne [oktanty]\",\n",
    "         \"Status pomiaru NOG\",\n",
    "         \"Kierunek wiatru  [°]\",\n",
    "\"Status pomiaru KRWR\",\n",
    "\"Prędkość wiatru  [m/s]\",\n",
    "\"Status pomiaru FWR\",\n",
    "\"Poryw wiatru  [m/s]\",\n",
    "\"Status pomiaru PORW\",\n",
    "\"Temperatura powietrza [°C]\",\n",
    "\"Status pomiaru TEMP\",\n",
    "\"Temperatura termometru zwilżonego [°C]\",\n",
    "\"Status pomiaru TTZW\",\n",
    "\"Wskaźnik wentylacji [W/N]\",\n",
    "\"Wskaźnik lodu       [L/W]\",\n",
    "\"Ciśnienie pary wodnej [hPa]\",\n",
    "\"Status pomiaru CPW\",\n",
    "\"Wilgotność względna [%]\",\n",
    "\"Status pomiaru WLGW\",\n",
    "\"Temperatura punktu rosy [°C]\",\n",
    "\"Status pomiaru TPTR\",\n",
    "\"Ciśnienie na poziomie stacji [hPa]\",\n",
    "\"Status pomiaru PPPS\",\n",
    "\"Ciśnienie na poziomie morza [hPa]\",\n",
    "\"Status pomiaru PPPM\",\n",
    "\"Charakterystyka tendencji [kod]\",\n",
    "\"Wartość tendencji [wartość]\",\n",
    "\"Status pomiaru APP\",\n",
    "\"Opad za 6 godzin [mm]\",\n",
    "\"Status pomiaru WO6G\",\n",
    "\"Rodzaj opadu za 6 godzin [kod]\",\n",
    "\"Status pomiaru ROPT\",\n",
    "\"Pogoda bieżąca [kod]\",\n",
    "\"Pogoda ubiegła [kod]\",\n",
    "\"Zachmurzenie niskie [oktanty]\",\n",
    "\"Status pomiaru CLCM\",\n",
    "\"Chmury CL [kod]\",\n",
    "\"Status pomiaru CHCL\",\n",
    "\"Chmury CL tekstem\",\n",
    "\"Chmury CM [kod]\",\n",
    "\"Status pomiaru CHCM\",\n",
    "\"Chmury CM tekstem\",\n",
    "\"Chmury CH [kod]\",\n",
    "\"Status pomiaru CHCH\",\n",
    "\"Chmury CH tekstem\",\n",
    "\"Stan gruntu [kod]\",\n",
    "\"Status pomiaru SGRN\",\n",
    "\"Niedosyt wilgotności [hPa}\",\n",
    "\"Status pomiaru DEFI\",\n",
    "\"Usłonecznienie\",\n",
    "\"Status pomiaru USLN\",\n",
    "\"Wystąpienie rosy [0/1]\",\n",
    "\"Status pomiaru ROSW\",\n",
    "\"Poryw maksymalny za okres WW [m/s]\",\n",
    "\"Status pomiaru PORK\",\n",
    "\"Godzina wystąpienia porywu\",\n",
    "\"Minuta wystąpienia porywu\",\n",
    "\"Temperatura gruntu -5 [°C]\",\n",
    "\"Status pomiaru TG05\",\n",
    "\"Temperatura gruntu -10 [°C]\",\n",
    "\"Status pomiaru TG10\",\n",
    "\"Temperatura gruntu -20 [°C]\",\n",
    "\"Status pomiaru TG20\",\n",
    "\"Temperatura gruntu -50 [°C]\",\n",
    "\"Status pomiaru TG50\",\n",
    "\"Temperatura gruntu -100 [°C]\",\n",
    "\"Status pomiaru TG100\",\n",
    "\"Temperatura minimalna za 12 godzin  [°C]\",\n",
    "\"Status pomiaru TMIN\",\n",
    "\"Temperatura maksymalna za 12 godzin [°C]\",\n",
    "\"Status pomiaru TMAX\",\n",
    "\"Temperatura minimalna przy gruncie za 12 godzin [°C]\",\n",
    "\"Status pomiaru TGMI\",\n",
    "\"Równoważnik wodny śniegu [mm/cm]\",\n",
    "\"Status pomiaru RWSN\",\n",
    "\"Wysokość pokrywy śnieżnej [cm]\",\n",
    "\"Status pomiaru PKSN\",\n",
    "\"Wysokość świeżo spadłego śniegu  [cm]\",\n",
    "\"Status pomiaru HSS\",\n",
    "\"Wysokość śniegu na poletku [cm]\",\n",
    "\"Status pomiaru GRSN\",\n",
    "\"Gatunek śniegu  [kod]\",\n",
    "\"Ukształtowanie pokrywy [kod]\",\n",
    "\"Wysokość próbki [cm]\",\n",
    "\"Status pomiaru HPRO\",\n",
    "\"Ciężar próbki [g]\",\n",
    "\"Status pomiaru CIPR\"]"
   ],
   "metadata": {
    "collapsed": false,
    "pycharm": {
     "name": "#%%\n"
    }
   }
  },
  {
   "cell_type": "code",
   "execution_count": 193,
   "outputs": [],
   "source": [
    "weather_full = pd.read_csv(\"../data/raw/s_t_375_2021.csv\", encoding=\"iso8859_2\", header=None, names=names, parse_dates={'date-time':[\"Rok\", \"Miesiąc\", \"Dzień\", \"Godzina\"]})"
   ],
   "metadata": {
    "collapsed": false,
    "pycharm": {
     "name": "#%%\n"
    }
   }
  },
  {
   "cell_type": "code",
   "execution_count": 194,
   "outputs": [
    {
     "data": {
      "text/plain": "               date-time  Kod stacji     Nazwa stacji  \\\n0    2021-01-01 00:00:00   352200375  WARSZAWA-OKĘCIE   \n1    2021-01-01 01:00:00   352200375  WARSZAWA-OKĘCIE   \n2    2021-01-01 02:00:00   352200375  WARSZAWA-OKĘCIE   \n3    2021-01-01 03:00:00   352200375  WARSZAWA-OKĘCIE   \n4    2021-01-01 04:00:00   352200375  WARSZAWA-OKĘCIE   \n...                  ...         ...              ...   \n8755 2021-12-31 19:00:00   352200375  WARSZAWA-OKĘCIE   \n8756 2021-12-31 20:00:00   352200375  WARSZAWA-OKĘCIE   \n8757 2021-12-31 21:00:00   352200375  WARSZAWA-OKĘCIE   \n8758 2021-12-31 22:00:00   352200375  WARSZAWA-OKĘCIE   \n8759 2021-12-31 23:00:00   352200375  WARSZAWA-OKĘCIE   \n\n     Wysokość podstawy chmur CL CM szyfrowana [kod]  Status pomiaru HPOD  \\\n0                                                 4                  NaN   \n1                                                 4                  NaN   \n2                                                 4                  NaN   \n3                                                 4                  NaN   \n4                                                 4                  NaN   \n...                                             ...                  ...   \n8755                                              4                  NaN   \n8756                                              4                  NaN   \n8757                                              3                  NaN   \n8758                                              3                  NaN   \n8759                                              3                  NaN   \n\n      Wysokość podstawy niższej  [m]  Status pomiaru HPON  \\\n0                                300                  NaN   \n1                                300                  NaN   \n2                                330                  NaN   \n3                                330                  NaN   \n4                                300                  NaN   \n...                              ...                  ...   \n8755                             570                  NaN   \n8756                             450                  NaN   \n8757                             270                  NaN   \n8758                             240                  NaN   \n8759                             240                  NaN   \n\n      Wysokość podstawy wyższej [m]  Status pomiaru HPOW  \\\n0                                 0                  8.0   \n1                                 0                  8.0   \n2                                 0                  8.0   \n3                                 0                  8.0   \n4                                 0                  8.0   \n...                             ...                  ...   \n8755                              0                  8.0   \n8756                              0                  8.0   \n8757                            450                  NaN   \n8758                              0                  8.0   \n8759                              0                  8.0   \n\n     Wysokość podstawy tekstowy [opis]  ...  \\\n0                                 300P  ...   \n1                                 300P  ...   \n2                                 330P  ...   \n3                                 330P  ...   \n4                                 300P  ...   \n...                                ...  ...   \n8755                               570  ...   \n8756                              450P  ...   \n8757                         270P/450P  ...   \n8758                              240P  ...   \n8759                              240P  ...   \n\n     Wysokość świeżo spadłego śniegu  [cm] Status pomiaru HSS  \\\n0                                        0                8.0   \n1                                        0                8.0   \n2                                        0                8.0   \n3                                        0                8.0   \n4                                        0                8.0   \n...                                    ...                ...   \n8755                                     0                8.0   \n8756                                     0                8.0   \n8757                                     0                8.0   \n8758                                     0                8.0   \n8759                                     0                8.0   \n\n      Wysokość śniegu na poletku [cm]  Status pomiaru GRSN  \\\n0                                   0                  8.0   \n1                                   0                  8.0   \n2                                   0                  8.0   \n3                                   0                  8.0   \n4                                   0                  8.0   \n...                               ...                  ...   \n8755                                0                  8.0   \n8756                                0                  8.0   \n8757                                0                  8.0   \n8758                                0                  8.0   \n8759                                0                  8.0   \n\n      Gatunek śniegu  [kod]  Ukształtowanie pokrywy [kod]  \\\n0                       NaN                           NaN   \n1                       NaN                           NaN   \n2                       NaN                           NaN   \n3                       NaN                           NaN   \n4                       NaN                           NaN   \n...                     ...                           ...   \n8755                    NaN                           NaN   \n8756                    NaN                           NaN   \n8757                    NaN                           NaN   \n8758                    NaN                           NaN   \n8759                    NaN                           NaN   \n\n      Wysokość próbki [cm]  Status pomiaru HPRO  Ciężar próbki [g]  \\\n0                        0                  8.0                  0   \n1                        0                  8.0                  0   \n2                        0                  8.0                  0   \n3                        0                  8.0                  0   \n4                        0                  8.0                  0   \n...                    ...                  ...                ...   \n8755                     0                  8.0                  0   \n8756                     0                  8.0                  0   \n8757                     0                  8.0                  0   \n8758                     0                  8.0                  0   \n8759                     0                  8.0                  0   \n\n      Status pomiaru CIPR  \n0                     8.0  \n1                     8.0  \n2                     8.0  \n3                     8.0  \n4                     8.0  \n...                   ...  \n8755                  8.0  \n8756                  8.0  \n8757                  8.0  \n8758                  8.0  \n8759                  8.0  \n\n[8760 rows x 104 columns]",
      "text/html": "<div>\n<style scoped>\n    .dataframe tbody tr th:only-of-type {\n        vertical-align: middle;\n    }\n\n    .dataframe tbody tr th {\n        vertical-align: top;\n    }\n\n    .dataframe thead th {\n        text-align: right;\n    }\n</style>\n<table border=\"1\" class=\"dataframe\">\n  <thead>\n    <tr style=\"text-align: right;\">\n      <th></th>\n      <th>date-time</th>\n      <th>Kod stacji</th>\n      <th>Nazwa stacji</th>\n      <th>Wysokość podstawy chmur CL CM szyfrowana [kod]</th>\n      <th>Status pomiaru HPOD</th>\n      <th>Wysokość podstawy niższej  [m]</th>\n      <th>Status pomiaru HPON</th>\n      <th>Wysokość podstawy wyższej [m]</th>\n      <th>Status pomiaru HPOW</th>\n      <th>Wysokość podstawy tekstowy [opis]</th>\n      <th>...</th>\n      <th>Wysokość świeżo spadłego śniegu  [cm]</th>\n      <th>Status pomiaru HSS</th>\n      <th>Wysokość śniegu na poletku [cm]</th>\n      <th>Status pomiaru GRSN</th>\n      <th>Gatunek śniegu  [kod]</th>\n      <th>Ukształtowanie pokrywy [kod]</th>\n      <th>Wysokość próbki [cm]</th>\n      <th>Status pomiaru HPRO</th>\n      <th>Ciężar próbki [g]</th>\n      <th>Status pomiaru CIPR</th>\n    </tr>\n  </thead>\n  <tbody>\n    <tr>\n      <th>0</th>\n      <td>2021-01-01 00:00:00</td>\n      <td>352200375</td>\n      <td>WARSZAWA-OKĘCIE</td>\n      <td>4</td>\n      <td>NaN</td>\n      <td>300</td>\n      <td>NaN</td>\n      <td>0</td>\n      <td>8.0</td>\n      <td>300P</td>\n      <td>...</td>\n      <td>0</td>\n      <td>8.0</td>\n      <td>0</td>\n      <td>8.0</td>\n      <td>NaN</td>\n      <td>NaN</td>\n      <td>0</td>\n      <td>8.0</td>\n      <td>0</td>\n      <td>8.0</td>\n    </tr>\n    <tr>\n      <th>1</th>\n      <td>2021-01-01 01:00:00</td>\n      <td>352200375</td>\n      <td>WARSZAWA-OKĘCIE</td>\n      <td>4</td>\n      <td>NaN</td>\n      <td>300</td>\n      <td>NaN</td>\n      <td>0</td>\n      <td>8.0</td>\n      <td>300P</td>\n      <td>...</td>\n      <td>0</td>\n      <td>8.0</td>\n      <td>0</td>\n      <td>8.0</td>\n      <td>NaN</td>\n      <td>NaN</td>\n      <td>0</td>\n      <td>8.0</td>\n      <td>0</td>\n      <td>8.0</td>\n    </tr>\n    <tr>\n      <th>2</th>\n      <td>2021-01-01 02:00:00</td>\n      <td>352200375</td>\n      <td>WARSZAWA-OKĘCIE</td>\n      <td>4</td>\n      <td>NaN</td>\n      <td>330</td>\n      <td>NaN</td>\n      <td>0</td>\n      <td>8.0</td>\n      <td>330P</td>\n      <td>...</td>\n      <td>0</td>\n      <td>8.0</td>\n      <td>0</td>\n      <td>8.0</td>\n      <td>NaN</td>\n      <td>NaN</td>\n      <td>0</td>\n      <td>8.0</td>\n      <td>0</td>\n      <td>8.0</td>\n    </tr>\n    <tr>\n      <th>3</th>\n      <td>2021-01-01 03:00:00</td>\n      <td>352200375</td>\n      <td>WARSZAWA-OKĘCIE</td>\n      <td>4</td>\n      <td>NaN</td>\n      <td>330</td>\n      <td>NaN</td>\n      <td>0</td>\n      <td>8.0</td>\n      <td>330P</td>\n      <td>...</td>\n      <td>0</td>\n      <td>8.0</td>\n      <td>0</td>\n      <td>8.0</td>\n      <td>NaN</td>\n      <td>NaN</td>\n      <td>0</td>\n      <td>8.0</td>\n      <td>0</td>\n      <td>8.0</td>\n    </tr>\n    <tr>\n      <th>4</th>\n      <td>2021-01-01 04:00:00</td>\n      <td>352200375</td>\n      <td>WARSZAWA-OKĘCIE</td>\n      <td>4</td>\n      <td>NaN</td>\n      <td>300</td>\n      <td>NaN</td>\n      <td>0</td>\n      <td>8.0</td>\n      <td>300P</td>\n      <td>...</td>\n      <td>0</td>\n      <td>8.0</td>\n      <td>0</td>\n      <td>8.0</td>\n      <td>NaN</td>\n      <td>NaN</td>\n      <td>0</td>\n      <td>8.0</td>\n      <td>0</td>\n      <td>8.0</td>\n    </tr>\n    <tr>\n      <th>...</th>\n      <td>...</td>\n      <td>...</td>\n      <td>...</td>\n      <td>...</td>\n      <td>...</td>\n      <td>...</td>\n      <td>...</td>\n      <td>...</td>\n      <td>...</td>\n      <td>...</td>\n      <td>...</td>\n      <td>...</td>\n      <td>...</td>\n      <td>...</td>\n      <td>...</td>\n      <td>...</td>\n      <td>...</td>\n      <td>...</td>\n      <td>...</td>\n      <td>...</td>\n      <td>...</td>\n    </tr>\n    <tr>\n      <th>8755</th>\n      <td>2021-12-31 19:00:00</td>\n      <td>352200375</td>\n      <td>WARSZAWA-OKĘCIE</td>\n      <td>4</td>\n      <td>NaN</td>\n      <td>570</td>\n      <td>NaN</td>\n      <td>0</td>\n      <td>8.0</td>\n      <td>570</td>\n      <td>...</td>\n      <td>0</td>\n      <td>8.0</td>\n      <td>0</td>\n      <td>8.0</td>\n      <td>NaN</td>\n      <td>NaN</td>\n      <td>0</td>\n      <td>8.0</td>\n      <td>0</td>\n      <td>8.0</td>\n    </tr>\n    <tr>\n      <th>8756</th>\n      <td>2021-12-31 20:00:00</td>\n      <td>352200375</td>\n      <td>WARSZAWA-OKĘCIE</td>\n      <td>4</td>\n      <td>NaN</td>\n      <td>450</td>\n      <td>NaN</td>\n      <td>0</td>\n      <td>8.0</td>\n      <td>450P</td>\n      <td>...</td>\n      <td>0</td>\n      <td>8.0</td>\n      <td>0</td>\n      <td>8.0</td>\n      <td>NaN</td>\n      <td>NaN</td>\n      <td>0</td>\n      <td>8.0</td>\n      <td>0</td>\n      <td>8.0</td>\n    </tr>\n    <tr>\n      <th>8757</th>\n      <td>2021-12-31 21:00:00</td>\n      <td>352200375</td>\n      <td>WARSZAWA-OKĘCIE</td>\n      <td>3</td>\n      <td>NaN</td>\n      <td>270</td>\n      <td>NaN</td>\n      <td>450</td>\n      <td>NaN</td>\n      <td>270P/450P</td>\n      <td>...</td>\n      <td>0</td>\n      <td>8.0</td>\n      <td>0</td>\n      <td>8.0</td>\n      <td>NaN</td>\n      <td>NaN</td>\n      <td>0</td>\n      <td>8.0</td>\n      <td>0</td>\n      <td>8.0</td>\n    </tr>\n    <tr>\n      <th>8758</th>\n      <td>2021-12-31 22:00:00</td>\n      <td>352200375</td>\n      <td>WARSZAWA-OKĘCIE</td>\n      <td>3</td>\n      <td>NaN</td>\n      <td>240</td>\n      <td>NaN</td>\n      <td>0</td>\n      <td>8.0</td>\n      <td>240P</td>\n      <td>...</td>\n      <td>0</td>\n      <td>8.0</td>\n      <td>0</td>\n      <td>8.0</td>\n      <td>NaN</td>\n      <td>NaN</td>\n      <td>0</td>\n      <td>8.0</td>\n      <td>0</td>\n      <td>8.0</td>\n    </tr>\n    <tr>\n      <th>8759</th>\n      <td>2021-12-31 23:00:00</td>\n      <td>352200375</td>\n      <td>WARSZAWA-OKĘCIE</td>\n      <td>3</td>\n      <td>NaN</td>\n      <td>240</td>\n      <td>NaN</td>\n      <td>0</td>\n      <td>8.0</td>\n      <td>240P</td>\n      <td>...</td>\n      <td>0</td>\n      <td>8.0</td>\n      <td>0</td>\n      <td>8.0</td>\n      <td>NaN</td>\n      <td>NaN</td>\n      <td>0</td>\n      <td>8.0</td>\n      <td>0</td>\n      <td>8.0</td>\n    </tr>\n  </tbody>\n</table>\n<p>8760 rows × 104 columns</p>\n</div>"
     },
     "execution_count": 194,
     "metadata": {},
     "output_type": "execute_result"
    }
   ],
   "source": [
    "weather_full"
   ],
   "metadata": {
    "collapsed": false,
    "pycharm": {
     "name": "#%%\n"
    }
   }
  },
  {
   "cell_type": "code",
   "execution_count": 195,
   "outputs": [],
   "source": [
    "weather = weather_full[[\"date-time\", \"Kierunek wiatru  [°]\", \"Prędkość wiatru  [m/s]\", \"Temperatura powietrza [°C]\", \"Ciśnienie na poziomie stacji [hPa]\"]]"
   ],
   "metadata": {
    "collapsed": false,
    "pycharm": {
     "name": "#%%\n"
    }
   }
  },
  {
   "cell_type": "code",
   "execution_count": 196,
   "outputs": [
    {
     "data": {
      "text/plain": "               date-time  Kierunek wiatru  [°]  Prędkość wiatru  [m/s]  \\\n0    2021-01-01 00:00:00                   260                       1   \n1    2021-01-01 01:00:00                   277                       2   \n2    2021-01-01 02:00:00                    92                       1   \n3    2021-01-01 03:00:00                   259                       2   \n4    2021-01-01 04:00:00                   270                       2   \n...                  ...                   ...                     ...   \n8755 2021-12-31 19:00:00                   259                       6   \n8756 2021-12-31 20:00:00                   259                       7   \n8757 2021-12-31 21:00:00                   257                       6   \n8758 2021-12-31 22:00:00                   260                       6   \n8759 2021-12-31 23:00:00                   258                       6   \n\n      Temperatura powietrza [°C]  Ciśnienie na poziomie stacji [hPa]  \n0                            0.9                               996.4  \n1                            1.0                               996.5  \n2                            1.0                               996.6  \n3                            0.9                               996.5  \n4                            0.8                               996.6  \n...                          ...                                 ...  \n8755                        11.2                               996.6  \n8756                        10.6                               996.6  \n8757                        10.5                               996.7  \n8758                        10.4                               996.9  \n8759                        10.2                               997.2  \n\n[8760 rows x 5 columns]",
      "text/html": "<div>\n<style scoped>\n    .dataframe tbody tr th:only-of-type {\n        vertical-align: middle;\n    }\n\n    .dataframe tbody tr th {\n        vertical-align: top;\n    }\n\n    .dataframe thead th {\n        text-align: right;\n    }\n</style>\n<table border=\"1\" class=\"dataframe\">\n  <thead>\n    <tr style=\"text-align: right;\">\n      <th></th>\n      <th>date-time</th>\n      <th>Kierunek wiatru  [°]</th>\n      <th>Prędkość wiatru  [m/s]</th>\n      <th>Temperatura powietrza [°C]</th>\n      <th>Ciśnienie na poziomie stacji [hPa]</th>\n    </tr>\n  </thead>\n  <tbody>\n    <tr>\n      <th>0</th>\n      <td>2021-01-01 00:00:00</td>\n      <td>260</td>\n      <td>1</td>\n      <td>0.9</td>\n      <td>996.4</td>\n    </tr>\n    <tr>\n      <th>1</th>\n      <td>2021-01-01 01:00:00</td>\n      <td>277</td>\n      <td>2</td>\n      <td>1.0</td>\n      <td>996.5</td>\n    </tr>\n    <tr>\n      <th>2</th>\n      <td>2021-01-01 02:00:00</td>\n      <td>92</td>\n      <td>1</td>\n      <td>1.0</td>\n      <td>996.6</td>\n    </tr>\n    <tr>\n      <th>3</th>\n      <td>2021-01-01 03:00:00</td>\n      <td>259</td>\n      <td>2</td>\n      <td>0.9</td>\n      <td>996.5</td>\n    </tr>\n    <tr>\n      <th>4</th>\n      <td>2021-01-01 04:00:00</td>\n      <td>270</td>\n      <td>2</td>\n      <td>0.8</td>\n      <td>996.6</td>\n    </tr>\n    <tr>\n      <th>...</th>\n      <td>...</td>\n      <td>...</td>\n      <td>...</td>\n      <td>...</td>\n      <td>...</td>\n    </tr>\n    <tr>\n      <th>8755</th>\n      <td>2021-12-31 19:00:00</td>\n      <td>259</td>\n      <td>6</td>\n      <td>11.2</td>\n      <td>996.6</td>\n    </tr>\n    <tr>\n      <th>8756</th>\n      <td>2021-12-31 20:00:00</td>\n      <td>259</td>\n      <td>7</td>\n      <td>10.6</td>\n      <td>996.6</td>\n    </tr>\n    <tr>\n      <th>8757</th>\n      <td>2021-12-31 21:00:00</td>\n      <td>257</td>\n      <td>6</td>\n      <td>10.5</td>\n      <td>996.7</td>\n    </tr>\n    <tr>\n      <th>8758</th>\n      <td>2021-12-31 22:00:00</td>\n      <td>260</td>\n      <td>6</td>\n      <td>10.4</td>\n      <td>996.9</td>\n    </tr>\n    <tr>\n      <th>8759</th>\n      <td>2021-12-31 23:00:00</td>\n      <td>258</td>\n      <td>6</td>\n      <td>10.2</td>\n      <td>997.2</td>\n    </tr>\n  </tbody>\n</table>\n<p>8760 rows × 5 columns</p>\n</div>"
     },
     "execution_count": 196,
     "metadata": {},
     "output_type": "execute_result"
    }
   ],
   "source": [
    "weather"
   ],
   "metadata": {
    "collapsed": false,
    "pycharm": {
     "name": "#%%\n"
    }
   }
  },
  {
   "cell_type": "code",
   "execution_count": 197,
   "outputs": [],
   "source": [
    "pollution.merge(weather, how=\"inner\", on=\"date-time\").rename(columns={\"MzWarAlNiepo-PM25-1g\": \"pm2_5\", \"Kierunek wiatru  [°]\": \"wind-direction\", \"Prędkość wiatru  [m/s]\" : \"wind-speed\", \"Temperatura powietrza [°C]\" : \"temperature\", \"Ciśnienie na poziomie stacji [hPa]\" : \"pressure\"}).to_csv(\"../data/processed/pollution-weather.csv\", index=False)"
   ],
   "metadata": {
    "collapsed": false,
    "pycharm": {
     "name": "#%%\n"
    }
   }
  },
  {
   "cell_type": "code",
   "execution_count": null,
   "outputs": [],
   "source": [],
   "metadata": {
    "collapsed": false,
    "pycharm": {
     "name": "#%%\n"
    }
   }
  }
 ],
 "metadata": {
  "kernelspec": {
   "display_name": "Python 3",
   "language": "python",
   "name": "python3"
  },
  "language_info": {
   "codemirror_mode": {
    "name": "ipython",
    "version": 2
   },
   "file_extension": ".py",
   "mimetype": "text/x-python",
   "name": "python",
   "nbconvert_exporter": "python",
   "pygments_lexer": "ipython2",
   "version": "2.7.6"
  }
 },
 "nbformat": 4,
 "nbformat_minor": 0
}