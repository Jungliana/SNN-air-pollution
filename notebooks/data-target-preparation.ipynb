{
 "cells": [
  {
   "cell_type": "code",
   "execution_count": 123,
   "metadata": {
    "collapsed": true
   },
   "outputs": [],
   "source": [
    "import pandas as pd"
   ]
  },
  {
   "cell_type": "code",
   "execution_count": 124,
   "outputs": [
    {
     "data": {
      "text/plain": "      pm2_5  month  weekday  hour  wind-east  wind-north  temperature  \\\n0     26.68      1        4     0  -0.984808   -0.173648          0.9   \n1     35.09      1        4     1  -1.985092    0.243739          1.0   \n2     43.55      1        4     2   0.999391   -0.034899          1.0   \n3     46.44      1        4     3  -1.963254   -0.381618          0.9   \n4     41.24      1        4     4  -2.000000   -0.000000          0.8   \n...     ...    ...      ...   ...        ...         ...          ...   \n8755   9.03     12        4    19  -5.889763   -1.144854         11.2   \n8756   8.88     12        4    20  -6.871390   -1.335663         10.6   \n8757   8.10     12        4    21  -5.846220   -1.349706         10.5   \n8758   8.65     12        4    22  -5.908847   -1.041889         10.4   \n8759  24.92     12        4    23  -5.868886   -1.247470         10.2   \n\n      pressure  target  \n0        996.4   26.68  \n1        996.5   35.09  \n2        996.6   43.55  \n3        996.5   46.44  \n4        996.6   41.24  \n...        ...     ...  \n8755     996.6    9.03  \n8756     996.6    8.88  \n8757     996.7    8.10  \n8758     996.9    8.65  \n8759     997.2   24.92  \n\n[8760 rows x 9 columns]",
      "text/html": "<div>\n<style scoped>\n    .dataframe tbody tr th:only-of-type {\n        vertical-align: middle;\n    }\n\n    .dataframe tbody tr th {\n        vertical-align: top;\n    }\n\n    .dataframe thead th {\n        text-align: right;\n    }\n</style>\n<table border=\"1\" class=\"dataframe\">\n  <thead>\n    <tr style=\"text-align: right;\">\n      <th></th>\n      <th>pm2_5</th>\n      <th>month</th>\n      <th>weekday</th>\n      <th>hour</th>\n      <th>wind-east</th>\n      <th>wind-north</th>\n      <th>temperature</th>\n      <th>pressure</th>\n      <th>target</th>\n    </tr>\n  </thead>\n  <tbody>\n    <tr>\n      <th>0</th>\n      <td>26.68</td>\n      <td>1</td>\n      <td>4</td>\n      <td>0</td>\n      <td>-0.984808</td>\n      <td>-0.173648</td>\n      <td>0.9</td>\n      <td>996.4</td>\n      <td>26.68</td>\n    </tr>\n    <tr>\n      <th>1</th>\n      <td>35.09</td>\n      <td>1</td>\n      <td>4</td>\n      <td>1</td>\n      <td>-1.985092</td>\n      <td>0.243739</td>\n      <td>1.0</td>\n      <td>996.5</td>\n      <td>35.09</td>\n    </tr>\n    <tr>\n      <th>2</th>\n      <td>43.55</td>\n      <td>1</td>\n      <td>4</td>\n      <td>2</td>\n      <td>0.999391</td>\n      <td>-0.034899</td>\n      <td>1.0</td>\n      <td>996.6</td>\n      <td>43.55</td>\n    </tr>\n    <tr>\n      <th>3</th>\n      <td>46.44</td>\n      <td>1</td>\n      <td>4</td>\n      <td>3</td>\n      <td>-1.963254</td>\n      <td>-0.381618</td>\n      <td>0.9</td>\n      <td>996.5</td>\n      <td>46.44</td>\n    </tr>\n    <tr>\n      <th>4</th>\n      <td>41.24</td>\n      <td>1</td>\n      <td>4</td>\n      <td>4</td>\n      <td>-2.000000</td>\n      <td>-0.000000</td>\n      <td>0.8</td>\n      <td>996.6</td>\n      <td>41.24</td>\n    </tr>\n    <tr>\n      <th>...</th>\n      <td>...</td>\n      <td>...</td>\n      <td>...</td>\n      <td>...</td>\n      <td>...</td>\n      <td>...</td>\n      <td>...</td>\n      <td>...</td>\n      <td>...</td>\n    </tr>\n    <tr>\n      <th>8755</th>\n      <td>9.03</td>\n      <td>12</td>\n      <td>4</td>\n      <td>19</td>\n      <td>-5.889763</td>\n      <td>-1.144854</td>\n      <td>11.2</td>\n      <td>996.6</td>\n      <td>9.03</td>\n    </tr>\n    <tr>\n      <th>8756</th>\n      <td>8.88</td>\n      <td>12</td>\n      <td>4</td>\n      <td>20</td>\n      <td>-6.871390</td>\n      <td>-1.335663</td>\n      <td>10.6</td>\n      <td>996.6</td>\n      <td>8.88</td>\n    </tr>\n    <tr>\n      <th>8757</th>\n      <td>8.10</td>\n      <td>12</td>\n      <td>4</td>\n      <td>21</td>\n      <td>-5.846220</td>\n      <td>-1.349706</td>\n      <td>10.5</td>\n      <td>996.7</td>\n      <td>8.10</td>\n    </tr>\n    <tr>\n      <th>8758</th>\n      <td>8.65</td>\n      <td>12</td>\n      <td>4</td>\n      <td>22</td>\n      <td>-5.908847</td>\n      <td>-1.041889</td>\n      <td>10.4</td>\n      <td>996.9</td>\n      <td>8.65</td>\n    </tr>\n    <tr>\n      <th>8759</th>\n      <td>24.92</td>\n      <td>12</td>\n      <td>4</td>\n      <td>23</td>\n      <td>-5.868886</td>\n      <td>-1.247470</td>\n      <td>10.2</td>\n      <td>997.2</td>\n      <td>24.92</td>\n    </tr>\n  </tbody>\n</table>\n<p>8760 rows × 9 columns</p>\n</div>"
     },
     "execution_count": 124,
     "metadata": {},
     "output_type": "execute_result"
    }
   ],
   "source": [
    "pollution = pd.read_csv(\"../data/processed/no-datetime.csv\", delimiter=',')\n",
    "pollution.insert(8, \"target\", pollution[\"pm2_5\"])\n",
    "target6 = pollution.copy()\n",
    "target12 = pollution.copy()\n",
    "target24 = pollution.copy()\n",
    "pollution"
   ],
   "metadata": {
    "collapsed": false,
    "pycharm": {
     "name": "#%%\n"
    }
   }
  },
  {
   "cell_type": "code",
   "execution_count": 125,
   "outputs": [],
   "source": [
    "target6[\"target\"] = target6[\"target\"].shift(-6)\n",
    "target12[\"target\"] = target12[\"target\"].shift(-12)\n",
    "target24[\"target\"] = target24[\"target\"].shift(-24)"
   ],
   "metadata": {
    "collapsed": false,
    "pycharm": {
     "name": "#%%\n"
    }
   }
  },
  {
   "cell_type": "code",
   "execution_count": 126,
   "outputs": [],
   "source": [
    "target6.dropna().to_csv(\"../data/processed/target06.csv\", index=False)"
   ],
   "metadata": {
    "collapsed": false,
    "pycharm": {
     "name": "#%%\n"
    }
   }
  },
  {
   "cell_type": "code",
   "execution_count": 127,
   "outputs": [],
   "source": [
    "target12.dropna().to_csv(\"../data/processed/target12.csv\", index=False)"
   ],
   "metadata": {
    "collapsed": false,
    "pycharm": {
     "name": "#%%\n"
    }
   }
  },
  {
   "cell_type": "code",
   "execution_count": 128,
   "outputs": [],
   "source": [
    "target24.dropna().to_csv(\"../data/processed/target24.csv\", index=False)"
   ],
   "metadata": {
    "collapsed": false,
    "pycharm": {
     "name": "#%%\n"
    }
   }
  }
 ],
 "metadata": {
  "kernelspec": {
   "display_name": "Python 3",
   "language": "python",
   "name": "python3"
  },
  "language_info": {
   "codemirror_mode": {
    "name": "ipython",
    "version": 2
   },
   "file_extension": ".py",
   "mimetype": "text/x-python",
   "name": "python",
   "nbconvert_exporter": "python",
   "pygments_lexer": "ipython2",
   "version": "2.7.6"
  }
 },
 "nbformat": 4,
 "nbformat_minor": 0
}