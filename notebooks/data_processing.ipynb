{
 "cells": [
  {
   "cell_type": "code",
   "execution_count": 2,
   "outputs": [],
   "source": [
    "import numpy as np\n",
    "import pandas as pd"
   ],
   "metadata": {
    "collapsed": false,
    "pycharm": {
     "name": "#%%\n"
    }
   }
  },
  {
   "cell_type": "markdown",
   "source": [
    "### Air pollution data\n",
    "https://powietrze.gios.gov.pl/pjp/archives\n",
    "'Wyniki pomiarów z 2021 roku DANE WSTĘPNIE ZWERYFIKOWANE'"
   ],
   "metadata": {
    "collapsed": false
   }
  },
  {
   "cell_type": "code",
   "execution_count": 3,
   "outputs": [],
   "source": [
    "pollution = pd.read_csv(\"../data/raw/2021_DANE_1H.csv\", delimiter=';', parse_dates=True)\n",
    "pollution[\"date-time\"] = pd.to_datetime(pollution[\"date-time\"])"
   ],
   "metadata": {
    "collapsed": false,
    "pycharm": {
     "name": "#%%\n"
    }
   }
  },
  {
   "cell_type": "code",
   "execution_count": 4,
   "outputs": [
    {
     "data": {
      "text/plain": "               date-time  MzWarAlNiepo-PM25-1g\n0    2021-01-01 01:00:00                 26.68\n1    2021-01-01 02:00:00                 35.09\n2    2021-01-01 03:00:00                 43.55\n3    2021-01-01 04:00:00                 46.44\n4    2021-01-01 05:00:00                 41.24\n...                  ...                   ...\n8755 2021-12-31 20:00:00                  9.03\n8756 2021-12-31 21:00:00                  8.88\n8757 2021-12-31 22:00:00                  8.10\n8758 2021-12-31 23:00:00                  8.65\n8759 2022-01-01 00:00:00                 24.92\n\n[8760 rows x 2 columns]",
      "text/html": "<div>\n<style scoped>\n    .dataframe tbody tr th:only-of-type {\n        vertical-align: middle;\n    }\n\n    .dataframe tbody tr th {\n        vertical-align: top;\n    }\n\n    .dataframe thead th {\n        text-align: right;\n    }\n</style>\n<table border=\"1\" class=\"dataframe\">\n  <thead>\n    <tr style=\"text-align: right;\">\n      <th></th>\n      <th>date-time</th>\n      <th>MzWarAlNiepo-PM25-1g</th>\n    </tr>\n  </thead>\n  <tbody>\n    <tr>\n      <th>0</th>\n      <td>2021-01-01 01:00:00</td>\n      <td>26.68</td>\n    </tr>\n    <tr>\n      <th>1</th>\n      <td>2021-01-01 02:00:00</td>\n      <td>35.09</td>\n    </tr>\n    <tr>\n      <th>2</th>\n      <td>2021-01-01 03:00:00</td>\n      <td>43.55</td>\n    </tr>\n    <tr>\n      <th>3</th>\n      <td>2021-01-01 04:00:00</td>\n      <td>46.44</td>\n    </tr>\n    <tr>\n      <th>4</th>\n      <td>2021-01-01 05:00:00</td>\n      <td>41.24</td>\n    </tr>\n    <tr>\n      <th>...</th>\n      <td>...</td>\n      <td>...</td>\n    </tr>\n    <tr>\n      <th>8755</th>\n      <td>2021-12-31 20:00:00</td>\n      <td>9.03</td>\n    </tr>\n    <tr>\n      <th>8756</th>\n      <td>2021-12-31 21:00:00</td>\n      <td>8.88</td>\n    </tr>\n    <tr>\n      <th>8757</th>\n      <td>2021-12-31 22:00:00</td>\n      <td>8.10</td>\n    </tr>\n    <tr>\n      <th>8758</th>\n      <td>2021-12-31 23:00:00</td>\n      <td>8.65</td>\n    </tr>\n    <tr>\n      <th>8759</th>\n      <td>2022-01-01 00:00:00</td>\n      <td>24.92</td>\n    </tr>\n  </tbody>\n</table>\n<p>8760 rows × 2 columns</p>\n</div>"
     },
     "execution_count": 4,
     "metadata": {},
     "output_type": "execute_result"
    }
   ],
   "source": [
    "pollution"
   ],
   "metadata": {
    "collapsed": false,
    "pycharm": {
     "name": "#%%\n"
    }
   }
  },
  {
   "cell_type": "code",
   "execution_count": 5,
   "outputs": [
    {
     "data": {
      "text/plain": "               date-time  MzWarAlNiepo-PM25-1g\n0    2021-01-01 00:00:00                 26.68\n1    2021-01-01 01:00:00                 35.09\n2    2021-01-01 02:00:00                 43.55\n3    2021-01-01 03:00:00                 46.44\n4    2021-01-01 04:00:00                 41.24\n...                  ...                   ...\n8755 2021-12-31 19:00:00                  9.03\n8756 2021-12-31 20:00:00                  8.88\n8757 2021-12-31 21:00:00                  8.10\n8758 2021-12-31 22:00:00                  8.65\n8759 2021-12-31 23:00:00                 24.92\n\n[8760 rows x 2 columns]",
      "text/html": "<div>\n<style scoped>\n    .dataframe tbody tr th:only-of-type {\n        vertical-align: middle;\n    }\n\n    .dataframe tbody tr th {\n        vertical-align: top;\n    }\n\n    .dataframe thead th {\n        text-align: right;\n    }\n</style>\n<table border=\"1\" class=\"dataframe\">\n  <thead>\n    <tr style=\"text-align: right;\">\n      <th></th>\n      <th>date-time</th>\n      <th>MzWarAlNiepo-PM25-1g</th>\n    </tr>\n  </thead>\n  <tbody>\n    <tr>\n      <th>0</th>\n      <td>2021-01-01 00:00:00</td>\n      <td>26.68</td>\n    </tr>\n    <tr>\n      <th>1</th>\n      <td>2021-01-01 01:00:00</td>\n      <td>35.09</td>\n    </tr>\n    <tr>\n      <th>2</th>\n      <td>2021-01-01 02:00:00</td>\n      <td>43.55</td>\n    </tr>\n    <tr>\n      <th>3</th>\n      <td>2021-01-01 03:00:00</td>\n      <td>46.44</td>\n    </tr>\n    <tr>\n      <th>4</th>\n      <td>2021-01-01 04:00:00</td>\n      <td>41.24</td>\n    </tr>\n    <tr>\n      <th>...</th>\n      <td>...</td>\n      <td>...</td>\n    </tr>\n    <tr>\n      <th>8755</th>\n      <td>2021-12-31 19:00:00</td>\n      <td>9.03</td>\n    </tr>\n    <tr>\n      <th>8756</th>\n      <td>2021-12-31 20:00:00</td>\n      <td>8.88</td>\n    </tr>\n    <tr>\n      <th>8757</th>\n      <td>2021-12-31 21:00:00</td>\n      <td>8.10</td>\n    </tr>\n    <tr>\n      <th>8758</th>\n      <td>2021-12-31 22:00:00</td>\n      <td>8.65</td>\n    </tr>\n    <tr>\n      <th>8759</th>\n      <td>2021-12-31 23:00:00</td>\n      <td>24.92</td>\n    </tr>\n  </tbody>\n</table>\n<p>8760 rows × 2 columns</p>\n</div>"
     },
     "execution_count": 5,
     "metadata": {},
     "output_type": "execute_result"
    }
   ],
   "source": [
    "# Converting times from CET to GMT\n",
    "pollution[\"date-time\"] = pollution[\"date-time\"] - pd.DateOffset(hours=1)\n",
    "pollution"
   ],
   "metadata": {
    "collapsed": false,
    "pycharm": {
     "name": "#%%\n"
    }
   }
  },
  {
   "cell_type": "markdown",
   "source": [
    "### Weather data\n",
    "https://danepubliczne.imgw.pl/data/dane_pomiarowo_obserwacyjne/dane_meteorologiczne/terminowe/synop/2021/\n",
    "File: 2021_375_s.zip\t2022-01-28 09:15\t360K"
   ],
   "metadata": {
    "collapsed": false
   }
  },
  {
   "cell_type": "code",
   "execution_count": 6,
   "outputs": [],
   "source": [
    "# Reading column names from additional file\n",
    "names = []\n",
    "with open(\"../data/raw/column_names.txt\", encoding=\"utf8\") as file:\n",
    "    for line in file:\n",
    "        names.append(line.rstrip())"
   ],
   "metadata": {
    "collapsed": false,
    "pycharm": {
     "name": "#%%\n"
    }
   }
  },
  {
   "cell_type": "code",
   "execution_count": 7,
   "outputs": [],
   "source": [
    "weather_full = pd.read_csv(\"../data/raw/s_t_375_2021.csv\", encoding=\"iso8859_2\", header=None, names=names, parse_dates={'date-time':[\"Rok\", \"Miesiąc\", \"Dzień\", \"Godzina\"]})"
   ],
   "metadata": {
    "collapsed": false,
    "pycharm": {
     "name": "#%%\n"
    }
   }
  },
  {
   "cell_type": "code",
   "execution_count": 8,
   "outputs": [
    {
     "data": {
      "text/plain": "               date-time  Kod stacji     Nazwa stacji  \\\n0    2021-01-01 00:00:00   352200375  WARSZAWA-OKĘCIE   \n1    2021-01-01 01:00:00   352200375  WARSZAWA-OKĘCIE   \n2    2021-01-01 02:00:00   352200375  WARSZAWA-OKĘCIE   \n3    2021-01-01 03:00:00   352200375  WARSZAWA-OKĘCIE   \n4    2021-01-01 04:00:00   352200375  WARSZAWA-OKĘCIE   \n...                  ...         ...              ...   \n8755 2021-12-31 19:00:00   352200375  WARSZAWA-OKĘCIE   \n8756 2021-12-31 20:00:00   352200375  WARSZAWA-OKĘCIE   \n8757 2021-12-31 21:00:00   352200375  WARSZAWA-OKĘCIE   \n8758 2021-12-31 22:00:00   352200375  WARSZAWA-OKĘCIE   \n8759 2021-12-31 23:00:00   352200375  WARSZAWA-OKĘCIE   \n\n     Wysokość podstawy chmur CL CM szyfrowana [kod]  Status pomiaru HPOD  \\\n0                                                 4                  NaN   \n1                                                 4                  NaN   \n2                                                 4                  NaN   \n3                                                 4                  NaN   \n4                                                 4                  NaN   \n...                                             ...                  ...   \n8755                                              4                  NaN   \n8756                                              4                  NaN   \n8757                                              3                  NaN   \n8758                                              3                  NaN   \n8759                                              3                  NaN   \n\n      Wysokość podstawy niższej  [m]  Status pomiaru HPON  \\\n0                                300                  NaN   \n1                                300                  NaN   \n2                                330                  NaN   \n3                                330                  NaN   \n4                                300                  NaN   \n...                              ...                  ...   \n8755                             570                  NaN   \n8756                             450                  NaN   \n8757                             270                  NaN   \n8758                             240                  NaN   \n8759                             240                  NaN   \n\n      Wysokość podstawy wyższej [m]  Status pomiaru HPOW  \\\n0                                 0                  8.0   \n1                                 0                  8.0   \n2                                 0                  8.0   \n3                                 0                  8.0   \n4                                 0                  8.0   \n...                             ...                  ...   \n8755                              0                  8.0   \n8756                              0                  8.0   \n8757                            450                  NaN   \n8758                              0                  8.0   \n8759                              0                  8.0   \n\n     Wysokość podstawy tekstowy [opis]  ...  \\\n0                                 300P  ...   \n1                                 300P  ...   \n2                                 330P  ...   \n3                                 330P  ...   \n4                                 300P  ...   \n...                                ...  ...   \n8755                               570  ...   \n8756                              450P  ...   \n8757                         270P/450P  ...   \n8758                              240P  ...   \n8759                              240P  ...   \n\n     Wysokość świeżo spadłego śniegu  [cm] Status pomiaru HSS  \\\n0                                        0                8.0   \n1                                        0                8.0   \n2                                        0                8.0   \n3                                        0                8.0   \n4                                        0                8.0   \n...                                    ...                ...   \n8755                                     0                8.0   \n8756                                     0                8.0   \n8757                                     0                8.0   \n8758                                     0                8.0   \n8759                                     0                8.0   \n\n      Wysokość śniegu na poletku [cm]  Status pomiaru GRSN  \\\n0                                   0                  8.0   \n1                                   0                  8.0   \n2                                   0                  8.0   \n3                                   0                  8.0   \n4                                   0                  8.0   \n...                               ...                  ...   \n8755                                0                  8.0   \n8756                                0                  8.0   \n8757                                0                  8.0   \n8758                                0                  8.0   \n8759                                0                  8.0   \n\n      Gatunek śniegu  [kod]  Ukształtowanie pokrywy [kod]  \\\n0                       NaN                           NaN   \n1                       NaN                           NaN   \n2                       NaN                           NaN   \n3                       NaN                           NaN   \n4                       NaN                           NaN   \n...                     ...                           ...   \n8755                    NaN                           NaN   \n8756                    NaN                           NaN   \n8757                    NaN                           NaN   \n8758                    NaN                           NaN   \n8759                    NaN                           NaN   \n\n      Wysokość próbki [cm]  Status pomiaru HPRO  Ciężar próbki [g]  \\\n0                        0                  8.0                  0   \n1                        0                  8.0                  0   \n2                        0                  8.0                  0   \n3                        0                  8.0                  0   \n4                        0                  8.0                  0   \n...                    ...                  ...                ...   \n8755                     0                  8.0                  0   \n8756                     0                  8.0                  0   \n8757                     0                  8.0                  0   \n8758                     0                  8.0                  0   \n8759                     0                  8.0                  0   \n\n      Status pomiaru CIPR  \n0                     8.0  \n1                     8.0  \n2                     8.0  \n3                     8.0  \n4                     8.0  \n...                   ...  \n8755                  8.0  \n8756                  8.0  \n8757                  8.0  \n8758                  8.0  \n8759                  8.0  \n\n[8760 rows x 104 columns]",
      "text/html": "<div>\n<style scoped>\n    .dataframe tbody tr th:only-of-type {\n        vertical-align: middle;\n    }\n\n    .dataframe tbody tr th {\n        vertical-align: top;\n    }\n\n    .dataframe thead th {\n        text-align: right;\n    }\n</style>\n<table border=\"1\" class=\"dataframe\">\n  <thead>\n    <tr style=\"text-align: right;\">\n      <th></th>\n      <th>date-time</th>\n      <th>Kod stacji</th>\n      <th>Nazwa stacji</th>\n      <th>Wysokość podstawy chmur CL CM szyfrowana [kod]</th>\n      <th>Status pomiaru HPOD</th>\n      <th>Wysokość podstawy niższej  [m]</th>\n      <th>Status pomiaru HPON</th>\n      <th>Wysokość podstawy wyższej [m]</th>\n      <th>Status pomiaru HPOW</th>\n      <th>Wysokość podstawy tekstowy [opis]</th>\n      <th>...</th>\n      <th>Wysokość świeżo spadłego śniegu  [cm]</th>\n      <th>Status pomiaru HSS</th>\n      <th>Wysokość śniegu na poletku [cm]</th>\n      <th>Status pomiaru GRSN</th>\n      <th>Gatunek śniegu  [kod]</th>\n      <th>Ukształtowanie pokrywy [kod]</th>\n      <th>Wysokość próbki [cm]</th>\n      <th>Status pomiaru HPRO</th>\n      <th>Ciężar próbki [g]</th>\n      <th>Status pomiaru CIPR</th>\n    </tr>\n  </thead>\n  <tbody>\n    <tr>\n      <th>0</th>\n      <td>2021-01-01 00:00:00</td>\n      <td>352200375</td>\n      <td>WARSZAWA-OKĘCIE</td>\n      <td>4</td>\n      <td>NaN</td>\n      <td>300</td>\n      <td>NaN</td>\n      <td>0</td>\n      <td>8.0</td>\n      <td>300P</td>\n      <td>...</td>\n      <td>0</td>\n      <td>8.0</td>\n      <td>0</td>\n      <td>8.0</td>\n      <td>NaN</td>\n      <td>NaN</td>\n      <td>0</td>\n      <td>8.0</td>\n      <td>0</td>\n      <td>8.0</td>\n    </tr>\n    <tr>\n      <th>1</th>\n      <td>2021-01-01 01:00:00</td>\n      <td>352200375</td>\n      <td>WARSZAWA-OKĘCIE</td>\n      <td>4</td>\n      <td>NaN</td>\n      <td>300</td>\n      <td>NaN</td>\n      <td>0</td>\n      <td>8.0</td>\n      <td>300P</td>\n      <td>...</td>\n      <td>0</td>\n      <td>8.0</td>\n      <td>0</td>\n      <td>8.0</td>\n      <td>NaN</td>\n      <td>NaN</td>\n      <td>0</td>\n      <td>8.0</td>\n      <td>0</td>\n      <td>8.0</td>\n    </tr>\n    <tr>\n      <th>2</th>\n      <td>2021-01-01 02:00:00</td>\n      <td>352200375</td>\n      <td>WARSZAWA-OKĘCIE</td>\n      <td>4</td>\n      <td>NaN</td>\n      <td>330</td>\n      <td>NaN</td>\n      <td>0</td>\n      <td>8.0</td>\n      <td>330P</td>\n      <td>...</td>\n      <td>0</td>\n      <td>8.0</td>\n      <td>0</td>\n      <td>8.0</td>\n      <td>NaN</td>\n      <td>NaN</td>\n      <td>0</td>\n      <td>8.0</td>\n      <td>0</td>\n      <td>8.0</td>\n    </tr>\n    <tr>\n      <th>3</th>\n      <td>2021-01-01 03:00:00</td>\n      <td>352200375</td>\n      <td>WARSZAWA-OKĘCIE</td>\n      <td>4</td>\n      <td>NaN</td>\n      <td>330</td>\n      <td>NaN</td>\n      <td>0</td>\n      <td>8.0</td>\n      <td>330P</td>\n      <td>...</td>\n      <td>0</td>\n      <td>8.0</td>\n      <td>0</td>\n      <td>8.0</td>\n      <td>NaN</td>\n      <td>NaN</td>\n      <td>0</td>\n      <td>8.0</td>\n      <td>0</td>\n      <td>8.0</td>\n    </tr>\n    <tr>\n      <th>4</th>\n      <td>2021-01-01 04:00:00</td>\n      <td>352200375</td>\n      <td>WARSZAWA-OKĘCIE</td>\n      <td>4</td>\n      <td>NaN</td>\n      <td>300</td>\n      <td>NaN</td>\n      <td>0</td>\n      <td>8.0</td>\n      <td>300P</td>\n      <td>...</td>\n      <td>0</td>\n      <td>8.0</td>\n      <td>0</td>\n      <td>8.0</td>\n      <td>NaN</td>\n      <td>NaN</td>\n      <td>0</td>\n      <td>8.0</td>\n      <td>0</td>\n      <td>8.0</td>\n    </tr>\n    <tr>\n      <th>...</th>\n      <td>...</td>\n      <td>...</td>\n      <td>...</td>\n      <td>...</td>\n      <td>...</td>\n      <td>...</td>\n      <td>...</td>\n      <td>...</td>\n      <td>...</td>\n      <td>...</td>\n      <td>...</td>\n      <td>...</td>\n      <td>...</td>\n      <td>...</td>\n      <td>...</td>\n      <td>...</td>\n      <td>...</td>\n      <td>...</td>\n      <td>...</td>\n      <td>...</td>\n      <td>...</td>\n    </tr>\n    <tr>\n      <th>8755</th>\n      <td>2021-12-31 19:00:00</td>\n      <td>352200375</td>\n      <td>WARSZAWA-OKĘCIE</td>\n      <td>4</td>\n      <td>NaN</td>\n      <td>570</td>\n      <td>NaN</td>\n      <td>0</td>\n      <td>8.0</td>\n      <td>570</td>\n      <td>...</td>\n      <td>0</td>\n      <td>8.0</td>\n      <td>0</td>\n      <td>8.0</td>\n      <td>NaN</td>\n      <td>NaN</td>\n      <td>0</td>\n      <td>8.0</td>\n      <td>0</td>\n      <td>8.0</td>\n    </tr>\n    <tr>\n      <th>8756</th>\n      <td>2021-12-31 20:00:00</td>\n      <td>352200375</td>\n      <td>WARSZAWA-OKĘCIE</td>\n      <td>4</td>\n      <td>NaN</td>\n      <td>450</td>\n      <td>NaN</td>\n      <td>0</td>\n      <td>8.0</td>\n      <td>450P</td>\n      <td>...</td>\n      <td>0</td>\n      <td>8.0</td>\n      <td>0</td>\n      <td>8.0</td>\n      <td>NaN</td>\n      <td>NaN</td>\n      <td>0</td>\n      <td>8.0</td>\n      <td>0</td>\n      <td>8.0</td>\n    </tr>\n    <tr>\n      <th>8757</th>\n      <td>2021-12-31 21:00:00</td>\n      <td>352200375</td>\n      <td>WARSZAWA-OKĘCIE</td>\n      <td>3</td>\n      <td>NaN</td>\n      <td>270</td>\n      <td>NaN</td>\n      <td>450</td>\n      <td>NaN</td>\n      <td>270P/450P</td>\n      <td>...</td>\n      <td>0</td>\n      <td>8.0</td>\n      <td>0</td>\n      <td>8.0</td>\n      <td>NaN</td>\n      <td>NaN</td>\n      <td>0</td>\n      <td>8.0</td>\n      <td>0</td>\n      <td>8.0</td>\n    </tr>\n    <tr>\n      <th>8758</th>\n      <td>2021-12-31 22:00:00</td>\n      <td>352200375</td>\n      <td>WARSZAWA-OKĘCIE</td>\n      <td>3</td>\n      <td>NaN</td>\n      <td>240</td>\n      <td>NaN</td>\n      <td>0</td>\n      <td>8.0</td>\n      <td>240P</td>\n      <td>...</td>\n      <td>0</td>\n      <td>8.0</td>\n      <td>0</td>\n      <td>8.0</td>\n      <td>NaN</td>\n      <td>NaN</td>\n      <td>0</td>\n      <td>8.0</td>\n      <td>0</td>\n      <td>8.0</td>\n    </tr>\n    <tr>\n      <th>8759</th>\n      <td>2021-12-31 23:00:00</td>\n      <td>352200375</td>\n      <td>WARSZAWA-OKĘCIE</td>\n      <td>3</td>\n      <td>NaN</td>\n      <td>240</td>\n      <td>NaN</td>\n      <td>0</td>\n      <td>8.0</td>\n      <td>240P</td>\n      <td>...</td>\n      <td>0</td>\n      <td>8.0</td>\n      <td>0</td>\n      <td>8.0</td>\n      <td>NaN</td>\n      <td>NaN</td>\n      <td>0</td>\n      <td>8.0</td>\n      <td>0</td>\n      <td>8.0</td>\n    </tr>\n  </tbody>\n</table>\n<p>8760 rows × 104 columns</p>\n</div>"
     },
     "execution_count": 8,
     "metadata": {},
     "output_type": "execute_result"
    }
   ],
   "source": [
    "weather_full"
   ],
   "metadata": {
    "collapsed": false,
    "pycharm": {
     "name": "#%%\n"
    }
   }
  },
  {
   "cell_type": "code",
   "execution_count": 9,
   "outputs": [
    {
     "data": {
      "text/plain": "               date-time  Kierunek wiatru  [°]  Prędkość wiatru  [m/s]  \\\n0    2021-01-01 00:00:00                   260                       1   \n1    2021-01-01 01:00:00                   277                       2   \n2    2021-01-01 02:00:00                    92                       1   \n3    2021-01-01 03:00:00                   259                       2   \n4    2021-01-01 04:00:00                   270                       2   \n...                  ...                   ...                     ...   \n8755 2021-12-31 19:00:00                   259                       6   \n8756 2021-12-31 20:00:00                   259                       7   \n8757 2021-12-31 21:00:00                   257                       6   \n8758 2021-12-31 22:00:00                   260                       6   \n8759 2021-12-31 23:00:00                   258                       6   \n\n      Temperatura powietrza [°C]  Ciśnienie na poziomie stacji [hPa]  \n0                            0.9                               996.4  \n1                            1.0                               996.5  \n2                            1.0                               996.6  \n3                            0.9                               996.5  \n4                            0.8                               996.6  \n...                          ...                                 ...  \n8755                        11.2                               996.6  \n8756                        10.6                               996.6  \n8757                        10.5                               996.7  \n8758                        10.4                               996.9  \n8759                        10.2                               997.2  \n\n[8760 rows x 5 columns]",
      "text/html": "<div>\n<style scoped>\n    .dataframe tbody tr th:only-of-type {\n        vertical-align: middle;\n    }\n\n    .dataframe tbody tr th {\n        vertical-align: top;\n    }\n\n    .dataframe thead th {\n        text-align: right;\n    }\n</style>\n<table border=\"1\" class=\"dataframe\">\n  <thead>\n    <tr style=\"text-align: right;\">\n      <th></th>\n      <th>date-time</th>\n      <th>Kierunek wiatru  [°]</th>\n      <th>Prędkość wiatru  [m/s]</th>\n      <th>Temperatura powietrza [°C]</th>\n      <th>Ciśnienie na poziomie stacji [hPa]</th>\n    </tr>\n  </thead>\n  <tbody>\n    <tr>\n      <th>0</th>\n      <td>2021-01-01 00:00:00</td>\n      <td>260</td>\n      <td>1</td>\n      <td>0.9</td>\n      <td>996.4</td>\n    </tr>\n    <tr>\n      <th>1</th>\n      <td>2021-01-01 01:00:00</td>\n      <td>277</td>\n      <td>2</td>\n      <td>1.0</td>\n      <td>996.5</td>\n    </tr>\n    <tr>\n      <th>2</th>\n      <td>2021-01-01 02:00:00</td>\n      <td>92</td>\n      <td>1</td>\n      <td>1.0</td>\n      <td>996.6</td>\n    </tr>\n    <tr>\n      <th>3</th>\n      <td>2021-01-01 03:00:00</td>\n      <td>259</td>\n      <td>2</td>\n      <td>0.9</td>\n      <td>996.5</td>\n    </tr>\n    <tr>\n      <th>4</th>\n      <td>2021-01-01 04:00:00</td>\n      <td>270</td>\n      <td>2</td>\n      <td>0.8</td>\n      <td>996.6</td>\n    </tr>\n    <tr>\n      <th>...</th>\n      <td>...</td>\n      <td>...</td>\n      <td>...</td>\n      <td>...</td>\n      <td>...</td>\n    </tr>\n    <tr>\n      <th>8755</th>\n      <td>2021-12-31 19:00:00</td>\n      <td>259</td>\n      <td>6</td>\n      <td>11.2</td>\n      <td>996.6</td>\n    </tr>\n    <tr>\n      <th>8756</th>\n      <td>2021-12-31 20:00:00</td>\n      <td>259</td>\n      <td>7</td>\n      <td>10.6</td>\n      <td>996.6</td>\n    </tr>\n    <tr>\n      <th>8757</th>\n      <td>2021-12-31 21:00:00</td>\n      <td>257</td>\n      <td>6</td>\n      <td>10.5</td>\n      <td>996.7</td>\n    </tr>\n    <tr>\n      <th>8758</th>\n      <td>2021-12-31 22:00:00</td>\n      <td>260</td>\n      <td>6</td>\n      <td>10.4</td>\n      <td>996.9</td>\n    </tr>\n    <tr>\n      <th>8759</th>\n      <td>2021-12-31 23:00:00</td>\n      <td>258</td>\n      <td>6</td>\n      <td>10.2</td>\n      <td>997.2</td>\n    </tr>\n  </tbody>\n</table>\n<p>8760 rows × 5 columns</p>\n</div>"
     },
     "execution_count": 9,
     "metadata": {},
     "output_type": "execute_result"
    }
   ],
   "source": [
    "# Only interesting columns\n",
    "weather = weather_full[[\"date-time\", \"Kierunek wiatru  [°]\", \"Prędkość wiatru  [m/s]\", \"Temperatura powietrza [°C]\", \"Ciśnienie na poziomie stacji [hPa]\"]]\n",
    "weather"
   ],
   "metadata": {
    "collapsed": false,
    "pycharm": {
     "name": "#%%\n"
    }
   }
  },
  {
   "cell_type": "code",
   "execution_count": 10,
   "outputs": [],
   "source": [
    "# Processing wind and date\n",
    "wind_north = np.round(weather[\"Prędkość wiatru  [m/s]\"] * np.cos(np.radians(weather[\"Kierunek wiatru  [°]\"])), decimals=6)\n",
    "wind_east = np.round(weather[\"Prędkość wiatru  [m/s]\"]* np.sin(np.radians(weather[\"Kierunek wiatru  [°]\"])), decimals=6)\n",
    "month = weather[\"date-time\"].dt.month\n",
    "weekday = weather[\"date-time\"].dt.weekday\n",
    "hour = weather[\"date-time\"].dt.hour"
   ],
   "metadata": {
    "collapsed": false,
    "pycharm": {
     "name": "#%%\n"
    }
   }
  },
  {
   "cell_type": "code",
   "execution_count": 11,
   "outputs": [
    {
     "data": {
      "text/plain": "      month  weekday  hour           date-time  wind-east  wind-north  \\\n0         1        4     0 2021-01-01 00:00:00  -0.984808   -0.173648   \n1         1        4     1 2021-01-01 01:00:00  -1.985092    0.243739   \n2         1        4     2 2021-01-01 02:00:00   0.999391   -0.034899   \n3         1        4     3 2021-01-01 03:00:00  -1.963254   -0.381618   \n4         1        4     4 2021-01-01 04:00:00  -2.000000   -0.000000   \n...     ...      ...   ...                 ...        ...         ...   \n8755     12        4    19 2021-12-31 19:00:00  -5.889763   -1.144854   \n8756     12        4    20 2021-12-31 20:00:00  -6.871390   -1.335663   \n8757     12        4    21 2021-12-31 21:00:00  -5.846220   -1.349706   \n8758     12        4    22 2021-12-31 22:00:00  -5.908847   -1.041889   \n8759     12        4    23 2021-12-31 23:00:00  -5.868886   -1.247470   \n\n      Temperatura powietrza [°C]  Ciśnienie na poziomie stacji [hPa]  \n0                            0.9                               996.4  \n1                            1.0                               996.5  \n2                            1.0                               996.6  \n3                            0.9                               996.5  \n4                            0.8                               996.6  \n...                          ...                                 ...  \n8755                        11.2                               996.6  \n8756                        10.6                               996.6  \n8757                        10.5                               996.7  \n8758                        10.4                               996.9  \n8759                        10.2                               997.2  \n\n[8760 rows x 8 columns]",
      "text/html": "<div>\n<style scoped>\n    .dataframe tbody tr th:only-of-type {\n        vertical-align: middle;\n    }\n\n    .dataframe tbody tr th {\n        vertical-align: top;\n    }\n\n    .dataframe thead th {\n        text-align: right;\n    }\n</style>\n<table border=\"1\" class=\"dataframe\">\n  <thead>\n    <tr style=\"text-align: right;\">\n      <th></th>\n      <th>month</th>\n      <th>weekday</th>\n      <th>hour</th>\n      <th>date-time</th>\n      <th>wind-east</th>\n      <th>wind-north</th>\n      <th>Temperatura powietrza [°C]</th>\n      <th>Ciśnienie na poziomie stacji [hPa]</th>\n    </tr>\n  </thead>\n  <tbody>\n    <tr>\n      <th>0</th>\n      <td>1</td>\n      <td>4</td>\n      <td>0</td>\n      <td>2021-01-01 00:00:00</td>\n      <td>-0.984808</td>\n      <td>-0.173648</td>\n      <td>0.9</td>\n      <td>996.4</td>\n    </tr>\n    <tr>\n      <th>1</th>\n      <td>1</td>\n      <td>4</td>\n      <td>1</td>\n      <td>2021-01-01 01:00:00</td>\n      <td>-1.985092</td>\n      <td>0.243739</td>\n      <td>1.0</td>\n      <td>996.5</td>\n    </tr>\n    <tr>\n      <th>2</th>\n      <td>1</td>\n      <td>4</td>\n      <td>2</td>\n      <td>2021-01-01 02:00:00</td>\n      <td>0.999391</td>\n      <td>-0.034899</td>\n      <td>1.0</td>\n      <td>996.6</td>\n    </tr>\n    <tr>\n      <th>3</th>\n      <td>1</td>\n      <td>4</td>\n      <td>3</td>\n      <td>2021-01-01 03:00:00</td>\n      <td>-1.963254</td>\n      <td>-0.381618</td>\n      <td>0.9</td>\n      <td>996.5</td>\n    </tr>\n    <tr>\n      <th>4</th>\n      <td>1</td>\n      <td>4</td>\n      <td>4</td>\n      <td>2021-01-01 04:00:00</td>\n      <td>-2.000000</td>\n      <td>-0.000000</td>\n      <td>0.8</td>\n      <td>996.6</td>\n    </tr>\n    <tr>\n      <th>...</th>\n      <td>...</td>\n      <td>...</td>\n      <td>...</td>\n      <td>...</td>\n      <td>...</td>\n      <td>...</td>\n      <td>...</td>\n      <td>...</td>\n    </tr>\n    <tr>\n      <th>8755</th>\n      <td>12</td>\n      <td>4</td>\n      <td>19</td>\n      <td>2021-12-31 19:00:00</td>\n      <td>-5.889763</td>\n      <td>-1.144854</td>\n      <td>11.2</td>\n      <td>996.6</td>\n    </tr>\n    <tr>\n      <th>8756</th>\n      <td>12</td>\n      <td>4</td>\n      <td>20</td>\n      <td>2021-12-31 20:00:00</td>\n      <td>-6.871390</td>\n      <td>-1.335663</td>\n      <td>10.6</td>\n      <td>996.6</td>\n    </tr>\n    <tr>\n      <th>8757</th>\n      <td>12</td>\n      <td>4</td>\n      <td>21</td>\n      <td>2021-12-31 21:00:00</td>\n      <td>-5.846220</td>\n      <td>-1.349706</td>\n      <td>10.5</td>\n      <td>996.7</td>\n    </tr>\n    <tr>\n      <th>8758</th>\n      <td>12</td>\n      <td>4</td>\n      <td>22</td>\n      <td>2021-12-31 22:00:00</td>\n      <td>-5.908847</td>\n      <td>-1.041889</td>\n      <td>10.4</td>\n      <td>996.9</td>\n    </tr>\n    <tr>\n      <th>8759</th>\n      <td>12</td>\n      <td>4</td>\n      <td>23</td>\n      <td>2021-12-31 23:00:00</td>\n      <td>-5.868886</td>\n      <td>-1.247470</td>\n      <td>10.2</td>\n      <td>997.2</td>\n    </tr>\n  </tbody>\n</table>\n<p>8760 rows × 8 columns</p>\n</div>"
     },
     "execution_count": 11,
     "metadata": {},
     "output_type": "execute_result"
    }
   ],
   "source": [
    "# Adding processed wind and date columns\n",
    "weather.insert(1, \"wind-north\", wind_north)\n",
    "weather.insert(1, \"wind-east\", wind_east)\n",
    "weather.insert(0, \"hour\", hour)\n",
    "weather.insert(0, \"weekday\", weekday)\n",
    "weather.insert(0, \"month\", month)\n",
    "weather = weather.drop(columns=[\"Prędkość wiatru  [m/s]\", \"Kierunek wiatru  [°]\"])\n",
    "weather"
   ],
   "metadata": {
    "collapsed": false,
    "pycharm": {
     "name": "#%%\n"
    }
   }
  },
  {
   "cell_type": "code",
   "execution_count": 12,
   "outputs": [],
   "source": [
    "# Pollution and weather join on date-time, changing long column names, sorting by date, saving processed data to CSV file\n",
    "pollution\\\n",
    "    .merge(weather, how=\"inner\", on=\"date-time\")\\\n",
    "    .rename(columns={\"MzWarAlNiepo-PM25-1g\": \"pm2_5\", \"Temperatura powietrza [°C]\" : \"temperature\", \"Ciśnienie na poziomie stacji [hPa]\" : \"pressure\"})\\\n",
    "    .sort_values('date-time').drop(columns=[\"date-time\"])\\\n",
    "    .to_csv(\"../data/processed/pollution_weather.csv\", index=False)"
   ],
   "metadata": {
    "collapsed": false,
    "pycharm": {
     "name": "#%%\n"
    }
   }
  },
  {
   "cell_type": "markdown",
   "source": [
    "### Target preparation"
   ],
   "metadata": {
    "collapsed": false
   }
  },
  {
   "cell_type": "code",
   "execution_count": 13,
   "outputs": [
    {
     "data": {
      "text/plain": "      pm2_5  month  weekday  hour  wind-east  wind-north  temperature  \\\n0     26.68      1        4     0  -0.984808   -0.173648          0.9   \n1     35.09      1        4     1  -1.985092    0.243739          1.0   \n2     43.55      1        4     2   0.999391   -0.034899          1.0   \n3     46.44      1        4     3  -1.963254   -0.381618          0.9   \n4     41.24      1        4     4  -2.000000   -0.000000          0.8   \n...     ...    ...      ...   ...        ...         ...          ...   \n8755   9.03     12        4    19  -5.889763   -1.144854         11.2   \n8756   8.88     12        4    20  -6.871390   -1.335663         10.6   \n8757   8.10     12        4    21  -5.846220   -1.349706         10.5   \n8758   8.65     12        4    22  -5.908847   -1.041889         10.4   \n8759  24.92     12        4    23  -5.868886   -1.247470         10.2   \n\n      pressure  target  \n0        996.4   26.68  \n1        996.5   35.09  \n2        996.6   43.55  \n3        996.5   46.44  \n4        996.6   41.24  \n...        ...     ...  \n8755     996.6    9.03  \n8756     996.6    8.88  \n8757     996.7    8.10  \n8758     996.9    8.65  \n8759     997.2   24.92  \n\n[8760 rows x 9 columns]",
      "text/html": "<div>\n<style scoped>\n    .dataframe tbody tr th:only-of-type {\n        vertical-align: middle;\n    }\n\n    .dataframe tbody tr th {\n        vertical-align: top;\n    }\n\n    .dataframe thead th {\n        text-align: right;\n    }\n</style>\n<table border=\"1\" class=\"dataframe\">\n  <thead>\n    <tr style=\"text-align: right;\">\n      <th></th>\n      <th>pm2_5</th>\n      <th>month</th>\n      <th>weekday</th>\n      <th>hour</th>\n      <th>wind-east</th>\n      <th>wind-north</th>\n      <th>temperature</th>\n      <th>pressure</th>\n      <th>target</th>\n    </tr>\n  </thead>\n  <tbody>\n    <tr>\n      <th>0</th>\n      <td>26.68</td>\n      <td>1</td>\n      <td>4</td>\n      <td>0</td>\n      <td>-0.984808</td>\n      <td>-0.173648</td>\n      <td>0.9</td>\n      <td>996.4</td>\n      <td>26.68</td>\n    </tr>\n    <tr>\n      <th>1</th>\n      <td>35.09</td>\n      <td>1</td>\n      <td>4</td>\n      <td>1</td>\n      <td>-1.985092</td>\n      <td>0.243739</td>\n      <td>1.0</td>\n      <td>996.5</td>\n      <td>35.09</td>\n    </tr>\n    <tr>\n      <th>2</th>\n      <td>43.55</td>\n      <td>1</td>\n      <td>4</td>\n      <td>2</td>\n      <td>0.999391</td>\n      <td>-0.034899</td>\n      <td>1.0</td>\n      <td>996.6</td>\n      <td>43.55</td>\n    </tr>\n    <tr>\n      <th>3</th>\n      <td>46.44</td>\n      <td>1</td>\n      <td>4</td>\n      <td>3</td>\n      <td>-1.963254</td>\n      <td>-0.381618</td>\n      <td>0.9</td>\n      <td>996.5</td>\n      <td>46.44</td>\n    </tr>\n    <tr>\n      <th>4</th>\n      <td>41.24</td>\n      <td>1</td>\n      <td>4</td>\n      <td>4</td>\n      <td>-2.000000</td>\n      <td>-0.000000</td>\n      <td>0.8</td>\n      <td>996.6</td>\n      <td>41.24</td>\n    </tr>\n    <tr>\n      <th>...</th>\n      <td>...</td>\n      <td>...</td>\n      <td>...</td>\n      <td>...</td>\n      <td>...</td>\n      <td>...</td>\n      <td>...</td>\n      <td>...</td>\n      <td>...</td>\n    </tr>\n    <tr>\n      <th>8755</th>\n      <td>9.03</td>\n      <td>12</td>\n      <td>4</td>\n      <td>19</td>\n      <td>-5.889763</td>\n      <td>-1.144854</td>\n      <td>11.2</td>\n      <td>996.6</td>\n      <td>9.03</td>\n    </tr>\n    <tr>\n      <th>8756</th>\n      <td>8.88</td>\n      <td>12</td>\n      <td>4</td>\n      <td>20</td>\n      <td>-6.871390</td>\n      <td>-1.335663</td>\n      <td>10.6</td>\n      <td>996.6</td>\n      <td>8.88</td>\n    </tr>\n    <tr>\n      <th>8757</th>\n      <td>8.10</td>\n      <td>12</td>\n      <td>4</td>\n      <td>21</td>\n      <td>-5.846220</td>\n      <td>-1.349706</td>\n      <td>10.5</td>\n      <td>996.7</td>\n      <td>8.10</td>\n    </tr>\n    <tr>\n      <th>8758</th>\n      <td>8.65</td>\n      <td>12</td>\n      <td>4</td>\n      <td>22</td>\n      <td>-5.908847</td>\n      <td>-1.041889</td>\n      <td>10.4</td>\n      <td>996.9</td>\n      <td>8.65</td>\n    </tr>\n    <tr>\n      <th>8759</th>\n      <td>24.92</td>\n      <td>12</td>\n      <td>4</td>\n      <td>23</td>\n      <td>-5.868886</td>\n      <td>-1.247470</td>\n      <td>10.2</td>\n      <td>997.2</td>\n      <td>24.92</td>\n    </tr>\n  </tbody>\n</table>\n<p>8760 rows × 9 columns</p>\n</div>"
     },
     "execution_count": 13,
     "metadata": {},
     "output_type": "execute_result"
    }
   ],
   "source": [
    "data = pd.read_csv(\"../data/processed/pollution_weather.csv\", delimiter=',')\n",
    "data.insert(8, \"target\", data[\"pm2_5\"])\n",
    "# We need three independent copies of the dataset\n",
    "target6 = data.copy()\n",
    "target12 = data.copy()\n",
    "target24 = data.copy()\n",
    "data"
   ],
   "metadata": {
    "collapsed": false,
    "pycharm": {
     "name": "#%%\n"
    }
   }
  },
  {
   "cell_type": "code",
   "execution_count": 14,
   "outputs": [],
   "source": [
    "# Shifting target column by 6h, 12h, 24h\n",
    "target6[\"target\"] = target6[\"target\"].shift(-6)\n",
    "target12[\"target\"] = target12[\"target\"].shift(-12)\n",
    "target24[\"target\"] = target24[\"target\"].shift(-24)"
   ],
   "metadata": {
    "collapsed": false,
    "pycharm": {
     "name": "#%%\n"
    }
   }
  },
  {
   "cell_type": "code",
   "execution_count": 15,
   "outputs": [],
   "source": [
    "# Saving data with targets to CSV files, dropping entries with NULL\n",
    "target6.dropna().to_csv(\"../data/processed/target06.csv\", index=False)\n",
    "target12.dropna().to_csv(\"../data/processed/target12.csv\", index=False)\n",
    "target24.dropna().to_csv(\"../data/processed/target24.csv\", index=False)"
   ],
   "metadata": {
    "collapsed": false,
    "pycharm": {
     "name": "#%%\n"
    }
   }
  },
  {
   "cell_type": "code",
   "execution_count": 15,
   "outputs": [],
   "source": [],
   "metadata": {
    "collapsed": false,
    "pycharm": {
     "name": "#%%\n"
    }
   }
  }
 ],
 "metadata": {
  "kernelspec": {
   "display_name": "Python 3",
   "language": "python",
   "name": "python3"
  },
  "language_info": {
   "codemirror_mode": {
    "name": "ipython",
    "version": 2
   },
   "file_extension": ".py",
   "mimetype": "text/x-python",
   "name": "python",
   "nbconvert_exporter": "python",
   "pygments_lexer": "ipython2",
   "version": "2.7.6"
  }
 },
 "nbformat": 4,
 "nbformat_minor": 0
}