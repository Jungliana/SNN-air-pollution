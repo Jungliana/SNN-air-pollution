{
 "cells": [
  {
   "cell_type": "code",
   "execution_count": 25,
   "outputs": [],
   "source": [
    "import numpy as np\n",
    "import torch\n",
    "import torch.utils.data as data\n",
    "import pandas as pd\n",
    "from src.error_measures import get_error_measures\n",
    "from src.models import TwoLayerPerceptron, TwoLayerLeaky, TwoLayerSynaptic, ThreeLayerLeaky\n",
    "from src.train_model import training_loop"
   ],
   "metadata": {
    "collapsed": false,
    "pycharm": {
     "name": "#%%\n"
    }
   }
  },
  {
   "cell_type": "code",
   "execution_count": 17,
   "outputs": [
    {
     "data": {
      "text/plain": "device(type='cuda')"
     },
     "execution_count": 17,
     "metadata": {},
     "output_type": "execute_result"
    }
   ],
   "source": [
    "device = torch.device(\"cuda\") if torch.cuda.is_available() else torch.device(\"cpu\")\n",
    "device"
   ],
   "metadata": {
    "collapsed": false,
    "pycharm": {
     "name": "#%%\n"
    }
   }
  },
  {
   "cell_type": "code",
   "execution_count": 18,
   "outputs": [
    {
     "data": {
      "text/plain": "<torch._C.Generator at 0x29c088ab230>"
     },
     "execution_count": 18,
     "metadata": {},
     "output_type": "execute_result"
    }
   ],
   "source": [
    "np.random.seed(373)\n",
    "torch.manual_seed(373)"
   ],
   "metadata": {
    "collapsed": false,
    "pycharm": {
     "name": "#%%\n"
    }
   }
  },
  {
   "cell_type": "code",
   "execution_count": 19,
   "outputs": [],
   "source": [
    "data06 = pd.read_csv(\"../data/processed/target06.csv\")\n",
    "data06.drop(columns=[\"weekday\"], inplace=True)"
   ],
   "metadata": {
    "collapsed": false,
    "pycharm": {
     "name": "#%%\n"
    }
   }
  },
  {
   "cell_type": "code",
   "execution_count": 20,
   "outputs": [],
   "source": [
    "all_data = data.TensorDataset(torch.from_numpy((data06.values[:,:-1] - data06.values[:,:-1].min(0)) / data06.values[:,:-1].ptp(0)).float(), torch.from_numpy(data06.values[:,-1]).float())  # normalization\n",
    "train_dataset, test_dataset = torch.utils.data.random_split(all_data, (round(0.4 * len(all_data)), round(0.6 * len(all_data))))"
   ],
   "metadata": {
    "collapsed": false,
    "pycharm": {
     "name": "#%%\n"
    }
   }
  },
  {
   "cell_type": "code",
   "execution_count": 21,
   "outputs": [],
   "source": [
    "#train_loader = data.DataLoader(train_dataset, batch_size=64, shuffle=True, drop_last=True)\n",
    "test_loader = data.DataLoader(test_dataset, batch_size=256, shuffle=False, drop_last=False)"
   ],
   "metadata": {
    "collapsed": false,
    "pycharm": {
     "name": "#%%\n"
    }
   }
  },
  {
   "cell_type": "markdown",
   "source": [
    "### Two layer perceptron"
   ],
   "metadata": {
    "collapsed": false
   }
  },
  {
   "cell_type": "code",
   "execution_count": 26,
   "outputs": [
    {
     "name": "stdout",
     "output_type": "stream",
     "text": [
      "\n",
      "------------- Random set: 0 -----------------\n",
      "Hidden: 2583, epochs: 139, batch size: 128\n"
     ]
    },
    {
     "name": "stderr",
     "output_type": "stream",
     "text": [
      "100%|██████████| 139/139 [00:11<00:00, 11.67it/s]\n"
     ]
    },
    {
     "name": "stdout",
     "output_type": "stream",
     "text": [
      "Accuracy on validation dataset: 42.76632633403968%\n",
      "MAE: 6.122987860641143, MSE:79.4420617277969,\n",
      "RMSE: 8.913027640919605, Index of Agreement: 0.8871940462680998\n",
      "\n",
      "------------- Random set: 1 -----------------\n",
      "Hidden: 1861, epochs: 195, batch size: 16\n"
     ]
    },
    {
     "name": "stderr",
     "output_type": "stream",
     "text": [
      "100%|██████████| 195/195 [01:37<00:00,  2.00it/s]\n"
     ]
    },
    {
     "name": "stdout",
     "output_type": "stream",
     "text": [
      "Accuracy on validation dataset: 43.80658832594876%\n",
      "MAE: 5.926686568948184, MSE:76.21347561130275,\n",
      "RMSE: 8.730032967366318, Index of Agreement: 0.8885127349633807\n",
      "\n",
      "------------- Random set: 2 -----------------\n",
      "Hidden: 763, epochs: 51, batch size: 16\n"
     ]
    },
    {
     "name": "stderr",
     "output_type": "stream",
     "text": [
      "100%|██████████| 51/51 [00:26<00:00,  1.96it/s]\n"
     ]
    },
    {
     "name": "stdout",
     "output_type": "stream",
     "text": [
      "Accuracy on validation dataset: 40.570217684453866%\n",
      "MAE: 6.349217872127268, MSE:84.89538790284851,\n",
      "RMSE: 9.213869323082921, Index of Agreement: 0.8730362666868916\n",
      "\n",
      "------------- Random set: 3 -----------------\n",
      "Hidden: 1717, epochs: 33, batch size: 128\n"
     ]
    },
    {
     "name": "stderr",
     "output_type": "stream",
     "text": [
      "100%|██████████| 33/33 [00:02<00:00, 11.77it/s]\n"
     ]
    },
    {
     "name": "stdout",
     "output_type": "stream",
     "text": [
      "Accuracy on validation dataset: 39.587748025428624%\n",
      "MAE: 6.61672124847055, MSE:91.93381507286574,\n",
      "RMSE: 9.588212298070259, Index of Agreement: 0.864596351022823\n",
      "\n",
      "------------- Random set: 4 -----------------\n",
      "Hidden: 1758, epochs: 83, batch size: 16\n"
     ]
    },
    {
     "name": "stderr",
     "output_type": "stream",
     "text": [
      "100%|██████████| 83/83 [00:40<00:00,  2.07it/s]"
     ]
    },
    {
     "name": "stdout",
     "output_type": "stream",
     "text": [
      "Accuracy on validation dataset: 40.45463301868619%\n",
      "MAE: 6.226557504020429, MSE:81.41750360820298,\n",
      "RMSE: 9.023164833261275, Index of Agreement: 0.8778917210597745\n"
     ]
    },
    {
     "name": "stderr",
     "output_type": "stream",
     "text": [
      "\n"
     ]
    }
   ],
   "source": [
    "for i in range(5):\n",
    "    h = np.random.randint(500, 3000)\n",
    "    e = np.random.randint(20, 200)\n",
    "    b = np.random.choice([16, 32, 64, 128])\n",
    "    print(f'\\n------------- Random set: {i} -----------------\\nHidden: {h}, epochs: {e}, batch size: {b}')\n",
    "    train_loader = data.DataLoader(train_dataset, batch_size=int(b), shuffle=True, drop_last=True)\n",
    "    model = TwoLayerPerceptron(num_inputs=7, num_hidden=h, num_outputs=1)\n",
    "    training_loop(model, train_loader, test_loader, device, num_epochs=e, validation=False)\n",
    "    get_error_measures(model, test_loader, device=device, print_e=True)"
   ],
   "metadata": {
    "collapsed": false,
    "pycharm": {
     "name": "#%%\n"
    }
   }
  },
  {
   "cell_type": "markdown",
   "source": [
    "### SNN with LIF neurons"
   ],
   "metadata": {
    "collapsed": false
   }
  },
  {
   "cell_type": "code",
   "execution_count": 22,
   "outputs": [
    {
     "name": "stdout",
     "output_type": "stream",
     "text": [
      "\n",
      "------------- Random set: 0 -----------------\n",
      "Hidden: 1973, epochs: 23, steps: 23, batch size: 32\n"
     ]
    },
    {
     "name": "stderr",
     "output_type": "stream",
     "text": [
      "100%|██████████| 23/23 [00:50<00:00,  2.19s/it]\n"
     ]
    },
    {
     "name": "stdout",
     "output_type": "stream",
     "text": [
      "Accuracy on validation dataset: 38.45116547871316%\n",
      "MAE: 6.929131181087137, MSE:98.79313193820037,\n",
      "RMSE: 9.939473423587406, Index of Agreement: 0.8500468653125463\n",
      "\n",
      "------------- Random set: 1 -----------------\n",
      "Hidden: 2398, epochs: 34, steps: 23, batch size: 64\n"
     ]
    },
    {
     "name": "stderr",
     "output_type": "stream",
     "text": [
      "100%|██████████| 34/34 [00:36<00:00,  1.08s/it]\n"
     ]
    },
    {
     "name": "stdout",
     "output_type": "stream",
     "text": [
      "Accuracy on validation dataset: 38.932768252745134%\n",
      "MAE: 6.866106725891898, MSE:98.50688131193391,\n",
      "RMSE: 9.925063290071954, Index of Agreement: 0.8507236827152364\n",
      "\n",
      "------------- Random set: 2 -----------------\n",
      "Hidden: 1071, epochs: 43, steps: 26, batch size: 32\n"
     ]
    },
    {
     "name": "stderr",
     "output_type": "stream",
     "text": [
      "100%|██████████| 43/43 [01:41<00:00,  2.36s/it]\n"
     ]
    },
    {
     "name": "stdout",
     "output_type": "stream",
     "text": [
      "Accuracy on validation dataset: 38.45116547871316%\n",
      "MAE: 6.904280479508681, MSE:101.25382162002806,\n",
      "RMSE: 10.062495794783125, Index of Agreement: 0.8432570857401828\n",
      "\n",
      "------------- Random set: 3 -----------------\n",
      "Hidden: 1116, epochs: 32, steps: 24, batch size: 64\n"
     ]
    },
    {
     "name": "stderr",
     "output_type": "stream",
     "text": [
      "100%|██████████| 32/32 [00:35<00:00,  1.11s/it]\n"
     ]
    },
    {
     "name": "stdout",
     "output_type": "stream",
     "text": [
      "Accuracy on validation dataset: 37.14120593334618%\n",
      "MAE: 7.177809658479516, MSE:107.18825281208647,\n",
      "RMSE: 10.353175977065515, Index of Agreement: 0.8313244801154727\n",
      "\n",
      "------------- Random set: 4 -----------------\n",
      "Hidden: 1151, epochs: 33, steps: 25, batch size: 64\n"
     ]
    },
    {
     "name": "stderr",
     "output_type": "stream",
     "text": [
      "100%|██████████| 33/33 [00:38<00:00,  1.16s/it]\n"
     ]
    },
    {
     "name": "stdout",
     "output_type": "stream",
     "text": [
      "Accuracy on validation dataset: 37.603544596416874%\n",
      "MAE: 6.984923908462921, MSE:102.36238043588122,\n",
      "RMSE: 10.11742953698622, Index of Agreement: 0.8423753684443211\n"
     ]
    }
   ],
   "source": [
    "for i in range(5):\n",
    "    h = np.random.randint(1000, 2500)\n",
    "    e = np.random.randint(20, 50)\n",
    "    s = np.random.randint(20, 30)\n",
    "    b = np.random.choice([32, 64])\n",
    "    print(f'\\n------------- Random set: {i} -----------------\\nHidden: {h}, epochs: {e}, steps: {s}, batch size: {b}')\n",
    "    train_loader = data.DataLoader(train_dataset, batch_size=int(b), shuffle=True, drop_last=True)\n",
    "    model = TwoLayerLeaky(num_inputs=7, num_hidden=h, num_outputs=1, beta=0.95, num_steps=s)\n",
    "    training_loop(model, train_loader, test_loader, device, num_epochs=e, validation=False)\n",
    "    get_error_measures(model, test_loader, device=device, print_e=True)"
   ],
   "metadata": {
    "collapsed": false,
    "pycharm": {
     "name": "#%%\n"
    }
   }
  },
  {
   "cell_type": "markdown",
   "source": [
    "### SNN with Synaptic neurons"
   ],
   "metadata": {
    "collapsed": false
   }
  },
  {
   "cell_type": "code",
   "execution_count": 23,
   "outputs": [
    {
     "name": "stdout",
     "output_type": "stream",
     "text": [
      "\n",
      "------------- Random set: 0 -----------------\n",
      "Hidden: 1584, epochs: 18\n"
     ]
    },
    {
     "name": "stderr",
     "output_type": "stream",
     "text": [
      "100%|██████████| 18/18 [02:45<00:00,  9.22s/it]\n"
     ]
    },
    {
     "name": "stdout",
     "output_type": "stream",
     "text": [
      "Accuracy on validation dataset: 33.84704295896744%\n",
      "MAE: 7.978202665456112, MSE:125.2646256544342,\n",
      "RMSE: 11.192168049776335, Index of Agreement: 0.7878017387393628\n",
      "\n",
      "------------- Random set: 1 -----------------\n",
      "Hidden: 2095, epochs: 36\n"
     ]
    },
    {
     "name": "stderr",
     "output_type": "stream",
     "text": [
      "100%|██████████| 36/36 [05:40<00:00,  9.47s/it]\n"
     ]
    },
    {
     "name": "stdout",
     "output_type": "stream",
     "text": [
      "Accuracy on validation dataset: 38.952032363706415%\n",
      "MAE: 6.822095941656749, MSE:97.07273593781754,\n",
      "RMSE: 9.852549717601914, Index of Agreement: 0.847512653256542\n"
     ]
    }
   ],
   "source": [
    "for i in range(2):\n",
    "    h = np.random.randint(1000, 3000)\n",
    "    e = np.random.randint(10, 40)\n",
    "    #s = np.random.randint(80, 110)\n",
    "    #b = np.random.choice([16, 32])\n",
    "    print(f'\\n------------- Random set: {i} -----------------\\nHidden: {h}, epochs: {e}')\n",
    "    train_loader = data.DataLoader(train_dataset, batch_size=32, shuffle=True, drop_last=True)\n",
    "    model = TwoLayerSynaptic(num_inputs=7, num_hidden=h, num_outputs=1, batch_size=32)\n",
    "    training_loop(model, train_loader, test_loader, device, num_epochs=e, validation=False)\n",
    "    get_error_measures(model, test_loader, device=device, print_e=True)"
   ],
   "metadata": {
    "collapsed": false,
    "pycharm": {
     "name": "#%%\n"
    }
   }
  },
  {
   "cell_type": "markdown",
   "source": [
    "### SNN with additional layer"
   ],
   "metadata": {
    "collapsed": false
   }
  },
  {
   "cell_type": "code",
   "execution_count": 27,
   "outputs": [
    {
     "name": "stdout",
     "output_type": "stream",
     "text": [
      "\n",
      "------------- Random set: 0 -----------------\n",
      "Hidden: 2308, epochs: 15, steps: 23, batch size: 64\n"
     ]
    },
    {
     "name": "stderr",
     "output_type": "stream",
     "text": [
      "100%|██████████| 15/15 [00:37<00:00,  2.52s/it]\n"
     ]
    },
    {
     "name": "stdout",
     "output_type": "stream",
     "text": [
      "Accuracy on validation dataset: 31.862839529955693%\n",
      "MAE: 8.90247745257631, MSE:172.29357625224483,\n",
      "RMSE: 13.126064766419708, Index of Agreement: 0.7158743392912515\n",
      "\n",
      "------------- Random set: 1 -----------------\n",
      "Hidden: 1800, epochs: 17, steps: 25, batch size: 32\n"
     ]
    },
    {
     "name": "stderr",
     "output_type": "stream",
     "text": [
      "100%|██████████| 17/17 [01:05<00:00,  3.87s/it]\n"
     ]
    },
    {
     "name": "stdout",
     "output_type": "stream",
     "text": [
      "Accuracy on validation dataset: 33.615873627432094%\n",
      "MAE: 7.827615096054195, MSE:141.74367024973932,\n",
      "RMSE: 11.90561507229842, Index of Agreement: 0.7272164758094452\n",
      "\n",
      "------------- Random set: 2 -----------------\n",
      "Hidden: 2001, epochs: 12, steps: 28, batch size: 32\n"
     ]
    },
    {
     "name": "stderr",
     "output_type": "stream",
     "text": [
      "100%|██████████| 12/12 [00:56<00:00,  4.68s/it]\n"
     ]
    },
    {
     "name": "stdout",
     "output_type": "stream",
     "text": [
      "Accuracy on validation dataset: 33.249855519167795%\n",
      "MAE: 8.408341333416473, MSE:159.9792108328556,\n",
      "RMSE: 12.648288849992936, Index of Agreement: 0.7320797242922241\n",
      "\n",
      "------------- Random set: 3 -----------------\n",
      "Hidden: 709, epochs: 37, steps: 26, batch size: 32\n"
     ]
    },
    {
     "name": "stderr",
     "output_type": "stream",
     "text": [
      "100%|██████████| 37/37 [02:21<00:00,  3.84s/it]\n"
     ]
    },
    {
     "name": "stdout",
     "output_type": "stream",
     "text": [
      "Accuracy on validation dataset: 33.365440184935466%\n",
      "MAE: 8.081708734571945, MSE:142.30255020984026,\n",
      "RMSE: 11.929063257852238, Index of Agreement: 0.7316616708075936\n",
      "\n",
      "------------- Random set: 4 -----------------\n",
      "Hidden: 2141, epochs: 23, steps: 21, batch size: 32\n"
     ]
    },
    {
     "name": "stderr",
     "output_type": "stream",
     "text": [
      "100%|██████████| 23/23 [01:28<00:00,  3.84s/it]\n"
     ]
    },
    {
     "name": "stdout",
     "output_type": "stream",
     "text": [
      "Accuracy on validation dataset: 34.07821229050279%\n",
      "MAE: 7.9205683405701075, MSE:137.22574298786105,\n",
      "RMSE: 11.714339204063585, Index of Agreement: 0.7561676444679714\n"
     ]
    }
   ],
   "source": [
    "for i in range(5):\n",
    "    h = np.random.randint(300, 2500)\n",
    "    e = np.random.randint(10, 40)\n",
    "    s = np.random.randint(20, 30)\n",
    "    b = np.random.choice([32, 64, 128])\n",
    "    print(f'\\n------------- Random set: {i} -----------------\\nHidden: {h}, epochs: {e}, steps: {s}, batch size: {b}')\n",
    "    train_loader = data.DataLoader(train_dataset, batch_size=int(b), shuffle=True, drop_last=True)\n",
    "    model = ThreeLayerLeaky(num_inputs=7, num_hidden=h, num_outputs=1, beta=0.95, num_steps=s)\n",
    "    training_loop(model, train_loader, test_loader, device, num_epochs=e, validation=False)\n",
    "    get_error_measures(model, test_loader, device=device, print_e=True)"
   ],
   "metadata": {
    "collapsed": false,
    "pycharm": {
     "name": "#%%\n"
    }
   }
  },
  {
   "cell_type": "code",
   "execution_count": null,
   "outputs": [],
   "source": [],
   "metadata": {
    "collapsed": false,
    "pycharm": {
     "name": "#%%\n"
    }
   }
  }
 ],
 "metadata": {
  "kernelspec": {
   "display_name": "Python 3",
   "language": "python",
   "name": "python3"
  },
  "language_info": {
   "codemirror_mode": {
    "name": "ipython",
    "version": 2
   },
   "file_extension": ".py",
   "mimetype": "text/x-python",
   "name": "python",
   "nbconvert_exporter": "python",
   "pygments_lexer": "ipython2",
   "version": "2.7.6"
  }
 },
 "nbformat": 4,
 "nbformat_minor": 0
}