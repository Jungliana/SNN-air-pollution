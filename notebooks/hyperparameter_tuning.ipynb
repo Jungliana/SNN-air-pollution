{
 "cells": [
  {
   "cell_type": "code",
   "execution_count": 15,
   "outputs": [],
   "source": [
    "import numpy as np\n",
    "import torch\n",
    "import torch.utils.data as data\n",
    "import pandas as pd\n",
    "from src.error_measures import get_error_measures\n",
    "from src.models import TwoLayerPerceptron, LeakySNN, SynapticSNN, DoubleLeakySNN\n",
    "from src.train_model import training_loop"
   ],
   "metadata": {
    "collapsed": false,
    "pycharm": {
     "name": "#%%\n"
    }
   }
  },
  {
   "cell_type": "code",
   "execution_count": 16,
   "outputs": [
    {
     "data": {
      "text/plain": "device(type='cuda')"
     },
     "execution_count": 16,
     "metadata": {},
     "output_type": "execute_result"
    }
   ],
   "source": [
    "device = torch.device(\"cuda\") if torch.cuda.is_available() else torch.device(\"cpu\")\n",
    "device"
   ],
   "metadata": {
    "collapsed": false,
    "pycharm": {
     "name": "#%%\n"
    }
   }
  },
  {
   "cell_type": "code",
   "execution_count": 17,
   "outputs": [
    {
     "data": {
      "text/plain": "<torch._C.Generator at 0x2774f79b270>"
     },
     "execution_count": 17,
     "metadata": {},
     "output_type": "execute_result"
    }
   ],
   "source": [
    "np.random.seed(373)\n",
    "torch.manual_seed(373)"
   ],
   "metadata": {
    "collapsed": false,
    "pycharm": {
     "name": "#%%\n"
    }
   }
  },
  {
   "cell_type": "code",
   "execution_count": 18,
   "outputs": [],
   "source": [
    "data06 = pd.read_csv(\"../data/processed/target06.csv\")\n",
    "data06.drop(columns=[\"weekday\"], inplace=True)"
   ],
   "metadata": {
    "collapsed": false,
    "pycharm": {
     "name": "#%%\n"
    }
   }
  },
  {
   "cell_type": "code",
   "execution_count": 19,
   "outputs": [],
   "source": [
    "all_data = data.TensorDataset(torch.from_numpy((data06.values[:,:-1] - data06.values[:,:-1].min(0)) / data06.values[:,:-1].ptp(0)).float(),\n",
    "                              torch.from_numpy(data06.values[:,-1]).float())  # normalization\n",
    "train_dataset, test_dataset = torch.utils.data.random_split(all_data, (round(0.45 * len(all_data)), round(0.55 * len(all_data))))\n",
    "train_loader = data.DataLoader(train_dataset, batch_size=32, shuffle=True, drop_last=True)\n",
    "test_loader = data.DataLoader(test_dataset, batch_size=256, shuffle=False, drop_last=False)"
   ],
   "metadata": {
    "collapsed": false,
    "pycharm": {
     "name": "#%%\n"
    }
   }
  },
  {
   "cell_type": "markdown",
   "source": [
    "### Two layer perceptron"
   ],
   "metadata": {
    "collapsed": false
   }
  },
  {
   "cell_type": "code",
   "execution_count": 20,
   "outputs": [
    {
     "name": "stdout",
     "output_type": "stream",
     "text": [
      "\n",
      "------------- Random set: 0 -----------------\n",
      "Hidden: 3261, epochs: 15, learning rate: 0.0029579514985328768\n"
     ]
    },
    {
     "name": "stderr",
     "output_type": "stream",
     "text": [
      "100%|██████████| 15/15 [00:04<00:00,  3.67it/s]\n"
     ]
    },
    {
     "name": "stdout",
     "output_type": "stream",
     "text": [
      "Accuracy on validation dataset: 48.63%\n",
      "MAE: 6.630567459310489, MSE:87.0525396362658,\n",
      "RMSE: 9.330195048136229, IA: 0.8799265299996499, MAPE: 43.21112032556754%\n",
      "\n",
      "------------- Random set: 1 -----------------\n",
      "Hidden: 3325, epochs: 15, learning rate: 0.004242469415092643\n"
     ]
    },
    {
     "name": "stderr",
     "output_type": "stream",
     "text": [
      "100%|██████████| 15/15 [00:04<00:00,  3.61it/s]\n"
     ]
    },
    {
     "name": "stdout",
     "output_type": "stream",
     "text": [
      "Accuracy on validation dataset: 44.85%\n",
      "MAE: 7.072429561123922, MSE:92.40331299727357,\n",
      "RMSE: 9.612664198715857, IA: 0.8763431761295406, MAPE: 49.64937060588142%\n",
      "\n",
      "------------- Random set: 2 -----------------\n",
      "Hidden: 4481, epochs: 15, learning rate: 0.00360126157505433\n"
     ]
    },
    {
     "name": "stderr",
     "output_type": "stream",
     "text": [
      "100%|██████████| 15/15 [00:03<00:00,  4.18it/s]\n"
     ]
    },
    {
     "name": "stdout",
     "output_type": "stream",
     "text": [
      "Accuracy on validation dataset: 50.82%\n",
      "MAE: 6.345571654190683, MSE:85.26501810391291,\n",
      "RMSE: 9.23390589641853, IA: 0.8840964932076565, MAPE: 37.41059231457911%\n",
      "\n",
      "------------- Random set: 3 -----------------\n",
      "Hidden: 1160, epochs: 15, learning rate: 0.0038237463340484675\n"
     ]
    },
    {
     "name": "stderr",
     "output_type": "stream",
     "text": [
      "100%|██████████| 15/15 [00:03<00:00,  3.77it/s]\n"
     ]
    },
    {
     "name": "stdout",
     "output_type": "stream",
     "text": [
      "Accuracy on validation dataset: 43.480000000000004%\n",
      "MAE: 7.2516645483732125, MSE:96.03100194266437,\n",
      "RMSE: 9.799540904688564, IA: 0.8716474547417893, MAPE: 51.74777329606223%\n",
      "\n",
      "------------- Random set: 4 -----------------\n",
      "Hidden: 2258, epochs: 15, learning rate: 0.00227569416394398\n"
     ]
    },
    {
     "name": "stderr",
     "output_type": "stream",
     "text": [
      "100%|██████████| 15/15 [00:04<00:00,  3.26it/s]\n"
     ]
    },
    {
     "name": "stdout",
     "output_type": "stream",
     "text": [
      "Accuracy on validation dataset: 49.66%\n",
      "MAE: 6.463047471904313, MSE:89.74453614772828,\n",
      "RMSE: 9.473359285265618, IA: 0.8723715538896479, MAPE: 37.65050276039889%\n",
      "\n",
      "------------- Random set: 5 -----------------\n",
      "Hidden: 4758, epochs: 15, learning rate: 0.0010912675928682277\n"
     ]
    },
    {
     "name": "stderr",
     "output_type": "stream",
     "text": [
      "100%|██████████| 15/15 [00:03<00:00,  4.68it/s]\n"
     ]
    },
    {
     "name": "stdout",
     "output_type": "stream",
     "text": [
      "Accuracy on validation dataset: 46.36%\n",
      "MAE: 6.904592258231687, MSE:91.16689965067026,\n",
      "RMSE: 9.548135925439597, IA: 0.872944169316052, MAPE: 47.27895824755244%\n",
      "\n",
      "------------- Random set: 6 -----------------\n",
      "Hidden: 2837, epochs: 15, learning rate: 0.004892758710295818\n"
     ]
    },
    {
     "name": "stderr",
     "output_type": "stream",
     "text": [
      "100%|██████████| 15/15 [00:03<00:00,  4.08it/s]\n"
     ]
    },
    {
     "name": "stdout",
     "output_type": "stream",
     "text": [
      "Accuracy on validation dataset: 48.97%\n",
      "MAE: 6.425046220202565, MSE:87.19862054507071,\n",
      "RMSE: 9.338020161954605, IA: 0.8722550135993914, MAPE: 38.61973264064284%\n",
      "\n",
      "------------- Random set: 7 -----------------\n",
      "Hidden: 2414, epochs: 15, learning rate: 0.003277771029818178\n"
     ]
    },
    {
     "name": "stderr",
     "output_type": "stream",
     "text": [
      "100%|██████████| 15/15 [00:03<00:00,  4.02it/s]\n"
     ]
    },
    {
     "name": "stdout",
     "output_type": "stream",
     "text": [
      "Accuracy on validation dataset: 50.32%\n",
      "MAE: 6.401883128963132, MSE:86.60582507355743,\n",
      "RMSE: 9.306225071077822, IA: 0.8803918276887687, MAPE: 37.897767475143375%\n",
      "\n",
      "------------- Random set: 8 -----------------\n",
      "Hidden: 705, epochs: 15, learning rate: 0.003568614021481432\n"
     ]
    },
    {
     "name": "stderr",
     "output_type": "stream",
     "text": [
      "100%|██████████| 15/15 [00:03<00:00,  4.27it/s]\n"
     ]
    },
    {
     "name": "stdout",
     "output_type": "stream",
     "text": [
      "Accuracy on validation dataset: 48.07%\n",
      "MAE: 6.650706175797724, MSE:91.00746866999413,\n",
      "RMSE: 9.539783470812853, IA: 0.8678815677470667, MAPE: 42.064420592756434%\n",
      "\n",
      "------------- Random set: 9 -----------------\n",
      "Hidden: 1245, epochs: 15, learning rate: 0.003624494546100124\n"
     ]
    },
    {
     "name": "stderr",
     "output_type": "stream",
     "text": [
      "100%|██████████| 15/15 [00:03<00:00,  4.29it/s]\n"
     ]
    },
    {
     "name": "stdout",
     "output_type": "stream",
     "text": [
      "Accuracy on validation dataset: 49.71%\n",
      "MAE: 6.478984861876996, MSE:88.13410874982718,\n",
      "RMSE: 9.387976818773424, IA: 0.8816467280796824, MAPE: 38.96732009095038%\n",
      "\n",
      "------------- Random set: 10 -----------------\n",
      "Hidden: 552, epochs: 15, learning rate: 0.0001328700997104934\n"
     ]
    },
    {
     "name": "stderr",
     "output_type": "stream",
     "text": [
      "100%|██████████| 15/15 [00:03<00:00,  4.40it/s]\n"
     ]
    },
    {
     "name": "stdout",
     "output_type": "stream",
     "text": [
      "Accuracy on validation dataset: 31.61%\n",
      "MAE: 9.914228665272494, MSE:207.63267630006257,\n",
      "RMSE: 14.409464816573257, IA: 0.3261329079870583, MAPE: 65.35759419356053%\n",
      "\n",
      "------------- Random set: 11 -----------------\n",
      "Hidden: 1933, epochs: 15, learning rate: 0.003560334296624881\n"
     ]
    },
    {
     "name": "stderr",
     "output_type": "stream",
     "text": [
      "100%|██████████| 15/15 [00:03<00:00,  4.35it/s]\n"
     ]
    },
    {
     "name": "stdout",
     "output_type": "stream",
     "text": [
      "Accuracy on validation dataset: 49.830000000000005%\n",
      "MAE: 6.429104635975049, MSE:89.03414916242025,\n",
      "RMSE: 9.435790860464227, IA: 0.8747846447627049, MAPE: 36.74380035775992%\n",
      "\n",
      "------------- Random set: 12 -----------------\n",
      "Hidden: 4487, epochs: 15, learning rate: 0.0016578101458884003\n"
     ]
    },
    {
     "name": "stderr",
     "output_type": "stream",
     "text": [
      "100%|██████████| 15/15 [00:03<00:00,  4.07it/s]\n"
     ]
    },
    {
     "name": "stdout",
     "output_type": "stream",
     "text": [
      "Accuracy on validation dataset: 49.370000000000005%\n",
      "MAE: 6.443659083339135, MSE:88.7262821292175,\n",
      "RMSE: 9.41946294271693, IA: 0.8687111763655487, MAPE: 38.371393157838526%\n",
      "\n",
      "------------- Random set: 13 -----------------\n",
      "Hidden: 4565, epochs: 15, learning rate: 0.0012130042169021054\n"
     ]
    },
    {
     "name": "stderr",
     "output_type": "stream",
     "text": [
      "100%|██████████| 15/15 [00:03<00:00,  4.46it/s]\n"
     ]
    },
    {
     "name": "stdout",
     "output_type": "stream",
     "text": [
      "Accuracy on validation dataset: 48.870000000000005%\n",
      "MAE: 6.587469531638926, MSE:88.07981111614916,\n",
      "RMSE: 9.38508450234462, IA: 0.8740962961595521, MAPE: 42.22829173108815%\n",
      "\n",
      "------------- Random set: 14 -----------------\n",
      "Hidden: 2022, epochs: 15, learning rate: 0.0006912097192202678\n"
     ]
    },
    {
     "name": "stderr",
     "output_type": "stream",
     "text": [
      "100%|██████████| 15/15 [00:03<00:00,  4.14it/s]\n"
     ]
    },
    {
     "name": "stdout",
     "output_type": "stream",
     "text": [
      "Accuracy on validation dataset: 48.89%\n",
      "MAE: 6.601250511450445, MSE:92.82521662694157,\n",
      "RMSE: 9.634584403436484, IA: 0.8658381088598803, MAPE: 39.70912593777418%\n",
      "\n",
      "------------- Random set: 15 -----------------\n",
      "Hidden: 3892, epochs: 15, learning rate: 0.0004033120678020237\n"
     ]
    },
    {
     "name": "stderr",
     "output_type": "stream",
     "text": [
      "100%|██████████| 15/15 [00:03<00:00,  4.50it/s]\n"
     ]
    },
    {
     "name": "stdout",
     "output_type": "stream",
     "text": [
      "Accuracy on validation dataset: 47.94%\n",
      "MAE: 6.715159727325456, MSE:92.68715829307018,\n",
      "RMSE: 9.627417010448347, IA: 0.8657606516276952, MAPE: 43.04626750169099%\n",
      "\n",
      "------------- Random set: 16 -----------------\n",
      "Hidden: 986, epochs: 15, learning rate: 0.0023244872514735777\n"
     ]
    },
    {
     "name": "stderr",
     "output_type": "stream",
     "text": [
      "100%|██████████| 15/15 [00:03<00:00,  3.79it/s]\n"
     ]
    },
    {
     "name": "stdout",
     "output_type": "stream",
     "text": [
      "Accuracy on validation dataset: 45.75%\n",
      "MAE: 7.002950827230571, MSE:92.80486870067445,\n",
      "RMSE: 9.63352836195931, IA: 0.8713024658158612, MAPE: 48.49510041854522%\n",
      "\n",
      "------------- Random set: 17 -----------------\n",
      "Hidden: 896, epochs: 15, learning rate: 0.0032710867246137226\n"
     ]
    },
    {
     "name": "stderr",
     "output_type": "stream",
     "text": [
      "100%|██████████| 15/15 [00:03<00:00,  4.01it/s]\n"
     ]
    },
    {
     "name": "stdout",
     "output_type": "stream",
     "text": [
      "Accuracy on validation dataset: 49.16%\n",
      "MAE: 6.534024790536962, MSE:92.9093213013691,\n",
      "RMSE: 9.638948142892414, IA: 0.8616517989449487, MAPE: 37.82654102228117%\n",
      "\n",
      "------------- Random set: 18 -----------------\n",
      "Hidden: 3262, epochs: 15, learning rate: 0.0031688745580848287\n"
     ]
    },
    {
     "name": "stderr",
     "output_type": "stream",
     "text": [
      "100%|██████████| 15/15 [00:03<00:00,  3.99it/s]\n"
     ]
    },
    {
     "name": "stdout",
     "output_type": "stream",
     "text": [
      "Accuracy on validation dataset: 49.35%\n",
      "MAE: 6.54469524791833, MSE:86.55467635509248,\n",
      "RMSE: 9.303476573576809, IA: 0.8831976561350249, MAPE: 41.73604758952035%\n",
      "\n",
      "------------- Random set: 19 -----------------\n",
      "Hidden: 912, epochs: 15, learning rate: 0.001971107683789822\n"
     ]
    },
    {
     "name": "stderr",
     "output_type": "stream",
     "text": [
      "100%|██████████| 15/15 [00:03<00:00,  4.23it/s]"
     ]
    },
    {
     "name": "stdout",
     "output_type": "stream",
     "text": [
      "Accuracy on validation dataset: 44.41%\n",
      "MAE: 7.1965783906614345, MSE:96.02365849775848,\n",
      "RMSE: 9.79916621441633, IA: 0.8665581957304356, MAPE: 50.93252344308263%\n"
     ]
    },
    {
     "name": "stderr",
     "output_type": "stream",
     "text": [
      "\n"
     ]
    }
   ],
   "source": [
    "for i in range(20):\n",
    "    h = np.random.randint(500, 5000)\n",
    "    lr = np.random.uniform(0.0001, 0.005)\n",
    "    print(f'\\n------------- Random set: {i} -----------------\\nHidden: {h}, epochs: 15, learning rate: {lr}')\n",
    "    model = TwoLayerPerceptron(num_inputs=8, num_hidden=h, num_outputs=1)\n",
    "    training_loop(model, train_loader, test_loader, device, num_epochs=15, lr=lr)\n",
    "    get_error_measures(model, test_loader, device=device, print_e=True)"
   ],
   "metadata": {
    "collapsed": false,
    "pycharm": {
     "name": "#%%\n"
    }
   }
  },
  {
   "cell_type": "markdown",
   "source": [
    "### SNN with LIF neurons"
   ],
   "metadata": {
    "collapsed": false
   }
  },
  {
   "cell_type": "code",
   "execution_count": 21,
   "outputs": [
    {
     "name": "stdout",
     "output_type": "stream",
     "text": [
      "\n",
      "------------- Random set: 0 -----------------\n",
      "Hidden: 2181, epochs: 15, steps: 24, learning rate: 0.004125343728647299\n"
     ]
    },
    {
     "name": "stderr",
     "output_type": "stream",
     "text": [
      "100%|██████████| 15/15 [00:42<00:00,  2.82s/it]\n"
     ]
    },
    {
     "name": "stdout",
     "output_type": "stream",
     "text": [
      "Accuracy on validation dataset: 42.41%\n",
      "MAE: 7.329812948770912, MSE:98.72817877501929,\n",
      "RMSE: 9.936205451530242, IA: 0.8464057553260614, MAPE: 52.24379169605172%\n",
      "\n",
      "------------- Random set: 1 -----------------\n",
      "Hidden: 4799, epochs: 15, steps: 34, learning rate: 0.004864820900721335\n"
     ]
    },
    {
     "name": "stderr",
     "output_type": "stream",
     "text": [
      "100%|██████████| 15/15 [01:02<00:00,  4.18s/it]\n"
     ]
    },
    {
     "name": "stdout",
     "output_type": "stream",
     "text": [
      "Accuracy on validation dataset: 42.92%\n",
      "MAE: 7.039798208636464, MSE:103.48928507423014,\n",
      "RMSE: 10.172968351185908, IA: 0.8534140661696156, MAPE: 37.85721105292687%\n",
      "\n",
      "------------- Random set: 2 -----------------\n",
      "Hidden: 2786, epochs: 15, steps: 43, learning rate: 0.0021203096299948045\n"
     ]
    },
    {
     "name": "stderr",
     "output_type": "stream",
     "text": [
      "100%|██████████| 15/15 [01:13<00:00,  4.92s/it]\n"
     ]
    },
    {
     "name": "stdout",
     "output_type": "stream",
     "text": [
      "Accuracy on validation dataset: 40.69%\n",
      "MAE: 8.02099831039638, MSE:130.5054970060586,\n",
      "RMSE: 11.423900253681254, IA: 0.7740164711913371, MAPE: 51.81290907223941%\n",
      "\n",
      "------------- Random set: 3 -----------------\n",
      "Hidden: 2470, epochs: 15, steps: 25, learning rate: 0.0025228026949737606\n"
     ]
    },
    {
     "name": "stderr",
     "output_type": "stream",
     "text": [
      "100%|██████████| 15/15 [00:44<00:00,  2.98s/it]\n"
     ]
    },
    {
     "name": "stdout",
     "output_type": "stream",
     "text": [
      "Accuracy on validation dataset: 48.63%\n",
      "MAE: 6.688480433469662, MSE:92.60987365342098,\n",
      "RMSE: 9.623402394861236, IA: 0.8709927569106805, MAPE: 41.41597585511594%\n",
      "\n",
      "------------- Random set: 4 -----------------\n",
      "Hidden: 4506, epochs: 15, steps: 48, learning rate: 0.00302569477248453\n"
     ]
    },
    {
     "name": "stderr",
     "output_type": "stream",
     "text": [
      "100%|██████████| 15/15 [01:26<00:00,  5.79s/it]\n"
     ]
    },
    {
     "name": "stdout",
     "output_type": "stream",
     "text": [
      "Accuracy on validation dataset: 45.71%\n",
      "MAE: 6.915651525905925, MSE:88.7338642174029,\n",
      "RMSE: 9.419865403359163, IA: 0.8731049756352462, MAPE: 48.5547079079996%\n",
      "\n",
      "------------- Random set: 5 -----------------\n",
      "Hidden: 3996, epochs: 15, steps: 27, learning rate: 0.0024090162789760423\n"
     ]
    },
    {
     "name": "stderr",
     "output_type": "stream",
     "text": [
      "100%|██████████| 15/15 [00:47<00:00,  3.19s/it]\n"
     ]
    },
    {
     "name": "stdout",
     "output_type": "stream",
     "text": [
      "Accuracy on validation dataset: 49.87%\n",
      "MAE: 6.277322409733247, MSE:82.88393410362767,\n",
      "RMSE: 9.10406140706595, IA: 0.8827152122228269, MAPE: 37.85083401092852%\n",
      "\n",
      "------------- Random set: 6 -----------------\n",
      "Hidden: 1670, epochs: 15, steps: 43, learning rate: 0.00254261994175038\n"
     ]
    },
    {
     "name": "stderr",
     "output_type": "stream",
     "text": [
      "100%|██████████| 15/15 [01:13<00:00,  4.88s/it]\n"
     ]
    },
    {
     "name": "stdout",
     "output_type": "stream",
     "text": [
      "Accuracy on validation dataset: 36.61%\n",
      "MAE: 8.44192516277597, MSE:149.4446866512535,\n",
      "RMSE: 12.224757120337953, IA: 0.7083554044721458, MAPE: 51.137469805248074%\n",
      "\n",
      "------------- Random set: 7 -----------------\n",
      "Hidden: 2732, epochs: 15, steps: 26, learning rate: 0.0036243270085562903\n"
     ]
    },
    {
     "name": "stderr",
     "output_type": "stream",
     "text": [
      "100%|██████████| 15/15 [00:46<00:00,  3.10s/it]\n"
     ]
    },
    {
     "name": "stdout",
     "output_type": "stream",
     "text": [
      "Accuracy on validation dataset: 46.83%\n",
      "MAE: 6.743127360019227, MSE:86.83794287952797,\n",
      "RMSE: 9.318687830350793, IA: 0.877050032776181, MAPE: 46.03550521529657%\n",
      "\n",
      "------------- Random set: 8 -----------------\n",
      "Hidden: 920, epochs: 15, steps: 41, learning rate: 0.0011552865780588633\n"
     ]
    },
    {
     "name": "stderr",
     "output_type": "stream",
     "text": [
      "100%|██████████| 15/15 [01:08<00:00,  4.58s/it]\n"
     ]
    },
    {
     "name": "stdout",
     "output_type": "stream",
     "text": [
      "Accuracy on validation dataset: 47.79%\n",
      "MAE: 6.759228654497058, MSE:96.74530934514863,\n",
      "RMSE: 9.835919344176661, IA: 0.8530299978352649, MAPE: 41.134184722675556%\n",
      "\n",
      "------------- Random set: 9 -----------------\n",
      "Hidden: 3536, epochs: 15, steps: 23, learning rate: 0.004627561752727213\n"
     ]
    },
    {
     "name": "stderr",
     "output_type": "stream",
     "text": [
      "100%|██████████| 15/15 [00:41<00:00,  2.74s/it]\n"
     ]
    },
    {
     "name": "stdout",
     "output_type": "stream",
     "text": [
      "Accuracy on validation dataset: 46.489999999999995%\n",
      "MAE: 6.881817996727413, MSE:93.84534938687162,\n",
      "RMSE: 9.687380935364915, IA: 0.8666041025286395, MAPE: 45.262581886749835%\n"
     ]
    }
   ],
   "source": [
    "for i in range(10):\n",
    "    h = np.random.randint(500, 5000)\n",
    "    s = np.random.randint(20, 50)\n",
    "    lr = np.random.uniform(0.0001, 0.005)\n",
    "    print(f'\\n------------- Random set: {i} -----------------\\nHidden: {h}, epochs: 15, steps: {s}, learning rate: {lr}')\n",
    "    model = LeakySNN(num_inputs=8, num_hidden=h, num_outputs=1, num_steps=s)\n",
    "    training_loop(model, train_loader, test_loader, device, num_epochs=15, lr=lr)\n",
    "    get_error_measures(model, test_loader, device=device, print_e=True)"
   ],
   "metadata": {
    "collapsed": false,
    "pycharm": {
     "name": "#%%\n"
    }
   }
  },
  {
   "cell_type": "markdown",
   "source": [
    "### SNN with Synaptic neurons"
   ],
   "metadata": {
    "collapsed": false
   }
  },
  {
   "cell_type": "code",
   "execution_count": 22,
   "outputs": [
    {
     "name": "stdout",
     "output_type": "stream",
     "text": [
      "\n",
      "------------- Random set: 0 -----------------\n",
      "Hidden: 3151, epochs: 15, steps: 134, learning rate: 0.0033056100018765285\n"
     ]
    },
    {
     "name": "stderr",
     "output_type": "stream",
     "text": [
      "100%|██████████| 5/5 [01:20<00:00, 16.09s/it]\n"
     ]
    },
    {
     "name": "stdout",
     "output_type": "stream",
     "text": [
      "Accuracy on validation dataset: 46.760000000000005%\n",
      "MAE: 6.8229592215268235, MSE:90.98818632891837,\n",
      "RMSE: 9.538772789458735, IA: 0.8718305528325277, MAPE: 45.39969273116044%\n",
      "\n",
      "------------- Random set: 1 -----------------\n",
      "Hidden: 3597, epochs: 15, steps: 111, learning rate: 0.0038548089554838435\n"
     ]
    },
    {
     "name": "stderr",
     "output_type": "stream",
     "text": [
      "100%|██████████| 5/5 [01:05<00:00, 13.18s/it]\n"
     ]
    },
    {
     "name": "stdout",
     "output_type": "stream",
     "text": [
      "Accuracy on validation dataset: 46.949999999999996%\n",
      "MAE: 6.708867164207336, MSE:89.96252449785247,\n",
      "RMSE: 9.484857642466357, IA: 0.8712718107778334, MAPE: 43.733142107972064%\n",
      "\n",
      "------------- Random set: 2 -----------------\n",
      "Hidden: 2425, epochs: 15, steps: 27, learning rate: 0.003589747747398896\n"
     ]
    },
    {
     "name": "stderr",
     "output_type": "stream",
     "text": [
      "100%|██████████| 5/5 [00:18<00:00,  3.61s/it]\n"
     ]
    },
    {
     "name": "stdout",
     "output_type": "stream",
     "text": [
      "Accuracy on validation dataset: 44.81%\n",
      "MAE: 7.1835056496247764, MSE:117.04973553938412,\n",
      "RMSE: 10.818952608241895, IA: 0.7893857575089452, MAPE: 39.72111833689467%\n",
      "\n",
      "------------- Random set: 3 -----------------\n",
      "Hidden: 4453, epochs: 15, steps: 77, learning rate: 0.0031377190345362295\n"
     ]
    },
    {
     "name": "stderr",
     "output_type": "stream",
     "text": [
      "100%|██████████| 5/5 [00:48<00:00,  9.71s/it]\n"
     ]
    },
    {
     "name": "stdout",
     "output_type": "stream",
     "text": [
      "Accuracy on validation dataset: 46.22%\n",
      "MAE: 6.824155088882078, MSE:98.7021448207158,\n",
      "RMSE: 9.934895310002808, IA: 0.852354891052175, MAPE: 39.91918644700035%\n",
      "\n",
      "------------- Random set: 4 -----------------\n",
      "Hidden: 4237, epochs: 15, steps: 128, learning rate: 0.0025963175033920753\n"
     ]
    },
    {
     "name": "stderr",
     "output_type": "stream",
     "text": [
      "100%|██████████| 5/5 [01:21<00:00, 16.33s/it]\n"
     ]
    },
    {
     "name": "stdout",
     "output_type": "stream",
     "text": [
      "Accuracy on validation dataset: 49.08%\n",
      "MAE: 6.478762066679975, MSE:89.99390049393816,\n",
      "RMSE: 9.48651150286227, IA: 0.871478543083146, MAPE: 37.35217415838782%\n",
      "\n",
      "------------- Random set: 5 -----------------\n",
      "Hidden: 4991, epochs: 15, steps: 83, learning rate: 0.0014714592976418802\n"
     ]
    },
    {
     "name": "stderr",
     "output_type": "stream",
     "text": [
      "100%|██████████| 5/5 [00:52<00:00, 10.54s/it]\n"
     ]
    },
    {
     "name": "stdout",
     "output_type": "stream",
     "text": [
      "Accuracy on validation dataset: 48.949999999999996%\n",
      "MAE: 6.429535494125306, MSE:89.20973658650813,\n",
      "RMSE: 9.445090607638877, IA: 0.8715430931767252, MAPE: 37.39456490371686%\n",
      "\n",
      "------------- Random set: 6 -----------------\n",
      "Hidden: 2977, epochs: 15, steps: 38, learning rate: 0.00334897706667828\n"
     ]
    },
    {
     "name": "stderr",
     "output_type": "stream",
     "text": [
      "100%|██████████| 5/5 [00:24<00:00,  4.83s/it]\n"
     ]
    },
    {
     "name": "stdout",
     "output_type": "stream",
     "text": [
      "Accuracy on validation dataset: 45.21%\n",
      "MAE: 7.129266481080843, MSE:107.90630904049493,\n",
      "RMSE: 10.38779615897881, IA: 0.8035382003754412, MAPE: 44.99942794824799%\n",
      "\n",
      "------------- Random set: 7 -----------------\n",
      "Hidden: 4070, epochs: 15, steps: 96, learning rate: 0.0015706163465525865\n"
     ]
    },
    {
     "name": "stderr",
     "output_type": "stream",
     "text": [
      "100%|██████████| 5/5 [01:03<00:00, 12.66s/it]\n"
     ]
    },
    {
     "name": "stdout",
     "output_type": "stream",
     "text": [
      "Accuracy on validation dataset: 48.38%\n",
      "MAE: 6.645676741383566, MSE:91.52773128988628,\n",
      "RMSE: 9.567012662784881, IA: 0.8637203110788855, MAPE: 41.52778736165313%\n",
      "\n",
      "------------- Random set: 8 -----------------\n",
      "Hidden: 2484, epochs: 15, steps: 94, learning rate: 0.00026582920970478336\n"
     ]
    },
    {
     "name": "stderr",
     "output_type": "stream",
     "text": [
      "100%|██████████| 5/5 [00:56<00:00, 11.39s/it]\n"
     ]
    },
    {
     "name": "stdout",
     "output_type": "stream",
     "text": [
      "Accuracy on validation dataset: 41.870000000000005%\n",
      "MAE: 7.822427491923248, MSE:136.3704030722954,\n",
      "RMSE: 11.67777389198367, IA: 0.7011222097344856, MAPE: 50.39339532446077%\n",
      "\n",
      "------------- Random set: 9 -----------------\n",
      "Hidden: 1569, epochs: 15, steps: 57, learning rate: 0.0017949834245739615\n"
     ]
    },
    {
     "name": "stderr",
     "output_type": "stream",
     "text": [
      "100%|██████████| 5/5 [00:35<00:00,  7.01s/it]\n"
     ]
    },
    {
     "name": "stdout",
     "output_type": "stream",
     "text": [
      "Accuracy on validation dataset: 48.089999999999996%\n",
      "MAE: 6.721574184372426, MSE:93.53083952577958,\n",
      "RMSE: 9.671134345348511, IA: 0.8517473020230351, MAPE: 42.749491608926085%\n"
     ]
    }
   ],
   "source": [
    "for i in range(10):\n",
    "    h = np.random.randint(1000, 5000)\n",
    "    s = np.random.randint(20, 150)\n",
    "    lr = np.random.uniform(0.0001, 0.005)\n",
    "    print(f'\\n------------- Random set: {i} -----------------\\nHidden: {h}, epochs: {15}, steps: {s}, learning rate: {lr}')\n",
    "    model = SynapticSNN(num_inputs=8, num_hidden=h, num_outputs=1, num_steps=s)\n",
    "    training_loop(model, train_loader, test_loader, device, num_epochs=5, lr=lr)\n",
    "    get_error_measures(model, test_loader, device=device, print_e=True)"
   ],
   "metadata": {
    "collapsed": false,
    "pycharm": {
     "name": "#%%\n"
    }
   }
  },
  {
   "cell_type": "markdown",
   "source": [
    "### SNN with additional layer"
   ],
   "metadata": {
    "collapsed": false
   }
  },
  {
   "cell_type": "code",
   "execution_count": 23,
   "outputs": [
    {
     "name": "stdout",
     "output_type": "stream",
     "text": [
      "\n",
      "------------- Random set: 0 -----------------\n",
      "Hidden: 367, epochs: 15, steps: 15, learning rate: 0.0008049008310741\n"
     ]
    },
    {
     "name": "stderr",
     "output_type": "stream",
     "text": [
      "100%|██████████| 15/15 [00:54<00:00,  3.65s/it]\n"
     ]
    },
    {
     "name": "stdout",
     "output_type": "stream",
     "text": [
      "Accuracy on validation dataset: 45.33%\n",
      "MAE: 7.205498112555861, MSE:110.71883438728901,\n",
      "RMSE: 10.522301762793585, IA: 0.8171321016161828, MAPE: 46.62639984856274%\n",
      "\n",
      "------------- Random set: 1 -----------------\n",
      "Hidden: 1454, epochs: 15, steps: 49, learning rate: 0.0007928127005305123\n"
     ]
    },
    {
     "name": "stderr",
     "output_type": "stream",
     "text": [
      "100%|██████████| 15/15 [02:40<00:00, 10.71s/it]\n"
     ]
    },
    {
     "name": "stdout",
     "output_type": "stream",
     "text": [
      "Accuracy on validation dataset: 49.370000000000005%\n",
      "MAE: 6.585493887758596, MSE:89.20906860410591,\n",
      "RMSE: 9.445055246217775, IA: 0.8697822562389116, MAPE: 42.103047315722975%\n",
      "\n",
      "------------- Random set: 2 -----------------\n",
      "Hidden: 763, epochs: 15, steps: 45, learning rate: 0.001689808020373878\n"
     ]
    },
    {
     "name": "stderr",
     "output_type": "stream",
     "text": [
      "100%|██████████| 15/15 [02:27<00:00,  9.85s/it]\n"
     ]
    },
    {
     "name": "stdout",
     "output_type": "stream",
     "text": [
      "Accuracy on validation dataset: 47.44%\n",
      "MAE: 6.658778903914279, MSE:89.9880652661879,\n",
      "RMSE: 9.486203943948702, IA: 0.8635617335364397, MAPE: 43.06481558424367%\n",
      "\n",
      "------------- Random set: 3 -----------------\n",
      "Hidden: 1471, epochs: 15, steps: 33, learning rate: 0.004225240158958523\n"
     ]
    },
    {
     "name": "stderr",
     "output_type": "stream",
     "text": [
      "100%|██████████| 15/15 [01:52<00:00,  7.48s/it]\n"
     ]
    },
    {
     "name": "stdout",
     "output_type": "stream",
     "text": [
      "Accuracy on validation dataset: 48.11%\n",
      "MAE: 6.592406463878603, MSE:94.05395158883825,\n",
      "RMSE: 9.698141656463791, IA: 0.8609664438536646, MAPE: 37.20942076691451%\n",
      "\n",
      "------------- Random set: 4 -----------------\n",
      "Hidden: 738, epochs: 15, steps: 18, learning rate: 0.0018536635663037972\n"
     ]
    },
    {
     "name": "stderr",
     "output_type": "stream",
     "text": [
      "100%|██████████| 15/15 [01:03<00:00,  4.25s/it]\n"
     ]
    },
    {
     "name": "stdout",
     "output_type": "stream",
     "text": [
      "Accuracy on validation dataset: 49.730000000000004%\n",
      "MAE: 6.586006710488238, MSE:90.9468255249218,\n",
      "RMSE: 9.536604507104288, IA: 0.8632213294475212, MAPE: 40.81062619685574%\n"
     ]
    }
   ],
   "source": [
    "for i in range(5):\n",
    "    h = np.random.randint(300, 2500)\n",
    "    s = np.random.randint(10, 50)\n",
    "    lr = np.random.uniform(0.0001, 0.005)\n",
    "    print(f'\\n------------- Random set: {i} -----------------\\nHidden: {h}, epochs: 15, steps: {s}, learning rate: {lr}')\n",
    "    model = DoubleLeakySNN(num_inputs=8, num_hidden=h, num_outputs=1, num_steps=s)\n",
    "    training_loop(model, train_loader, test_loader, device, num_epochs=15, lr=lr)\n",
    "    get_error_measures(model, test_loader, device=device, print_e=True)"
   ],
   "metadata": {
    "collapsed": false,
    "pycharm": {
     "name": "#%%\n"
    }
   }
  },
  {
   "cell_type": "code",
   "execution_count": 23,
   "outputs": [],
   "source": [],
   "metadata": {
    "collapsed": false,
    "pycharm": {
     "name": "#%%\n"
    }
   }
  }
 ],
 "metadata": {
  "kernelspec": {
   "display_name": "Python 3",
   "language": "python",
   "name": "python3"
  },
  "language_info": {
   "codemirror_mode": {
    "name": "ipython",
    "version": 2
   },
   "file_extension": ".py",
   "mimetype": "text/x-python",
   "name": "python",
   "nbconvert_exporter": "python",
   "pygments_lexer": "ipython2",
   "version": "2.7.6"
  }
 },
 "nbformat": 4,
 "nbformat_minor": 0
}