{
 "cells": [
  {
   "cell_type": "code",
   "execution_count": 1,
   "outputs": [],
   "source": [
    "import numpy as np\n",
    "import torch\n",
    "import torch.utils.data as data\n",
    "import pandas as pd\n",
    "from src.error_measures import get_error_measures\n",
    "from src.models import TwoLayerLeaky\n",
    "from src.train_model import training_loop"
   ],
   "metadata": {
    "collapsed": false,
    "pycharm": {
     "name": "#%%\n"
    }
   }
  },
  {
   "cell_type": "code",
   "execution_count": 2,
   "outputs": [
    {
     "data": {
      "text/plain": "device(type='cuda')"
     },
     "execution_count": 2,
     "metadata": {},
     "output_type": "execute_result"
    }
   ],
   "source": [
    "device = torch.device(\"cuda\") if torch.cuda.is_available() else torch.device(\"cpu\")\n",
    "device"
   ],
   "metadata": {
    "collapsed": false,
    "pycharm": {
     "name": "#%%\n"
    }
   }
  },
  {
   "cell_type": "code",
   "execution_count": 3,
   "outputs": [
    {
     "data": {
      "text/plain": "<torch._C.Generator at 0x23b3c4d7230>"
     },
     "execution_count": 3,
     "metadata": {},
     "output_type": "execute_result"
    }
   ],
   "source": [
    "np.random.seed(333)\n",
    "torch.manual_seed(333)"
   ],
   "metadata": {
    "collapsed": false,
    "pycharm": {
     "name": "#%%\n"
    }
   }
  },
  {
   "cell_type": "code",
   "execution_count": 4,
   "outputs": [],
   "source": [
    "data06 = pd.read_csv(\"../data/processed/target06.csv\")\n",
    "data06.drop(columns=[\"weekday\"], inplace=True)"
   ],
   "metadata": {
    "collapsed": false,
    "pycharm": {
     "name": "#%%\n"
    }
   }
  },
  {
   "cell_type": "code",
   "execution_count": 5,
   "outputs": [],
   "source": [
    "all_data = data.TensorDataset(torch.from_numpy((data06.values[:,:-1] - data06.values[:,:-1].min(0)) / data06.values[:,:-1].ptp(0)).float(), torch.from_numpy(data06.values[:,-1]).float())  # normalization\n",
    "train_dataset, test_dataset = torch.utils.data.random_split(all_data, (round(0.4 * len(all_data)), round(0.6 * len(all_data))))"
   ],
   "metadata": {
    "collapsed": false,
    "pycharm": {
     "name": "#%%\n"
    }
   }
  },
  {
   "cell_type": "code",
   "execution_count": 6,
   "outputs": [],
   "source": [
    "#train_loader = data.DataLoader(train_dataset, batch_size=64, shuffle=True, drop_last=True)\n",
    "test_loader = data.DataLoader(test_dataset, batch_size=256, shuffle=False, drop_last=False)"
   ],
   "metadata": {
    "collapsed": false,
    "pycharm": {
     "name": "#%%\n"
    }
   }
  },
  {
   "cell_type": "code",
   "execution_count": 7,
   "outputs": [
    {
     "name": "stdout",
     "output_type": "stream",
     "text": [
      "\n",
      "------------- Random set: 0 -----------------\n",
      "Hidden: 1973, epochs: 23, steps: 23, batch size: 32\n"
     ]
    },
    {
     "name": "stderr",
     "output_type": "stream",
     "text": [
      "100%|██████████| 23/23 [00:50<00:00,  2.22s/it]\n"
     ]
    },
    {
     "name": "stdout",
     "output_type": "stream",
     "text": [
      "Accuracy on validation dataset: 38.45116547871316%\n",
      "MAE: 6.929131181087137, MSE:98.79313193820037,\n",
      "RMSE: 9.939473423587406, Index of Agreement: 0.8500468653125463\n",
      "\n",
      "------------- Random set: 1 -----------------\n",
      "Hidden: 2398, epochs: 34, steps: 23, batch size: 64\n"
     ]
    },
    {
     "name": "stderr",
     "output_type": "stream",
     "text": [
      "100%|██████████| 34/34 [00:35<00:00,  1.06s/it]\n"
     ]
    },
    {
     "name": "stdout",
     "output_type": "stream",
     "text": [
      "Accuracy on validation dataset: 38.932768252745134%\n",
      "MAE: 6.866106725891898, MSE:98.50688131193391,\n",
      "RMSE: 9.925063290071954, Index of Agreement: 0.8507236827152364\n",
      "\n",
      "------------- Random set: 2 -----------------\n",
      "Hidden: 1071, epochs: 43, steps: 26, batch size: 32\n"
     ]
    },
    {
     "name": "stderr",
     "output_type": "stream",
     "text": [
      "100%|██████████| 43/43 [01:42<00:00,  2.39s/it]\n"
     ]
    },
    {
     "name": "stdout",
     "output_type": "stream",
     "text": [
      "Accuracy on validation dataset: 38.45116547871316%\n",
      "MAE: 6.904280479508681, MSE:101.25382162002806,\n",
      "RMSE: 10.062495794783125, Index of Agreement: 0.8432570857401828\n",
      "\n",
      "------------- Random set: 3 -----------------\n",
      "Hidden: 1116, epochs: 32, steps: 24, batch size: 64\n"
     ]
    },
    {
     "name": "stderr",
     "output_type": "stream",
     "text": [
      "100%|██████████| 32/32 [00:34<00:00,  1.08s/it]\n"
     ]
    },
    {
     "name": "stdout",
     "output_type": "stream",
     "text": [
      "Accuracy on validation dataset: 37.14120593334618%\n",
      "MAE: 7.177809658479516, MSE:107.18825281208647,\n",
      "RMSE: 10.353175977065515, Index of Agreement: 0.8313244801154727\n",
      "\n",
      "------------- Random set: 4 -----------------\n",
      "Hidden: 1151, epochs: 33, steps: 25, batch size: 64\n"
     ]
    },
    {
     "name": "stderr",
     "output_type": "stream",
     "text": [
      "100%|██████████| 33/33 [00:37<00:00,  1.15s/it]\n"
     ]
    },
    {
     "name": "stdout",
     "output_type": "stream",
     "text": [
      "Accuracy on validation dataset: 37.603544596416874%\n",
      "MAE: 6.984923908462921, MSE:102.36238043588122,\n",
      "RMSE: 10.11742953698622, Index of Agreement: 0.8423753684443211\n",
      "\n",
      "------------- Random set: 5 -----------------\n",
      "Hidden: 1584, epochs: 28, steps: 27, batch size: 32\n"
     ]
    },
    {
     "name": "stderr",
     "output_type": "stream",
     "text": [
      "100%|██████████| 28/28 [01:13<00:00,  2.63s/it]\n"
     ]
    },
    {
     "name": "stdout",
     "output_type": "stream",
     "text": [
      "Accuracy on validation dataset: 38.48969370063571%\n",
      "MAE: 6.900265835172476, MSE:97.68478570428842,\n",
      "RMSE: 9.883561387692618, Index of Agreement: 0.8508499852196194\n",
      "\n",
      "------------- Random set: 6 -----------------\n",
      "Hidden: 1595, epochs: 23, steps: 23, batch size: 64\n"
     ]
    },
    {
     "name": "stderr",
     "output_type": "stream",
     "text": [
      "100%|██████████| 23/23 [00:25<00:00,  1.09s/it]\n"
     ]
    },
    {
     "name": "stdout",
     "output_type": "stream",
     "text": [
      "Accuracy on validation dataset: 36.1009439414371%\n",
      "MAE: 7.073130424806687, MSE:104.04626597146874,\n",
      "RMSE: 10.200307150839564, Index of Agreement: 0.8410390856954644\n",
      "\n",
      "------------- Random set: 7 -----------------\n",
      "Hidden: 1441, epochs: 39, steps: 23, batch size: 64\n"
     ]
    },
    {
     "name": "stderr",
     "output_type": "stream",
     "text": [
      "100%|██████████| 39/39 [00:42<00:00,  1.10s/it]\n"
     ]
    },
    {
     "name": "stdout",
     "output_type": "stream",
     "text": [
      "Accuracy on validation dataset: 39.067617029474086%\n",
      "MAE: 6.937934870665713, MSE:99.23975165614411,\n",
      "RMSE: 9.96191505967322, Index of Agreement: 0.8493174236197023\n",
      "\n",
      "------------- Random set: 8 -----------------\n",
      "Hidden: 1279, epochs: 37, steps: 20, batch size: 64\n"
     ]
    },
    {
     "name": "stderr",
     "output_type": "stream",
     "text": [
      "100%|██████████| 37/37 [00:35<00:00,  1.04it/s]\n"
     ]
    },
    {
     "name": "stdout",
     "output_type": "stream",
     "text": [
      "Accuracy on validation dataset: 36.33211327297246%\n",
      "MAE: 6.993848967296129, MSE:103.68205285430862,\n",
      "RMSE: 10.182438453254143, Index of Agreement: 0.8400348051965585\n",
      "\n",
      "------------- Random set: 9 -----------------\n",
      "Hidden: 1834, epochs: 27, steps: 20, batch size: 64\n"
     ]
    },
    {
     "name": "stderr",
     "output_type": "stream",
     "text": [
      "100%|██████████| 27/27 [00:25<00:00,  1.04it/s]\n"
     ]
    },
    {
     "name": "stdout",
     "output_type": "stream",
     "text": [
      "Accuracy on validation dataset: 39.02908880755153%\n",
      "MAE: 6.978874967980536, MSE:101.25223338320724,\n",
      "RMSE: 10.062416875840876, Index of Agreement: 0.8468243162079679\n",
      "\n",
      "------------- Random set: 10 -----------------\n",
      "Hidden: 1269, epochs: 30, steps: 20, batch size: 32\n"
     ]
    },
    {
     "name": "stderr",
     "output_type": "stream",
     "text": [
      "100%|██████████| 30/30 [00:55<00:00,  1.86s/it]\n"
     ]
    },
    {
     "name": "stdout",
     "output_type": "stream",
     "text": [
      "Accuracy on validation dataset: 35.96609516470815%\n",
      "MAE: 7.046362911247146, MSE:104.21872219904488,\n",
      "RMSE: 10.208757132924893, Index of Agreement: 0.840001686740031\n",
      "\n",
      "------------- Random set: 11 -----------------\n",
      "Hidden: 1645, epochs: 39, steps: 23, batch size: 64\n"
     ]
    },
    {
     "name": "stderr",
     "output_type": "stream",
     "text": [
      "100%|██████████| 39/39 [00:42<00:00,  1.10s/it]\n"
     ]
    },
    {
     "name": "stdout",
     "output_type": "stream",
     "text": [
      "Accuracy on validation dataset: 37.29531882103641%\n",
      "MAE: 6.947408963939951, MSE:99.54358062709152,\n",
      "RMSE: 9.977152931928602, Index of Agreement: 0.8493134931586613\n",
      "\n",
      "------------- Random set: 12 -----------------\n",
      "Hidden: 2077, epochs: 47, steps: 20, batch size: 64\n"
     ]
    },
    {
     "name": "stderr",
     "output_type": "stream",
     "text": [
      "100%|██████████| 47/47 [00:46<00:00,  1.02it/s]\n"
     ]
    },
    {
     "name": "stdout",
     "output_type": "stream",
     "text": [
      "Accuracy on validation dataset: 38.027355037565016%\n",
      "MAE: 6.90287998452441, MSE:100.60447382141672,\n",
      "RMSE: 10.030178155018818, Index of Agreement: 0.8460974256547953\n",
      "\n",
      "------------- Random set: 13 -----------------\n",
      "Hidden: 2090, epochs: 48, steps: 28, batch size: 32\n"
     ]
    },
    {
     "name": "stderr",
     "output_type": "stream",
     "text": [
      "100%|██████████| 48/48 [02:04<00:00,  2.60s/it]\n"
     ]
    },
    {
     "name": "stdout",
     "output_type": "stream",
     "text": [
      "Accuracy on validation dataset: 38.85571180890002%\n",
      "MAE: 6.851918699148417, MSE:98.63818581658893,\n",
      "RMSE: 9.931675881571495, Index of Agreement: 0.847948854439009\n",
      "\n",
      "------------- Random set: 14 -----------------\n",
      "Hidden: 1596, epochs: 45, steps: 26, batch size: 32\n"
     ]
    },
    {
     "name": "stderr",
     "output_type": "stream",
     "text": [
      "100%|██████████| 45/45 [01:48<00:00,  2.41s/it]\n"
     ]
    },
    {
     "name": "stdout",
     "output_type": "stream",
     "text": [
      "Accuracy on validation dataset: 39.318050471970714%\n",
      "MAE: 6.857518774217045, MSE:98.22411546602375,\n",
      "RMSE: 9.910808012771902, Index of Agreement: 0.8517614033912232\n",
      "\n",
      "------------- Random set: 15 -----------------\n",
      "Hidden: 2078, epochs: 40, steps: 21, batch size: 64\n"
     ]
    },
    {
     "name": "stderr",
     "output_type": "stream",
     "text": [
      "100%|██████████| 40/40 [00:39<00:00,  1.00it/s]\n"
     ]
    },
    {
     "name": "stdout",
     "output_type": "stream",
     "text": [
      "Accuracy on validation dataset: 38.412637256790596%\n",
      "MAE: 6.852371410146841, MSE:98.13500175818977,\n",
      "RMSE: 9.90631120842616, Index of Agreement: 0.8508897081404853\n",
      "\n",
      "------------- Random set: 16 -----------------\n",
      "Hidden: 1460, epochs: 21, steps: 20, batch size: 32\n"
     ]
    },
    {
     "name": "stderr",
     "output_type": "stream",
     "text": [
      "100%|██████████| 21/21 [00:37<00:00,  1.79s/it]\n"
     ]
    },
    {
     "name": "stdout",
     "output_type": "stream",
     "text": [
      "Accuracy on validation dataset: 37.43016759776536%\n",
      "MAE: 7.313827784207027, MSE:105.92909411172928,\n",
      "RMSE: 10.292186070594006, Index of Agreement: 0.8395182098603532\n",
      "\n",
      "------------- Random set: 17 -----------------\n",
      "Hidden: 2133, epochs: 29, steps: 23, batch size: 64\n"
     ]
    },
    {
     "name": "stderr",
     "output_type": "stream",
     "text": [
      "100%|██████████| 29/29 [00:30<00:00,  1.06s/it]\n"
     ]
    },
    {
     "name": "stdout",
     "output_type": "stream",
     "text": [
      "Accuracy on validation dataset: 38.62454247736467%\n",
      "MAE: 6.881088433663433, MSE:98.16843765548464,\n",
      "RMSE: 9.90799867054314, Index of Agreement: 0.850624270898964\n",
      "\n",
      "------------- Random set: 18 -----------------\n",
      "Hidden: 1691, epochs: 48, steps: 22, batch size: 32\n"
     ]
    },
    {
     "name": "stderr",
     "output_type": "stream",
     "text": [
      "100%|██████████| 48/48 [01:38<00:00,  2.04s/it]\n"
     ]
    },
    {
     "name": "stdout",
     "output_type": "stream",
     "text": [
      "Accuracy on validation dataset: 38.23926025813908%\n",
      "MAE: 6.874879591360737, MSE:97.45593289563654,\n",
      "RMSE: 9.871977152305233, Index of Agreement: 0.8501710719701114\n",
      "\n",
      "------------- Random set: 19 -----------------\n",
      "Hidden: 2324, epochs: 32, steps: 22, batch size: 64\n"
     ]
    },
    {
     "name": "stderr",
     "output_type": "stream",
     "text": [
      "100%|██████████| 32/32 [00:32<00:00,  1.02s/it]\n"
     ]
    },
    {
     "name": "stdout",
     "output_type": "stream",
     "text": [
      "Accuracy on validation dataset: 38.528221922558274%\n",
      "MAE: 6.871178959426887, MSE:98.76849967709256,\n",
      "RMSE: 9.938234233358186, Index of Agreement: 0.8499566215772401\n",
      "\n",
      "------------- Random set: 20 -----------------\n",
      "Hidden: 1272, epochs: 26, steps: 25, batch size: 32\n"
     ]
    },
    {
     "name": "stderr",
     "output_type": "stream",
     "text": [
      "100%|██████████| 26/26 [00:58<00:00,  2.24s/it]\n"
     ]
    },
    {
     "name": "stdout",
     "output_type": "stream",
     "text": [
      "Accuracy on validation dataset: 38.412637256790596%\n",
      "MAE: 7.016079769408259, MSE:100.4245742873016,\n",
      "RMSE: 10.021206229157325, Index of Agreement: 0.8473470316242413\n",
      "\n",
      "------------- Random set: 21 -----------------\n",
      "Hidden: 1367, epochs: 36, steps: 27, batch size: 32\n"
     ]
    },
    {
     "name": "stderr",
     "output_type": "stream",
     "text": [
      "100%|██████████| 36/36 [01:28<00:00,  2.47s/it]\n"
     ]
    },
    {
     "name": "stdout",
     "output_type": "stream",
     "text": [
      "Accuracy on validation dataset: 38.586014255442116%\n",
      "MAE: 6.794721629343564, MSE:98.20495831912395,\n",
      "RMSE: 9.90984148809273, Index of Agreement: 0.8497950972433074\n",
      "\n",
      "------------- Random set: 22 -----------------\n",
      "Hidden: 1432, epochs: 21, steps: 28, batch size: 32\n"
     ]
    },
    {
     "name": "stderr",
     "output_type": "stream",
     "text": [
      " 10%|▉         | 2/21 [00:05<00:48,  2.54s/it]\n"
     ]
    },
    {
     "ename": "KeyboardInterrupt",
     "evalue": "",
     "output_type": "error",
     "traceback": [
      "\u001B[1;31m---------------------------------------------------------------------------\u001B[0m",
      "\u001B[1;31mKeyboardInterrupt\u001B[0m                         Traceback (most recent call last)",
      "Cell \u001B[1;32mIn [7], line 9\u001B[0m\n\u001B[0;32m      7\u001B[0m train_loader \u001B[38;5;241m=\u001B[39m data\u001B[38;5;241m.\u001B[39mDataLoader(train_dataset, batch_size\u001B[38;5;241m=\u001B[39m\u001B[38;5;28mint\u001B[39m(b), shuffle\u001B[38;5;241m=\u001B[39m\u001B[38;5;28;01mTrue\u001B[39;00m, drop_last\u001B[38;5;241m=\u001B[39m\u001B[38;5;28;01mTrue\u001B[39;00m)\n\u001B[0;32m      8\u001B[0m model \u001B[38;5;241m=\u001B[39m TwoLayerLeaky(num_inputs\u001B[38;5;241m=\u001B[39m\u001B[38;5;241m7\u001B[39m, num_hidden\u001B[38;5;241m=\u001B[39mh, num_outputs\u001B[38;5;241m=\u001B[39m\u001B[38;5;241m1\u001B[39m, beta\u001B[38;5;241m=\u001B[39m\u001B[38;5;241m0.95\u001B[39m, num_steps\u001B[38;5;241m=\u001B[39ms)\n\u001B[1;32m----> 9\u001B[0m \u001B[43mtraining_loop\u001B[49m\u001B[43m(\u001B[49m\u001B[43mmodel\u001B[49m\u001B[43m,\u001B[49m\u001B[43m \u001B[49m\u001B[43mtrain_loader\u001B[49m\u001B[43m,\u001B[49m\u001B[43m \u001B[49m\u001B[43mtest_loader\u001B[49m\u001B[43m,\u001B[49m\u001B[43m \u001B[49m\u001B[43mdevice\u001B[49m\u001B[43m,\u001B[49m\u001B[43m \u001B[49m\u001B[43mnum_epochs\u001B[49m\u001B[38;5;241;43m=\u001B[39;49m\u001B[43me\u001B[49m\u001B[43m,\u001B[49m\u001B[43m \u001B[49m\u001B[43mvalidation\u001B[49m\u001B[38;5;241;43m=\u001B[39;49m\u001B[38;5;28;43;01mFalse\u001B[39;49;00m\u001B[43m)\u001B[49m\n\u001B[0;32m     10\u001B[0m get_error_measures(model, test_loader, device\u001B[38;5;241m=\u001B[39mdevice, print_e\u001B[38;5;241m=\u001B[39m\u001B[38;5;28;01mTrue\u001B[39;00m)\n",
      "File \u001B[1;32m~\\Documents\\Moje dokumenty\\Studia\\Praca Inżynierska\\snn-pollution\\src\\train_model.py:22\u001B[0m, in \u001B[0;36mtraining_loop\u001B[1;34m(model, train_loader, valid_loader, device, num_epochs, validation)\u001B[0m\n\u001B[0;32m     19\u001B[0m \u001B[38;5;28;01mfor\u001B[39;00m data, targets \u001B[38;5;129;01min\u001B[39;00m train_loader:\n\u001B[0;32m     20\u001B[0m     data, targets \u001B[38;5;241m=\u001B[39m data\u001B[38;5;241m.\u001B[39mto(device), targets\u001B[38;5;241m.\u001B[39mto(device)  \u001B[38;5;66;03m# move data to GPU\u001B[39;00m\n\u001B[1;32m---> 22\u001B[0m     preds \u001B[38;5;241m=\u001B[39m \u001B[43mmodel\u001B[49m\u001B[43m(\u001B[49m\u001B[43mdata\u001B[49m\u001B[43m)\u001B[49m\u001B[38;5;241m.\u001B[39msqueeze(dim\u001B[38;5;241m=\u001B[39m\u001B[38;5;241m1\u001B[39m)\n\u001B[0;32m     23\u001B[0m     loss \u001B[38;5;241m=\u001B[39m loss_fun(preds, targets)\n\u001B[0;32m     25\u001B[0m     optimizer\u001B[38;5;241m.\u001B[39mzero_grad()\n",
      "File \u001B[1;32m~\\Documents\\Moje dokumenty\\Studia\\Praca Inżynierska\\snn-pollution\\venv\\lib\\site-packages\\torch\\nn\\modules\\module.py:1130\u001B[0m, in \u001B[0;36mModule._call_impl\u001B[1;34m(self, *input, **kwargs)\u001B[0m\n\u001B[0;32m   1126\u001B[0m \u001B[38;5;66;03m# If we don't have any hooks, we want to skip the rest of the logic in\u001B[39;00m\n\u001B[0;32m   1127\u001B[0m \u001B[38;5;66;03m# this function, and just call forward.\u001B[39;00m\n\u001B[0;32m   1128\u001B[0m \u001B[38;5;28;01mif\u001B[39;00m \u001B[38;5;129;01mnot\u001B[39;00m (\u001B[38;5;28mself\u001B[39m\u001B[38;5;241m.\u001B[39m_backward_hooks \u001B[38;5;129;01mor\u001B[39;00m \u001B[38;5;28mself\u001B[39m\u001B[38;5;241m.\u001B[39m_forward_hooks \u001B[38;5;129;01mor\u001B[39;00m \u001B[38;5;28mself\u001B[39m\u001B[38;5;241m.\u001B[39m_forward_pre_hooks \u001B[38;5;129;01mor\u001B[39;00m _global_backward_hooks\n\u001B[0;32m   1129\u001B[0m         \u001B[38;5;129;01mor\u001B[39;00m _global_forward_hooks \u001B[38;5;129;01mor\u001B[39;00m _global_forward_pre_hooks):\n\u001B[1;32m-> 1130\u001B[0m     \u001B[38;5;28;01mreturn\u001B[39;00m forward_call(\u001B[38;5;241m*\u001B[39m\u001B[38;5;28minput\u001B[39m, \u001B[38;5;241m*\u001B[39m\u001B[38;5;241m*\u001B[39mkwargs)\n\u001B[0;32m   1131\u001B[0m \u001B[38;5;66;03m# Do not call functions when jit is used\u001B[39;00m\n\u001B[0;32m   1132\u001B[0m full_backward_hooks, non_full_backward_hooks \u001B[38;5;241m=\u001B[39m [], []\n",
      "File \u001B[1;32m~\\Documents\\Moje dokumenty\\Studia\\Praca Inżynierska\\snn-pollution\\src\\models.py:36\u001B[0m, in \u001B[0;36mTwoLayerLeaky.forward\u001B[1;34m(self, x)\u001B[0m\n\u001B[0;32m     34\u001B[0m \u001B[38;5;28;01mfor\u001B[39;00m step \u001B[38;5;129;01min\u001B[39;00m \u001B[38;5;28mrange\u001B[39m(\u001B[38;5;28mself\u001B[39m\u001B[38;5;241m.\u001B[39mnum_steps):\n\u001B[0;32m     35\u001B[0m     cur1 \u001B[38;5;241m=\u001B[39m \u001B[38;5;28mself\u001B[39m\u001B[38;5;241m.\u001B[39mfc1(x)\n\u001B[1;32m---> 36\u001B[0m     spk, mem \u001B[38;5;241m=\u001B[39m \u001B[38;5;28;43mself\u001B[39;49m\u001B[38;5;241;43m.\u001B[39;49m\u001B[43mlif\u001B[49m\u001B[43m(\u001B[49m\u001B[43mcur1\u001B[49m\u001B[43m,\u001B[49m\u001B[43m \u001B[49m\u001B[43mmem\u001B[49m\u001B[43m)\u001B[49m\n\u001B[0;32m     37\u001B[0m     cur2 \u001B[38;5;241m=\u001B[39m \u001B[38;5;28mself\u001B[39m\u001B[38;5;241m.\u001B[39mfc2(spk)\n\u001B[0;32m     38\u001B[0m \u001B[38;5;28;01mreturn\u001B[39;00m cur2\n",
      "File \u001B[1;32m~\\Documents\\Moje dokumenty\\Studia\\Praca Inżynierska\\snn-pollution\\venv\\lib\\site-packages\\torch\\nn\\modules\\module.py:1130\u001B[0m, in \u001B[0;36mModule._call_impl\u001B[1;34m(self, *input, **kwargs)\u001B[0m\n\u001B[0;32m   1126\u001B[0m \u001B[38;5;66;03m# If we don't have any hooks, we want to skip the rest of the logic in\u001B[39;00m\n\u001B[0;32m   1127\u001B[0m \u001B[38;5;66;03m# this function, and just call forward.\u001B[39;00m\n\u001B[0;32m   1128\u001B[0m \u001B[38;5;28;01mif\u001B[39;00m \u001B[38;5;129;01mnot\u001B[39;00m (\u001B[38;5;28mself\u001B[39m\u001B[38;5;241m.\u001B[39m_backward_hooks \u001B[38;5;129;01mor\u001B[39;00m \u001B[38;5;28mself\u001B[39m\u001B[38;5;241m.\u001B[39m_forward_hooks \u001B[38;5;129;01mor\u001B[39;00m \u001B[38;5;28mself\u001B[39m\u001B[38;5;241m.\u001B[39m_forward_pre_hooks \u001B[38;5;129;01mor\u001B[39;00m _global_backward_hooks\n\u001B[0;32m   1129\u001B[0m         \u001B[38;5;129;01mor\u001B[39;00m _global_forward_hooks \u001B[38;5;129;01mor\u001B[39;00m _global_forward_pre_hooks):\n\u001B[1;32m-> 1130\u001B[0m     \u001B[38;5;28;01mreturn\u001B[39;00m forward_call(\u001B[38;5;241m*\u001B[39m\u001B[38;5;28minput\u001B[39m, \u001B[38;5;241m*\u001B[39m\u001B[38;5;241m*\u001B[39mkwargs)\n\u001B[0;32m   1131\u001B[0m \u001B[38;5;66;03m# Do not call functions when jit is used\u001B[39;00m\n\u001B[0;32m   1132\u001B[0m full_backward_hooks, non_full_backward_hooks \u001B[38;5;241m=\u001B[39m [], []\n",
      "File \u001B[1;32m~\\Documents\\Moje dokumenty\\Studia\\Praca Inżynierska\\snn-pollution\\venv\\lib\\site-packages\\snntorch\\_neurons\\leaky.py:146\u001B[0m, in \u001B[0;36mLeaky.forward\u001B[1;34m(self, input_, mem)\u001B[0m\n\u001B[0;32m    144\u001B[0m \u001B[38;5;28;01mif\u001B[39;00m \u001B[38;5;129;01mnot\u001B[39;00m \u001B[38;5;28mself\u001B[39m\u001B[38;5;241m.\u001B[39minit_hidden:\n\u001B[0;32m    145\u001B[0m     \u001B[38;5;28mself\u001B[39m\u001B[38;5;241m.\u001B[39mreset \u001B[38;5;241m=\u001B[39m \u001B[38;5;28mself\u001B[39m\u001B[38;5;241m.\u001B[39mmem_reset(mem)\n\u001B[1;32m--> 146\u001B[0m     mem \u001B[38;5;241m=\u001B[39m \u001B[38;5;28;43mself\u001B[39;49m\u001B[38;5;241;43m.\u001B[39;49m\u001B[43mstate_fn\u001B[49m\u001B[43m(\u001B[49m\u001B[43minput_\u001B[49m\u001B[43m,\u001B[49m\u001B[43m \u001B[49m\u001B[43mmem\u001B[49m\u001B[43m)\u001B[49m\n\u001B[0;32m    148\u001B[0m     \u001B[38;5;28;01mif\u001B[39;00m \u001B[38;5;28mself\u001B[39m\u001B[38;5;241m.\u001B[39mstate_quant:\n\u001B[0;32m    149\u001B[0m         mem \u001B[38;5;241m=\u001B[39m \u001B[38;5;28mself\u001B[39m\u001B[38;5;241m.\u001B[39mstate_quant(mem)\n",
      "File \u001B[1;32m~\\Documents\\Moje dokumenty\\Studia\\Praca Inżynierska\\snn-pollution\\venv\\lib\\site-packages\\snntorch\\_neurons\\leaky.py:182\u001B[0m, in \u001B[0;36mLeaky._build_state_function\u001B[1;34m(self, input_, mem)\u001B[0m\n\u001B[0;32m    181\u001B[0m \u001B[38;5;28;01mdef\u001B[39;00m \u001B[38;5;21m_build_state_function\u001B[39m(\u001B[38;5;28mself\u001B[39m, input_, mem):\n\u001B[1;32m--> 182\u001B[0m     \u001B[38;5;28;01mif\u001B[39;00m \u001B[38;5;28;43mself\u001B[39;49m\u001B[38;5;241;43m.\u001B[39;49m\u001B[43mreset_mechanism_val\u001B[49m\u001B[43m \u001B[49m\u001B[38;5;241;43m==\u001B[39;49m\u001B[43m \u001B[49m\u001B[38;5;241;43m0\u001B[39;49m:  \u001B[38;5;66;03m# reset by subtraction\u001B[39;00m\n\u001B[0;32m    183\u001B[0m         state_fn \u001B[38;5;241m=\u001B[39m (\n\u001B[0;32m    184\u001B[0m             \u001B[38;5;28mself\u001B[39m\u001B[38;5;241m.\u001B[39m_base_state_function(input_, mem \u001B[38;5;241m-\u001B[39m \u001B[38;5;28mself\u001B[39m\u001B[38;5;241m.\u001B[39mreset \u001B[38;5;241m*\u001B[39m \u001B[38;5;28mself\u001B[39m\u001B[38;5;241m.\u001B[39mthreshold)\n\u001B[0;32m    185\u001B[0m         )\n\u001B[0;32m    186\u001B[0m     \u001B[38;5;28;01melif\u001B[39;00m \u001B[38;5;28mself\u001B[39m\u001B[38;5;241m.\u001B[39mreset_mechanism_val \u001B[38;5;241m==\u001B[39m \u001B[38;5;241m1\u001B[39m:  \u001B[38;5;66;03m# reset to zero\u001B[39;00m\n",
      "\u001B[1;31mKeyboardInterrupt\u001B[0m: "
     ]
    }
   ],
   "source": [
    "for i in range(30):\n",
    "    h = np.random.randint(1000, 2500)\n",
    "    e = np.random.randint(20, 50)\n",
    "    s = np.random.randint(20, 30)\n",
    "    b = np.random.choice([32, 64])\n",
    "    print(f'\\n------------- Random set: {i} -----------------\\nHidden: {h}, epochs: {e}, steps: {s}, batch size: {b}')\n",
    "    train_loader = data.DataLoader(train_dataset, batch_size=int(b), shuffle=True, drop_last=True)\n",
    "    model = TwoLayerLeaky(num_inputs=7, num_hidden=h, num_outputs=1, beta=0.95, num_steps=s)\n",
    "    training_loop(model, train_loader, test_loader, device, num_epochs=e, validation=False)\n",
    "    get_error_measures(model, test_loader, device=device, print_e=True)"
   ],
   "metadata": {
    "collapsed": false,
    "pycharm": {
     "name": "#%%\n"
    }
   }
  }
 ],
 "metadata": {
  "kernelspec": {
   "display_name": "Python 3",
   "language": "python",
   "name": "python3"
  },
  "language_info": {
   "codemirror_mode": {
    "name": "ipython",
    "version": 2
   },
   "file_extension": ".py",
   "mimetype": "text/x-python",
   "name": "python",
   "nbconvert_exporter": "python",
   "pygments_lexer": "ipython2",
   "version": "2.7.6"
  }
 },
 "nbformat": 4,
 "nbformat_minor": 0
}