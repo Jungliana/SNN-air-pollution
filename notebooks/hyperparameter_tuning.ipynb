{
 "cells": [
  {
   "cell_type": "code",
   "execution_count": 1,
   "outputs": [],
   "source": [
    "import numpy as np\n",
    "import torch\n",
    "import torch.utils.data as data\n",
    "import pandas as pd\n",
    "from src.error_measures import get_error_measures\n",
    "from src.models import SimpleANN, LeakySNN, SynapticSNN, DoubleLeakySNN\n",
    "from src.train_model import training_loop"
   ],
   "metadata": {
    "collapsed": false,
    "pycharm": {
     "name": "#%%\n"
    }
   }
  },
  {
   "cell_type": "code",
   "execution_count": 2,
   "outputs": [
    {
     "data": {
      "text/plain": "device(type='cuda')"
     },
     "execution_count": 2,
     "metadata": {},
     "output_type": "execute_result"
    }
   ],
   "source": [
    "device = torch.device(\"cuda\") if torch.cuda.is_available() else torch.device(\"cpu\")\n",
    "device"
   ],
   "metadata": {
    "collapsed": false,
    "pycharm": {
     "name": "#%%\n"
    }
   }
  },
  {
   "cell_type": "code",
   "execution_count": 3,
   "outputs": [
    {
     "data": {
      "text/plain": "<torch._C.Generator at 0x134246d3270>"
     },
     "execution_count": 3,
     "metadata": {},
     "output_type": "execute_result"
    }
   ],
   "source": [
    "np.random.seed(373)\n",
    "torch.manual_seed(373)"
   ],
   "metadata": {
    "collapsed": false,
    "pycharm": {
     "name": "#%%\n"
    }
   }
  },
  {
   "cell_type": "code",
   "execution_count": 4,
   "outputs": [],
   "source": [
    "data06 = pd.read_csv(\"../data/processed/target06.csv\")\n",
    "data06.drop(columns=[\"weekday\"], inplace=True)"
   ],
   "metadata": {
    "collapsed": false,
    "pycharm": {
     "name": "#%%\n"
    }
   }
  },
  {
   "cell_type": "code",
   "execution_count": 5,
   "outputs": [],
   "source": [
    "all_data = data.TensorDataset(torch.from_numpy((data06.values[:,:-1] - data06.values[:,:-1].min(0)) / data06.values[:,:-1].ptp(0)).float(),\n",
    "                              torch.from_numpy(data06.values[:,-1]).float())  # normalization\n",
    "train_dataset, test_dataset = torch.utils.data.random_split(all_data, (round(0.45 * len(all_data)), round(0.55 * len(all_data))))\n",
    "train_loader = data.DataLoader(train_dataset, batch_size=32, shuffle=True, drop_last=True)\n",
    "test_loader = data.DataLoader(test_dataset, batch_size=256, shuffle=False, drop_last=False)"
   ],
   "metadata": {
    "collapsed": false,
    "pycharm": {
     "name": "#%%\n"
    }
   }
  },
  {
   "cell_type": "markdown",
   "source": [
    "### Two layer perceptron"
   ],
   "metadata": {
    "collapsed": false
   }
  },
  {
   "cell_type": "code",
   "execution_count": 6,
   "outputs": [
    {
     "name": "stdout",
     "output_type": "stream",
     "text": [
      "\n",
      "------------- Random set: 0 -----------------\n",
      "Hidden: 3261, epochs: 25, learning rate: 0.029204444852406235\n"
     ]
    },
    {
     "name": "stderr",
     "output_type": "stream",
     "text": [
      "100%|██████████| 25/25 [00:07<00:00,  3.23it/s]\n"
     ]
    },
    {
     "name": "stdout",
     "output_type": "stream",
     "text": [
      "Accuracy on validation dataset: 46.45%\n",
      "MAE: 6.857578805786765, MSE:90.31316158244242,\n",
      "RMSE: 9.503323712388335, IA: 0.8836526974368362, MAPE: 46.17675171341874%\n",
      "\n",
      "------------- Random set: 1 -----------------\n",
      "Hidden: 3325, epochs: 25, learning rate: 0.042285555880229156\n"
     ]
    },
    {
     "name": "stderr",
     "output_type": "stream",
     "text": [
      "100%|██████████| 25/25 [00:05<00:00,  4.43it/s]\n"
     ]
    },
    {
     "name": "stdout",
     "output_type": "stream",
     "text": [
      "Accuracy on validation dataset: 48.93%\n",
      "MAE: 6.490453949040753, MSE:89.36631800250872,\n",
      "RMSE: 9.453376010849707, IA: 0.8647578526368259, MAPE: 39.25795705052882%\n",
      "\n",
      "------------- Random set: 2 -----------------\n",
      "Hidden: 4481, epochs: 25, learning rate: 0.03575570461126757\n"
     ]
    },
    {
     "name": "stderr",
     "output_type": "stream",
     "text": [
      "100%|██████████| 25/25 [00:05<00:00,  4.34it/s]\n"
     ]
    },
    {
     "name": "stdout",
     "output_type": "stream",
     "text": [
      "Accuracy on validation dataset: 45.379999999999995%\n",
      "MAE: 6.764167704605765, MSE:93.63971277426295,\n",
      "RMSE: 9.676761481728427, IA: 0.8788716729720597, MAPE: 37.158423532816%\n",
      "\n",
      "------------- Random set: 3 -----------------\n",
      "Hidden: 1160, epochs: 25, learning rate: 0.0380214167487793\n"
     ]
    },
    {
     "name": "stderr",
     "output_type": "stream",
     "text": [
      "100%|██████████| 25/25 [00:06<00:00,  3.64it/s]\n"
     ]
    },
    {
     "name": "stdout",
     "output_type": "stream",
     "text": [
      "Accuracy on validation dataset: 50.21%\n",
      "MAE: 6.451294650195676, MSE:88.2603791902146,\n",
      "RMSE: 9.394699526340084, IA: 0.8831733791571847, MAPE: 37.53014396940494%\n",
      "\n",
      "------------- Random set: 4 -----------------\n",
      "Hidden: 2258, epochs: 25, learning rate: 0.022256558934858086\n"
     ]
    },
    {
     "name": "stderr",
     "output_type": "stream",
     "text": [
      "100%|██████████| 25/25 [00:06<00:00,  4.11it/s]\n"
     ]
    },
    {
     "name": "stdout",
     "output_type": "stream",
     "text": [
      "Accuracy on validation dataset: 49.26%\n",
      "MAE: 6.461616210698981, MSE:89.09475560624584,\n",
      "RMSE: 9.439001833151949, IA: 0.8673593971190523, MAPE: 38.07294425999398%\n",
      "\n",
      "------------- Random set: 5 -----------------\n",
      "Hidden: 4758, epochs: 25, learning rate: 0.010194745486556033\n"
     ]
    },
    {
     "name": "stderr",
     "output_type": "stream",
     "text": [
      "100%|██████████| 25/25 [00:05<00:00,  4.19it/s]\n"
     ]
    },
    {
     "name": "stdout",
     "output_type": "stream",
     "text": [
      "Accuracy on validation dataset: 50.78%\n",
      "MAE: 6.3541845418465845, MSE:84.64068735001644,\n",
      "RMSE: 9.200037355903314, IA: 0.8905112319681326, MAPE: 37.952331114646974%\n",
      "\n",
      "------------- Random set: 6 -----------------\n",
      "Hidden: 2837, epochs: 25, learning rate: 0.0489078897232166\n"
     ]
    },
    {
     "name": "stderr",
     "output_type": "stream",
     "text": [
      "100%|██████████| 25/25 [00:06<00:00,  4.12it/s]\n"
     ]
    },
    {
     "name": "stdout",
     "output_type": "stream",
     "text": [
      "Accuracy on validation dataset: 48.699999999999996%\n",
      "MAE: 6.560710362648453, MSE:87.50108336373496,\n",
      "RMSE: 9.35420137498306, IA: 0.8764127019567213, MAPE: 41.468013774573045%\n",
      "\n",
      "------------- Random set: 7 -----------------\n",
      "Hidden: 2414, epochs: 25, learning rate: 0.03246138252814839\n"
     ]
    },
    {
     "name": "stderr",
     "output_type": "stream",
     "text": [
      "100%|██████████| 25/25 [00:06<00:00,  4.03it/s]\n"
     ]
    },
    {
     "name": "stdout",
     "output_type": "stream",
     "text": [
      "Accuracy on validation dataset: 48.99%\n",
      "MAE: 6.599321135807157, MSE:88.17042866836543,\n",
      "RMSE: 9.389911004283556, IA: 0.8859792466182126, MAPE: 42.48354431089878%\n",
      "\n",
      "------------- Random set: 8 -----------------\n",
      "Hidden: 705, epochs: 25, learning rate: 0.035423232586106836\n"
     ]
    },
    {
     "name": "stderr",
     "output_type": "stream",
     "text": [
      "100%|██████████| 25/25 [00:06<00:00,  4.05it/s]\n"
     ]
    },
    {
     "name": "stdout",
     "output_type": "stream",
     "text": [
      "Accuracy on validation dataset: 44.35%\n",
      "MAE: 6.8390520963913355, MSE:97.77838727917398,\n",
      "RMSE: 9.888295468844667, IA: 0.8709834525392175, MAPE: 35.601554708629756%\n",
      "\n",
      "------------- Random set: 9 -----------------\n",
      "Hidden: 1245, epochs: 25, learning rate: 0.035992301602121676\n"
     ]
    },
    {
     "name": "stderr",
     "output_type": "stream",
     "text": [
      "100%|██████████| 25/25 [00:06<00:00,  4.06it/s]"
     ]
    },
    {
     "name": "stdout",
     "output_type": "stream",
     "text": [
      "Accuracy on validation dataset: 49.5%\n",
      "MAE: 6.502929793430407, MSE:89.8544091878289,\n",
      "RMSE: 9.479156565213431, IA: 0.8758165391583693, MAPE: 37.44562842254725%\n"
     ]
    },
    {
     "name": "stderr",
     "output_type": "stream",
     "text": [
      "\n"
     ]
    }
   ],
   "source": [
    "for i in range(10):\n",
    "    h = np.random.randint(500, 5000)\n",
    "    lr = np.random.uniform(0.0001, 0.05)\n",
    "    print(f'\\n------------- Random set: {i} -----------------\\nHidden: {h}, epochs: 25, learning rate: {lr}')\n",
    "    model = SimpleANN(num_inputs=8, num_hidden=h, num_outputs=1)\n",
    "    training_loop(model, train_loader, test_loader, device, num_epochs=25, lr=lr)\n",
    "    get_error_measures(model, test_loader, device=device, print_e=True)"
   ],
   "metadata": {
    "collapsed": false,
    "pycharm": {
     "name": "#%%\n"
    }
   }
  },
  {
   "cell_type": "markdown",
   "source": [
    "### SNN with LIF neurons"
   ],
   "metadata": {
    "collapsed": false
   }
  },
  {
   "cell_type": "code",
   "execution_count": 7,
   "outputs": [
    {
     "name": "stdout",
     "output_type": "stream",
     "text": [
      "\n",
      "------------- Random set: 0 -----------------\n",
      "Hidden: 2022, epochs: 15, steps: 17, learning rate: 0.0003407251725559686\n"
     ]
    },
    {
     "name": "stderr",
     "output_type": "stream",
     "text": [
      "100%|██████████| 25/25 [00:53<00:00,  2.16s/it]\n"
     ]
    },
    {
     "name": "stdout",
     "output_type": "stream",
     "text": [
      "Accuracy on validation dataset: 48.76%\n",
      "MAE: 6.5703341645721425, MSE:92.24043576583526,\n",
      "RMSE: 9.604188449100489, IA: 0.8680097854104956, MAPE: 39.09866865382273%\n",
      "\n",
      "------------- Random set: 1 -----------------\n",
      "Hidden: 1494, epochs: 15, steps: 30, learning rate: 0.003560334296624881\n"
     ]
    },
    {
     "name": "stderr",
     "output_type": "stream",
     "text": [
      "100%|██████████| 25/25 [01:31<00:00,  3.67s/it]\n"
     ]
    },
    {
     "name": "stdout",
     "output_type": "stream",
     "text": [
      "Accuracy on validation dataset: 48.82%\n",
      "MAE: 6.45619585404831, MSE:87.04241612941694,\n",
      "RMSE: 9.329652519221545, IA: 0.8721941762021718, MAPE: 39.478002714855634%\n",
      "\n",
      "------------- Random set: 2 -----------------\n",
      "Hidden: 4987, epochs: 15, steps: 20, learning rate: 0.004336489642689075\n"
     ]
    },
    {
     "name": "stderr",
     "output_type": "stream",
     "text": [
      "100%|██████████| 25/25 [01:09<00:00,  2.77s/it]\n"
     ]
    },
    {
     "name": "stdout",
     "output_type": "stream",
     "text": [
      "Accuracy on validation dataset: 50.5%\n",
      "MAE: 6.351731812317565, MSE:82.59982236227746,\n",
      "RMSE: 9.088444441282428, IA: 0.8873832660237454, MAPE: 39.48904253909173%\n",
      "\n",
      "------------- Random set: 3 -----------------\n",
      "Hidden: 2831, epochs: 15, steps: 42, learning rate: 0.0005584140814185861\n"
     ]
    },
    {
     "name": "stderr",
     "output_type": "stream",
     "text": [
      "100%|██████████| 25/25 [02:05<00:00,  5.01s/it]\n"
     ]
    },
    {
     "name": "stdout",
     "output_type": "stream",
     "text": [
      "Accuracy on validation dataset: 48.4%\n",
      "MAE: 6.646246322467078, MSE:89.30637263700878,\n",
      "RMSE: 9.450204899207677, IA: 0.8736598581368531, MAPE: 43.08327329829054%\n",
      "\n",
      "------------- Random set: 4 -----------------\n",
      "Hidden: 3845, epochs: 15, steps: 48, learning rate: 0.0023397186853238348\n"
     ]
    },
    {
     "name": "stderr",
     "output_type": "stream",
     "text": [
      "100%|██████████| 25/25 [02:22<00:00,  5.70s/it]\n"
     ]
    },
    {
     "name": "stdout",
     "output_type": "stream",
     "text": [
      "Accuracy on validation dataset: 50.78%\n",
      "MAE: 6.302858328608817, MSE:82.32020707969463,\n",
      "RMSE: 9.073048389581896, IA: 0.8870308547127803, MAPE: 38.72786621150993%\n",
      "\n",
      "------------- Random set: 5 -----------------\n",
      "Hidden: 1071, epochs: 15, steps: 34, learning rate: 0.00320299681815868\n"
     ]
    },
    {
     "name": "stderr",
     "output_type": "stream",
     "text": [
      "100%|██████████| 25/25 [01:43<00:00,  4.15s/it]\n"
     ]
    },
    {
     "name": "stdout",
     "output_type": "stream",
     "text": [
      "Accuracy on validation dataset: 49.1%\n",
      "MAE: 6.439524987907458, MSE:89.48207135518086,\n",
      "RMSE: 9.45949635843161, IA: 0.878460919912937, MAPE: 34.90453641175038%\n",
      "\n",
      "------------- Random set: 6 -----------------\n",
      "Hidden: 4843, epochs: 15, steps: 17, learning rate: 0.0032710867246137226\n"
     ]
    },
    {
     "name": "stderr",
     "output_type": "stream",
     "text": [
      "100%|██████████| 25/25 [00:58<00:00,  2.35s/it]\n"
     ]
    },
    {
     "name": "stdout",
     "output_type": "stream",
     "text": [
      "Accuracy on validation dataset: 48.8%\n",
      "MAE: 6.401307264838513, MSE:88.3382753174506,\n",
      "RMSE: 9.398844360741942, IA: 0.8757434356990043, MAPE: 34.625792473983594%\n",
      "\n",
      "------------- Random set: 7 -----------------\n",
      "Hidden: 3762, epochs: 15, steps: 25, learning rate: 0.004737545846932438\n"
     ]
    },
    {
     "name": "stderr",
     "output_type": "stream",
     "text": [
      "100%|██████████| 25/25 [01:18<00:00,  3.14s/it]\n"
     ]
    },
    {
     "name": "stdout",
     "output_type": "stream",
     "text": [
      "Accuracy on validation dataset: 45.48%\n",
      "MAE: 6.8757944472350205, MSE:87.10281597085657,\n",
      "RMSE: 9.332888940240132, IA: 0.8775207111491208, MAPE: 47.92022834662068%\n",
      "\n",
      "------------- Random set: 8 -----------------\n",
      "Hidden: 3203, epochs: 15, steps: 22, learning rate: 0.0009318445654611562\n"
     ]
    },
    {
     "name": "stderr",
     "output_type": "stream",
     "text": [
      "100%|██████████| 25/25 [01:08<00:00,  2.74s/it]\n"
     ]
    },
    {
     "name": "stdout",
     "output_type": "stream",
     "text": [
      "Accuracy on validation dataset: 50.19%\n",
      "MAE: 6.398154672878838, MSE:86.38963856996543,\n",
      "RMSE: 9.294602657992725, IA: 0.8822516322974007, MAPE: 38.006961702647175%\n",
      "\n",
      "------------- Random set: 9 -----------------\n",
      "Hidden: 3187, epochs: 15, steps: 27, learning rate: 0.0016821732566232408\n"
     ]
    },
    {
     "name": "stderr",
     "output_type": "stream",
     "text": [
      "100%|██████████| 25/25 [01:26<00:00,  3.45s/it]\n"
     ]
    },
    {
     "name": "stdout",
     "output_type": "stream",
     "text": [
      "Accuracy on validation dataset: 50.080000000000005%\n",
      "MAE: 6.319640576213085, MSE:86.20958782191887,\n",
      "RMSE: 9.284911837056875, IA: 0.8805566451340991, MAPE: 35.23098265476222%\n"
     ]
    }
   ],
   "source": [
    "for i in range(10):\n",
    "    h = np.random.randint(1000, 5000)\n",
    "    s = np.random.randint(5, 50)\n",
    "    lr = np.random.uniform(0.0001, 0.005)\n",
    "    print(f'\\n------------- Random set: {i} -----------------\\nHidden: {h}, epochs: 15, steps: {s}, learning rate: {lr}')\n",
    "    model = LeakySNN(num_inputs=8, num_hidden=h, num_outputs=1, num_steps=s)\n",
    "    training_loop(model, train_loader, test_loader, device, num_epochs=25, lr=lr)\n",
    "    get_error_measures(model, test_loader, device=device, print_e=True)"
   ],
   "metadata": {
    "collapsed": false,
    "pycharm": {
     "name": "#%%\n"
    }
   }
  },
  {
   "cell_type": "markdown",
   "source": [
    "### SNN with Synaptic neurons"
   ],
   "metadata": {
    "collapsed": false
   }
  },
  {
   "cell_type": "code",
   "execution_count": 8,
   "outputs": [
    {
     "name": "stdout",
     "output_type": "stream",
     "text": [
      "\n",
      "------------- Random set: 0 -----------------\n",
      "Hidden: 3990, epochs: 25, steps: 34, learning rate: 0.004321731145543745\n"
     ]
    },
    {
     "name": "stderr",
     "output_type": "stream",
     "text": [
      "100%|██████████| 25/25 [01:52<00:00,  4.51s/it]\n"
     ]
    },
    {
     "name": "stdout",
     "output_type": "stream",
     "text": [
      "Accuracy on validation dataset: 47.88%\n",
      "MAE: 6.436269430464784, MSE:81.53674208139402,\n",
      "RMSE: 9.029769769013717, IA: 0.8814207570983518, MAPE: 42.664463271030485%\n",
      "\n",
      "------------- Random set: 1 -----------------\n",
      "Hidden: 3286, epochs: 25, steps: 28, learning rate: 0.0021203096299948045\n"
     ]
    },
    {
     "name": "stderr",
     "output_type": "stream",
     "text": [
      "100%|██████████| 25/25 [01:46<00:00,  4.26s/it]\n"
     ]
    },
    {
     "name": "stdout",
     "output_type": "stream",
     "text": [
      "Accuracy on validation dataset: 50.5%\n",
      "MAE: 6.254907523598577, MSE:77.31011459206483,\n",
      "RMSE: 8.792617050233954, IA: 0.894030969437019, MAPE: 41.28562528150957%\n",
      "\n",
      "------------- Random set: 2 -----------------\n",
      "Hidden: 2970, epochs: 25, steps: 42, learning rate: 0.0025228026949737606\n"
     ]
    },
    {
     "name": "stderr",
     "output_type": "stream",
     "text": [
      "100%|██████████| 25/25 [02:18<00:00,  5.53s/it]\n"
     ]
    },
    {
     "name": "stdout",
     "output_type": "stream",
     "text": [
      "Accuracy on validation dataset: 50.71%\n",
      "MAE: 6.186267326739015, MSE:80.30828270254781,\n",
      "RMSE: 8.961488866396467, IA: 0.8870169936440342, MAPE: 37.0591622673968%\n",
      "\n",
      "------------- Random set: 3 -----------------\n",
      "Hidden: 4900, epochs: 25, steps: 16, learning rate: 0.004884350599142314\n"
     ]
    },
    {
     "name": "stderr",
     "output_type": "stream",
     "text": [
      "100%|██████████| 25/25 [01:02<00:00,  2.49s/it]\n"
     ]
    },
    {
     "name": "stdout",
     "output_type": "stream",
     "text": [
      "Accuracy on validation dataset: 49.54%\n",
      "MAE: 6.286609889329507, MSE:83.36138109207306,\n",
      "RMSE: 9.130245401525254, IA: 0.8782816505508383, MAPE: 38.35579749923305%\n",
      "\n",
      "------------- Random set: 4 -----------------\n",
      "Hidden: 4496, epochs: 25, steps: 44, learning rate: 0.0024090162789760423\n"
     ]
    },
    {
     "name": "stderr",
     "output_type": "stream",
     "text": [
      "100%|██████████| 25/25 [02:32<00:00,  6.10s/it]\n"
     ]
    },
    {
     "name": "stdout",
     "output_type": "stream",
     "text": [
      "Accuracy on validation dataset: 51.370000000000005%\n",
      "MAE: 6.105735578623174, MSE:79.14308822405727,\n",
      "RMSE: 8.896240117266242, IA: 0.8905778764478447, MAPE: 35.722734709422824%\n",
      "\n",
      "------------- Random set: 5 -----------------\n",
      "Hidden: 1996, epochs: 25, steps: 23, learning rate: 0.000265539072771519\n"
     ]
    },
    {
     "name": "stderr",
     "output_type": "stream",
     "text": [
      "100%|██████████| 25/25 [01:21<00:00,  3.27s/it]\n"
     ]
    },
    {
     "name": "stdout",
     "output_type": "stream",
     "text": [
      "Accuracy on validation dataset: 50.44%\n",
      "MAE: 6.374749893147989, MSE:85.82263960438526,\n",
      "RMSE: 9.264050928421392, IA: 0.877222933928991, MAPE: 39.19853749554052%\n",
      "\n",
      "------------- Random set: 6 -----------------\n",
      "Hidden: 1700, epochs: 25, steps: 11, learning rate: 0.0036243270085562903\n"
     ]
    },
    {
     "name": "stderr",
     "output_type": "stream",
     "text": [
      "100%|██████████| 25/25 [00:47<00:00,  1.89s/it]\n"
     ]
    },
    {
     "name": "stdout",
     "output_type": "stream",
     "text": [
      "Accuracy on validation dataset: 49.519999999999996%\n",
      "MAE: 6.3180327765728155, MSE:80.64958727996161,\n",
      "RMSE: 8.98051152663152, IA: 0.8867958745950931, MAPE: 40.23007060588629%\n",
      "\n",
      "------------- Random set: 7 -----------------\n",
      "Hidden: 1420, epochs: 25, steps: 26, learning rate: 0.0011552865780588633\n"
     ]
    },
    {
     "name": "stderr",
     "output_type": "stream",
     "text": [
      "100%|██████████| 25/25 [01:28<00:00,  3.54s/it]\n"
     ]
    },
    {
     "name": "stdout",
     "output_type": "stream",
     "text": [
      "Accuracy on validation dataset: 50.0%\n",
      "MAE: 6.273682219133301, MSE:77.7858288699951,\n",
      "RMSE: 8.81962747909429, IA: 0.8982842278414962, MAPE: 41.82061789475755%\n",
      "\n",
      "------------- Random set: 8 -----------------\n",
      "Hidden: 4036, epochs: 25, steps: 8, learning rate: 0.004627561752727213\n"
     ]
    },
    {
     "name": "stderr",
     "output_type": "stream",
     "text": [
      "100%|██████████| 25/25 [00:33<00:00,  1.33s/it]\n"
     ]
    },
    {
     "name": "stdout",
     "output_type": "stream",
     "text": [
      "Accuracy on validation dataset: 51.05%\n",
      "MAE: 6.252818424945221, MSE:81.11350226991209,\n",
      "RMSE: 9.006303474229151, IA: 0.8926382483770388, MAPE: 38.87455395846558%\n",
      "\n",
      "------------- Random set: 9 -----------------\n",
      "Hidden: 3151, epochs: 25, steps: 47, learning rate: 0.0049450017121715805\n"
     ]
    },
    {
     "name": "stderr",
     "output_type": "stream",
     "text": [
      "100%|██████████| 25/25 [02:30<00:00,  6.01s/it]\n"
     ]
    },
    {
     "name": "stdout",
     "output_type": "stream",
     "text": [
      "Accuracy on validation dataset: 49.64%\n",
      "MAE: 6.311725486672792, MSE:83.89082311134416,\n",
      "RMSE: 9.159193365757934, IA: 0.8830409907299861, MAPE: 37.133222207019486%\n"
     ]
    }
   ],
   "source": [
    "for i in range(10):\n",
    "    h = np.random.randint(1000, 5000)\n",
    "    s = np.random.randint(5, 50)\n",
    "    lr = np.random.uniform(0.0001, 0.005)\n",
    "    print(f'\\n------------- Random set: {i} -----------------\\nHidden: {h}, epochs: {25}, steps: {s}, learning rate: {lr}')\n",
    "    model = SynapticSNN(num_inputs=8, num_hidden=h, num_outputs=1, num_steps=s)\n",
    "    training_loop(model, train_loader, test_loader, device, num_epochs=25, lr=lr)\n",
    "    get_error_measures(model, test_loader, device=device, print_e=True)"
   ],
   "metadata": {
    "collapsed": false,
    "pycharm": {
     "name": "#%%\n"
    }
   }
  },
  {
   "cell_type": "markdown",
   "source": [
    "### SNN with additional layer"
   ],
   "metadata": {
    "collapsed": false
   }
  },
  {
   "cell_type": "code",
   "execution_count": 9,
   "outputs": [
    {
     "name": "stdout",
     "output_type": "stream",
     "text": [
      "\n",
      "------------- Random set: 0 -----------------\n",
      "Hidden: 4675, epochs: 25, steps: 34, learning rate: 0.004379094686416036\n"
     ]
    },
    {
     "name": "stderr",
     "output_type": "stream",
     "text": [
      "100%|██████████| 25/25 [03:30<00:00,  8.40s/it]\n"
     ]
    },
    {
     "name": "stdout",
     "output_type": "stream",
     "text": [
      "Accuracy on validation dataset: 47.14%\n",
      "MAE: 6.617967626786924, MSE:84.66331884069949,\n",
      "RMSE: 9.201267241021721, IA: 0.8802051887766367, MAPE: 44.196257041855716%\n",
      "\n",
      "------------- Random set: 1 -----------------\n",
      "Hidden: 3554, epochs: 25, steps: 12, learning rate: 0.003589747747398896\n"
     ]
    },
    {
     "name": "stderr",
     "output_type": "stream",
     "text": [
      "100%|██████████| 25/25 [01:17<00:00,  3.09s/it]\n"
     ]
    },
    {
     "name": "stdout",
     "output_type": "stream",
     "text": [
      "Accuracy on validation dataset: 48.209999999999994%\n",
      "MAE: 6.529579632695155, MSE:88.38105925045531,\n",
      "RMSE: 9.401120106160505, IA: 0.8871405650229348, MAPE: 36.56310142109275%\n",
      "\n",
      "------------- Random set: 2 -----------------\n",
      "Hidden: 4453, epochs: 25, steps: 15, learning rate: 0.0041471944508329785\n"
     ]
    },
    {
     "name": "stderr",
     "output_type": "stream",
     "text": [
      "100%|██████████| 25/25 [01:40<00:00,  4.00s/it]\n"
     ]
    },
    {
     "name": "stdout",
     "output_type": "stream",
     "text": [
      "Accuracy on validation dataset: 48.209999999999994%\n",
      "MAE: 6.540765011746526, MSE:84.58752544629766,\n",
      "RMSE: 9.197147679922164, IA: 0.8832320264916831, MAPE: 42.79645478688669%\n",
      "\n",
      "------------- Random set: 3 -----------------\n",
      "Hidden: 1948, epochs: 25, steps: 22, learning rate: 0.000626213398548346\n"
     ]
    },
    {
     "name": "stderr",
     "output_type": "stream",
     "text": [
      "100%|██████████| 25/25 [02:11<00:00,  5.24s/it]\n"
     ]
    },
    {
     "name": "stdout",
     "output_type": "stream",
     "text": [
      "Accuracy on validation dataset: 48.26%\n",
      "MAE: 6.680241693263797, MSE:89.24091784012374,\n",
      "RMSE: 9.446741122743003, IA: 0.8764734349975523, MAPE: 43.833101773962795%\n",
      "\n",
      "------------- Random set: 4 -----------------\n",
      "Hidden: 4357, epochs: 25, steps: 28, learning rate: 0.0048408839633424525\n"
     ]
    },
    {
     "name": "stderr",
     "output_type": "stream",
     "text": [
      "100%|██████████| 25/25 [02:58<00:00,  7.16s/it]\n"
     ]
    },
    {
     "name": "stdout",
     "output_type": "stream",
     "text": [
      "Accuracy on validation dataset: 43.65%\n",
      "MAE: 6.842782654573248, MSE:95.6660819464583,\n",
      "RMSE: 9.780903943218044, IA: 0.877891360592146, MAPE: 35.82834764783045%\n"
     ]
    }
   ],
   "source": [
    "for i in range(5):\n",
    "    h = np.random.randint(1000, 5000)\n",
    "    s = np.random.randint(5, 50)\n",
    "    lr = np.random.uniform(0.0001, 0.005)\n",
    "    print(f'\\n------------- Random set: {i} -----------------\\nHidden: {h}, epochs: 25, steps: {s}, learning rate: {lr}')\n",
    "    model = DoubleLeakySNN(num_inputs=8, num_hidden=h, num_outputs=1, num_steps=s)\n",
    "    training_loop(model, train_loader, test_loader, device, num_epochs=25, lr=lr)\n",
    "    get_error_measures(model, test_loader, device=device, print_e=True)"
   ],
   "metadata": {
    "collapsed": false,
    "pycharm": {
     "name": "#%%\n"
    }
   }
  },
  {
   "cell_type": "code",
   "execution_count": 9,
   "outputs": [],
   "source": [],
   "metadata": {
    "collapsed": false,
    "pycharm": {
     "name": "#%%\n"
    }
   }
  }
 ],
 "metadata": {
  "kernelspec": {
   "display_name": "Python 3",
   "language": "python",
   "name": "python3"
  },
  "language_info": {
   "codemirror_mode": {
    "name": "ipython",
    "version": 2
   },
   "file_extension": ".py",
   "mimetype": "text/x-python",
   "name": "python",
   "nbconvert_exporter": "python",
   "pygments_lexer": "ipython2",
   "version": "2.7.6"
  }
 },
 "nbformat": 4,
 "nbformat_minor": 0
}