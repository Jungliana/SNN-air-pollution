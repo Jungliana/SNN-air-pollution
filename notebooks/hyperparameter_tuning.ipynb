{
 "cells": [
  {
   "cell_type": "code",
   "execution_count": 1,
   "outputs": [],
   "source": [
    "import numpy as np\n",
    "import torch\n",
    "import torch.utils.data as data\n",
    "import pandas as pd\n",
    "from src.error_measures import get_error_measures\n",
    "from src.models import TwoLayerPerceptron, TwoLayerLeaky, TwoLayerSynaptic, ThreeLayerLeaky\n",
    "from src.train_model import training_loop"
   ],
   "metadata": {
    "collapsed": false,
    "pycharm": {
     "name": "#%%\n"
    }
   }
  },
  {
   "cell_type": "code",
   "execution_count": 2,
   "outputs": [
    {
     "data": {
      "text/plain": "device(type='cuda')"
     },
     "execution_count": 2,
     "metadata": {},
     "output_type": "execute_result"
    }
   ],
   "source": [
    "device = torch.device(\"cuda\") if torch.cuda.is_available() else torch.device(\"cpu\")\n",
    "device"
   ],
   "metadata": {
    "collapsed": false,
    "pycharm": {
     "name": "#%%\n"
    }
   }
  },
  {
   "cell_type": "code",
   "execution_count": 3,
   "outputs": [
    {
     "data": {
      "text/plain": "<torch._C.Generator at 0x276cb228270>"
     },
     "execution_count": 3,
     "metadata": {},
     "output_type": "execute_result"
    }
   ],
   "source": [
    "np.random.seed(373)\n",
    "torch.manual_seed(373)"
   ],
   "metadata": {
    "collapsed": false,
    "pycharm": {
     "name": "#%%\n"
    }
   }
  },
  {
   "cell_type": "code",
   "execution_count": 4,
   "outputs": [],
   "source": [
    "data06 = pd.read_csv(\"../data/processed/target06.csv\")\n",
    "data06.drop(columns=[\"weekday\"], inplace=True)"
   ],
   "metadata": {
    "collapsed": false,
    "pycharm": {
     "name": "#%%\n"
    }
   }
  },
  {
   "cell_type": "code",
   "execution_count": 5,
   "outputs": [],
   "source": [
    "all_data = data.TensorDataset(torch.from_numpy((data06.values[:,:-1] - data06.values[:,:-1].min(0)) / data06.values[:,:-1].ptp(0)).float(),\n",
    "                              torch.from_numpy(data06.values[:,-1]).float())  # normalization\n",
    "train_dataset, test_dataset = torch.utils.data.random_split(all_data, (round(0.4 * len(all_data)), round(0.6 * len(all_data))))\n",
    "train_loader = data.DataLoader(train_dataset, batch_size=32, shuffle=True, drop_last=True)\n",
    "test_loader = data.DataLoader(test_dataset, batch_size=256, shuffle=False, drop_last=False)"
   ],
   "metadata": {
    "collapsed": false,
    "pycharm": {
     "name": "#%%\n"
    }
   }
  },
  {
   "cell_type": "markdown",
   "source": [
    "### Two layer perceptron"
   ],
   "metadata": {
    "collapsed": false
   }
  },
  {
   "cell_type": "code",
   "execution_count": 6,
   "outputs": [
    {
     "name": "stdout",
     "output_type": "stream",
     "text": [
      "\n",
      "------------- Random set: 0 -----------------\n",
      "Hidden: 566, epochs: 29, learning rate: 0.004242469415092643\n"
     ]
    },
    {
     "name": "stderr",
     "output_type": "stream",
     "text": [
      "100%|██████████| 29/29 [00:12<00:00,  2.31it/s]\n"
     ]
    },
    {
     "name": "stdout",
     "output_type": "stream",
     "text": [
      "Accuracy on validation dataset: 36.60181082643036%\n",
      "MAE: 7.206813714564409, MSE:93.38832492106202,\n",
      "RMSE: 9.663763496747114, Index of Agreement: 0.8796608876895443\n",
      "\n",
      "------------- Random set: 1 -----------------\n",
      "Hidden: 1080, epochs: 168, learning rate: 0.0038237463340484675\n"
     ]
    },
    {
     "name": "stderr",
     "output_type": "stream",
     "text": [
      "100%|██████████| 168/168 [00:44<00:00,  3.78it/s]\n"
     ]
    },
    {
     "name": "stdout",
     "output_type": "stream",
     "text": [
      "Accuracy on validation dataset: 35.657869389327686%\n",
      "MAE: 7.297198999550411, MSE:91.50197843678657,\n",
      "RMSE: 9.565666648842964, Index of Agreement: 0.8956910404724958\n",
      "\n",
      "------------- Random set: 2 -----------------\n",
      "Hidden: 2258, epochs: 94, learning rate: 0.002607420563510118\n"
     ]
    },
    {
     "name": "stderr",
     "output_type": "stream",
     "text": [
      "100%|██████████| 94/94 [00:24<00:00,  3.86it/s]\n"
     ]
    },
    {
     "name": "stdout",
     "output_type": "stream",
     "text": [
      "Accuracy on validation dataset: 41.14814101329224%\n",
      "MAE: 5.9483259208561385, MSE:71.86781176838954,\n",
      "RMSE: 8.477488529534531, Index of Agreement: 0.9106463528123214\n",
      "\n",
      "------------- Random set: 3 -----------------\n",
      "Hidden: 2182, epochs: 46, learning rate: 0.0007531111068484086\n"
     ]
    },
    {
     "name": "stderr",
     "output_type": "stream",
     "text": [
      "100%|██████████| 46/46 [00:12<00:00,  3.72it/s]\n"
     ]
    },
    {
     "name": "stdout",
     "output_type": "stream",
     "text": [
      "Accuracy on validation dataset: 40.820651126950494%\n",
      "MAE: 6.167921388163327, MSE:80.1152416920237,\n",
      "RMSE: 8.950711798065207, Index of Agreement: 0.8896575404887997\n",
      "\n",
      "------------- Random set: 4 -----------------\n",
      "Hidden: 2414, epochs: 40, learning rate: 0.002732658631120726\n"
     ]
    },
    {
     "name": "stderr",
     "output_type": "stream",
     "text": [
      "100%|██████████| 40/40 [00:10<00:00,  3.93it/s]"
     ]
    },
    {
     "name": "stdout",
     "output_type": "stream",
     "text": [
      "Accuracy on validation dataset: 39.45289924869967%\n",
      "MAE: 6.48989212729842, MSE:79.38970769380634,\n",
      "RMSE: 8.9100902180509, Index of Agreement: 0.8992715393221181\n"
     ]
    },
    {
     "name": "stderr",
     "output_type": "stream",
     "text": [
      "\n"
     ]
    }
   ],
   "source": [
    "for i in range(5):\n",
    "    h = np.random.randint(500, 3000)\n",
    "    e = np.random.randint(20, 200)\n",
    "    lr = np.random.uniform(0.0001, 0.005)\n",
    "    print(f'\\n------------- Random set: {i} -----------------\\nHidden: {h}, epochs: {e}, learning rate: {lr}')\n",
    "    model = TwoLayerPerceptron(num_inputs=8, num_hidden=h, num_outputs=1)\n",
    "    training_loop(model, train_loader, test_loader, device, num_epochs=e, lr=lr)\n",
    "    get_error_measures(model, test_loader, device=device, print_e=True)"
   ],
   "metadata": {
    "collapsed": false,
    "pycharm": {
     "name": "#%%\n"
    }
   }
  },
  {
   "cell_type": "markdown",
   "source": [
    "### SNN with LIF neurons"
   ],
   "metadata": {
    "collapsed": false
   }
  },
  {
   "cell_type": "code",
   "execution_count": 7,
   "outputs": [
    {
     "name": "stdout",
     "output_type": "stream",
     "text": [
      "\n",
      "------------- Random set: 0 -----------------\n",
      "Hidden: 1448, epochs: 33, steps: 26, learning rate: 0.0003436980323828348\n"
     ]
    },
    {
     "name": "stderr",
     "output_type": "stream",
     "text": [
      "100%|██████████| 33/33 [01:19<00:00,  2.42s/it]\n"
     ]
    },
    {
     "name": "stdout",
     "output_type": "stream",
     "text": [
      "Accuracy on validation dataset: 33.01868618763244%\n",
      "MAE: 7.894523208769638, MSE:120.92361301209081,\n",
      "RMSE: 10.99652731602531, Index of Agreement: 0.7948390687522078\n",
      "\n",
      "------------- Random set: 1 -----------------\n",
      "Hidden: 1091, epochs: 32, steps: 40, learning rate: 0.0001328700997104934\n"
     ]
    },
    {
     "name": "stderr",
     "output_type": "stream",
     "text": [
      "100%|██████████| 32/32 [01:50<00:00,  3.46s/it]\n"
     ]
    },
    {
     "name": "stdout",
     "output_type": "stream",
     "text": [
      "Accuracy on validation dataset: 27.316509343093813%\n",
      "MAE: 9.183800791160056, MSE:174.5187845653164,\n",
      "RMSE: 13.210555800772214, Index of Agreement: 0.5198825337574162\n",
      "\n",
      "------------- Random set: 2 -----------------\n",
      "Hidden: 1933, epochs: 45, steps: 36, learning rate: 0.0042686513510183256\n"
     ]
    },
    {
     "name": "stderr",
     "output_type": "stream",
     "text": [
      "100%|██████████| 45/45 [02:30<00:00,  3.33s/it]\n"
     ]
    },
    {
     "name": "stdout",
     "output_type": "stream",
     "text": [
      "Accuracy on validation dataset: 38.99056058562898%\n",
      "MAE: 6.643708319476611, MSE:90.93335691436572,\n",
      "RMSE: 9.535898327602162, Index of Agreement: 0.8824818149234419\n",
      "\n",
      "------------- Random set: 3 -----------------\n",
      "Hidden: 632, epochs: 21, steps: 27, learning rate: 0.0036470198181153385\n"
     ]
    },
    {
     "name": "stderr",
     "output_type": "stream",
     "text": [
      "100%|██████████| 21/21 [00:49<00:00,  2.35s/it]\n"
     ]
    },
    {
     "name": "stdout",
     "output_type": "stream",
     "text": [
      "Accuracy on validation dataset: 37.892506260836065%\n",
      "MAE: 7.2791851260911935, MSE:121.10956664736807,\n",
      "RMSE: 11.004979175235547, Index of Agreement: 0.794129688283638\n",
      "\n",
      "------------- Random set: 4 -----------------\n",
      "Hidden: 2480, epochs: 49, steps: 31, learning rate: 0.0023397186853238348\n"
     ]
    },
    {
     "name": "stderr",
     "output_type": "stream",
     "text": [
      "100%|██████████| 49/49 [02:27<00:00,  3.01s/it]\n"
     ]
    },
    {
     "name": "stdout",
     "output_type": "stream",
     "text": [
      "Accuracy on validation dataset: 38.701598921209786%\n",
      "MAE: 6.681780000753519, MSE:91.23994775688404,\n",
      "RMSE: 9.551960414327732, Index of Agreement: 0.8709981509932454\n"
     ]
    }
   ],
   "source": [
    "for i in range(5):\n",
    "    h = np.random.randint(500, 2500)\n",
    "    e = np.random.randint(20, 50)\n",
    "    s = np.random.randint(20, 50)\n",
    "    lr = np.random.uniform(0.0001, 0.005)\n",
    "    print(f'\\n------------- Random set: {i} -----------------\\nHidden: {h}, epochs: {e}, steps: {s}, learning rate: {lr}')\n",
    "    model = TwoLayerLeaky(num_inputs=8, num_hidden=h, num_outputs=1, beta=0.95, num_steps=s)\n",
    "    training_loop(model, train_loader, test_loader, device, num_epochs=e, lr=lr)\n",
    "    get_error_measures(model, test_loader, device=device, print_e=True)"
   ],
   "metadata": {
    "collapsed": false,
    "pycharm": {
     "name": "#%%\n"
    }
   }
  },
  {
   "cell_type": "markdown",
   "source": [
    "### SNN with Synaptic neurons"
   ],
   "metadata": {
    "collapsed": false
   }
  },
  {
   "cell_type": "code",
   "execution_count": 8,
   "outputs": [
    {
     "name": "stdout",
     "output_type": "stream",
     "text": [
      "\n",
      "------------- Random set: 0 -----------------\n",
      "Hidden: 1071, epochs: 39, learning rate: 0.00320299681815868\n"
     ]
    },
    {
     "name": "stderr",
     "output_type": "stream",
     "text": [
      "100%|██████████| 39/39 [06:07<00:00,  9.43s/it]\n"
     ]
    },
    {
     "name": "stdout",
     "output_type": "stream",
     "text": [
      "Accuracy on validation dataset: 38.682334810248506%\n",
      "MAE: 6.721668251675463, MSE:98.4209748683252,\n",
      "RMSE: 9.920734593180345, Index of Agreement: 0.8528575223335096\n",
      "\n",
      "------------- Random set: 1 -----------------\n",
      "Hidden: 2795, epochs: 22, learning rate: 0.0032710867246137226\n"
     ]
    },
    {
     "name": "stderr",
     "output_type": "stream",
     "text": [
      "100%|██████████| 22/22 [03:27<00:00,  9.41s/it]\n"
     ]
    },
    {
     "name": "stdout",
     "output_type": "stream",
     "text": [
      "Accuracy on validation dataset: 39.626276247351186%\n",
      "MAE: 6.711508377419113, MSE:91.21200452972431,\n",
      "RMSE: 9.550497606393309, Index of Agreement: 0.8716763507631314\n"
     ]
    }
   ],
   "source": [
    "for i in range(2):\n",
    "    h = np.random.randint(1000, 3000)\n",
    "    e = np.random.randint(10, 40)\n",
    "    lr = np.random.uniform(0.0001, 0.005)\n",
    "    print(f'\\n------------- Random set: {i} -----------------\\nHidden: {h}, epochs: {e}, learning rate: {lr}')\n",
    "    model = TwoLayerSynaptic(num_inputs=8, num_hidden=h, num_outputs=1)\n",
    "    training_loop(model, train_loader, test_loader, device, num_epochs=e, lr=lr)\n",
    "    get_error_measures(model, test_loader, device=device, print_e=True)"
   ],
   "metadata": {
    "collapsed": false,
    "pycharm": {
     "name": "#%%\n"
    }
   }
  },
  {
   "cell_type": "markdown",
   "source": [
    "### SNN with additional layer"
   ],
   "metadata": {
    "collapsed": false
   }
  },
  {
   "cell_type": "code",
   "execution_count": 9,
   "outputs": [
    {
     "name": "stdout",
     "output_type": "stream",
     "text": [
      "\n",
      "------------- Random set: 0 -----------------\n",
      "Hidden: 798, epochs: 30, steps: 21, learning rate: 0.003061612357708661\n"
     ]
    },
    {
     "name": "stderr",
     "output_type": "stream",
     "text": [
      "100%|██████████| 30/30 [01:39<00:00,  3.33s/it]\n"
     ]
    },
    {
     "name": "stdout",
     "output_type": "stream",
     "text": [
      "Accuracy on validation dataset: 32.74898863417453%\n",
      "MAE: 8.19164126299636, MSE:151.51189193265398,\n",
      "RMSE: 12.309016692354186, Index of Agreement: 0.7116522039880617\n",
      "\n",
      "------------- Random set: 1 -----------------\n",
      "Hidden: 2487, epochs: 32, steps: 21, learning rate: 0.003881718827390492\n"
     ]
    },
    {
     "name": "stderr",
     "output_type": "stream",
     "text": [
      "100%|██████████| 32/32 [02:20<00:00,  4.40s/it]\n"
     ]
    },
    {
     "name": "stdout",
     "output_type": "stream",
     "text": [
      "Accuracy on validation dataset: 34.964361394721635%\n",
      "MAE: 7.726730852590042, MSE:133.52276695483354,\n",
      "RMSE: 11.555205188781095, Index of Agreement: 0.7732895056979301\n",
      "\n",
      "------------- Random set: 2 -----------------\n",
      "Hidden: 1802, epochs: 10, steps: 22, learning rate: 0.003421113742312809\n"
     ]
    },
    {
     "name": "stderr",
     "output_type": "stream",
     "text": [
      "100%|██████████| 10/10 [00:35<00:00,  3.57s/it]\n"
     ]
    },
    {
     "name": "stdout",
     "output_type": "stream",
     "text": [
      "Accuracy on validation dataset: 34.52128684261221%\n",
      "MAE: 7.863482963583001, MSE:146.64537809764346,\n",
      "RMSE: 12.109722461627412, Index of Agreement: 0.7010417131652835\n",
      "\n",
      "------------- Random set: 3 -----------------\n",
      "Hidden: 1719, epochs: 30, steps: 28, learning rate: 0.0025031815902070422\n"
     ]
    },
    {
     "name": "stderr",
     "output_type": "stream",
     "text": [
      "100%|██████████| 30/30 [02:10<00:00,  4.37s/it]\n"
     ]
    },
    {
     "name": "stdout",
     "output_type": "stream",
     "text": [
      "Accuracy on validation dataset: 33.230591408206514%\n",
      "MAE: 8.192627550802653, MSE:145.77931417689152,\n",
      "RMSE: 12.073910475769294, Index of Agreement: 0.7326767690825473\n",
      "\n",
      "------------- Random set: 4 -----------------\n",
      "Hidden: 1296, epochs: 28, steps: 27, learning rate: 0.00254261994175038\n"
     ]
    },
    {
     "name": "stderr",
     "output_type": "stream",
     "text": [
      "100%|██████████| 28/28 [01:54<00:00,  4.09s/it]\n"
     ]
    },
    {
     "name": "stdout",
     "output_type": "stream",
     "text": [
      "Accuracy on validation dataset: 29.994220766711617%\n",
      "MAE: 9.072644862687053, MSE:162.19943239778,\n",
      "RMSE: 12.735754096157008, Index of Agreement: 0.7178771300269294\n"
     ]
    }
   ],
   "source": [
    "for i in range(5):\n",
    "    h = np.random.randint(300, 2500)\n",
    "    e = np.random.randint(10, 40)\n",
    "    s = np.random.randint(20, 30)\n",
    "    lr = np.random.uniform(0.0001, 0.005)\n",
    "    print(f'\\n------------- Random set: {i} -----------------\\nHidden: {h}, epochs: {e}, steps: {s}, learning rate: {lr}')\n",
    "    model = ThreeLayerLeaky(num_inputs=8, num_hidden=h, num_outputs=1, beta=0.95, num_steps=s)\n",
    "    training_loop(model, train_loader, test_loader, device, num_epochs=e, lr=lr)\n",
    "    get_error_measures(model, test_loader, device=device, print_e=True)"
   ],
   "metadata": {
    "collapsed": false,
    "pycharm": {
     "name": "#%%\n"
    }
   }
  },
  {
   "cell_type": "code",
   "execution_count": 9,
   "outputs": [],
   "source": [],
   "metadata": {
    "collapsed": false,
    "pycharm": {
     "name": "#%%\n"
    }
   }
  }
 ],
 "metadata": {
  "kernelspec": {
   "display_name": "Python 3",
   "language": "python",
   "name": "python3"
  },
  "language_info": {
   "codemirror_mode": {
    "name": "ipython",
    "version": 2
   },
   "file_extension": ".py",
   "mimetype": "text/x-python",
   "name": "python",
   "nbconvert_exporter": "python",
   "pygments_lexer": "ipython2",
   "version": "2.7.6"
  }
 },
 "nbformat": 4,
 "nbformat_minor": 0
}