{
 "cells": [
  {
   "cell_type": "code",
   "execution_count": 379,
   "outputs": [],
   "source": [
    "import numpy as np\n",
    "import torch\n",
    "import torch.nn as nn\n",
    "import torch.optim as optim\n",
    "import torch.utils.data as data\n",
    "import pandas as pd"
   ],
   "metadata": {
    "collapsed": false,
    "pycharm": {
     "name": "#%%\n"
    }
   }
  },
  {
   "cell_type": "code",
   "execution_count": 380,
   "outputs": [
    {
     "data": {
      "text/plain": "device(type='cuda')"
     },
     "execution_count": 380,
     "metadata": {},
     "output_type": "execute_result"
    }
   ],
   "source": [
    "device = torch.device(\"cuda\")\n",
    "device"
   ],
   "metadata": {
    "collapsed": false,
    "pycharm": {
     "name": "#%%\n"
    }
   }
  },
  {
   "cell_type": "code",
   "execution_count": 381,
   "outputs": [
    {
     "data": {
      "text/plain": "<torch._C.Generator at 0x22a9b1912f0>"
     },
     "execution_count": 381,
     "metadata": {},
     "output_type": "execute_result"
    }
   ],
   "source": [
    "# setting seeds\n",
    "np.random.seed(445)\n",
    "torch.manual_seed(445)"
   ],
   "metadata": {
    "collapsed": false,
    "pycharm": {
     "name": "#%%\n"
    }
   }
  },
  {
   "cell_type": "markdown",
   "source": [
    "## Model"
   ],
   "metadata": {
    "collapsed": false
   }
  },
  {
   "cell_type": "code",
   "execution_count": 382,
   "outputs": [],
   "source": [
    "class SimplePredictor(nn.Module):\n",
    "    def __init__(self, num_inputs, num_hidden, num_outputs):\n",
    "        super().__init__()\n",
    "        self.linear1 = nn.Linear(num_inputs, num_hidden)\n",
    "        self.bn1 = nn.BatchNorm1d(num_hidden)\n",
    "        self.fn1 = nn.LeakyReLU()\n",
    "        self.d1 = nn.Dropout(0.3)\n",
    "        self.linear2 = nn.Linear(num_hidden, num_hidden)\n",
    "        self.bn2 = nn.BatchNorm1d(num_hidden)\n",
    "        self.fn2 = nn.LeakyReLU()\n",
    "        self.d2 = nn.Dropout(0.3)\n",
    "        self.linear3 = nn.Linear(num_hidden, num_outputs)\n",
    "\n",
    "    def forward(self, x):\n",
    "        x = self.linear1(x)\n",
    "        x = self.bn1(x)\n",
    "        x = self.fn1(x)\n",
    "        x = self.d1(x)\n",
    "        x = self.linear2(x)\n",
    "        x = self.bn2(x)\n",
    "        x = self.fn2(x)\n",
    "        x = self.d2(x)\n",
    "        x = self.linear3(x)\n",
    "        return x"
   ],
   "metadata": {
    "collapsed": false,
    "pycharm": {
     "name": "#%%\n"
    }
   }
  },
  {
   "cell_type": "code",
   "execution_count": 383,
   "outputs": [],
   "source": [
    "def get_accuracy(model, loader, pct_close):\n",
    "    correct = 0\n",
    "    total = 0\n",
    "    model.eval()\n",
    "    for x, labels in loader:\n",
    "        x, labels = x.to(device), labels.to(device)\n",
    "        output = model(x)\n",
    "        pred = torch.round(output)\n",
    "        correct += (torch.abs(pred-labels.view_as(pred)) < torch.abs(pct_close * labels.view_as(pred))).sum().item()\n",
    "        # correct += (torch.abs(pred-labels.view_as(pred)) < pct_close).sum().item()\n",
    "        total += x.shape[0]\n",
    "    return correct / total"
   ],
   "metadata": {
    "collapsed": false,
    "pycharm": {
     "name": "#%%\n"
    }
   }
  },
  {
   "cell_type": "markdown",
   "source": [
    "## Data"
   ],
   "metadata": {
    "collapsed": false
   }
  },
  {
   "cell_type": "code",
   "execution_count": 384,
   "outputs": [],
   "source": [
    "data06 = pd.read_csv(\"../data/processed/target06.csv\")"
   ],
   "metadata": {
    "collapsed": false,
    "pycharm": {
     "name": "#%%\n"
    }
   }
  },
  {
   "cell_type": "code",
   "execution_count": 385,
   "outputs": [],
   "source": [
    "all_data = data.TensorDataset(torch.from_numpy((data06.values[:,:-1] - data06.values[:,:-1].min(0)) / data06.values[:,:-1].ptp(0)).float(), torch.from_numpy(data06.values[:,-1]).float())  # with normalization\n",
    "train_dataset, test_dataset, valid_dataset = torch.utils.data.random_split(all_data, (round(0.7 * len(all_data)), round(0.2 * len(all_data)), round(0.1 * len(all_data))))"
   ],
   "metadata": {
    "collapsed": false,
    "pycharm": {
     "name": "#%%\n"
    }
   }
  },
  {
   "cell_type": "code",
   "execution_count": 386,
   "outputs": [],
   "source": [
    "data_loader = data.DataLoader(train_dataset, batch_size=64, shuffle=True, drop_last=True)\n",
    "test_data_loader = data.DataLoader(test_dataset, batch_size=256, shuffle=False, drop_last=False)\n",
    "valid_data_loader = data.DataLoader(valid_dataset, batch_size=256, shuffle=False, drop_last=False)"
   ],
   "metadata": {
    "collapsed": false,
    "pycharm": {
     "name": "#%%\n"
    }
   }
  },
  {
   "cell_type": "markdown",
   "source": [
    "## Prepare model"
   ],
   "metadata": {
    "collapsed": false
   }
  },
  {
   "cell_type": "code",
   "execution_count": 387,
   "outputs": [
    {
     "name": "stdout",
     "output_type": "stream",
     "text": [
      "SimplePredictor(\n",
      "  (linear1): Linear(in_features=8, out_features=300, bias=True)\n",
      "  (bn1): BatchNorm1d(300, eps=1e-05, momentum=0.1, affine=True, track_running_stats=True)\n",
      "  (fn1): LeakyReLU(negative_slope=0.01)\n",
      "  (d1): Dropout(p=0.3, inplace=False)\n",
      "  (linear2): Linear(in_features=300, out_features=300, bias=True)\n",
      "  (bn2): BatchNorm1d(300, eps=1e-05, momentum=0.1, affine=True, track_running_stats=True)\n",
      "  (fn2): LeakyReLU(negative_slope=0.01)\n",
      "  (d2): Dropout(p=0.3, inplace=False)\n",
      "  (linear3): Linear(in_features=300, out_features=1, bias=True)\n",
      ")\n"
     ]
    }
   ],
   "source": [
    "model = SimplePredictor(num_inputs=8, num_hidden=300, num_outputs=1)\n",
    "model.to(device)\n",
    "print(model)"
   ],
   "metadata": {
    "collapsed": false,
    "pycharm": {
     "name": "#%%\n"
    }
   }
  },
  {
   "cell_type": "code",
   "execution_count": 388,
   "outputs": [],
   "source": [
    "loss_fun = nn.MSELoss()\n",
    "optimizer = optim.Adam(model.parameters(), lr=0.00001)\n",
    "epochs = 300"
   ],
   "metadata": {
    "collapsed": false,
    "pycharm": {
     "name": "#%%\n"
    }
   }
  },
  {
   "cell_type": "markdown",
   "source": [
    "## Training"
   ],
   "metadata": {
    "collapsed": false
   }
  },
  {
   "cell_type": "code",
   "execution_count": 389,
   "outputs": [
    {
     "name": "stdout",
     "output_type": "stream",
     "text": [
      "Epoch: 0, loss: 7.36e+02, acc: 0.0\n",
      "Epoch: 10, loss: 8.34e+02, acc: 0.0\n",
      "Epoch: 20, loss: 4.62e+02, acc: 0.0011560693641618498\n",
      "Epoch: 30, loss: 7.85e+02, acc: 0.003468208092485549\n",
      "Epoch: 40, loss: 3.44e+02, acc: 0.006936416184971098\n",
      "Epoch: 50, loss: 3.23e+02, acc: 0.015028901734104046\n",
      "Epoch: 60, loss: 2.4e+02, acc: 0.025433526011560695\n",
      "Epoch: 70, loss: 2.28e+02, acc: 0.03468208092485549\n",
      "Epoch: 80, loss: 1.68e+02, acc: 0.06242774566473988\n",
      "Epoch: 90, loss: 1.7e+02, acc: 0.06358381502890173\n",
      "Epoch: 100, loss: 1.32e+02, acc: 0.07745664739884393\n",
      "Epoch: 110, loss: 1.4e+02, acc: 0.08323699421965318\n",
      "Epoch: 120, loss: 1.19e+02, acc: 0.13641618497109825\n",
      "Epoch: 130, loss: 82.7, acc: 0.19653179190751446\n",
      "Epoch: 140, loss: 1.75e+02, acc: 0.2543352601156069\n",
      "Epoch: 150, loss: 1.22e+02, acc: 0.30289017341040464\n",
      "Epoch: 160, loss: 57.0, acc: 0.3190751445086705\n",
      "Epoch: 170, loss: 80.6, acc: 0.3514450867052023\n",
      "Epoch: 180, loss: 89.6, acc: 0.3791907514450867\n",
      "Epoch: 190, loss: 68.4, acc: 0.3872832369942196\n",
      "Epoch: 200, loss: 75.9, acc: 0.3838150289017341\n",
      "Epoch: 210, loss: 1.11e+02, acc: 0.3815028901734104\n",
      "Epoch: 220, loss: 1.16e+02, acc: 0.3953757225433526\n",
      "Epoch: 230, loss: 1.17e+02, acc: 0.3895953757225434\n",
      "Epoch: 240, loss: 70.2, acc: 0.3953757225433526\n",
      "Epoch: 250, loss: 64.4, acc: 0.3895953757225434\n",
      "Epoch: 260, loss: 67.8, acc: 0.3965317919075145\n",
      "Epoch: 270, loss: 86.6, acc: 0.3884393063583815\n",
      "Epoch: 280, loss: 1.06e+02, acc: 0.3861271676300578\n",
      "Epoch: 290, loss: 74.8, acc: 0.3976878612716763\n"
     ]
    }
   ],
   "source": [
    "for epoch in range(epochs):\n",
    "    model.train()  # reset in get_accuracy\n",
    "    for data_inputs, data_labels in data_loader:\n",
    "        data_inputs = data_inputs.to(device)\n",
    "        data_labels = data_labels.to(device)\n",
    "        preds = model(data_inputs).squeeze(dim=1)\n",
    "        loss = loss_fun(preds, data_labels)\n",
    "        optimizer.zero_grad()\n",
    "        loss.backward()\n",
    "        optimizer.step()\n",
    "    if epoch % 10 == 0:\n",
    "        print(f\"Epoch: {epoch}, loss: {loss.item():.3}, acc: {get_accuracy(model, valid_data_loader, 0.2)}\")"
   ],
   "metadata": {
    "collapsed": false,
    "pycharm": {
     "name": "#%%\n"
    }
   }
  },
  {
   "cell_type": "code",
   "execution_count": 390,
   "outputs": [
    {
     "data": {
      "text/plain": "0.4092485549132948"
     },
     "execution_count": 390,
     "metadata": {},
     "output_type": "execute_result"
    }
   ],
   "source": [
    "percent = 0.2\n",
    "model.eval()\n",
    "get_accuracy(model, test_data_loader, percent)"
   ],
   "metadata": {
    "collapsed": false,
    "pycharm": {
     "name": "#%%\n"
    }
   }
  },
  {
   "cell_type": "code",
   "execution_count": 391,
   "outputs": [
    {
     "data": {
      "text/plain": "tensor([24.9500, 21.5200,  8.2900,  7.9000, 23.4700, 22.2500, 56.1500, 16.1700,\n        14.7100, 66.9300, 21.7900, 15.4800,  9.3500, 21.7100, 16.5300, 38.6200,\n        10.1500, 20.4600, 17.9100, 29.2800, 41.2500, 16.3300, 10.4500,  9.1900,\n        12.0900,  3.6900, 14.9000, 22.7200, 15.6800, 11.9000, 36.4800, 12.2200,\n        12.6400, 13.5600, 29.5500, 32.6500, 29.1600, 24.2900, 14.5900, 29.3300,\n        20.3000, 23.9300, 15.9400, 12.4500, 17.3900,  7.0200, 15.2800,  7.0300,\n        18.8200, 34.2000, 32.3900, 51.0200, 16.9500, 12.5400, 16.5100,  9.7100,\n        13.2500, 25.3200, 14.3000,  9.0700,  9.6500, 15.8900,  4.2600, 12.0600],\n       device='cuda:0')"
     },
     "execution_count": 391,
     "metadata": {},
     "output_type": "execute_result"
    }
   ],
   "source": [
    "data_labels"
   ],
   "metadata": {
    "collapsed": false,
    "pycharm": {
     "name": "#%%\n"
    }
   }
  },
  {
   "cell_type": "code",
   "execution_count": 392,
   "outputs": [
    {
     "data": {
      "text/plain": "tensor([12.8636, 26.4139, 14.2402, 12.4019, 32.3715, 20.2916, 61.6947, 33.9478,\n        13.5699, 44.9695, 16.5993, 15.7461, 11.2462, 18.4349, 18.4429, 33.6172,\n        15.8223, 20.7246, 13.6811, 22.8553, 39.9642, 14.7579, 14.9323, 14.3362,\n        25.5350, 18.4485, 18.1879, 29.4806, 31.1633,  8.8487, 20.3193, 24.5834,\n        13.7796, 27.0540, 20.7070, 25.0987, 46.6343, 17.1021, 10.9134, 21.4790,\n        26.6901, 21.4482, 19.2879, 12.8897, 20.9707,  8.9411, 10.1038, 25.2689,\n        14.0907, 27.4160, 16.7024, 34.7234, 16.5905, 13.4571, 39.3282, 18.0339,\n        19.5916, 34.8895, 19.0875,  9.0359, 17.9265, 18.8102,  3.9590, 14.2117],\n       device='cuda:0', grad_fn=<SqueezeBackward1>)"
     },
     "execution_count": 392,
     "metadata": {},
     "output_type": "execute_result"
    }
   ],
   "source": [
    "preds"
   ],
   "metadata": {
    "collapsed": false,
    "pycharm": {
     "name": "#%%\n"
    }
   }
  },
  {
   "cell_type": "code",
   "execution_count": 392,
   "outputs": [],
   "source": [],
   "metadata": {
    "collapsed": false,
    "pycharm": {
     "name": "#%%\n"
    }
   }
  }
 ],
 "metadata": {
  "kernelspec": {
   "display_name": "Python 3",
   "language": "python",
   "name": "python3"
  },
  "language_info": {
   "codemirror_mode": {
    "name": "ipython",
    "version": 2
   },
   "file_extension": ".py",
   "mimetype": "text/x-python",
   "name": "python",
   "nbconvert_exporter": "python",
   "pygments_lexer": "ipython2",
   "version": "2.7.6"
  }
 },
 "nbformat": 4,
 "nbformat_minor": 0
}