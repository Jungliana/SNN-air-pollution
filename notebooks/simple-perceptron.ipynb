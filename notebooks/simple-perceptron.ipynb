{
 "cells": [
  {
   "cell_type": "code",
   "execution_count": 15,
   "outputs": [],
   "source": [
    "import numpy as np\n",
    "import torch\n",
    "import torch.nn as nn\n",
    "import torch.optim as optim\n",
    "import torch.utils.data as data\n",
    "import pandas as pd"
   ],
   "metadata": {
    "collapsed": false,
    "pycharm": {
     "name": "#%%\n"
    }
   }
  },
  {
   "cell_type": "code",
   "execution_count": 16,
   "outputs": [
    {
     "data": {
      "text/plain": "device(type='cuda')"
     },
     "execution_count": 16,
     "metadata": {},
     "output_type": "execute_result"
    }
   ],
   "source": [
    "device = torch.device(\"cuda\") if torch.cuda.is_available() else torch.device(\"cpu\")\n",
    "device"
   ],
   "metadata": {
    "collapsed": false,
    "pycharm": {
     "name": "#%%\n"
    }
   }
  },
  {
   "cell_type": "code",
   "execution_count": 17,
   "outputs": [
    {
     "data": {
      "text/plain": "<torch._C.Generator at 0x16eb81422f0>"
     },
     "execution_count": 17,
     "metadata": {},
     "output_type": "execute_result"
    }
   ],
   "source": [
    "# setting seeds\n",
    "np.random.seed(445)\n",
    "torch.manual_seed(445)"
   ],
   "metadata": {
    "collapsed": false,
    "pycharm": {
     "name": "#%%\n"
    }
   }
  },
  {
   "cell_type": "markdown",
   "source": [
    "## Model"
   ],
   "metadata": {
    "collapsed": false
   }
  },
  {
   "cell_type": "code",
   "execution_count": 18,
   "outputs": [],
   "source": [
    "class SimplePredictor(nn.Module):\n",
    "    def __init__(self, num_inputs, num_hidden, num_outputs):\n",
    "        super().__init__()\n",
    "        self.linear1 = nn.Linear(num_inputs, num_hidden)\n",
    "        self.bn1 = nn.BatchNorm1d(num_hidden)\n",
    "        self.fn1 = nn.LeakyReLU()\n",
    "        #self.d1 = nn.Dropout(0.3)\n",
    "        self.linear2 = nn.Linear(num_hidden, num_outputs)\n",
    "\n",
    "    def forward(self, x):\n",
    "        x = self.linear1(x)\n",
    "        x = self.bn1(x)\n",
    "        x = self.fn1(x)\n",
    "        #x = self.d1(x)\n",
    "        x = self.linear2(x)\n",
    "        return x"
   ],
   "metadata": {
    "collapsed": false,
    "pycharm": {
     "name": "#%%\n"
    }
   }
  },
  {
   "cell_type": "code",
   "execution_count": 19,
   "outputs": [],
   "source": [
    "def get_accuracy(model, loader, pct_close):\n",
    "    correct = 0\n",
    "    total = 0\n",
    "    model.eval()\n",
    "    for x, labels in loader:\n",
    "        x, labels = x.to(device), labels.to(device)\n",
    "        output = model(x)\n",
    "        pred = torch.round(output)\n",
    "        correct += (torch.abs(pred-labels.view_as(pred)) < torch.abs(pct_close * labels.view_as(pred))).sum().item()\n",
    "        # correct += (torch.abs(pred-labels.view_as(pred)) < pct_close).sum().item()\n",
    "        total += x.shape[0]\n",
    "    return correct / total"
   ],
   "metadata": {
    "collapsed": false,
    "pycharm": {
     "name": "#%%\n"
    }
   }
  },
  {
   "cell_type": "markdown",
   "source": [
    "## Data"
   ],
   "metadata": {
    "collapsed": false
   }
  },
  {
   "cell_type": "code",
   "execution_count": 20,
   "outputs": [],
   "source": [
    "data06 = pd.read_csv(\"../data/processed/target06.csv\")"
   ],
   "metadata": {
    "collapsed": false,
    "pycharm": {
     "name": "#%%\n"
    }
   }
  },
  {
   "cell_type": "code",
   "execution_count": 21,
   "outputs": [],
   "source": [
    "all_data = data.TensorDataset(torch.from_numpy((data06.values[:,:-1] - data06.values[:,:-1].min(0)) / data06.values[:,:-1].ptp(0)).float(), torch.from_numpy(data06.values[:,-1]).float())  # with normalization\n",
    "train_dataset, test_dataset, valid_dataset = torch.utils.data.random_split(all_data, (round(0.7 * len(all_data)), round(0.2 * len(all_data)), round(0.1 * len(all_data))))"
   ],
   "metadata": {
    "collapsed": false,
    "pycharm": {
     "name": "#%%\n"
    }
   }
  },
  {
   "cell_type": "code",
   "execution_count": 22,
   "outputs": [],
   "source": [
    "data_loader = data.DataLoader(train_dataset, batch_size=32, shuffle=True, drop_last=True)\n",
    "test_data_loader = data.DataLoader(test_dataset, batch_size=256, shuffle=False, drop_last=False)\n",
    "valid_data_loader = data.DataLoader(valid_dataset, batch_size=256, shuffle=False, drop_last=False)"
   ],
   "metadata": {
    "collapsed": false,
    "pycharm": {
     "name": "#%%\n"
    }
   }
  },
  {
   "cell_type": "markdown",
   "source": [
    "## Prepare model"
   ],
   "metadata": {
    "collapsed": false
   }
  },
  {
   "cell_type": "code",
   "execution_count": 23,
   "outputs": [
    {
     "name": "stdout",
     "output_type": "stream",
     "text": [
      "SimplePredictor(\n",
      "  (linear1): Linear(in_features=8, out_features=500, bias=True)\n",
      "  (bn1): BatchNorm1d(500, eps=1e-05, momentum=0.1, affine=True, track_running_stats=True)\n",
      "  (fn1): LeakyReLU(negative_slope=0.01)\n",
      "  (linear2): Linear(in_features=500, out_features=1, bias=True)\n",
      ")\n"
     ]
    }
   ],
   "source": [
    "model = SimplePredictor(num_inputs=8, num_hidden=500, num_outputs=1)\n",
    "model.to(device)\n",
    "print(model)"
   ],
   "metadata": {
    "collapsed": false,
    "pycharm": {
     "name": "#%%\n"
    }
   }
  },
  {
   "cell_type": "code",
   "execution_count": 24,
   "outputs": [],
   "source": [
    "loss_fun = nn.MSELoss()\n",
    "optimizer = optim.Adam(model.parameters(), lr=0.00001)\n",
    "epochs = 300"
   ],
   "metadata": {
    "collapsed": false,
    "pycharm": {
     "name": "#%%\n"
    }
   }
  },
  {
   "cell_type": "markdown",
   "source": [
    "## Training"
   ],
   "metadata": {
    "collapsed": false
   }
  },
  {
   "cell_type": "code",
   "execution_count": 25,
   "outputs": [
    {
     "name": "stdout",
     "output_type": "stream",
     "text": [
      "Epoch: 0, loss: 5.23e+02, acc: 0.0\n",
      "Epoch: 10, loss: 3.77e+02, acc: 0.028901734104046242\n",
      "Epoch: 20, loss: 1.58e+02, acc: 0.09132947976878612\n",
      "Epoch: 30, loss: 1.84e+02, acc: 0.19884393063583816\n",
      "Epoch: 40, loss: 2.49e+02, acc: 0.2682080924855491\n",
      "Epoch: 50, loss: 1.83e+02, acc: 0.2832369942196532\n",
      "Epoch: 60, loss: 1.38e+02, acc: 0.28670520231213875\n",
      "Epoch: 70, loss: 47.2, acc: 0.30057803468208094\n",
      "Epoch: 80, loss: 50.5, acc: 0.3063583815028902\n",
      "Epoch: 90, loss: 1.69e+02, acc: 0.31445086705202313\n",
      "Epoch: 100, loss: 85.1, acc: 0.3202312138728324\n",
      "Epoch: 110, loss: 1.38e+02, acc: 0.3179190751445087\n",
      "Epoch: 120, loss: 1.53e+02, acc: 0.3179190751445087\n",
      "Epoch: 130, loss: 1.74e+02, acc: 0.3225433526011561\n",
      "Epoch: 140, loss: 45.3, acc: 0.32947976878612717\n",
      "Epoch: 150, loss: 93.8, acc: 0.3421965317919075\n",
      "Epoch: 160, loss: 98.5, acc: 0.3352601156069364\n",
      "Epoch: 170, loss: 1.23e+02, acc: 0.33872832369942196\n",
      "Epoch: 180, loss: 67.9, acc: 0.3421965317919075\n",
      "Epoch: 190, loss: 58.1, acc: 0.3398843930635838\n",
      "Epoch: 200, loss: 73.5, acc: 0.33872832369942196\n",
      "Epoch: 210, loss: 94.0, acc: 0.3491329479768786\n",
      "Epoch: 220, loss: 1.06e+02, acc: 0.35260115606936415\n",
      "Epoch: 230, loss: 49.1, acc: 0.34335260115606936\n",
      "Epoch: 240, loss: 98.4, acc: 0.3398843930635838\n",
      "Epoch: 250, loss: 75.3, acc: 0.35260115606936415\n",
      "Epoch: 260, loss: 50.8, acc: 0.3468208092485549\n",
      "Epoch: 270, loss: 70.7, acc: 0.3514450867052023\n",
      "Epoch: 280, loss: 1.61e+02, acc: 0.34797687861271676\n",
      "Epoch: 290, loss: 81.7, acc: 0.3583815028901734\n"
     ]
    }
   ],
   "source": [
    "for epoch in range(epochs):\n",
    "    model.train()  # reset in get_accuracy\n",
    "    for data_inputs, data_labels in data_loader:\n",
    "        data_inputs = data_inputs.to(device)\n",
    "        data_labels = data_labels.to(device)\n",
    "        preds = model(data_inputs).squeeze(dim=1)\n",
    "        loss = loss_fun(preds, data_labels)\n",
    "        optimizer.zero_grad()\n",
    "        loss.backward()\n",
    "        optimizer.step()\n",
    "    if epoch % 10 == 0:\n",
    "        print(f\"Epoch: {epoch}, loss: {loss.item():.3}, acc: {get_accuracy(model, valid_data_loader, 0.2)}\")"
   ],
   "metadata": {
    "collapsed": false,
    "pycharm": {
     "name": "#%%\n"
    }
   }
  },
  {
   "cell_type": "code",
   "execution_count": 26,
   "outputs": [
    {
     "data": {
      "text/plain": "0.37745664739884394"
     },
     "execution_count": 26,
     "metadata": {},
     "output_type": "execute_result"
    }
   ],
   "source": [
    "percent = 0.2\n",
    "model.eval()\n",
    "get_accuracy(model, test_data_loader, percent)"
   ],
   "metadata": {
    "collapsed": false,
    "pycharm": {
     "name": "#%%\n"
    }
   }
  },
  {
   "cell_type": "code",
   "execution_count": 27,
   "outputs": [
    {
     "data": {
      "text/plain": "tensor([40.0500,  9.5800, 22.6400, 22.3900, 23.3000, 23.6900,  7.2200, 41.8800,\n        19.8900, 24.8700, 26.8000, 40.5800,  8.7200,  6.8800, 22.7300,  8.4400,\n         3.5300, 10.3800,  9.7800, 19.7100, 83.8100, 10.5500, 15.8000, 31.9000,\n        38.6200, 13.6400, 38.6200, 18.3900, 38.8800,  4.8600, 32.4600, 19.3700],\n       device='cuda:0')"
     },
     "execution_count": 27,
     "metadata": {},
     "output_type": "execute_result"
    }
   ],
   "source": [
    "data_labels"
   ],
   "metadata": {
    "collapsed": false,
    "pycharm": {
     "name": "#%%\n"
    }
   }
  },
  {
   "cell_type": "code",
   "execution_count": 28,
   "outputs": [
    {
     "data": {
      "text/plain": "tensor([ 23.2516,  13.0853,  24.1150,  16.7987,  14.6763,  15.1937,  10.3775,\n         37.3490,  16.2988,   8.0150,  14.8764,  25.1121,   7.1874,   8.6581,\n         28.2685,  17.6605,  15.7314,  13.8994,  17.3974,  13.7495, 106.7835,\n         15.5437,  18.8969,  11.7963,  29.6159,  19.3711,  27.8761,  13.9124,\n         17.4818,   7.0095,  22.2469,  15.4811], device='cuda:0',\n       grad_fn=<SqueezeBackward1>)"
     },
     "execution_count": 28,
     "metadata": {},
     "output_type": "execute_result"
    }
   ],
   "source": [
    "preds"
   ],
   "metadata": {
    "collapsed": false,
    "pycharm": {
     "name": "#%%\n"
    }
   }
  },
  {
   "cell_type": "code",
   "execution_count": 28,
   "outputs": [],
   "source": [],
   "metadata": {
    "collapsed": false,
    "pycharm": {
     "name": "#%%\n"
    }
   }
  }
 ],
 "metadata": {
  "kernelspec": {
   "display_name": "Python 3",
   "language": "python",
   "name": "python3"
  },
  "language_info": {
   "codemirror_mode": {
    "name": "ipython",
    "version": 2
   },
   "file_extension": ".py",
   "mimetype": "text/x-python",
   "name": "python",
   "nbconvert_exporter": "python",
   "pygments_lexer": "ipython2",
   "version": "2.7.6"
  }
 },
 "nbformat": 4,
 "nbformat_minor": 0
}