{
 "cells": [
  {
   "cell_type": "code",
   "execution_count": 541,
   "outputs": [],
   "source": [
    "import numpy as np\n",
    "import torch\n",
    "import torch.nn as nn\n",
    "import torch.utils.data as data\n",
    "import snntorch as snn\n",
    "import pandas as pd"
   ],
   "metadata": {
    "collapsed": false,
    "pycharm": {
     "name": "#%%\n"
    }
   }
  },
  {
   "cell_type": "code",
   "execution_count": 542,
   "outputs": [
    {
     "data": {
      "text/plain": "device(type='cuda')"
     },
     "execution_count": 542,
     "metadata": {},
     "output_type": "execute_result"
    }
   ],
   "source": [
    "device = torch.device(\"cuda\") if torch.cuda.is_available() else torch.device(\"cpu\")\n",
    "device"
   ],
   "metadata": {
    "collapsed": false,
    "pycharm": {
     "name": "#%%\n"
    }
   }
  },
  {
   "cell_type": "code",
   "execution_count": 543,
   "outputs": [
    {
     "data": {
      "text/plain": "<torch._C.Generator at 0x2318f9132f0>"
     },
     "execution_count": 543,
     "metadata": {},
     "output_type": "execute_result"
    }
   ],
   "source": [
    "# setting seeds\n",
    "np.random.seed(445)\n",
    "torch.manual_seed(445)"
   ],
   "metadata": {
    "collapsed": false,
    "pycharm": {
     "name": "#%%\n"
    }
   }
  },
  {
   "cell_type": "markdown",
   "source": [
    "## Model"
   ],
   "metadata": {
    "collapsed": false
   }
  },
  {
   "cell_type": "code",
   "execution_count": 544,
   "outputs": [],
   "source": [
    "class SimpleSNNPredictor(nn.Module):\n",
    "    def __init__(self, num_inputs, num_hidden, beta=0.95, num_steps=25):\n",
    "        super().__init__()\n",
    "        self.num_steps = num_steps\n",
    "\n",
    "        # Initialize layers\n",
    "        self.fc1 = nn.Linear(num_inputs, num_hidden)\n",
    "        self.lif1 = snn.Leaky(beta=beta)\n",
    "        self.fc2 = nn.Linear(num_hidden, num_outputs)\n",
    "\n",
    "    def forward(self, x):\n",
    "\n",
    "        # Initialize hidden states at t=0\n",
    "        mem1 = self.lif1.init_leaky()\n",
    "\n",
    "        for step in range(self.num_steps):\n",
    "            cur1 = self.fc1(x)\n",
    "            spk1, mem1 = self.lif1(cur1, mem1)\n",
    "            cur2 = self.fc2(spk1)\n",
    "\n",
    "        return cur2"
   ],
   "metadata": {
    "collapsed": false,
    "pycharm": {
     "name": "#%%\n"
    }
   }
  },
  {
   "cell_type": "code",
   "execution_count": 545,
   "outputs": [],
   "source": [
    "def get_accuracy(model, loader, pct_close):\n",
    "    correct = 0\n",
    "    total = 0\n",
    "    model.eval()\n",
    "    for x, labels in loader:\n",
    "        x, labels = x.to(device), labels.to(device)\n",
    "        output = model(x)\n",
    "        pred = torch.round(output)\n",
    "        correct += (torch.abs(pred-labels.view_as(pred)) < torch.abs(pct_close * labels.view_as(pred))).sum().item()\n",
    "        total += x.shape[0]\n",
    "    return correct / total"
   ],
   "metadata": {
    "collapsed": false,
    "pycharm": {
     "name": "#%%\n"
    }
   }
  },
  {
   "cell_type": "code",
   "execution_count": 546,
   "outputs": [],
   "source": [
    "batch_size = 32\n",
    "dtype = torch.float"
   ],
   "metadata": {
    "collapsed": false,
    "pycharm": {
     "name": "#%%\n"
    }
   }
  },
  {
   "cell_type": "markdown",
   "source": [
    "## Data"
   ],
   "metadata": {
    "collapsed": false
   }
  },
  {
   "cell_type": "code",
   "execution_count": 547,
   "outputs": [],
   "source": [
    "data06 = pd.read_csv(\"../data/processed/target06.csv\")"
   ],
   "metadata": {
    "collapsed": false,
    "pycharm": {
     "name": "#%%\n"
    }
   }
  },
  {
   "cell_type": "code",
   "execution_count": 548,
   "outputs": [],
   "source": [
    "all_data = data.TensorDataset(torch.from_numpy((data06.values[:,:-1] - data06.values[:,:-1].min(0)) / data06.values[:,:-1].ptp(0)).float(), torch.from_numpy(data06.values[:,-1]).float())  # with normalization\n",
    "train_dataset, test_dataset, valid_dataset = torch.utils.data.random_split(all_data, (round(0.7 * len(all_data)), round(0.2 * len(all_data)), round(0.1 * len(all_data))))"
   ],
   "metadata": {
    "collapsed": false,
    "pycharm": {
     "name": "#%%\n"
    }
   }
  },
  {
   "cell_type": "code",
   "execution_count": 549,
   "outputs": [],
   "source": [
    "train_loader = data.DataLoader(train_dataset, batch_size=batch_size, shuffle=True, drop_last=True)\n",
    "test_loader = data.DataLoader(test_dataset, batch_size=batch_size, shuffle=False, drop_last=False)\n",
    "valid_loader = data.DataLoader(valid_dataset, batch_size=batch_size, shuffle=False, drop_last=False)"
   ],
   "metadata": {
    "collapsed": false,
    "pycharm": {
     "name": "#%%\n"
    }
   }
  },
  {
   "cell_type": "markdown",
   "source": [
    "## Prepare model"
   ],
   "metadata": {
    "collapsed": false
   }
  },
  {
   "cell_type": "code",
   "execution_count": 550,
   "outputs": [
    {
     "name": "stdout",
     "output_type": "stream",
     "text": [
      "SimpleSNNPredictor(\n",
      "  (fc1): Linear(in_features=8, out_features=1200, bias=True)\n",
      "  (lif1): Leaky()\n",
      "  (fc2): Linear(in_features=1200, out_features=1, bias=True)\n",
      ")\n"
     ]
    }
   ],
   "source": [
    "num_inputs=8\n",
    "num_hidden=1200\n",
    "num_outputs=1\n",
    "\n",
    "model = SimpleSNNPredictor(num_inputs, num_hidden, num_outputs)\n",
    "model.to(device)\n",
    "print(model)"
   ],
   "metadata": {
    "collapsed": false,
    "pycharm": {
     "name": "#%%\n"
    }
   }
  },
  {
   "cell_type": "code",
   "execution_count": 551,
   "outputs": [],
   "source": [
    "optimizer = torch.optim.Adam(model.parameters(), lr=1e-3, betas=(0.9, 0.999))\n",
    "loss_fun = nn.MSELoss()\n",
    "num_steps = 20"
   ],
   "metadata": {
    "collapsed": false,
    "pycharm": {
     "name": "#%%\n"
    }
   }
  },
  {
   "cell_type": "markdown",
   "source": [
    "## Training"
   ],
   "metadata": {
    "collapsed": false
   }
  },
  {
   "cell_type": "code",
   "execution_count": 552,
   "outputs": [
    {
     "name": "stdout",
     "output_type": "stream",
     "text": [
      "Epoch: 0, loss: 4.53e+02, acc: 0.2254335260115607\n",
      "Epoch: 2, loss: 2.25e+02, acc: 0.2705202312138728\n",
      "Epoch: 4, loss: 88.3, acc: 0.3132947976878613\n",
      "Epoch: 6, loss: 50.6, acc: 0.330635838150289\n",
      "Epoch: 8, loss: 72.4, acc: 0.32716763005780347\n",
      "Epoch: 10, loss: 46.4, acc: 0.3630057803468208\n",
      "Epoch: 12, loss: 70.1, acc: 0.3375722543352601\n",
      "Epoch: 14, loss: 84.3, acc: 0.34566473988439306\n",
      "Epoch: 16, loss: 1.2e+02, acc: 0.3283236994219653\n",
      "Epoch: 18, loss: 80.1, acc: 0.34335260115606936\n",
      "Epoch: 20, loss: 83.9, acc: 0.35953757225433525\n",
      "Epoch: 22, loss: 48.5, acc: 0.3560693641618497\n",
      "Epoch: 24, loss: 96.1, acc: 0.34104046242774566\n",
      "Epoch: 26, loss: 58.5, acc: 0.36647398843930634\n",
      "Epoch: 28, loss: 39.9, acc: 0.34104046242774566\n",
      "Epoch: 30, loss: 77.1, acc: 0.3468208092485549\n"
     ]
    }
   ],
   "source": [
    "num_epochs = 31\n",
    "loss_hist = []\n",
    "test_loss_hist = []\n",
    "\n",
    "# Outer training loop\n",
    "for epoch in range(num_epochs):\n",
    "    for data, targets in train_loader:\n",
    "        data = data.to(device)\n",
    "        targets = targets.to(device)\n",
    "\n",
    "    # forward pass\n",
    "        model.train()\n",
    "        preds = model(data).squeeze(dim=1)\n",
    "\n",
    "        loss = loss_fun(preds, targets)\n",
    "\n",
    "        # Gradient calculation + weight update\n",
    "        optimizer.zero_grad()\n",
    "        loss.backward()\n",
    "        optimizer.step()\n",
    "\n",
    "        # Store loss history for future plotting\n",
    "        #loss_hist.append(loss.item())\n",
    "\n",
    "    if epoch % 2 == 0:\n",
    "        print(f\"Epoch: {epoch}, loss: {loss.item():.3}, acc: {get_accuracy(model, valid_loader, 0.2)}\")"
   ],
   "metadata": {
    "collapsed": false,
    "pycharm": {
     "name": "#%%\n"
    }
   }
  },
  {
   "cell_type": "code",
   "execution_count": 553,
   "outputs": [
    {
     "data": {
      "text/plain": "0.38439306358381503"
     },
     "execution_count": 553,
     "metadata": {},
     "output_type": "execute_result"
    }
   ],
   "source": [
    "percent = 0.2\n",
    "model.eval()\n",
    "get_accuracy(model, test_loader, percent)"
   ],
   "metadata": {
    "collapsed": false,
    "pycharm": {
     "name": "#%%\n"
    }
   }
  },
  {
   "cell_type": "code",
   "execution_count": 554,
   "outputs": [
    {
     "data": {
      "text/plain": "tensor([21.5200,  6.6400, 47.7700,  9.8000, 16.3400,  8.0200, 22.2200, 16.0000,\n        26.5700, 14.7100, 14.2600, 46.8500, 12.0400, 13.7400, 10.8100,  7.8400,\n        10.3400, 18.1300, 25.9300, 19.9300, 50.9400, 12.8100, 32.3200, 25.5500,\n        43.8000,  7.4500, 21.7900, 30.9200, 18.9300, 34.4500, 70.2600, 29.7400],\n       device='cuda:0')"
     },
     "execution_count": 554,
     "metadata": {},
     "output_type": "execute_result"
    }
   ],
   "source": [
    "targets"
   ],
   "metadata": {
    "collapsed": false,
    "pycharm": {
     "name": "#%%\n"
    }
   }
  },
  {
   "cell_type": "code",
   "execution_count": 555,
   "outputs": [
    {
     "data": {
      "text/plain": "tensor([13.1635, 11.9892, 42.9729, 19.8671, 13.2309, 14.0652, 21.1927, 15.0116,\n        29.9898, 14.6159, 15.4557, 35.8256, 24.2308,  7.5534, 18.2664,  8.2213,\n        28.8393, 20.8042, 26.4876, 19.1598, 50.0451, 18.9561, 35.2028, 23.3641,\n        32.4731, 24.9270, 30.6722, 28.0178, 37.1176, 51.6018, 60.0072, 16.8827],\n       device='cuda:0', grad_fn=<SqueezeBackward1>)"
     },
     "execution_count": 555,
     "metadata": {},
     "output_type": "execute_result"
    }
   ],
   "source": [
    "preds"
   ],
   "metadata": {
    "collapsed": false,
    "pycharm": {
     "name": "#%%\n"
    }
   }
  },
  {
   "cell_type": "code",
   "execution_count": 555,
   "outputs": [],
   "source": [],
   "metadata": {
    "collapsed": false,
    "pycharm": {
     "name": "#%%\n"
    }
   }
  }
 ],
 "metadata": {
  "kernelspec": {
   "display_name": "Python 3",
   "language": "python",
   "name": "python3"
  },
  "language_info": {
   "codemirror_mode": {
    "name": "ipython",
    "version": 2
   },
   "file_extension": ".py",
   "mimetype": "text/x-python",
   "name": "python",
   "nbconvert_exporter": "python",
   "pygments_lexer": "ipython2",
   "version": "2.7.6"
  }
 },
 "nbformat": 4,
 "nbformat_minor": 0
}