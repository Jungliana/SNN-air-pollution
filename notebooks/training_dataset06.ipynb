{
 "cells": [
  {
   "cell_type": "code",
   "execution_count": 1,
   "outputs": [],
   "source": [
    "import torch\n",
    "import torch.utils.data as data\n",
    "import pandas as pd\n",
    "from src.error_measures import get_accuracy, get_error_measures\n",
    "from src.models import TwoLayerPerceptron, SynapticSNN, LeakySNN, DoubleLeakySNN\n",
    "from src.train_model import training_loop"
   ],
   "metadata": {
    "collapsed": false
   }
  },
  {
   "cell_type": "code",
   "execution_count": 2,
   "outputs": [
    {
     "data": {
      "text/plain": "device(type='cuda')"
     },
     "execution_count": 2,
     "metadata": {},
     "output_type": "execute_result"
    }
   ],
   "source": [
    "device = torch.device(\"cuda\") if torch.cuda.is_available() else torch.device(\"cpu\")\n",
    "device"
   ],
   "metadata": {
    "collapsed": false
   }
  },
  {
   "cell_type": "markdown",
   "source": [
    "## Data"
   ],
   "metadata": {
    "collapsed": false
   }
  },
  {
   "cell_type": "code",
   "execution_count": 3,
   "outputs": [],
   "source": [
    "data06 = pd.read_csv(\"../data/processed/target06.csv\")\n",
    "data06.drop(columns=[\"weekday\"], inplace=True)"
   ],
   "metadata": {
    "collapsed": false
   }
  },
  {
   "cell_type": "code",
   "execution_count": 4,
   "outputs": [],
   "source": [
    "all_data = data.TensorDataset(torch.from_numpy((data06.values[:,:-1] - data06.values[:,:-1].min(0)) / data06.values[:,:-1].ptp(0)).float(),\n",
    "                              torch.from_numpy(data06.values[:,-1]).float())  # with normalization\n",
    "train_dataset, test_dataset, valid_dataset = torch.utils.data.random_split(all_data, (round(0.75 * len(all_data)), round(0.15 * len(all_data)), round(0.1 * len(all_data))))"
   ],
   "metadata": {
    "collapsed": false
   }
  },
  {
   "cell_type": "code",
   "execution_count": 5,
   "outputs": [],
   "source": [
    "train_loader = data.DataLoader(train_dataset, batch_size=32, shuffle=True, drop_last=True)\n",
    "test_loader = data.DataLoader(test_dataset, batch_size=256, shuffle=False, drop_last=False)\n",
    "valid_loader = data.DataLoader(valid_dataset, batch_size=256, shuffle=False, drop_last=False)"
   ],
   "metadata": {
    "collapsed": false
   }
  },
  {
   "cell_type": "markdown",
   "source": [
    "### Simple regressor"
   ],
   "metadata": {
    "collapsed": false
   }
  },
  {
   "cell_type": "code",
   "execution_count": 6,
   "outputs": [
    {
     "name": "stdout",
     "output_type": "stream",
     "text": [
      "TwoLayerPerceptron(\n",
      "  (lin1): Linear(in_features=8, out_features=2500, bias=True)\n",
      "  (relu): LeakyReLU(negative_slope=0.01)\n",
      "  (lin2): Linear(in_features=2500, out_features=1, bias=True)\n",
      ")\n"
     ]
    }
   ],
   "source": [
    "model1 = TwoLayerPerceptron(num_inputs=8, num_hidden=2500, num_outputs=1)\n",
    "print(model1)"
   ],
   "metadata": {
    "collapsed": false
   }
  },
  {
   "cell_type": "code",
   "execution_count": 7,
   "outputs": [
    {
     "name": "stderr",
     "output_type": "stream",
     "text": [
      "  4%|▍         | 1/25 [00:02<01:04,  2.70s/it]"
     ]
    },
    {
     "name": "stdout",
     "output_type": "stream",
     "text": [
      "MAE: 8.535572223994084, MSE:148.26054984749038,\n",
      "RMSE: 12.176228884490074, IA: 0.6112025767774917\n"
     ]
    },
    {
     "name": "stderr",
     "output_type": "stream",
     "text": [
      " 16%|█▌        | 4/25 [00:03<00:14,  1.41it/s]"
     ]
    },
    {
     "name": "stdout",
     "output_type": "stream",
     "text": [
      "MAE: 6.856809207056299, MSE:97.94179492301349,\n",
      "RMSE: 9.89655469964237, IA: 0.8436394488252793\n"
     ]
    },
    {
     "name": "stderr",
     "output_type": "stream",
     "text": [
      " 28%|██▊       | 7/25 [00:05<00:08,  2.07it/s]"
     ]
    },
    {
     "name": "stdout",
     "output_type": "stream",
     "text": [
      "MAE: 6.821005755628464, MSE:97.2445925007754,\n",
      "RMSE: 9.86126728675252, IA: 0.8510427433343207\n"
     ]
    },
    {
     "name": "stderr",
     "output_type": "stream",
     "text": [
      " 40%|████      | 10/25 [00:06<00:06,  2.44it/s]"
     ]
    },
    {
     "name": "stdout",
     "output_type": "stream",
     "text": [
      "MAE: 6.773052025392565, MSE:96.15307478590958,\n",
      "RMSE: 9.80576742462871, IA: 0.8506419994427413\n"
     ]
    },
    {
     "name": "stderr",
     "output_type": "stream",
     "text": [
      " 52%|█████▏    | 13/25 [00:07<00:05,  2.06it/s]"
     ]
    },
    {
     "name": "stdout",
     "output_type": "stream",
     "text": [
      "MAE: 6.714161826558196, MSE:95.1042749163018,\n",
      "RMSE: 9.75214206809467, IA: 0.8532369059615382\n"
     ]
    },
    {
     "name": "stderr",
     "output_type": "stream",
     "text": [
      " 64%|██████▍   | 16/25 [00:09<00:04,  2.04it/s]"
     ]
    },
    {
     "name": "stdout",
     "output_type": "stream",
     "text": [
      "MAE: 6.951965274149283, MSE:96.03605416120602,\n",
      "RMSE: 9.799798679626333, IA: 0.8542792071939933\n"
     ]
    },
    {
     "name": "stderr",
     "output_type": "stream",
     "text": [
      " 76%|███████▌  | 19/25 [00:10<00:02,  2.30it/s]"
     ]
    },
    {
     "name": "stdout",
     "output_type": "stream",
     "text": [
      "MAE: 6.762346799111779, MSE:93.23395520013678,\n",
      "RMSE: 9.65577315392904, IA: 0.8571457368571315\n"
     ]
    },
    {
     "name": "stderr",
     "output_type": "stream",
     "text": [
      " 88%|████████▊ | 22/25 [00:11<00:01,  2.28it/s]"
     ]
    },
    {
     "name": "stdout",
     "output_type": "stream",
     "text": [
      "MAE: 6.612820816040039, MSE:93.42147497714357,\n",
      "RMSE: 9.66547851775294, IA: 0.8607854606319884\n"
     ]
    },
    {
     "name": "stderr",
     "output_type": "stream",
     "text": [
      "100%|██████████| 25/25 [00:13<00:00,  1.91it/s]"
     ]
    },
    {
     "name": "stdout",
     "output_type": "stream",
     "text": [
      "MAE: 6.553190719736794, MSE:91.64476611795662,\n",
      "RMSE: 9.573127290387223, IA: 0.8607275388422182\n",
      "Accuracy on validation dataset: 47.75%\n"
     ]
    },
    {
     "name": "stderr",
     "output_type": "stream",
     "text": [
      "\n"
     ]
    }
   ],
   "source": [
    "training_loop(model1, train_loader, valid_loader, device, num_epochs=25, validation=True)"
   ],
   "metadata": {
    "collapsed": false
   }
  },
  {
   "cell_type": "code",
   "execution_count": 8,
   "outputs": [
    {
     "name": "stdout",
     "output_type": "stream",
     "text": [
      "Accuracy on test set: 50.31%\n",
      "MAE: 6.323844388379889, MSE:85.51697446651542,\n",
      "RMSE: 9.24753883292822, IA: 0.885496378614432\n"
     ]
    },
    {
     "data": {
      "text/plain": "(6.323844388379889, 85.51697446651542, 9.24753883292822, 0.885496378614432)"
     },
     "execution_count": 8,
     "metadata": {},
     "output_type": "execute_result"
    }
   ],
   "source": [
    "print(f'Accuracy on test set: {get_accuracy(model1, test_loader, device=device, pct_close=0.25)*100}%')\n",
    "get_error_measures(model1, test_loader, device=device, print_e=True)"
   ],
   "metadata": {
    "collapsed": false
   }
  },
  {
   "cell_type": "markdown",
   "source": [
    "### SNN with Leaky layer"
   ],
   "metadata": {
    "collapsed": false
   }
  },
  {
   "cell_type": "code",
   "execution_count": 6,
   "outputs": [
    {
     "name": "stdout",
     "output_type": "stream",
     "text": [
      "LeakySNN(\n",
      "  (fc1): Linear(in_features=8, out_features=2500, bias=True)\n",
      "  (lif): Leaky()\n",
      "  (fc2): Linear(in_features=2500, out_features=1, bias=True)\n",
      ")\n"
     ]
    }
   ],
   "source": [
    "model2 = LeakySNN(num_inputs=8, num_hidden=2500, num_outputs=1)\n",
    "print(model2)"
   ],
   "metadata": {
    "collapsed": false
   }
  },
  {
   "cell_type": "code",
   "execution_count": 7,
   "outputs": [
    {
     "name": "stderr",
     "output_type": "stream",
     "text": [
      "  4%|▍         | 1/25 [00:11<04:35, 11.46s/it]"
     ]
    },
    {
     "name": "stdout",
     "output_type": "stream",
     "text": [
      "MAE: 9.157213896271811, MSE:162.07645371346868,\n",
      "RMSE: 12.730925092602998, IA: 0.4957554792952984\n"
     ]
    },
    {
     "name": "stderr",
     "output_type": "stream",
     "text": [
      " 16%|█▌        | 4/25 [00:33<02:43,  7.81s/it]"
     ]
    },
    {
     "name": "stdout",
     "output_type": "stream",
     "text": [
      "MAE: 7.019202282249583, MSE:100.0566727250334,\n",
      "RMSE: 10.002833234890673, IA: 0.8257338089572519\n"
     ]
    },
    {
     "name": "stderr",
     "output_type": "stream",
     "text": [
      " 28%|██▊       | 7/25 [00:55<02:20,  7.81s/it]"
     ]
    },
    {
     "name": "stdout",
     "output_type": "stream",
     "text": [
      "MAE: 6.9004508630388735, MSE:91.68253888968971,\n",
      "RMSE: 9.575099941498769, IA: 0.8448511629858703\n"
     ]
    },
    {
     "name": "stderr",
     "output_type": "stream",
     "text": [
      " 40%|████      | 10/25 [01:17<01:51,  7.46s/it]"
     ]
    },
    {
     "name": "stdout",
     "output_type": "stream",
     "text": [
      "MAE: 6.7337225357232064, MSE:89.4887367088352,\n",
      "RMSE: 9.459848662047147, IA: 0.8478831759502645\n"
     ]
    },
    {
     "name": "stderr",
     "output_type": "stream",
     "text": [
      " 52%|█████▏    | 13/25 [01:39<01:27,  7.30s/it]"
     ]
    },
    {
     "name": "stdout",
     "output_type": "stream",
     "text": [
      "MAE: 6.619005738517452, MSE:89.0892455269789,\n",
      "RMSE: 9.438709950357564, IA: 0.855081685659528\n"
     ]
    },
    {
     "name": "stderr",
     "output_type": "stream",
     "text": [
      " 64%|██████▍   | 16/25 [02:00<01:05,  7.23s/it]"
     ]
    },
    {
     "name": "stdout",
     "output_type": "stream",
     "text": [
      "MAE: 6.765780346379803, MSE:89.9288001695572,\n",
      "RMSE: 9.483079677486487, IA: 0.8492073664267429\n"
     ]
    },
    {
     "name": "stderr",
     "output_type": "stream",
     "text": [
      " 76%|███████▌  | 19/25 [02:23<00:44,  7.42s/it]"
     ]
    },
    {
     "name": "stdout",
     "output_type": "stream",
     "text": [
      "MAE: 6.7123583330584395, MSE:85.12274642624278,\n",
      "RMSE: 9.226198915384536, IA: 0.8608906219658999\n"
     ]
    },
    {
     "name": "stderr",
     "output_type": "stream",
     "text": [
      " 88%|████████▊ | 22/25 [02:44<00:21,  7.21s/it]"
     ]
    },
    {
     "name": "stdout",
     "output_type": "stream",
     "text": [
      "MAE: 6.49161848608469, MSE:84.63468702368003,\n",
      "RMSE: 9.199711246755522, IA: 0.8600815934000887\n"
     ]
    },
    {
     "name": "stderr",
     "output_type": "stream",
     "text": [
      "100%|██████████| 25/25 [03:05<00:00,  7.41s/it]"
     ]
    },
    {
     "name": "stdout",
     "output_type": "stream",
     "text": [
      "MAE: 6.492936430914553, MSE:85.18869694625525,\n",
      "RMSE: 9.229772312806814, IA: 0.8595099613209698\n",
      "Accuracy on validation dataset: 45.550000000000004%\n"
     ]
    },
    {
     "name": "stderr",
     "output_type": "stream",
     "text": [
      "\n"
     ]
    }
   ],
   "source": [
    "training_loop(model2, train_loader, valid_loader, device, num_epochs=25, validation=True)"
   ],
   "metadata": {
    "collapsed": false
   }
  },
  {
   "cell_type": "code",
   "execution_count": 8,
   "outputs": [
    {
     "name": "stdout",
     "output_type": "stream",
     "text": [
      "Accuracy on test set: 40.6%\n",
      "MAE: 6.255369850961012, MSE:82.53447013553286,\n",
      "RMSE: 9.084848382638691, IA: 0.8690785849794485\n"
     ]
    },
    {
     "data": {
      "text/plain": "(6.255369850961012, 82.53447013553286, 9.084848382638691, 0.8690785849794485)"
     },
     "execution_count": 8,
     "metadata": {},
     "output_type": "execute_result"
    }
   ],
   "source": [
    "print(f'Accuracy on test set: {get_accuracy(model2, test_loader, device=device, pct_close=0.2)*100}%')\n",
    "get_error_measures(model2, test_loader, device=device, print_e=True)"
   ],
   "metadata": {
    "collapsed": false
   }
  },
  {
   "cell_type": "markdown",
   "source": [
    "### SNN with Synaptic layer"
   ],
   "metadata": {
    "collapsed": false
   }
  },
  {
   "cell_type": "code",
   "execution_count": 12,
   "outputs": [
    {
     "name": "stdout",
     "output_type": "stream",
     "text": [
      "TwoLayerSynaptic(\n",
      "  (fc1): Linear(in_features=8, out_features=2500, bias=True)\n",
      "  (lif): Synaptic()\n",
      "  (fc2): Linear(in_features=2500, out_features=1, bias=True)\n",
      ")\n"
     ]
    }
   ],
   "source": [
    "model3 = SynapticSNN(num_inputs=8, num_hidden=2500, num_outputs=1)\n",
    "print(model3)"
   ],
   "metadata": {
    "collapsed": false
   }
  },
  {
   "cell_type": "code",
   "execution_count": 13,
   "outputs": [
    {
     "name": "stderr",
     "output_type": "stream",
     "text": [
      "  5%|▌         | 1/20 [00:19<06:14, 19.72s/it]"
     ]
    },
    {
     "name": "stdout",
     "output_type": "stream",
     "text": [
      "MAE: 7.818231159276356, MSE:120.42788208949321,\n",
      "RMSE: 10.97396382760091, IA: 0.7456003500414856\n"
     ]
    },
    {
     "name": "stderr",
     "output_type": "stream",
     "text": [
      " 20%|██        | 4/20 [01:17<05:11, 19.46s/it]"
     ]
    },
    {
     "name": "stdout",
     "output_type": "stream",
     "text": [
      "MAE: 6.625340978258607, MSE:92.43018684795527,\n",
      "RMSE: 9.614061932812543, IA: 0.8547333987767537\n"
     ]
    },
    {
     "name": "stderr",
     "output_type": "stream",
     "text": [
      " 35%|███▌      | 7/20 [02:17<04:14, 19.60s/it]"
     ]
    },
    {
     "name": "stdout",
     "output_type": "stream",
     "text": [
      "MAE: 6.546196510888248, MSE:91.16431444486572,\n",
      "RMSE: 9.54800054696614, IA: 0.8590317943024808\n"
     ]
    },
    {
     "name": "stderr",
     "output_type": "stream",
     "text": [
      " 50%|█████     | 10/20 [03:13<03:11, 19.18s/it]"
     ]
    },
    {
     "name": "stdout",
     "output_type": "stream",
     "text": [
      "MAE: 6.524554909722654, MSE:88.89623431776704,\n",
      "RMSE: 9.428479957966026, IA: 0.8614648899034976\n"
     ]
    },
    {
     "name": "stderr",
     "output_type": "stream",
     "text": [
      " 65%|██████▌   | 13/20 [04:09<02:11, 18.82s/it]"
     ]
    },
    {
     "name": "stdout",
     "output_type": "stream",
     "text": [
      "MAE: 7.058184988099026, MSE:95.74465007634417,\n",
      "RMSE: 9.78491952324311, IA: 0.8616261882299665\n"
     ]
    },
    {
     "name": "stderr",
     "output_type": "stream",
     "text": [
      " 80%|████████  | 16/20 [05:05<01:15, 18.84s/it]"
     ]
    },
    {
     "name": "stdout",
     "output_type": "stream",
     "text": [
      "MAE: 6.703999995909674, MSE:94.98943056162022,\n",
      "RMSE: 9.746252128978616, IA: 0.862615379782494\n"
     ]
    },
    {
     "name": "stderr",
     "output_type": "stream",
     "text": [
      " 95%|█████████▌| 19/20 [06:03<00:19, 19.11s/it]"
     ]
    },
    {
     "name": "stdout",
     "output_type": "stream",
     "text": [
      "MAE: 6.793549091140659, MSE:92.17983708145347,\n",
      "RMSE: 9.601033125734618, IA: 0.8612399712229653\n"
     ]
    },
    {
     "name": "stderr",
     "output_type": "stream",
     "text": [
      "100%|██████████| 20/20 [06:21<00:00, 19.09s/it]\n"
     ]
    },
    {
     "name": "stdout",
     "output_type": "stream",
     "text": [
      "Accuracy on validation dataset: 48.67%\n"
     ]
    }
   ],
   "source": [
    "training_loop(model3, train_loader, valid_loader, device, num_epochs=20, validation=True)"
   ],
   "metadata": {
    "collapsed": false
   }
  },
  {
   "cell_type": "code",
   "execution_count": 14,
   "outputs": [
    {
     "name": "stdout",
     "output_type": "stream",
     "text": [
      "Accuracy on test set: 50.62%\n",
      "MAE: 6.301764238780746, MSE:82.199676836497,\n",
      "RMSE: 9.066403743298498, IA: 0.8888638637486594\n"
     ]
    },
    {
     "data": {
      "text/plain": "(6.301764238780746, 82.199676836497, 9.066403743298498, 0.8888638637486594)"
     },
     "execution_count": 14,
     "metadata": {},
     "output_type": "execute_result"
    }
   ],
   "source": [
    "print(f'Accuracy on test set: {get_accuracy(model3, test_loader, device=device, pct_close=0.25)*100}%')\n",
    "get_error_measures(model3, test_loader, device=device, print_e=True)"
   ],
   "metadata": {
    "collapsed": false
   }
  },
  {
   "cell_type": "markdown",
   "source": [
    "### SNN with two Leaky layers"
   ],
   "metadata": {
    "collapsed": false
   }
  },
  {
   "cell_type": "code",
   "execution_count": 15,
   "outputs": [
    {
     "name": "stdout",
     "output_type": "stream",
     "text": [
      "ThreeLayerLeaky(\n",
      "  (lin1): Linear(in_features=8, out_features=2500, bias=True)\n",
      "  (lif1): Leaky()\n",
      "  (lif2): Leaky()\n",
      "  (lin2): Linear(in_features=2500, out_features=1, bias=True)\n",
      ")\n"
     ]
    }
   ],
   "source": [
    "model4 = DoubleLeakySNN(num_inputs=8, num_hidden=2500, num_outputs=1)\n",
    "print(model4)"
   ],
   "metadata": {
    "collapsed": false
   }
  },
  {
   "cell_type": "code",
   "execution_count": 16,
   "outputs": [
    {
     "name": "stderr",
     "output_type": "stream",
     "text": [
      "  5%|▌         | 1/20 [00:09<02:53,  9.15s/it]"
     ]
    },
    {
     "name": "stdout",
     "output_type": "stream",
     "text": [
      "MAE: 9.45273986882557, MSE:180.17615649733347,\n",
      "RMSE: 13.422971224633296, IA: 0.396622310510242\n"
     ]
    },
    {
     "name": "stderr",
     "output_type": "stream",
     "text": [
      " 20%|██        | 4/20 [00:36<02:22,  8.89s/it]"
     ]
    },
    {
     "name": "stdout",
     "output_type": "stream",
     "text": [
      "MAE: 7.473445032924586, MSE:106.21734866091151,\n",
      "RMSE: 10.3061801197588, IA: 0.8342725805137609\n"
     ]
    },
    {
     "name": "stderr",
     "output_type": "stream",
     "text": [
      " 35%|███▌      | 7/20 [01:02<01:56,  8.96s/it]"
     ]
    },
    {
     "name": "stdout",
     "output_type": "stream",
     "text": [
      "MAE: 6.971606903406926, MSE:98.9551156032709,\n",
      "RMSE: 9.947618589555537, IA: 0.8406829192725489\n"
     ]
    },
    {
     "name": "stderr",
     "output_type": "stream",
     "text": [
      " 50%|█████     | 10/20 [01:28<01:27,  8.71s/it]"
     ]
    },
    {
     "name": "stdout",
     "output_type": "stream",
     "text": [
      "MAE: 6.982346800434796, MSE:100.20801816695241,\n",
      "RMSE: 10.010395505021389, IA: 0.8467344949195144\n"
     ]
    },
    {
     "name": "stderr",
     "output_type": "stream",
     "text": [
      " 65%|██████▌   | 13/20 [01:54<01:01,  8.73s/it]"
     ]
    },
    {
     "name": "stdout",
     "output_type": "stream",
     "text": [
      "MAE: 6.922057798418695, MSE:97.0509350358513,\n",
      "RMSE: 9.851443297093644, IA: 0.8493369116131547\n"
     ]
    },
    {
     "name": "stderr",
     "output_type": "stream",
     "text": [
      " 80%|████████  | 16/20 [02:21<00:35,  8.85s/it]"
     ]
    },
    {
     "name": "stdout",
     "output_type": "stream",
     "text": [
      "MAE: 7.0720461867448225, MSE:100.54827395166143,\n",
      "RMSE: 10.027376224699132, IA: 0.8446595485319661\n"
     ]
    },
    {
     "name": "stderr",
     "output_type": "stream",
     "text": [
      " 95%|█████████▌| 19/20 [02:48<00:08,  8.96s/it]"
     ]
    },
    {
     "name": "stdout",
     "output_type": "stream",
     "text": [
      "MAE: 6.790115591280722, MSE:97.14783198677837,\n",
      "RMSE: 9.856359976521675, IA: 0.85194177791481\n"
     ]
    },
    {
     "name": "stderr",
     "output_type": "stream",
     "text": [
      "100%|██████████| 20/20 [02:56<00:00,  8.83s/it]\n"
     ]
    },
    {
     "name": "stdout",
     "output_type": "stream",
     "text": [
      "Accuracy on validation dataset: 44.97%\n"
     ]
    }
   ],
   "source": [
    "training_loop(model4, train_loader, valid_loader, device, num_epochs=20, validation=True)"
   ],
   "metadata": {
    "collapsed": false
   }
  },
  {
   "cell_type": "code",
   "execution_count": 17,
   "outputs": [
    {
     "name": "stdout",
     "output_type": "stream",
     "text": [
      "Accuracy on test set: 49.61%\n",
      "MAE: 6.509637902073206, MSE:90.49805812315023,\n",
      "RMSE: 9.51304673189143, IA: 0.8740836822504967\n"
     ]
    },
    {
     "data": {
      "text/plain": "(6.509637902073206, 90.49805812315023, 9.51304673189143, 0.8740836822504967)"
     },
     "execution_count": 17,
     "metadata": {},
     "output_type": "execute_result"
    }
   ],
   "source": [
    "print(f'Accuracy on test set: {get_accuracy(model4, test_loader, device=device, pct_close=0.25)*100}%')\n",
    "get_error_measures(model4, test_loader, device=device, print_e=True)"
   ],
   "metadata": {
    "collapsed": false
   }
  },
  {
   "cell_type": "markdown",
   "source": [
    "### Repeated training on random datasets"
   ],
   "metadata": {
    "collapsed": false
   }
  },
  {
   "cell_type": "code",
   "execution_count": 17,
   "outputs": [],
   "source": [
    "for i in range(10):\n",
    "    # Prepare data loaders\n",
    "    train_dataset, test_dataset, valid_dataset = torch.utils.data.random_split(all_data, (round(0.75 * len(all_data)), round(0.15 * len(all_data)), round(0.1 * len(all_data))))\n",
    "    train_loader = data.DataLoader(train_dataset, batch_size=32, shuffle=True, drop_last=True)\n",
    "    test_loader = data.DataLoader(test_dataset, batch_size=256, shuffle=False, drop_last=False)\n",
    "    valid_loader = data.DataLoader(valid_dataset, batch_size=256, shuffle=False, drop_last=False)\n",
    "\n",
    "    # Prepare models\n",
    "    model1 = TwoLayerPerceptron(num_inputs=8, num_hidden=2500, num_outputs=1)\n",
    "    model2 = LeakySNN(num_inputs=8, num_hidden=2500, num_outputs=1)\n",
    "    model3 = SynapticSNN(num_inputs=8, num_hidden=2500, num_outputs=1)\n",
    "    model4 = DoubleLeakySNN(num_inputs=8, num_hidden=2500, num_outputs=1)\n",
    "\n",
    "    # Train models\n",
    "    print(f'------------------------------------\\nTraining {i+1}')\n",
    "    training_loop(model1, train_loader, valid_loader, device, num_epochs=25, validation=False)\n",
    "    training_loop(model2, train_loader, valid_loader, device, num_epochs=25, validation=False)\n",
    "    training_loop(model3, train_loader, valid_loader, device, num_epochs=20, validation=False)\n",
    "    training_loop(model4, train_loader, valid_loader, device, num_epochs=20, validation=False)\n",
    "\n",
    "    # TODO: Gather results.\n",
    "    get_error_measures(model1, test_loader, device=device, print_e=False)\n",
    "    get_error_measures(model2, test_loader, device=device, print_e=False)\n",
    "    get_error_measures(model3, test_loader, device=device, print_e=False)\n",
    "    get_error_measures(model4, test_loader, device=device, print_e=False)"
   ],
   "metadata": {
    "collapsed": false
   }
  }
 ],
 "metadata": {
  "kernelspec": {
   "display_name": "Python 3",
   "language": "python",
   "name": "python3"
  },
  "language_info": {
   "codemirror_mode": {
    "name": "ipython",
    "version": 2
   },
   "file_extension": ".py",
   "mimetype": "text/x-python",
   "name": "python",
   "nbconvert_exporter": "python",
   "pygments_lexer": "ipython2",
   "version": "2.7.6"
  }
 },
 "nbformat": 4,
 "nbformat_minor": 0
}