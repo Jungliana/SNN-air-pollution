{
 "cells": [
  {
   "cell_type": "code",
   "execution_count": 1,
   "outputs": [],
   "source": [
    "import torch\n",
    "import torch.utils.data as data\n",
    "import pandas as pd\n",
    "import matplotlib.pyplot as plt\n",
    "from src.error_measures import get_accuracy, get_error_measures, collect_stats, print_average_stats, gather_predictions\n",
    "from src.models import MultiLayerANN, SynapticSNN, LeakySNN, DoubleLeakySNN\n",
    "from src.train_model import training_loop"
   ],
   "metadata": {
    "collapsed": false
   }
  },
  {
   "cell_type": "code",
   "execution_count": 2,
   "outputs": [
    {
     "data": {
      "text/plain": "device(type='cuda')"
     },
     "execution_count": 2,
     "metadata": {},
     "output_type": "execute_result"
    }
   ],
   "source": [
    "device = torch.device(\"cuda\") if torch.cuda.is_available() else torch.device(\"cpu\")\n",
    "device"
   ],
   "metadata": {
    "collapsed": false
   }
  },
  {
   "cell_type": "markdown",
   "source": [
    "## Data"
   ],
   "metadata": {
    "collapsed": false
   }
  },
  {
   "cell_type": "code",
   "execution_count": 3,
   "outputs": [],
   "source": [
    "data12 = pd.read_csv(\"../data/processed/target12.csv\")\n",
    "data12.drop(columns=[\"weekday\"], inplace=True)"
   ],
   "metadata": {
    "collapsed": false
   }
  },
  {
   "cell_type": "code",
   "execution_count": 4,
   "outputs": [],
   "source": [
    "all_data = data.TensorDataset(torch.from_numpy((data12.values[:,:-1] - data12.values[:,:-1].min(0)) / data12.values[:,:-1].ptp(0)).float(),\n",
    "                              torch.from_numpy(data12.values[:,-1]).float())  # with normalization\n",
    "train_dataset, test_dataset, valid_dataset = torch.utils.data.random_split(all_data, (round(0.8 * len(all_data)), round(0.1 * len(all_data)), round(0.1 * len(all_data))))"
   ],
   "metadata": {
    "collapsed": false
   }
  },
  {
   "cell_type": "code",
   "execution_count": 5,
   "outputs": [],
   "source": [
    "train_loader = data.DataLoader(train_dataset, batch_size=32, shuffle=True, drop_last=True)\n",
    "test_loader = data.DataLoader(test_dataset, batch_size=256, shuffle=False, drop_last=False)\n",
    "valid_loader = data.DataLoader(valid_dataset, batch_size=256, shuffle=False, drop_last=False)"
   ],
   "metadata": {
    "collapsed": false
   }
  },
  {
   "cell_type": "markdown",
   "source": [
    "### Simple regressor"
   ],
   "metadata": {
    "collapsed": false
   }
  },
  {
   "cell_type": "code",
   "execution_count": 6,
   "outputs": [
    {
     "name": "stdout",
     "output_type": "stream",
     "text": [
      "SimpleANN(\n",
      "  (lin1): Linear(in_features=8, out_features=3500, bias=True)\n",
      "  (tanh): Tanh()\n",
      "  (lin2): Linear(in_features=3500, out_features=3500, bias=True)\n",
      "  (relu): ReLU()\n",
      "  (lin3): Linear(in_features=3500, out_features=1, bias=True)\n",
      ")\n"
     ]
    }
   ],
   "source": [
    "model1 = MultiLayerANN(num_inputs=8, num_hidden=3500, num_outputs=1)\n",
    "print(model1)"
   ],
   "metadata": {
    "collapsed": false
   }
  },
  {
   "cell_type": "code",
   "execution_count": 7,
   "outputs": [
    {
     "name": "stderr",
     "output_type": "stream",
     "text": [
      "  1%|          | 1/100 [00:04<07:42,  4.67s/it]"
     ]
    },
    {
     "name": "stdout",
     "output_type": "stream",
     "text": [
      "MAE: 8.5964, MSE:138.7623,\n",
      "RMSE: 11.7797, IA: 0.7844, MAPE: 59.7695%\n"
     ]
    },
    {
     "name": "stderr",
     "output_type": "stream",
     "text": [
      "  2%|▏         | 2/100 [00:06<04:44,  2.91s/it]"
     ]
    },
    {
     "name": "stdout",
     "output_type": "stream",
     "text": [
      "MAE: 8.2042, MSE:144.9369,\n",
      "RMSE: 12.0390, IA: 0.7464, MAPE: 51.1733%\n"
     ]
    },
    {
     "name": "stderr",
     "output_type": "stream",
     "text": [
      "  3%|▎         | 3/100 [00:08<03:49,  2.36s/it]"
     ]
    },
    {
     "name": "stdout",
     "output_type": "stream",
     "text": [
      "MAE: 8.2704, MSE:139.2700,\n",
      "RMSE: 11.8013, IA: 0.7789, MAPE: 54.1842%\n"
     ]
    },
    {
     "name": "stderr",
     "output_type": "stream",
     "text": [
      "  4%|▍         | 4/100 [00:09<03:21,  2.10s/it]"
     ]
    },
    {
     "name": "stdout",
     "output_type": "stream",
     "text": [
      "MAE: 8.0976, MSE:135.0155,\n",
      "RMSE: 11.6196, IA: 0.8179, MAPE: 51.7031%\n"
     ]
    },
    {
     "name": "stderr",
     "output_type": "stream",
     "text": [
      "  5%|▌         | 5/100 [00:11<03:04,  1.94s/it]"
     ]
    },
    {
     "name": "stdout",
     "output_type": "stream",
     "text": [
      "MAE: 7.7986, MSE:133.5057,\n",
      "RMSE: 11.5545, IA: 0.8085, MAPE: 43.6454%\n"
     ]
    },
    {
     "name": "stderr",
     "output_type": "stream",
     "text": [
      "  6%|▌         | 6/100 [00:13<02:53,  1.84s/it]"
     ]
    },
    {
     "name": "stdout",
     "output_type": "stream",
     "text": [
      "MAE: 7.8416, MSE:135.2949,\n",
      "RMSE: 11.6316, IA: 0.8205, MAPE: 43.2545%\n"
     ]
    },
    {
     "name": "stderr",
     "output_type": "stream",
     "text": [
      "  7%|▋         | 7/100 [00:14<02:47,  1.80s/it]"
     ]
    },
    {
     "name": "stdout",
     "output_type": "stream",
     "text": [
      "MAE: 8.2357, MSE:128.6745,\n",
      "RMSE: 11.3435, IA: 0.8254, MAPE: 57.0285%\n"
     ]
    },
    {
     "name": "stderr",
     "output_type": "stream",
     "text": [
      "  8%|▊         | 8/100 [00:16<02:42,  1.76s/it]"
     ]
    },
    {
     "name": "stdout",
     "output_type": "stream",
     "text": [
      "MAE: 7.6609, MSE:121.5701,\n",
      "RMSE: 11.0259, IA: 0.8386, MAPE: 48.3948%\n"
     ]
    },
    {
     "name": "stderr",
     "output_type": "stream",
     "text": [
      "  9%|▉         | 9/100 [00:18<02:40,  1.76s/it]"
     ]
    },
    {
     "name": "stdout",
     "output_type": "stream",
     "text": [
      "MAE: 7.5670, MSE:121.7344,\n",
      "RMSE: 11.0333, IA: 0.8315, MAPE: 45.6334%\n"
     ]
    },
    {
     "name": "stderr",
     "output_type": "stream",
     "text": [
      " 10%|█         | 10/100 [00:19<02:35,  1.73s/it]"
     ]
    },
    {
     "name": "stdout",
     "output_type": "stream",
     "text": [
      "MAE: 7.6371, MSE:118.4872,\n",
      "RMSE: 10.8852, IA: 0.8189, MAPE: 49.6367%\n"
     ]
    },
    {
     "name": "stderr",
     "output_type": "stream",
     "text": [
      " 11%|█         | 11/100 [00:21<02:33,  1.72s/it]"
     ]
    },
    {
     "name": "stdout",
     "output_type": "stream",
     "text": [
      "MAE: 8.2124, MSE:126.8914,\n",
      "RMSE: 11.2646, IA: 0.8240, MAPE: 57.5989%\n"
     ]
    },
    {
     "name": "stderr",
     "output_type": "stream",
     "text": [
      " 12%|█▏        | 12/100 [00:23<02:31,  1.72s/it]"
     ]
    },
    {
     "name": "stdout",
     "output_type": "stream",
     "text": [
      "MAE: 7.8829, MSE:116.5097,\n",
      "RMSE: 10.7940, IA: 0.8422, MAPE: 55.0920%\n"
     ]
    },
    {
     "name": "stderr",
     "output_type": "stream",
     "text": [
      " 13%|█▎        | 13/100 [00:25<02:29,  1.72s/it]"
     ]
    },
    {
     "name": "stdout",
     "output_type": "stream",
     "text": [
      "MAE: 7.4768, MSE:120.8418,\n",
      "RMSE: 10.9928, IA: 0.8331, MAPE: 43.7773%\n"
     ]
    },
    {
     "name": "stderr",
     "output_type": "stream",
     "text": [
      " 14%|█▍        | 14/100 [00:26<02:27,  1.71s/it]"
     ]
    },
    {
     "name": "stdout",
     "output_type": "stream",
     "text": [
      "MAE: 7.4577, MSE:114.1084,\n",
      "RMSE: 10.6822, IA: 0.8474, MAPE: 46.3214%\n"
     ]
    },
    {
     "name": "stderr",
     "output_type": "stream",
     "text": [
      " 15%|█▌        | 15/100 [00:28<02:24,  1.70s/it]"
     ]
    },
    {
     "name": "stdout",
     "output_type": "stream",
     "text": [
      "MAE: 7.5725, MSE:120.6999,\n",
      "RMSE: 10.9864, IA: 0.8276, MAPE: 45.5618%\n"
     ]
    },
    {
     "name": "stderr",
     "output_type": "stream",
     "text": [
      " 16%|█▌        | 16/100 [00:30<02:23,  1.71s/it]"
     ]
    },
    {
     "name": "stdout",
     "output_type": "stream",
     "text": [
      "MAE: 7.5783, MSE:110.8910,\n",
      "RMSE: 10.5305, IA: 0.8627, MAPE: 50.4713%\n"
     ]
    },
    {
     "name": "stderr",
     "output_type": "stream",
     "text": [
      " 17%|█▋        | 17/100 [00:31<02:20,  1.70s/it]"
     ]
    },
    {
     "name": "stdout",
     "output_type": "stream",
     "text": [
      "MAE: 7.4422, MSE:118.8478,\n",
      "RMSE: 10.9017, IA: 0.8516, MAPE: 40.4686%\n"
     ]
    },
    {
     "name": "stderr",
     "output_type": "stream",
     "text": [
      " 18%|█▊        | 18/100 [00:33<02:20,  1.71s/it]"
     ]
    },
    {
     "name": "stdout",
     "output_type": "stream",
     "text": [
      "MAE: 7.8636, MSE:116.2510,\n",
      "RMSE: 10.7820, IA: 0.8543, MAPE: 54.2783%\n"
     ]
    },
    {
     "name": "stderr",
     "output_type": "stream",
     "text": [
      " 19%|█▉        | 19/100 [00:35<02:18,  1.71s/it]"
     ]
    },
    {
     "name": "stdout",
     "output_type": "stream",
     "text": [
      "MAE: 7.0930, MSE:105.6775,\n",
      "RMSE: 10.2800, IA: 0.8567, MAPE: 43.2535%\n"
     ]
    },
    {
     "name": "stderr",
     "output_type": "stream",
     "text": [
      " 20%|██        | 20/100 [00:36<02:17,  1.72s/it]"
     ]
    },
    {
     "name": "stdout",
     "output_type": "stream",
     "text": [
      "MAE: 7.3597, MSE:123.0002,\n",
      "RMSE: 11.0905, IA: 0.8351, MAPE: 39.0932%\n"
     ]
    },
    {
     "name": "stderr",
     "output_type": "stream",
     "text": [
      " 21%|██        | 21/100 [00:38<02:14,  1.70s/it]"
     ]
    },
    {
     "name": "stdout",
     "output_type": "stream",
     "text": [
      "MAE: 7.2819, MSE:109.2956,\n",
      "RMSE: 10.4545, IA: 0.8499, MAPE: 46.8423%\n"
     ]
    },
    {
     "name": "stderr",
     "output_type": "stream",
     "text": [
      " 22%|██▏       | 22/100 [00:40<02:13,  1.71s/it]"
     ]
    },
    {
     "name": "stdout",
     "output_type": "stream",
     "text": [
      "MAE: 7.2995, MSE:118.1203,\n",
      "RMSE: 10.8683, IA: 0.8341, MAPE: 39.8673%\n"
     ]
    },
    {
     "name": "stderr",
     "output_type": "stream",
     "text": [
      " 23%|██▎       | 23/100 [00:41<02:09,  1.69s/it]"
     ]
    },
    {
     "name": "stdout",
     "output_type": "stream",
     "text": [
      "MAE: 7.2372, MSE:116.6355,\n",
      "RMSE: 10.7998, IA: 0.8658, MAPE: 42.0125%\n"
     ]
    },
    {
     "name": "stderr",
     "output_type": "stream",
     "text": [
      " 24%|██▍       | 24/100 [00:43<02:08,  1.70s/it]"
     ]
    },
    {
     "name": "stdout",
     "output_type": "stream",
     "text": [
      "MAE: 7.7319, MSE:127.3432,\n",
      "RMSE: 11.2846, IA: 0.8422, MAPE: 45.6598%\n"
     ]
    },
    {
     "name": "stderr",
     "output_type": "stream",
     "text": [
      " 25%|██▌       | 25/100 [00:45<02:06,  1.69s/it]"
     ]
    },
    {
     "name": "stdout",
     "output_type": "stream",
     "text": [
      "MAE: 7.3196, MSE:103.9078,\n",
      "RMSE: 10.1935, IA: 0.8689, MAPE: 48.5369%\n"
     ]
    },
    {
     "name": "stderr",
     "output_type": "stream",
     "text": [
      " 26%|██▌       | 26/100 [00:47<02:03,  1.67s/it]"
     ]
    },
    {
     "name": "stdout",
     "output_type": "stream",
     "text": [
      "MAE: 7.5670, MSE:116.5841,\n",
      "RMSE: 10.7974, IA: 0.8449, MAPE: 45.9902%\n"
     ]
    },
    {
     "name": "stderr",
     "output_type": "stream",
     "text": [
      " 27%|██▋       | 27/100 [00:48<02:02,  1.67s/it]"
     ]
    },
    {
     "name": "stdout",
     "output_type": "stream",
     "text": [
      "MAE: 7.0606, MSE:107.3892,\n",
      "RMSE: 10.3629, IA: 0.8766, MAPE: 41.2892%\n"
     ]
    },
    {
     "name": "stderr",
     "output_type": "stream",
     "text": [
      " 28%|██▊       | 28/100 [00:50<02:00,  1.67s/it]"
     ]
    },
    {
     "name": "stdout",
     "output_type": "stream",
     "text": [
      "MAE: 7.0273, MSE:106.8561,\n",
      "RMSE: 10.3371, IA: 0.8550, MAPE: 40.5892%\n"
     ]
    },
    {
     "name": "stderr",
     "output_type": "stream",
     "text": [
      " 29%|██▉       | 29/100 [00:52<02:00,  1.69s/it]"
     ]
    },
    {
     "name": "stdout",
     "output_type": "stream",
     "text": [
      "MAE: 7.0666, MSE:99.7993,\n",
      "RMSE: 9.9900, IA: 0.8771, MAPE: 44.5806%\n"
     ]
    },
    {
     "name": "stderr",
     "output_type": "stream",
     "text": [
      " 30%|███       | 30/100 [00:53<01:58,  1.70s/it]"
     ]
    },
    {
     "name": "stdout",
     "output_type": "stream",
     "text": [
      "MAE: 7.1471, MSE:105.3953,\n",
      "RMSE: 10.2662, IA: 0.8762, MAPE: 42.5020%\n"
     ]
    },
    {
     "name": "stderr",
     "output_type": "stream",
     "text": [
      " 31%|███       | 31/100 [00:55<01:57,  1.70s/it]"
     ]
    },
    {
     "name": "stdout",
     "output_type": "stream",
     "text": [
      "MAE: 7.2613, MSE:114.4430,\n",
      "RMSE: 10.6978, IA: 0.8401, MAPE: 41.0248%\n"
     ]
    },
    {
     "name": "stderr",
     "output_type": "stream",
     "text": [
      " 32%|███▏      | 32/100 [00:57<01:55,  1.71s/it]"
     ]
    },
    {
     "name": "stdout",
     "output_type": "stream",
     "text": [
      "MAE: 7.1599, MSE:105.1749,\n",
      "RMSE: 10.2555, IA: 0.8663, MAPE: 45.7336%\n"
     ]
    },
    {
     "name": "stderr",
     "output_type": "stream",
     "text": [
      " 33%|███▎      | 33/100 [00:58<01:53,  1.70s/it]"
     ]
    },
    {
     "name": "stdout",
     "output_type": "stream",
     "text": [
      "MAE: 7.1150, MSE:105.1386,\n",
      "RMSE: 10.2537, IA: 0.8662, MAPE: 42.5114%\n"
     ]
    },
    {
     "name": "stderr",
     "output_type": "stream",
     "text": [
      " 34%|███▍      | 34/100 [01:00<01:52,  1.70s/it]"
     ]
    },
    {
     "name": "stdout",
     "output_type": "stream",
     "text": [
      "MAE: 7.0848, MSE:103.7898,\n",
      "RMSE: 10.1877, IA: 0.8730, MAPE: 38.5387%\n"
     ]
    },
    {
     "name": "stderr",
     "output_type": "stream",
     "text": [
      " 35%|███▌      | 35/100 [01:02<01:50,  1.71s/it]"
     ]
    },
    {
     "name": "stdout",
     "output_type": "stream",
     "text": [
      "MAE: 7.1778, MSE:104.5217,\n",
      "RMSE: 10.2236, IA: 0.8635, MAPE: 44.2940%\n"
     ]
    },
    {
     "name": "stderr",
     "output_type": "stream",
     "text": [
      " 36%|███▌      | 36/100 [01:04<01:48,  1.70s/it]"
     ]
    },
    {
     "name": "stdout",
     "output_type": "stream",
     "text": [
      "MAE: 7.1696, MSE:108.0492,\n",
      "RMSE: 10.3947, IA: 0.8514, MAPE: 42.8307%\n"
     ]
    },
    {
     "name": "stderr",
     "output_type": "stream",
     "text": [
      " 37%|███▋      | 37/100 [01:05<01:46,  1.70s/it]"
     ]
    },
    {
     "name": "stdout",
     "output_type": "stream",
     "text": [
      "MAE: 6.9240, MSE:98.9492,\n",
      "RMSE: 9.9473, IA: 0.8801, MAPE: 41.0226%\n"
     ]
    },
    {
     "name": "stderr",
     "output_type": "stream",
     "text": [
      " 38%|███▊      | 38/100 [01:07<01:44,  1.68s/it]"
     ]
    },
    {
     "name": "stdout",
     "output_type": "stream",
     "text": [
      "MAE: 7.5614, MSE:119.8934,\n",
      "RMSE: 10.9496, IA: 0.8483, MAPE: 41.4809%\n"
     ]
    },
    {
     "name": "stderr",
     "output_type": "stream",
     "text": [
      " 39%|███▉      | 39/100 [01:09<01:42,  1.67s/it]"
     ]
    },
    {
     "name": "stdout",
     "output_type": "stream",
     "text": [
      "MAE: 7.1584, MSE:100.0308,\n",
      "RMSE: 10.0015, IA: 0.8768, MAPE: 45.9351%\n"
     ]
    },
    {
     "name": "stderr",
     "output_type": "stream",
     "text": [
      " 40%|████      | 40/100 [01:10<01:39,  1.66s/it]"
     ]
    },
    {
     "name": "stdout",
     "output_type": "stream",
     "text": [
      "MAE: 7.2660, MSE:107.6284,\n",
      "RMSE: 10.3744, IA: 0.8790, MAPE: 42.8673%\n"
     ]
    },
    {
     "name": "stderr",
     "output_type": "stream",
     "text": [
      " 41%|████      | 41/100 [01:12<01:38,  1.66s/it]"
     ]
    },
    {
     "name": "stdout",
     "output_type": "stream",
     "text": [
      "MAE: 7.0605, MSE:102.7305,\n",
      "RMSE: 10.1356, IA: 0.8829, MAPE: 41.3544%\n"
     ]
    },
    {
     "name": "stderr",
     "output_type": "stream",
     "text": [
      " 42%|████▏     | 42/100 [01:13<01:36,  1.66s/it]"
     ]
    },
    {
     "name": "stdout",
     "output_type": "stream",
     "text": [
      "MAE: 7.0830, MSE:101.3980,\n",
      "RMSE: 10.0697, IA: 0.8694, MAPE: 43.8712%\n"
     ]
    },
    {
     "name": "stderr",
     "output_type": "stream",
     "text": [
      " 43%|████▎     | 43/100 [01:15<01:34,  1.66s/it]"
     ]
    },
    {
     "name": "stdout",
     "output_type": "stream",
     "text": [
      "MAE: 7.1671, MSE:103.8577,\n",
      "RMSE: 10.1911, IA: 0.8661, MAPE: 42.6691%\n"
     ]
    },
    {
     "name": "stderr",
     "output_type": "stream",
     "text": [
      " 44%|████▍     | 44/100 [01:17<01:32,  1.65s/it]"
     ]
    },
    {
     "name": "stdout",
     "output_type": "stream",
     "text": [
      "MAE: 7.0376, MSE:97.0893,\n",
      "RMSE: 9.8534, IA: 0.8834, MAPE: 45.7660%\n"
     ]
    },
    {
     "name": "stderr",
     "output_type": "stream",
     "text": [
      " 45%|████▌     | 45/100 [01:18<01:30,  1.65s/it]"
     ]
    },
    {
     "name": "stdout",
     "output_type": "stream",
     "text": [
      "MAE: 6.9513, MSE:99.2328,\n",
      "RMSE: 9.9616, IA: 0.8877, MAPE: 41.0588%\n"
     ]
    },
    {
     "name": "stderr",
     "output_type": "stream",
     "text": [
      " 46%|████▌     | 46/100 [01:20<01:29,  1.65s/it]"
     ]
    },
    {
     "name": "stdout",
     "output_type": "stream",
     "text": [
      "MAE: 7.3530, MSE:103.9163,\n",
      "RMSE: 10.1939, IA: 0.8833, MAPE: 46.7231%\n"
     ]
    },
    {
     "name": "stderr",
     "output_type": "stream",
     "text": [
      " 47%|████▋     | 47/100 [01:22<01:27,  1.66s/it]"
     ]
    },
    {
     "name": "stdout",
     "output_type": "stream",
     "text": [
      "MAE: 7.3249, MSE:101.1528,\n",
      "RMSE: 10.0575, IA: 0.8660, MAPE: 49.5905%\n"
     ]
    },
    {
     "name": "stderr",
     "output_type": "stream",
     "text": [
      " 48%|████▊     | 48/100 [01:23<01:25,  1.65s/it]"
     ]
    },
    {
     "name": "stdout",
     "output_type": "stream",
     "text": [
      "MAE: 6.9400, MSE:94.4043,\n",
      "RMSE: 9.7162, IA: 0.8840, MAPE: 44.3758%\n"
     ]
    },
    {
     "name": "stderr",
     "output_type": "stream",
     "text": [
      " 49%|████▉     | 49/100 [01:25<01:23,  1.65s/it]"
     ]
    },
    {
     "name": "stdout",
     "output_type": "stream",
     "text": [
      "MAE: 6.9504, MSE:93.9161,\n",
      "RMSE: 9.6910, IA: 0.8908, MAPE: 44.2551%\n"
     ]
    },
    {
     "name": "stderr",
     "output_type": "stream",
     "text": [
      " 50%|█████     | 50/100 [01:27<01:22,  1.65s/it]"
     ]
    },
    {
     "name": "stdout",
     "output_type": "stream",
     "text": [
      "MAE: 7.0281, MSE:102.4096,\n",
      "RMSE: 10.1198, IA: 0.8650, MAPE: 41.9839%\n"
     ]
    },
    {
     "name": "stderr",
     "output_type": "stream",
     "text": [
      " 51%|█████     | 51/100 [01:28<01:20,  1.65s/it]"
     ]
    },
    {
     "name": "stdout",
     "output_type": "stream",
     "text": [
      "MAE: 6.8860, MSE:96.4504,\n",
      "RMSE: 9.8209, IA: 0.8828, MAPE: 42.4219%\n"
     ]
    },
    {
     "name": "stderr",
     "output_type": "stream",
     "text": [
      " 52%|█████▏    | 52/100 [01:30<01:18,  1.64s/it]"
     ]
    },
    {
     "name": "stdout",
     "output_type": "stream",
     "text": [
      "MAE: 7.1186, MSE:102.9624,\n",
      "RMSE: 10.1470, IA: 0.8649, MAPE: 42.9987%\n"
     ]
    },
    {
     "name": "stderr",
     "output_type": "stream",
     "text": [
      " 53%|█████▎    | 53/100 [01:32<01:17,  1.65s/it]"
     ]
    },
    {
     "name": "stdout",
     "output_type": "stream",
     "text": [
      "MAE: 6.8777, MSE:93.9088,\n",
      "RMSE: 9.6907, IA: 0.8814, MAPE: 43.6218%\n"
     ]
    },
    {
     "name": "stderr",
     "output_type": "stream",
     "text": [
      " 54%|█████▍    | 54/100 [01:33<01:16,  1.66s/it]"
     ]
    },
    {
     "name": "stdout",
     "output_type": "stream",
     "text": [
      "MAE: 6.6621, MSE:92.2769,\n",
      "RMSE: 9.6061, IA: 0.8821, MAPE: 40.6035%\n"
     ]
    },
    {
     "name": "stderr",
     "output_type": "stream",
     "text": [
      " 55%|█████▌    | 55/100 [01:35<01:14,  1.66s/it]"
     ]
    },
    {
     "name": "stdout",
     "output_type": "stream",
     "text": [
      "MAE: 7.4530, MSE:107.2202,\n",
      "RMSE: 10.3547, IA: 0.8520, MAPE: 46.5452%\n"
     ]
    },
    {
     "name": "stderr",
     "output_type": "stream",
     "text": [
      " 56%|█████▌    | 56/100 [01:37<01:12,  1.66s/it]"
     ]
    },
    {
     "name": "stdout",
     "output_type": "stream",
     "text": [
      "MAE: 6.9310, MSE:92.0798,\n",
      "RMSE: 9.5958, IA: 0.8850, MAPE: 44.1790%\n"
     ]
    },
    {
     "name": "stderr",
     "output_type": "stream",
     "text": [
      " 57%|█████▋    | 57/100 [01:38<01:11,  1.66s/it]"
     ]
    },
    {
     "name": "stdout",
     "output_type": "stream",
     "text": [
      "MAE: 7.2045, MSE:94.3164,\n",
      "RMSE: 9.7117, IA: 0.8855, MAPE: 47.9041%\n"
     ]
    },
    {
     "name": "stderr",
     "output_type": "stream",
     "text": [
      " 58%|█████▊    | 58/100 [01:40<01:09,  1.65s/it]"
     ]
    },
    {
     "name": "stdout",
     "output_type": "stream",
     "text": [
      "MAE: 7.1721, MSE:98.8131,\n",
      "RMSE: 9.9405, IA: 0.8922, MAPE: 46.0995%\n"
     ]
    },
    {
     "name": "stderr",
     "output_type": "stream",
     "text": [
      " 59%|█████▉    | 59/100 [01:42<01:08,  1.66s/it]"
     ]
    },
    {
     "name": "stdout",
     "output_type": "stream",
     "text": [
      "MAE: 7.1513, MSE:98.8364,\n",
      "RMSE: 9.9416, IA: 0.8683, MAPE: 45.0317%\n"
     ]
    },
    {
     "name": "stderr",
     "output_type": "stream",
     "text": [
      " 60%|██████    | 60/100 [01:43<01:06,  1.65s/it]"
     ]
    },
    {
     "name": "stdout",
     "output_type": "stream",
     "text": [
      "MAE: 7.0392, MSE:96.7203,\n",
      "RMSE: 9.8347, IA: 0.8794, MAPE: 44.0701%\n"
     ]
    },
    {
     "name": "stderr",
     "output_type": "stream",
     "text": [
      " 61%|██████    | 61/100 [01:45<01:04,  1.65s/it]"
     ]
    },
    {
     "name": "stdout",
     "output_type": "stream",
     "text": [
      "MAE: 6.9729, MSE:91.8939,\n",
      "RMSE: 9.5861, IA: 0.8924, MAPE: 45.3798%\n"
     ]
    },
    {
     "name": "stderr",
     "output_type": "stream",
     "text": [
      " 62%|██████▏   | 62/100 [01:47<01:02,  1.66s/it]"
     ]
    },
    {
     "name": "stdout",
     "output_type": "stream",
     "text": [
      "MAE: 7.9756, MSE:108.2885,\n",
      "RMSE: 10.4062, IA: 0.8708, MAPE: 58.5556%\n"
     ]
    },
    {
     "name": "stderr",
     "output_type": "stream",
     "text": [
      " 63%|██████▎   | 63/100 [01:48<01:01,  1.65s/it]"
     ]
    },
    {
     "name": "stdout",
     "output_type": "stream",
     "text": [
      "MAE: 6.9385, MSE:100.3921,\n",
      "RMSE: 10.0196, IA: 0.8915, MAPE: 40.9368%\n"
     ]
    },
    {
     "name": "stderr",
     "output_type": "stream",
     "text": [
      " 64%|██████▍   | 64/100 [01:50<00:59,  1.66s/it]"
     ]
    },
    {
     "name": "stdout",
     "output_type": "stream",
     "text": [
      "MAE: 7.0168, MSE:97.8673,\n",
      "RMSE: 9.8928, IA: 0.8735, MAPE: 41.6421%\n"
     ]
    },
    {
     "name": "stderr",
     "output_type": "stream",
     "text": [
      " 65%|██████▌   | 65/100 [01:51<00:58,  1.66s/it]"
     ]
    },
    {
     "name": "stdout",
     "output_type": "stream",
     "text": [
      "MAE: 7.2948, MSE:108.5150,\n",
      "RMSE: 10.4171, IA: 0.8679, MAPE: 38.8252%\n"
     ]
    },
    {
     "name": "stderr",
     "output_type": "stream",
     "text": [
      " 66%|██████▌   | 66/100 [01:53<00:56,  1.65s/it]"
     ]
    },
    {
     "name": "stdout",
     "output_type": "stream",
     "text": [
      "MAE: 6.9050, MSE:91.2855,\n",
      "RMSE: 9.5543, IA: 0.8758, MAPE: 44.6372%\n"
     ]
    },
    {
     "name": "stderr",
     "output_type": "stream",
     "text": [
      " 67%|██████▋   | 67/100 [01:55<00:54,  1.66s/it]"
     ]
    },
    {
     "name": "stdout",
     "output_type": "stream",
     "text": [
      "MAE: 7.5119, MSE:104.9614,\n",
      "RMSE: 10.2451, IA: 0.8649, MAPE: 50.7137%\n"
     ]
    },
    {
     "name": "stderr",
     "output_type": "stream",
     "text": [
      " 68%|██████▊   | 68/100 [01:56<00:53,  1.66s/it]"
     ]
    },
    {
     "name": "stdout",
     "output_type": "stream",
     "text": [
      "MAE: 7.1840, MSE:98.8619,\n",
      "RMSE: 9.9429, IA: 0.8946, MAPE: 47.9066%\n"
     ]
    },
    {
     "name": "stderr",
     "output_type": "stream",
     "text": [
      " 69%|██████▉   | 69/100 [01:58<00:51,  1.66s/it]"
     ]
    },
    {
     "name": "stdout",
     "output_type": "stream",
     "text": [
      "MAE: 6.9691, MSE:90.2831,\n",
      "RMSE: 9.5017, IA: 0.8918, MAPE: 44.0645%\n"
     ]
    },
    {
     "name": "stderr",
     "output_type": "stream",
     "text": [
      " 70%|███████   | 70/100 [02:00<00:49,  1.65s/it]"
     ]
    },
    {
     "name": "stdout",
     "output_type": "stream",
     "text": [
      "MAE: 6.5700, MSE:88.2447,\n",
      "RMSE: 9.3939, IA: 0.8943, MAPE: 39.2614%\n"
     ]
    },
    {
     "name": "stderr",
     "output_type": "stream",
     "text": [
      " 71%|███████   | 71/100 [02:01<00:48,  1.66s/it]"
     ]
    },
    {
     "name": "stdout",
     "output_type": "stream",
     "text": [
      "MAE: 7.3626, MSE:98.0507,\n",
      "RMSE: 9.9021, IA: 0.8771, MAPE: 48.4524%\n"
     ]
    },
    {
     "name": "stderr",
     "output_type": "stream",
     "text": [
      " 72%|███████▏  | 72/100 [02:03<00:46,  1.66s/it]"
     ]
    },
    {
     "name": "stdout",
     "output_type": "stream",
     "text": [
      "MAE: 7.0047, MSE:102.7392,\n",
      "RMSE: 10.1360, IA: 0.8772, MAPE: 39.3510%\n"
     ]
    },
    {
     "name": "stderr",
     "output_type": "stream",
     "text": [
      " 73%|███████▎  | 73/100 [02:05<00:44,  1.66s/it]"
     ]
    },
    {
     "name": "stdout",
     "output_type": "stream",
     "text": [
      "MAE: 7.1449, MSE:100.1133,\n",
      "RMSE: 10.0057, IA: 0.8754, MAPE: 42.1613%\n"
     ]
    },
    {
     "name": "stderr",
     "output_type": "stream",
     "text": [
      " 74%|███████▍  | 74/100 [02:06<00:42,  1.65s/it]"
     ]
    },
    {
     "name": "stdout",
     "output_type": "stream",
     "text": [
      "MAE: 6.8332, MSE:91.0937,\n",
      "RMSE: 9.5443, IA: 0.8897, MAPE: 41.5756%\n"
     ]
    },
    {
     "name": "stderr",
     "output_type": "stream",
     "text": [
      " 75%|███████▌  | 75/100 [02:08<00:41,  1.65s/it]"
     ]
    },
    {
     "name": "stdout",
     "output_type": "stream",
     "text": [
      "MAE: 6.7718, MSE:89.7189,\n",
      "RMSE: 9.4720, IA: 0.8919, MAPE: 43.8498%\n"
     ]
    },
    {
     "name": "stderr",
     "output_type": "stream",
     "text": [
      " 76%|███████▌  | 76/100 [02:10<00:39,  1.66s/it]"
     ]
    },
    {
     "name": "stdout",
     "output_type": "stream",
     "text": [
      "MAE: 7.0850, MSE:104.3048,\n",
      "RMSE: 10.2130, IA: 0.8643, MAPE: 41.1102%\n"
     ]
    },
    {
     "name": "stderr",
     "output_type": "stream",
     "text": [
      " 77%|███████▋  | 77/100 [02:11<00:38,  1.65s/it]"
     ]
    },
    {
     "name": "stdout",
     "output_type": "stream",
     "text": [
      "MAE: 6.9049, MSE:91.1386,\n",
      "RMSE: 9.5467, IA: 0.8951, MAPE: 44.6395%\n"
     ]
    },
    {
     "name": "stderr",
     "output_type": "stream",
     "text": [
      " 78%|███████▊  | 78/100 [02:13<00:36,  1.66s/it]"
     ]
    },
    {
     "name": "stdout",
     "output_type": "stream",
     "text": [
      "MAE: 6.9967, MSE:97.5603,\n",
      "RMSE: 9.8773, IA: 0.8744, MAPE: 41.3019%\n"
     ]
    },
    {
     "name": "stderr",
     "output_type": "stream",
     "text": [
      " 79%|███████▉  | 79/100 [02:15<00:34,  1.66s/it]"
     ]
    },
    {
     "name": "stdout",
     "output_type": "stream",
     "text": [
      "MAE: 6.8007, MSE:90.4165,\n",
      "RMSE: 9.5088, IA: 0.8837, MAPE: 43.0249%\n"
     ]
    },
    {
     "name": "stderr",
     "output_type": "stream",
     "text": [
      " 80%|████████  | 80/100 [02:16<00:33,  1.66s/it]"
     ]
    },
    {
     "name": "stdout",
     "output_type": "stream",
     "text": [
      "MAE: 7.0711, MSE:92.0681,\n",
      "RMSE: 9.5952, IA: 0.8809, MAPE: 46.8687%\n"
     ]
    },
    {
     "name": "stderr",
     "output_type": "stream",
     "text": [
      " 81%|████████  | 81/100 [02:18<00:31,  1.65s/it]"
     ]
    },
    {
     "name": "stdout",
     "output_type": "stream",
     "text": [
      "MAE: 6.8257, MSE:91.8930,\n",
      "RMSE: 9.5861, IA: 0.8887, MAPE: 40.1205%\n"
     ]
    },
    {
     "name": "stderr",
     "output_type": "stream",
     "text": [
      " 82%|████████▏ | 82/100 [02:20<00:29,  1.66s/it]"
     ]
    },
    {
     "name": "stdout",
     "output_type": "stream",
     "text": [
      "MAE: 6.8483, MSE:90.5119,\n",
      "RMSE: 9.5138, IA: 0.8863, MAPE: 43.7087%\n"
     ]
    },
    {
     "name": "stderr",
     "output_type": "stream",
     "text": [
      " 83%|████████▎ | 83/100 [02:21<00:28,  1.66s/it]"
     ]
    },
    {
     "name": "stdout",
     "output_type": "stream",
     "text": [
      "MAE: 6.8592, MSE:88.1675,\n",
      "RMSE: 9.3898, IA: 0.8822, MAPE: 43.9294%\n"
     ]
    },
    {
     "name": "stderr",
     "output_type": "stream",
     "text": [
      " 84%|████████▍ | 84/100 [02:23<00:26,  1.65s/it]"
     ]
    },
    {
     "name": "stdout",
     "output_type": "stream",
     "text": [
      "MAE: 7.1169, MSE:93.8809,\n",
      "RMSE: 9.6892, IA: 0.8904, MAPE: 44.7327%\n"
     ]
    },
    {
     "name": "stderr",
     "output_type": "stream",
     "text": [
      " 85%|████████▌ | 85/100 [02:25<00:24,  1.66s/it]"
     ]
    },
    {
     "name": "stdout",
     "output_type": "stream",
     "text": [
      "MAE: 6.8559, MSE:91.8701,\n",
      "RMSE: 9.5849, IA: 0.8801, MAPE: 43.4282%\n"
     ]
    },
    {
     "name": "stderr",
     "output_type": "stream",
     "text": [
      " 86%|████████▌ | 86/100 [02:26<00:23,  1.66s/it]"
     ]
    },
    {
     "name": "stdout",
     "output_type": "stream",
     "text": [
      "MAE: 7.2975, MSE:97.6659,\n",
      "RMSE: 9.8826, IA: 0.8831, MAPE: 45.4496%\n"
     ]
    },
    {
     "name": "stderr",
     "output_type": "stream",
     "text": [
      " 87%|████████▋ | 87/100 [02:28<00:21,  1.65s/it]"
     ]
    },
    {
     "name": "stdout",
     "output_type": "stream",
     "text": [
      "MAE: 6.6083, MSE:89.2836,\n",
      "RMSE: 9.4490, IA: 0.8910, MAPE: 39.6516%\n"
     ]
    },
    {
     "name": "stderr",
     "output_type": "stream",
     "text": [
      " 88%|████████▊ | 88/100 [02:30<00:19,  1.66s/it]"
     ]
    },
    {
     "name": "stdout",
     "output_type": "stream",
     "text": [
      "MAE: 7.1625, MSE:114.2260,\n",
      "RMSE: 10.6877, IA: 0.8290, MAPE: 42.5293%\n"
     ]
    },
    {
     "name": "stderr",
     "output_type": "stream",
     "text": [
      " 89%|████████▉ | 89/100 [02:31<00:18,  1.66s/it]"
     ]
    },
    {
     "name": "stdout",
     "output_type": "stream",
     "text": [
      "MAE: 6.6383, MSE:90.0401,\n",
      "RMSE: 9.4889, IA: 0.8948, MAPE: 39.0238%\n"
     ]
    },
    {
     "name": "stderr",
     "output_type": "stream",
     "text": [
      " 90%|█████████ | 90/100 [02:33<00:16,  1.66s/it]"
     ]
    },
    {
     "name": "stdout",
     "output_type": "stream",
     "text": [
      "MAE: 6.7589, MSE:91.9087,\n",
      "RMSE: 9.5869, IA: 0.8881, MAPE: 38.2955%\n"
     ]
    },
    {
     "name": "stderr",
     "output_type": "stream",
     "text": [
      " 91%|█████████ | 91/100 [02:35<00:14,  1.65s/it]"
     ]
    },
    {
     "name": "stdout",
     "output_type": "stream",
     "text": [
      "MAE: 6.7786, MSE:90.8100,\n",
      "RMSE: 9.5294, IA: 0.8886, MAPE: 40.4522%\n"
     ]
    },
    {
     "name": "stderr",
     "output_type": "stream",
     "text": [
      " 92%|█████████▏| 92/100 [02:36<00:13,  1.65s/it]"
     ]
    },
    {
     "name": "stdout",
     "output_type": "stream",
     "text": [
      "MAE: 6.7829, MSE:93.0996,\n",
      "RMSE: 9.6488, IA: 0.8875, MAPE: 39.3650%\n"
     ]
    },
    {
     "name": "stderr",
     "output_type": "stream",
     "text": [
      " 93%|█████████▎| 93/100 [02:38<00:11,  1.65s/it]"
     ]
    },
    {
     "name": "stdout",
     "output_type": "stream",
     "text": [
      "MAE: 6.8576, MSE:93.0006,\n",
      "RMSE: 9.6437, IA: 0.8741, MAPE: 43.1651%\n"
     ]
    },
    {
     "name": "stderr",
     "output_type": "stream",
     "text": [
      " 94%|█████████▍| 94/100 [02:39<00:09,  1.66s/it]"
     ]
    },
    {
     "name": "stdout",
     "output_type": "stream",
     "text": [
      "MAE: 6.9542, MSE:93.5478,\n",
      "RMSE: 9.6720, IA: 0.8881, MAPE: 43.3385%\n"
     ]
    },
    {
     "name": "stderr",
     "output_type": "stream",
     "text": [
      " 95%|█████████▌| 95/100 [02:41<00:08,  1.65s/it]"
     ]
    },
    {
     "name": "stdout",
     "output_type": "stream",
     "text": [
      "MAE: 6.7470, MSE:89.1128,\n",
      "RMSE: 9.4400, IA: 0.8899, MAPE: 39.7848%\n"
     ]
    },
    {
     "name": "stderr",
     "output_type": "stream",
     "text": [
      " 96%|█████████▌| 96/100 [02:43<00:06,  1.65s/it]"
     ]
    },
    {
     "name": "stdout",
     "output_type": "stream",
     "text": [
      "MAE: 6.7438, MSE:91.6137,\n",
      "RMSE: 9.5715, IA: 0.8861, MAPE: 40.0536%\n"
     ]
    },
    {
     "name": "stderr",
     "output_type": "stream",
     "text": [
      " 97%|█████████▋| 97/100 [02:44<00:04,  1.66s/it]"
     ]
    },
    {
     "name": "stdout",
     "output_type": "stream",
     "text": [
      "MAE: 6.6257, MSE:84.7505,\n",
      "RMSE: 9.2060, IA: 0.8926, MAPE: 41.2884%\n"
     ]
    },
    {
     "name": "stderr",
     "output_type": "stream",
     "text": [
      " 98%|█████████▊| 98/100 [02:46<00:03,  1.65s/it]"
     ]
    },
    {
     "name": "stdout",
     "output_type": "stream",
     "text": [
      "MAE: 6.4774, MSE:86.2822,\n",
      "RMSE: 9.2888, IA: 0.8892, MAPE: 35.9478%\n"
     ]
    },
    {
     "name": "stderr",
     "output_type": "stream",
     "text": [
      " 99%|█████████▉| 99/100 [02:48<00:01,  1.65s/it]"
     ]
    },
    {
     "name": "stdout",
     "output_type": "stream",
     "text": [
      "MAE: 7.0966, MSE:91.6264,\n",
      "RMSE: 9.5722, IA: 0.8956, MAPE: 46.5617%\n"
     ]
    },
    {
     "name": "stderr",
     "output_type": "stream",
     "text": [
      "100%|██████████| 100/100 [02:49<00:00,  1.70s/it]"
     ]
    },
    {
     "name": "stdout",
     "output_type": "stream",
     "text": [
      "MAE: 6.6195, MSE:85.3354,\n",
      "RMSE: 9.2377, IA: 0.8993, MAPE: 40.9363%\n",
      "Accuracy on validation dataset: 47.74%\n"
     ]
    },
    {
     "name": "stderr",
     "output_type": "stream",
     "text": [
      "\n"
     ]
    }
   ],
   "source": [
    "training_loop(model1, train_loader, valid_loader, device, num_epochs=100, lr=0.003, validation=True)"
   ],
   "metadata": {
    "collapsed": false
   }
  },
  {
   "cell_type": "code",
   "execution_count": 8,
   "outputs": [
    {
     "name": "stdout",
     "output_type": "stream",
     "text": [
      "Accuracy on test set: 45.540000000000006%\n",
      "MAE: 6.2182, MSE:70.0225,\n",
      "RMSE: 8.3679, IA: 0.8697, MAPE: 43.0139%\n"
     ]
    },
    {
     "data": {
      "text/plain": "(6.218238733389424,\n 70.02248361721247,\n 8.367943810591253,\n 0.8697036546021201,\n 43.01386963200978)"
     },
     "execution_count": 8,
     "metadata": {},
     "output_type": "execute_result"
    }
   ],
   "source": [
    "print(f'Accuracy on test set: {get_accuracy(model1, test_loader, device=device, pct_close=0.25)*100}%')\n",
    "get_error_measures(model1, test_loader, device=device, print_e=True)"
   ],
   "metadata": {
    "collapsed": false
   }
  },
  {
   "cell_type": "markdown",
   "source": [
    "### SNN with Leaky layer"
   ],
   "metadata": {
    "collapsed": false
   }
  },
  {
   "cell_type": "code",
   "execution_count": 9,
   "outputs": [
    {
     "name": "stdout",
     "output_type": "stream",
     "text": [
      "LeakySNN(\n",
      "  (fc1): Linear(in_features=8, out_features=3500, bias=True)\n",
      "  (lif): Leaky()\n",
      "  (fc2): Linear(in_features=3500, out_features=1, bias=True)\n",
      ")\n"
     ]
    }
   ],
   "source": [
    "model2 = LeakySNN(num_inputs=8, num_hidden=3500, num_outputs=1, num_steps=25)\n",
    "print(model2)"
   ],
   "metadata": {
    "collapsed": false
   }
  },
  {
   "cell_type": "code",
   "execution_count": 10,
   "outputs": [
    {
     "name": "stderr",
     "output_type": "stream",
     "text": [
      "  4%|▍         | 1/25 [00:05<02:17,  5.74s/it]"
     ]
    },
    {
     "name": "stdout",
     "output_type": "stream",
     "text": [
      "MAE: 7.9596, MSE:135.3226,\n",
      "RMSE: 11.6328, IA: 0.7911, MAPE: 48.9932%\n"
     ]
    },
    {
     "name": "stderr",
     "output_type": "stream",
     "text": [
      "  8%|▊         | 2/25 [00:11<02:11,  5.70s/it]"
     ]
    },
    {
     "name": "stdout",
     "output_type": "stream",
     "text": [
      "MAE: 8.1084, MSE:142.2802,\n",
      "RMSE: 11.9281, IA: 0.7991, MAPE: 43.1768%\n"
     ]
    },
    {
     "name": "stderr",
     "output_type": "stream",
     "text": [
      " 12%|█▏        | 3/25 [00:17<02:05,  5.72s/it]"
     ]
    },
    {
     "name": "stdout",
     "output_type": "stream",
     "text": [
      "MAE: 7.8372, MSE:119.7983,\n",
      "RMSE: 10.9452, IA: 0.8362, MAPE: 53.3887%\n"
     ]
    },
    {
     "name": "stderr",
     "output_type": "stream",
     "text": [
      " 16%|█▌        | 4/25 [00:23<02:03,  5.86s/it]"
     ]
    },
    {
     "name": "stdout",
     "output_type": "stream",
     "text": [
      "MAE: 7.7385, MSE:118.2577,\n",
      "RMSE: 10.8746, IA: 0.8365, MAPE: 52.4866%\n"
     ]
    },
    {
     "name": "stderr",
     "output_type": "stream",
     "text": [
      " 20%|██        | 5/25 [00:28<01:55,  5.77s/it]"
     ]
    },
    {
     "name": "stdout",
     "output_type": "stream",
     "text": [
      "MAE: 7.4897, MSE:117.7949,\n",
      "RMSE: 10.8533, IA: 0.8415, MAPE: 46.0646%\n"
     ]
    },
    {
     "name": "stderr",
     "output_type": "stream",
     "text": [
      " 24%|██▍       | 6/25 [00:34<01:49,  5.74s/it]"
     ]
    },
    {
     "name": "stdout",
     "output_type": "stream",
     "text": [
      "MAE: 7.9943, MSE:119.1464,\n",
      "RMSE: 10.9154, IA: 0.8338, MAPE: 56.9661%\n"
     ]
    },
    {
     "name": "stderr",
     "output_type": "stream",
     "text": [
      " 28%|██▊       | 7/25 [00:40<01:45,  5.83s/it]"
     ]
    },
    {
     "name": "stdout",
     "output_type": "stream",
     "text": [
      "MAE: 7.4092, MSE:109.7635,\n",
      "RMSE: 10.4768, IA: 0.8545, MAPE: 49.0831%\n"
     ]
    },
    {
     "name": "stderr",
     "output_type": "stream",
     "text": [
      " 32%|███▏      | 8/25 [00:46<01:41,  5.97s/it]"
     ]
    },
    {
     "name": "stdout",
     "output_type": "stream",
     "text": [
      "MAE: 7.2637, MSE:110.8114,\n",
      "RMSE: 10.5267, IA: 0.8517, MAPE: 42.8303%\n"
     ]
    },
    {
     "name": "stderr",
     "output_type": "stream",
     "text": [
      " 36%|███▌      | 9/25 [00:52<01:34,  5.90s/it]"
     ]
    },
    {
     "name": "stdout",
     "output_type": "stream",
     "text": [
      "MAE: 7.4019, MSE:115.0410,\n",
      "RMSE: 10.7257, IA: 0.8527, MAPE: 42.1132%\n"
     ]
    },
    {
     "name": "stderr",
     "output_type": "stream",
     "text": [
      " 40%|████      | 10/25 [00:57<01:26,  5.76s/it]"
     ]
    },
    {
     "name": "stdout",
     "output_type": "stream",
     "text": [
      "MAE: 7.2120, MSE:107.8789,\n",
      "RMSE: 10.3865, IA: 0.8563, MAPE: 42.2246%\n"
     ]
    },
    {
     "name": "stderr",
     "output_type": "stream",
     "text": [
      " 44%|████▍     | 11/25 [01:03<01:19,  5.71s/it]"
     ]
    },
    {
     "name": "stdout",
     "output_type": "stream",
     "text": [
      "MAE: 7.5932, MSE:108.8017,\n",
      "RMSE: 10.4308, IA: 0.8603, MAPE: 52.0337%\n"
     ]
    },
    {
     "name": "stderr",
     "output_type": "stream",
     "text": [
      " 48%|████▊     | 12/25 [01:09<01:13,  5.69s/it]"
     ]
    },
    {
     "name": "stdout",
     "output_type": "stream",
     "text": [
      "MAE: 7.0247, MSE:105.4520,\n",
      "RMSE: 10.2690, IA: 0.8611, MAPE: 40.8763%\n"
     ]
    },
    {
     "name": "stderr",
     "output_type": "stream",
     "text": [
      " 52%|█████▏    | 13/25 [01:14<01:07,  5.61s/it]"
     ]
    },
    {
     "name": "stdout",
     "output_type": "stream",
     "text": [
      "MAE: 7.0599, MSE:102.7502,\n",
      "RMSE: 10.1366, IA: 0.8634, MAPE: 43.2953%\n"
     ]
    },
    {
     "name": "stderr",
     "output_type": "stream",
     "text": [
      " 56%|█████▌    | 14/25 [01:20<01:01,  5.55s/it]"
     ]
    },
    {
     "name": "stdout",
     "output_type": "stream",
     "text": [
      "MAE: 6.8971, MSE:99.1440,\n",
      "RMSE: 9.9571, IA: 0.8679, MAPE: 42.4431%\n"
     ]
    },
    {
     "name": "stderr",
     "output_type": "stream",
     "text": [
      " 60%|██████    | 15/25 [01:25<00:55,  5.53s/it]"
     ]
    },
    {
     "name": "stdout",
     "output_type": "stream",
     "text": [
      "MAE: 7.1370, MSE:107.7829,\n",
      "RMSE: 10.3819, IA: 0.8565, MAPE: 39.5473%\n"
     ]
    },
    {
     "name": "stderr",
     "output_type": "stream",
     "text": [
      " 64%|██████▍   | 16/25 [01:31<00:49,  5.56s/it]"
     ]
    },
    {
     "name": "stdout",
     "output_type": "stream",
     "text": [
      "MAE: 7.1223, MSE:97.2903,\n",
      "RMSE: 9.8636, IA: 0.8762, MAPE: 47.5625%\n"
     ]
    },
    {
     "name": "stderr",
     "output_type": "stream",
     "text": [
      " 68%|██████▊   | 17/25 [01:36<00:44,  5.52s/it]"
     ]
    },
    {
     "name": "stdout",
     "output_type": "stream",
     "text": [
      "MAE: 7.0613, MSE:107.8935,\n",
      "RMSE: 10.3872, IA: 0.8601, MAPE: 37.4443%\n"
     ]
    },
    {
     "name": "stderr",
     "output_type": "stream",
     "text": [
      " 72%|███████▏  | 18/25 [01:42<00:38,  5.52s/it]"
     ]
    },
    {
     "name": "stdout",
     "output_type": "stream",
     "text": [
      "MAE: 7.0431, MSE:97.7386,\n",
      "RMSE: 9.8863, IA: 0.8696, MAPE: 45.8088%\n"
     ]
    },
    {
     "name": "stderr",
     "output_type": "stream",
     "text": [
      " 76%|███████▌  | 19/25 [01:47<00:33,  5.56s/it]"
     ]
    },
    {
     "name": "stdout",
     "output_type": "stream",
     "text": [
      "MAE: 7.1445, MSE:104.4307,\n",
      "RMSE: 10.2191, IA: 0.8673, MAPE: 40.6073%\n"
     ]
    },
    {
     "name": "stderr",
     "output_type": "stream",
     "text": [
      " 80%|████████  | 20/25 [01:53<00:28,  5.63s/it]"
     ]
    },
    {
     "name": "stdout",
     "output_type": "stream",
     "text": [
      "MAE: 7.0035, MSE:96.2414,\n",
      "RMSE: 9.8103, IA: 0.8858, MAPE: 44.9744%\n"
     ]
    },
    {
     "name": "stderr",
     "output_type": "stream",
     "text": [
      " 84%|████████▍ | 21/25 [01:59<00:22,  5.60s/it]"
     ]
    },
    {
     "name": "stdout",
     "output_type": "stream",
     "text": [
      "MAE: 6.9275, MSE:92.4863,\n",
      "RMSE: 9.6170, IA: 0.8762, MAPE: 45.5676%\n"
     ]
    },
    {
     "name": "stderr",
     "output_type": "stream",
     "text": [
      " 88%|████████▊ | 22/25 [02:04<00:16,  5.54s/it]"
     ]
    },
    {
     "name": "stdout",
     "output_type": "stream",
     "text": [
      "MAE: 6.8346, MSE:96.7540,\n",
      "RMSE: 9.8364, IA: 0.8771, MAPE: 39.8861%\n"
     ]
    },
    {
     "name": "stderr",
     "output_type": "stream",
     "text": [
      " 92%|█████████▏| 23/25 [02:10<00:11,  5.61s/it]"
     ]
    },
    {
     "name": "stdout",
     "output_type": "stream",
     "text": [
      "MAE: 6.8767, MSE:90.3762,\n",
      "RMSE: 9.5066, IA: 0.8793, MAPE: 44.8334%\n"
     ]
    },
    {
     "name": "stderr",
     "output_type": "stream",
     "text": [
      " 96%|█████████▌| 24/25 [02:15<00:05,  5.51s/it]"
     ]
    },
    {
     "name": "stdout",
     "output_type": "stream",
     "text": [
      "MAE: 6.7413, MSE:89.1360,\n",
      "RMSE: 9.4412, IA: 0.8875, MAPE: 43.4872%\n"
     ]
    },
    {
     "name": "stderr",
     "output_type": "stream",
     "text": [
      "100%|██████████| 25/25 [02:21<00:00,  5.64s/it]"
     ]
    },
    {
     "name": "stdout",
     "output_type": "stream",
     "text": [
      "MAE: 7.1766, MSE:91.3375,\n",
      "RMSE: 9.5571, IA: 0.8907, MAPE: 50.4521%\n",
      "Accuracy on validation dataset: 44.73%\n"
     ]
    },
    {
     "name": "stderr",
     "output_type": "stream",
     "text": [
      "\n"
     ]
    }
   ],
   "source": [
    "training_loop(model2, train_loader, valid_loader, device, num_epochs=25, lr=0.001, validation=True)"
   ],
   "metadata": {
    "collapsed": false
   }
  },
  {
   "cell_type": "code",
   "execution_count": 11,
   "outputs": [
    {
     "name": "stdout",
     "output_type": "stream",
     "text": [
      "Accuracy on test set: 41.6%\n",
      "MAE: 6.7399, MSE:74.5174,\n",
      "RMSE: 8.6323, IA: 0.8647, MAPE: 51.8016%\n"
     ]
    },
    {
     "data": {
      "text/plain": "(6.739942054276118,\n 74.51742005584002,\n 8.632347308573724,\n 0.8646636169928696,\n 51.8015526732084)"
     },
     "execution_count": 11,
     "metadata": {},
     "output_type": "execute_result"
    }
   ],
   "source": [
    "print(f'Accuracy on test set: {get_accuracy(model2, test_loader, device=device, pct_close=0.25)*100}%')\n",
    "get_error_measures(model2, test_loader, device=device, print_e=True)"
   ],
   "metadata": {
    "collapsed": false
   }
  },
  {
   "cell_type": "markdown",
   "source": [
    "### SNN with Synaptic layer"
   ],
   "metadata": {
    "collapsed": false
   }
  },
  {
   "cell_type": "code",
   "execution_count": 12,
   "outputs": [
    {
     "name": "stdout",
     "output_type": "stream",
     "text": [
      "SynapticSNN(\n",
      "  (fc1): Linear(in_features=8, out_features=3500, bias=True)\n",
      "  (lif): Synaptic()\n",
      "  (fc2): Linear(in_features=3500, out_features=1, bias=True)\n",
      ")\n"
     ]
    }
   ],
   "source": [
    "model3 = SynapticSNN(num_inputs=8, num_hidden=3500, num_outputs=1, num_steps=50)\n",
    "print(model3)"
   ],
   "metadata": {
    "collapsed": false
   }
  },
  {
   "cell_type": "code",
   "execution_count": 13,
   "outputs": [
    {
     "name": "stderr",
     "output_type": "stream",
     "text": [
      "  4%|▍         | 1/25 [00:11<04:27, 11.13s/it]"
     ]
    },
    {
     "name": "stdout",
     "output_type": "stream",
     "text": [
      "MAE: 9.8072, MSE:176.2153,\n",
      "RMSE: 13.2746, IA: 0.7421, MAPE: 49.8143%\n"
     ]
    },
    {
     "name": "stderr",
     "output_type": "stream",
     "text": [
      "  8%|▊         | 2/25 [00:22<04:24, 11.50s/it]"
     ]
    },
    {
     "name": "stdout",
     "output_type": "stream",
     "text": [
      "MAE: 7.5273, MSE:115.3310,\n",
      "RMSE: 10.7392, IA: 0.8072, MAPE: 42.3166%\n"
     ]
    },
    {
     "name": "stderr",
     "output_type": "stream",
     "text": [
      " 12%|█▏        | 3/25 [00:34<04:14, 11.58s/it]"
     ]
    },
    {
     "name": "stdout",
     "output_type": "stream",
     "text": [
      "MAE: 7.9439, MSE:108.2215,\n",
      "RMSE: 10.4030, IA: 0.8204, MAPE: 56.5950%\n"
     ]
    },
    {
     "name": "stderr",
     "output_type": "stream",
     "text": [
      " 16%|█▌        | 4/25 [00:47<04:11, 11.96s/it]"
     ]
    },
    {
     "name": "stdout",
     "output_type": "stream",
     "text": [
      "MAE: 7.2483, MSE:108.8404,\n",
      "RMSE: 10.4327, IA: 0.8243, MAPE: 38.2666%\n"
     ]
    },
    {
     "name": "stderr",
     "output_type": "stream",
     "text": [
      " 20%|██        | 5/25 [00:58<03:53, 11.67s/it]"
     ]
    },
    {
     "name": "stdout",
     "output_type": "stream",
     "text": [
      "MAE: 8.4624, MSE:139.5936,\n",
      "RMSE: 11.8150, IA: 0.7873, MAPE: 43.1950%\n"
     ]
    },
    {
     "name": "stderr",
     "output_type": "stream",
     "text": [
      " 24%|██▍       | 6/25 [01:09<03:36, 11.42s/it]"
     ]
    },
    {
     "name": "stdout",
     "output_type": "stream",
     "text": [
      "MAE: 6.7910, MSE:92.3714,\n",
      "RMSE: 9.6110, IA: 0.8409, MAPE: 41.5429%\n"
     ]
    },
    {
     "name": "stderr",
     "output_type": "stream",
     "text": [
      " 28%|██▊       | 7/25 [01:20<03:23, 11.30s/it]"
     ]
    },
    {
     "name": "stdout",
     "output_type": "stream",
     "text": [
      "MAE: 7.4596, MSE:95.1194,\n",
      "RMSE: 9.7529, IA: 0.8417, MAPE: 52.6353%\n"
     ]
    },
    {
     "name": "stderr",
     "output_type": "stream",
     "text": [
      " 32%|███▏      | 8/25 [01:31<03:09, 11.17s/it]"
     ]
    },
    {
     "name": "stdout",
     "output_type": "stream",
     "text": [
      "MAE: 6.8743, MSE:95.6666,\n",
      "RMSE: 9.7809, IA: 0.8441, MAPE: 37.7746%\n"
     ]
    },
    {
     "name": "stderr",
     "output_type": "stream",
     "text": [
      " 36%|███▌      | 9/25 [01:42<02:59, 11.19s/it]"
     ]
    },
    {
     "name": "stdout",
     "output_type": "stream",
     "text": [
      "MAE: 6.9872, MSE:86.8795,\n",
      "RMSE: 9.3209, IA: 0.8502, MAPE: 48.3343%\n"
     ]
    },
    {
     "name": "stderr",
     "output_type": "stream",
     "text": [
      " 40%|████      | 10/25 [01:53<02:48, 11.22s/it]"
     ]
    },
    {
     "name": "stdout",
     "output_type": "stream",
     "text": [
      "MAE: 8.9302, MSE:121.4512,\n",
      "RMSE: 11.0205, IA: 0.8164, MAPE: 69.2475%\n"
     ]
    },
    {
     "name": "stderr",
     "output_type": "stream",
     "text": [
      " 44%|████▍     | 11/25 [02:04<02:35, 11.13s/it]"
     ]
    },
    {
     "name": "stdout",
     "output_type": "stream",
     "text": [
      "MAE: 9.9621, MSE:161.7495,\n",
      "RMSE: 12.7181, IA: 0.7818, MAPE: 53.0240%\n"
     ]
    },
    {
     "name": "stderr",
     "output_type": "stream",
     "text": [
      " 48%|████▊     | 12/25 [02:15<02:23, 11.05s/it]"
     ]
    },
    {
     "name": "stdout",
     "output_type": "stream",
     "text": [
      "MAE: 6.4402, MSE:77.9675,\n",
      "RMSE: 8.8299, IA: 0.8776, MAPE: 41.7142%\n"
     ]
    },
    {
     "name": "stderr",
     "output_type": "stream",
     "text": [
      " 52%|█████▏    | 13/25 [02:26<02:13, 11.12s/it]"
     ]
    },
    {
     "name": "stdout",
     "output_type": "stream",
     "text": [
      "MAE: 6.4044, MSE:81.5060,\n",
      "RMSE: 9.0281, IA: 0.8769, MAPE: 39.5731%\n"
     ]
    },
    {
     "name": "stderr",
     "output_type": "stream",
     "text": [
      " 56%|█████▌    | 14/25 [02:38<02:03, 11.26s/it]"
     ]
    },
    {
     "name": "stdout",
     "output_type": "stream",
     "text": [
      "MAE: 6.5148, MSE:82.7570,\n",
      "RMSE: 9.0971, IA: 0.8740, MAPE: 39.1355%\n"
     ]
    },
    {
     "name": "stderr",
     "output_type": "stream",
     "text": [
      " 60%|██████    | 15/25 [02:49<01:51, 11.18s/it]"
     ]
    },
    {
     "name": "stdout",
     "output_type": "stream",
     "text": [
      "MAE: 6.9838, MSE:82.9067,\n",
      "RMSE: 9.1053, IA: 0.8638, MAPE: 49.3741%\n"
     ]
    },
    {
     "name": "stderr",
     "output_type": "stream",
     "text": [
      " 64%|██████▍   | 16/25 [03:00<01:41, 11.24s/it]"
     ]
    },
    {
     "name": "stdout",
     "output_type": "stream",
     "text": [
      "MAE: 6.4959, MSE:81.9430,\n",
      "RMSE: 9.0522, IA: 0.8791, MAPE: 36.3236%\n"
     ]
    },
    {
     "name": "stderr",
     "output_type": "stream",
     "text": [
      " 68%|██████▊   | 17/25 [03:12<01:30, 11.26s/it]"
     ]
    },
    {
     "name": "stdout",
     "output_type": "stream",
     "text": [
      "MAE: 7.1766, MSE:94.9227,\n",
      "RMSE: 9.7428, IA: 0.8623, MAPE: 38.9896%\n"
     ]
    },
    {
     "name": "stderr",
     "output_type": "stream",
     "text": [
      " 72%|███████▏  | 18/25 [03:23<01:18, 11.23s/it]"
     ]
    },
    {
     "name": "stdout",
     "output_type": "stream",
     "text": [
      "MAE: 7.0126, MSE:85.6800,\n",
      "RMSE: 9.2563, IA: 0.8779, MAPE: 51.0050%\n"
     ]
    },
    {
     "name": "stderr",
     "output_type": "stream",
     "text": [
      " 76%|███████▌  | 19/25 [03:34<01:06, 11.11s/it]"
     ]
    },
    {
     "name": "stdout",
     "output_type": "stream",
     "text": [
      "MAE: 7.0004, MSE:83.5911,\n",
      "RMSE: 9.1428, IA: 0.8796, MAPE: 50.9350%\n"
     ]
    },
    {
     "name": "stderr",
     "output_type": "stream",
     "text": [
      " 80%|████████  | 20/25 [03:45<00:56, 11.29s/it]"
     ]
    },
    {
     "name": "stdout",
     "output_type": "stream",
     "text": [
      "MAE: 6.1666, MSE:74.3280,\n",
      "RMSE: 8.6214, IA: 0.8856, MAPE: 37.2303%\n"
     ]
    },
    {
     "name": "stderr",
     "output_type": "stream",
     "text": [
      " 84%|████████▍ | 21/25 [03:58<00:46, 11.72s/it]"
     ]
    },
    {
     "name": "stdout",
     "output_type": "stream",
     "text": [
      "MAE: 6.2441, MSE:77.3142,\n",
      "RMSE: 8.7929, IA: 0.8848, MAPE: 34.2480%\n"
     ]
    },
    {
     "name": "stderr",
     "output_type": "stream",
     "text": [
      " 88%|████████▊ | 22/25 [04:09<00:34, 11.52s/it]"
     ]
    },
    {
     "name": "stdout",
     "output_type": "stream",
     "text": [
      "MAE: 6.8726, MSE:86.5666,\n",
      "RMSE: 9.3041, IA: 0.8810, MAPE: 38.5694%\n"
     ]
    },
    {
     "name": "stderr",
     "output_type": "stream",
     "text": [
      " 92%|█████████▏| 23/25 [04:21<00:23, 11.53s/it]"
     ]
    },
    {
     "name": "stdout",
     "output_type": "stream",
     "text": [
      "MAE: 6.2223, MSE:72.8626,\n",
      "RMSE: 8.5360, IA: 0.8973, MAPE: 42.0917%\n"
     ]
    },
    {
     "name": "stderr",
     "output_type": "stream",
     "text": [
      " 96%|█████████▌| 24/25 [04:32<00:11, 11.49s/it]"
     ]
    },
    {
     "name": "stdout",
     "output_type": "stream",
     "text": [
      "MAE: 6.1031, MSE:72.4878,\n",
      "RMSE: 8.5140, IA: 0.8937, MAPE: 37.7609%\n"
     ]
    },
    {
     "name": "stderr",
     "output_type": "stream",
     "text": [
      "100%|██████████| 25/25 [04:43<00:00, 11.35s/it]"
     ]
    },
    {
     "name": "stdout",
     "output_type": "stream",
     "text": [
      "MAE: 9.0045, MSE:121.9081,\n",
      "RMSE: 11.0412, IA: 0.8434, MAPE: 70.2105%\n",
      "Accuracy on validation dataset: 34.300000000000004%\n"
     ]
    },
    {
     "name": "stderr",
     "output_type": "stream",
     "text": [
      "\n"
     ]
    }
   ],
   "source": [
    "training_loop(model3, train_loader, valid_loader, device, num_epochs=25, lr=0.0005, validation=True)"
   ],
   "metadata": {
    "collapsed": false
   }
  },
  {
   "cell_type": "code",
   "execution_count": 14,
   "outputs": [
    {
     "name": "stdout",
     "output_type": "stream",
     "text": [
      "Accuracy on test set: 30.48%\n",
      "MAE: 9.3394, MSE:128.4582,\n",
      "RMSE: 11.3339, IA: 0.8386, MAPE: 74.3396%\n"
     ]
    },
    {
     "data": {
      "text/plain": "(9.339397490922435,\n 128.4582106092612,\n 11.33394064786212,\n 0.8385622808506112,\n 74.33962311672066)"
     },
     "execution_count": 14,
     "metadata": {},
     "output_type": "execute_result"
    }
   ],
   "source": [
    "print(f'Accuracy on test set: {get_accuracy(model3, test_loader, device=device, pct_close=0.25)*100}%')\n",
    "get_error_measures(model3, test_loader, device=device, print_e=True)"
   ],
   "metadata": {
    "collapsed": false
   }
  },
  {
   "cell_type": "markdown",
   "source": [
    "### SNN with two Leaky layers"
   ],
   "metadata": {
    "collapsed": false
   }
  },
  {
   "cell_type": "code",
   "execution_count": 15,
   "outputs": [
    {
     "name": "stdout",
     "output_type": "stream",
     "text": [
      "DoubleLeakySNN(\n",
      "  (lin1): Linear(in_features=8, out_features=3500, bias=True)\n",
      "  (lif1): Leaky()\n",
      "  (lif2): Leaky()\n",
      "  (lin2): Linear(in_features=3500, out_features=1, bias=True)\n",
      ")\n"
     ]
    }
   ],
   "source": [
    "model4 = DoubleLeakySNN(num_inputs=8, num_hidden=3500, num_outputs=1)\n",
    "print(model4)"
   ],
   "metadata": {
    "collapsed": false
   }
  },
  {
   "cell_type": "code",
   "execution_count": 16,
   "outputs": [
    {
     "name": "stderr",
     "output_type": "stream",
     "text": [
      "  4%|▍         | 1/25 [00:10<04:06, 10.28s/it]"
     ]
    },
    {
     "name": "stdout",
     "output_type": "stream",
     "text": [
      "MAE: 20.7912, MSE:648.0209,\n",
      "RMSE: 25.4563, IA: 0.4117, MAPE: 96.9298%\n"
     ]
    },
    {
     "name": "stderr",
     "output_type": "stream",
     "text": [
      "  8%|▊         | 2/25 [00:21<04:03, 10.60s/it]"
     ]
    },
    {
     "name": "stdout",
     "output_type": "stream",
     "text": [
      "MAE: 9.2240, MSE:158.7891,\n",
      "RMSE: 12.6012, IA: 0.6237, MAPE: 61.6509%\n"
     ]
    },
    {
     "name": "stderr",
     "output_type": "stream",
     "text": [
      " 12%|█▏        | 3/25 [00:31<03:52, 10.57s/it]"
     ]
    },
    {
     "name": "stdout",
     "output_type": "stream",
     "text": [
      "MAE: 8.4034, MSE:137.2468,\n",
      "RMSE: 11.7152, IA: 0.7221, MAPE: 54.9186%\n"
     ]
    },
    {
     "name": "stderr",
     "output_type": "stream",
     "text": [
      " 16%|█▌        | 4/25 [00:41<03:37, 10.34s/it]"
     ]
    },
    {
     "name": "stdout",
     "output_type": "stream",
     "text": [
      "MAE: 8.2320, MSE:134.0473,\n",
      "RMSE: 11.5779, IA: 0.7350, MAPE: 50.8459%\n"
     ]
    },
    {
     "name": "stderr",
     "output_type": "stream",
     "text": [
      " 20%|██        | 5/25 [00:52<03:27, 10.40s/it]"
     ]
    },
    {
     "name": "stdout",
     "output_type": "stream",
     "text": [
      "MAE: 8.1703, MSE:130.1089,\n",
      "RMSE: 11.4065, IA: 0.7500, MAPE: 51.8916%\n"
     ]
    },
    {
     "name": "stderr",
     "output_type": "stream",
     "text": [
      " 24%|██▍       | 6/25 [01:02<03:16, 10.33s/it]"
     ]
    },
    {
     "name": "stdout",
     "output_type": "stream",
     "text": [
      "MAE: 8.1002, MSE:131.0900,\n",
      "RMSE: 11.4495, IA: 0.7350, MAPE: 49.8911%\n"
     ]
    },
    {
     "name": "stderr",
     "output_type": "stream",
     "text": [
      " 28%|██▊       | 7/25 [01:12<03:03, 10.20s/it]"
     ]
    },
    {
     "name": "stdout",
     "output_type": "stream",
     "text": [
      "MAE: 8.5063, MSE:131.3157,\n",
      "RMSE: 11.4593, IA: 0.7453, MAPE: 58.2378%\n"
     ]
    },
    {
     "name": "stderr",
     "output_type": "stream",
     "text": [
      " 32%|███▏      | 8/25 [01:22<02:52, 10.14s/it]"
     ]
    },
    {
     "name": "stdout",
     "output_type": "stream",
     "text": [
      "MAE: 8.0309, MSE:128.6205,\n",
      "RMSE: 11.3411, IA: 0.7503, MAPE: 49.2924%\n"
     ]
    },
    {
     "name": "stderr",
     "output_type": "stream",
     "text": [
      " 36%|███▌      | 9/25 [01:32<02:41, 10.11s/it]"
     ]
    },
    {
     "name": "stdout",
     "output_type": "stream",
     "text": [
      "MAE: 7.8740, MSE:128.7604,\n",
      "RMSE: 11.3473, IA: 0.7494, MAPE: 46.6007%\n"
     ]
    },
    {
     "name": "stderr",
     "output_type": "stream",
     "text": [
      " 40%|████      | 10/25 [01:42<02:30, 10.04s/it]"
     ]
    },
    {
     "name": "stdout",
     "output_type": "stream",
     "text": [
      "MAE: 8.1021, MSE:129.0207,\n",
      "RMSE: 11.3587, IA: 0.7521, MAPE: 51.3649%\n"
     ]
    },
    {
     "name": "stderr",
     "output_type": "stream",
     "text": [
      " 44%|████▍     | 11/25 [01:52<02:20, 10.04s/it]"
     ]
    },
    {
     "name": "stdout",
     "output_type": "stream",
     "text": [
      "MAE: 7.9705, MSE:128.4749,\n",
      "RMSE: 11.3347, IA: 0.7518, MAPE: 49.5858%\n"
     ]
    },
    {
     "name": "stderr",
     "output_type": "stream",
     "text": [
      " 48%|████▊     | 12/25 [02:02<02:09,  9.99s/it]"
     ]
    },
    {
     "name": "stdout",
     "output_type": "stream",
     "text": [
      "MAE: 8.0970, MSE:126.5448,\n",
      "RMSE: 11.2492, IA: 0.7533, MAPE: 52.7670%\n"
     ]
    },
    {
     "name": "stderr",
     "output_type": "stream",
     "text": [
      " 52%|█████▏    | 13/25 [02:11<01:59,  9.94s/it]"
     ]
    },
    {
     "name": "stdout",
     "output_type": "stream",
     "text": [
      "MAE: 8.1205, MSE:131.2229,\n",
      "RMSE: 11.4553, IA: 0.7533, MAPE: 51.9379%\n"
     ]
    },
    {
     "name": "stderr",
     "output_type": "stream",
     "text": [
      " 56%|█████▌    | 14/25 [02:22<01:50, 10.04s/it]"
     ]
    },
    {
     "name": "stdout",
     "output_type": "stream",
     "text": [
      "MAE: 7.8519, MSE:125.5747,\n",
      "RMSE: 11.2060, IA: 0.7593, MAPE: 48.5188%\n"
     ]
    },
    {
     "name": "stderr",
     "output_type": "stream",
     "text": [
      " 60%|██████    | 15/25 [02:32<01:40, 10.01s/it]"
     ]
    },
    {
     "name": "stdout",
     "output_type": "stream",
     "text": [
      "MAE: 7.7946, MSE:128.8636,\n",
      "RMSE: 11.3518, IA: 0.7528, MAPE: 45.5502%\n"
     ]
    },
    {
     "name": "stderr",
     "output_type": "stream",
     "text": [
      " 64%|██████▍   | 16/25 [02:42<01:31, 10.20s/it]"
     ]
    },
    {
     "name": "stdout",
     "output_type": "stream",
     "text": [
      "MAE: 7.7812, MSE:126.7176,\n",
      "RMSE: 11.2569, IA: 0.7570, MAPE: 46.8592%\n"
     ]
    },
    {
     "name": "stderr",
     "output_type": "stream",
     "text": [
      " 68%|██████▊   | 17/25 [02:52<01:21, 10.21s/it]"
     ]
    },
    {
     "name": "stdout",
     "output_type": "stream",
     "text": [
      "MAE: 7.8485, MSE:125.7920,\n",
      "RMSE: 11.2157, IA: 0.7559, MAPE: 47.8383%\n"
     ]
    },
    {
     "name": "stderr",
     "output_type": "stream",
     "text": [
      " 72%|███████▏  | 18/25 [03:04<01:14, 10.60s/it]"
     ]
    },
    {
     "name": "stdout",
     "output_type": "stream",
     "text": [
      "MAE: 8.4004, MSE:129.4541,\n",
      "RMSE: 11.3778, IA: 0.7528, MAPE: 58.1428%\n"
     ]
    },
    {
     "name": "stderr",
     "output_type": "stream",
     "text": [
      " 76%|███████▌  | 19/25 [03:14<01:02, 10.48s/it]"
     ]
    },
    {
     "name": "stdout",
     "output_type": "stream",
     "text": [
      "MAE: 8.1605, MSE:124.3647,\n",
      "RMSE: 11.1519, IA: 0.7696, MAPE: 56.0116%\n"
     ]
    },
    {
     "name": "stderr",
     "output_type": "stream",
     "text": [
      " 80%|████████  | 20/25 [03:24<00:51, 10.40s/it]"
     ]
    },
    {
     "name": "stdout",
     "output_type": "stream",
     "text": [
      "MAE: 7.7097, MSE:122.0141,\n",
      "RMSE: 11.0460, IA: 0.7621, MAPE: 47.8783%\n"
     ]
    },
    {
     "name": "stderr",
     "output_type": "stream",
     "text": [
      " 84%|████████▍ | 21/25 [03:35<00:41, 10.32s/it]"
     ]
    },
    {
     "name": "stdout",
     "output_type": "stream",
     "text": [
      "MAE: 7.8617, MSE:122.3035,\n",
      "RMSE: 11.0591, IA: 0.7666, MAPE: 50.3110%\n"
     ]
    },
    {
     "name": "stderr",
     "output_type": "stream",
     "text": [
      " 88%|████████▊ | 22/25 [03:45<00:30, 10.23s/it]"
     ]
    },
    {
     "name": "stdout",
     "output_type": "stream",
     "text": [
      "MAE: 7.7820, MSE:118.6304,\n",
      "RMSE: 10.8918, IA: 0.7740, MAPE: 50.6737%\n"
     ]
    },
    {
     "name": "stderr",
     "output_type": "stream",
     "text": [
      " 92%|█████████▏| 23/25 [03:55<00:20, 10.32s/it]"
     ]
    },
    {
     "name": "stdout",
     "output_type": "stream",
     "text": [
      "MAE: 7.7632, MSE:118.0005,\n",
      "RMSE: 10.8628, IA: 0.7812, MAPE: 49.5265%\n"
     ]
    },
    {
     "name": "stderr",
     "output_type": "stream",
     "text": [
      " 96%|█████████▌| 24/25 [04:06<00:10, 10.53s/it]"
     ]
    },
    {
     "name": "stdout",
     "output_type": "stream",
     "text": [
      "MAE: 7.6525, MSE:118.2745,\n",
      "RMSE: 10.8754, IA: 0.7762, MAPE: 47.5426%\n"
     ]
    },
    {
     "name": "stderr",
     "output_type": "stream",
     "text": [
      "100%|██████████| 25/25 [04:17<00:00, 10.29s/it]"
     ]
    },
    {
     "name": "stdout",
     "output_type": "stream",
     "text": [
      "MAE: 7.5988, MSE:115.5370,\n",
      "RMSE: 10.7488, IA: 0.7869, MAPE: 47.7704%\n"
     ]
    },
    {
     "name": "stderr",
     "output_type": "stream",
     "text": [
      "\n"
     ]
    },
    {
     "name": "stdout",
     "output_type": "stream",
     "text": [
      "Accuracy on validation dataset: 41.14%\n"
     ]
    }
   ],
   "source": [
    "training_loop(model4, train_loader, valid_loader, device, num_epochs=25, lr=0.002, validation=True)"
   ],
   "metadata": {
    "collapsed": false
   }
  },
  {
   "cell_type": "code",
   "execution_count": 17,
   "outputs": [
    {
     "name": "stdout",
     "output_type": "stream",
     "text": [
      "Accuracy on test set: 41.6%\n",
      "MAE: 7.2979, MSE:105.2202,\n",
      "RMSE: 10.2577, IA: 0.8092, MAPE: 50.2140%\n"
     ]
    },
    {
     "data": {
      "text/plain": "(7.2979026539715255,\n 105.22018341455497,\n 10.257688989950658,\n 0.809150441530647,\n 50.21399957549717)"
     },
     "execution_count": 17,
     "metadata": {},
     "output_type": "execute_result"
    }
   ],
   "source": [
    "print(f'Accuracy on test set: {get_accuracy(model4, test_loader, device=device, pct_close=0.25)*100}%')\n",
    "get_error_measures(model4, test_loader, device=device, print_e=True)"
   ],
   "metadata": {
    "collapsed": false
   }
  },
  {
   "cell_type": "markdown",
   "source": [
    "### Repeated training on random datasets"
   ],
   "metadata": {
    "collapsed": false
   }
  },
  {
   "cell_type": "code",
   "execution_count": 5,
   "outputs": [],
   "source": [
    "err_model1 = [0., 0., 0., 0., 0., 0.]\n",
    "err_model2 = [0., 0., 0., 0., 0., 0.]\n",
    "err_model3 = [0., 0., 0., 0., 0., 0.]\n",
    "err_model4 = [0., 0., 0., 0., 0., 0.]"
   ],
   "metadata": {
    "collapsed": false,
    "pycharm": {
     "name": "#%%\n"
    }
   }
  },
  {
   "cell_type": "code",
   "execution_count": 6,
   "outputs": [
    {
     "name": "stdout",
     "output_type": "stream",
     "text": [
      "------------------------------------\n",
      "Training 1\n"
     ]
    },
    {
     "name": "stderr",
     "output_type": "stream",
     "text": [
      "100%|██████████| 100/100 [03:30<00:00,  2.10s/it]\n"
     ]
    },
    {
     "name": "stdout",
     "output_type": "stream",
     "text": [
      "Accuracy on validation dataset: 42.0%\n"
     ]
    },
    {
     "name": "stderr",
     "output_type": "stream",
     "text": [
      "100%|██████████| 60/60 [05:12<00:00,  5.21s/it]\n"
     ]
    },
    {
     "name": "stdout",
     "output_type": "stream",
     "text": [
      "Accuracy on validation dataset: 50.63999999999999%\n"
     ]
    },
    {
     "name": "stderr",
     "output_type": "stream",
     "text": [
      "100%|██████████| 30/30 [05:21<00:00, 10.71s/it]\n"
     ]
    },
    {
     "name": "stdout",
     "output_type": "stream",
     "text": [
      "Accuracy on validation dataset: 47.68%\n"
     ]
    },
    {
     "name": "stderr",
     "output_type": "stream",
     "text": [
      "100%|██████████| 40/40 [05:17<00:00,  7.94s/it]\n"
     ]
    },
    {
     "name": "stdout",
     "output_type": "stream",
     "text": [
      "Accuracy on validation dataset: 48.84%\n",
      "------------------------------------\n",
      "Training 2\n"
     ]
    },
    {
     "name": "stderr",
     "output_type": "stream",
     "text": [
      " 22%|██▏       | 22/100 [00:47<02:49,  2.17s/it]\n"
     ]
    },
    {
     "ename": "KeyboardInterrupt",
     "evalue": "",
     "output_type": "error",
     "traceback": [
      "\u001B[1;31m---------------------------------------------------------------------------\u001B[0m",
      "\u001B[1;31mKeyboardInterrupt\u001B[0m                         Traceback (most recent call last)",
      "Cell \u001B[1;32mIn [6], line 16\u001B[0m\n\u001B[0;32m     14\u001B[0m \u001B[38;5;66;03m# Train models.\u001B[39;00m\n\u001B[0;32m     15\u001B[0m \u001B[38;5;28mprint\u001B[39m(\u001B[38;5;124mf\u001B[39m\u001B[38;5;124m'\u001B[39m\u001B[38;5;124m------------------------------------\u001B[39m\u001B[38;5;130;01m\\n\u001B[39;00m\u001B[38;5;124mTraining \u001B[39m\u001B[38;5;132;01m{\u001B[39;00mi\u001B[38;5;241m+\u001B[39m\u001B[38;5;241m1\u001B[39m\u001B[38;5;132;01m}\u001B[39;00m\u001B[38;5;124m'\u001B[39m)\n\u001B[1;32m---> 16\u001B[0m \u001B[43mtraining_loop\u001B[49m\u001B[43m(\u001B[49m\u001B[43mmodel1\u001B[49m\u001B[43m,\u001B[49m\u001B[43m \u001B[49m\u001B[43mtrain_loader\u001B[49m\u001B[43m,\u001B[49m\u001B[43m \u001B[49m\u001B[43mtest_loader\u001B[49m\u001B[43m,\u001B[49m\u001B[43m \u001B[49m\u001B[43mdevice\u001B[49m\u001B[43m,\u001B[49m\u001B[43m \u001B[49m\u001B[43mnum_epochs\u001B[49m\u001B[38;5;241;43m=\u001B[39;49m\u001B[38;5;241;43m100\u001B[39;49m\u001B[43m,\u001B[49m\u001B[43m \u001B[49m\u001B[43mlr\u001B[49m\u001B[38;5;241;43m=\u001B[39;49m\u001B[38;5;241;43m0.003\u001B[39;49m\u001B[43m,\u001B[49m\u001B[43m \u001B[49m\u001B[43mvalidation\u001B[49m\u001B[38;5;241;43m=\u001B[39;49m\u001B[38;5;28;43;01mFalse\u001B[39;49;00m\u001B[43m)\u001B[49m \u001B[38;5;66;03m#90\u001B[39;00m\n\u001B[0;32m     17\u001B[0m training_loop(model2, train_loader, test_loader, device, num_epochs\u001B[38;5;241m=\u001B[39m\u001B[38;5;241m60\u001B[39m, lr\u001B[38;5;241m=\u001B[39m\u001B[38;5;241m0.001\u001B[39m, validation\u001B[38;5;241m=\u001B[39m\u001B[38;5;28;01mFalse\u001B[39;00m) \u001B[38;5;66;03m#50\u001B[39;00m\n\u001B[0;32m     18\u001B[0m training_loop(model3, train_loader, test_loader, device, num_epochs\u001B[38;5;241m=\u001B[39m\u001B[38;5;241m30\u001B[39m, lr\u001B[38;5;241m=\u001B[39m\u001B[38;5;241m0.0001\u001B[39m, validation\u001B[38;5;241m=\u001B[39m\u001B[38;5;28;01mFalse\u001B[39;00m) \u001B[38;5;66;03m#25\u001B[39;00m\n",
      "File \u001B[1;32m~\\Documents\\Moje dokumenty\\Studia\\Praca Inżynierska\\snn-pollution\\src\\train_model.py:20\u001B[0m, in \u001B[0;36mtraining_loop\u001B[1;34m(model, train_loader, valid_loader, device, num_epochs, lr, validation)\u001B[0m\n\u001B[0;32m     18\u001B[0m model\u001B[38;5;241m.\u001B[39mtrain()\n\u001B[0;32m     19\u001B[0m \u001B[38;5;28;01mfor\u001B[39;00m data, targets \u001B[38;5;129;01min\u001B[39;00m train_loader:\n\u001B[1;32m---> 20\u001B[0m     data, targets \u001B[38;5;241m=\u001B[39m \u001B[43mdata\u001B[49m\u001B[38;5;241;43m.\u001B[39;49m\u001B[43mto\u001B[49m\u001B[43m(\u001B[49m\u001B[43mdevice\u001B[49m\u001B[43m)\u001B[49m, targets\u001B[38;5;241m.\u001B[39mto(device)  \u001B[38;5;66;03m# move data to GPU\u001B[39;00m\n\u001B[0;32m     22\u001B[0m     preds \u001B[38;5;241m=\u001B[39m model(data)\u001B[38;5;241m.\u001B[39msqueeze(dim\u001B[38;5;241m=\u001B[39m\u001B[38;5;241m1\u001B[39m)\n\u001B[0;32m     23\u001B[0m     loss \u001B[38;5;241m=\u001B[39m loss_fun(preds, targets)\n",
      "\u001B[1;31mKeyboardInterrupt\u001B[0m: "
     ]
    }
   ],
   "source": [
    "trials = 2\n",
    "for i in range(trials):\n",
    "    # Prepare data loaders.\n",
    "    train_dataset, test_dataset = torch.utils.data.random_split(all_data, (round(0.8 * len(all_data)), round(0.2 * len(all_data))))\n",
    "    train_loader = data.DataLoader(train_dataset, batch_size=32, shuffle=True, drop_last=True)\n",
    "    test_loader = data.DataLoader(test_dataset, batch_size=256, shuffle=False, drop_last=False)\n",
    "\n",
    "    # Prepare models.\n",
    "    model1 = MultiLayerANN(num_inputs=8, num_hidden=4000, num_outputs=1)\n",
    "    model2 = LeakySNN(num_inputs=8, num_hidden=4000, num_outputs=1, num_steps=25)\n",
    "    model3 = SynapticSNN(num_inputs=8, num_hidden=4000, num_outputs=1, num_steps=50)\n",
    "    model4 = DoubleLeakySNN(num_inputs=8, num_hidden=4000, num_outputs=1, num_steps=20)\n",
    "\n",
    "    # Train models.\n",
    "    print(f'------------------------------------\\nTraining {i+1}')\n",
    "    training_loop(model1, train_loader, test_loader, device, num_epochs=100, lr=0.003, validation=False) #90\n",
    "    training_loop(model2, train_loader, test_loader, device, num_epochs=60, lr=0.001, validation=False) #50\n",
    "    training_loop(model3, train_loader, test_loader, device, num_epochs=30, lr=0.0001, validation=False) #25\n",
    "    training_loop(model4, train_loader, test_loader, device, num_epochs=40, lr=0.001, validation=False) #35\n",
    "\n",
    "    # Gather results.\n",
    "    collect_stats(model1, err_model1, test_loader, device)\n",
    "    collect_stats(model2, err_model2, test_loader, device)\n",
    "    collect_stats(model3, err_model3, test_loader, device)\n",
    "    collect_stats(model4, err_model4, test_loader, device)"
   ],
   "metadata": {
    "collapsed": false
   }
  },
  {
   "cell_type": "code",
   "execution_count": 10,
   "outputs": [
    {
     "name": "stdout",
     "output_type": "stream",
     "text": [
      "------Simple ANN ------\n",
      "MAE: 5.733594991551628, MSE:63.580033061411996,\n",
      "RMSE: 7.967944587224418, IA: 0.9164841564885322,\n",
      "MAPE: 38.03590761235476 %, acc: 51.449999999999996 %\n",
      "\n",
      "------LIF SNN ------\n",
      "MAE: 6.2430069344668615, MSE:69.54496934137244,\n",
      "RMSE: 8.339354083040947, IA: 0.9103193725694927,\n",
      "MAPE: 44.6369944580173 %, acc: 48.089999999999996 %\n",
      "\n",
      "------Synaptic SNN ------\n",
      "MAE: 9.264562545325347, MSE:135.060263711052,\n",
      "RMSE: 11.233460025005105, IA: 0.8579632085418573,\n",
      "MAPE: 68.35216490927189 %, acc: 33.75 %\n",
      "\n",
      "------Double LIF SNN ------\n",
      "MAE: 6.685834302134199, MSE:80.7118603840073,\n",
      "RMSE: 8.983535278879645, IA: 0.8816772396448564,\n",
      "MAPE: 48.23070322089788 %, acc: 45.655 %\n",
      "\n"
     ]
    }
   ],
   "source": [
    "# Print average results\n",
    "print('------Simple ANN ------')\n",
    "print_average_stats(err_model1, trials)\n",
    "print('------LIF SNN ------')\n",
    "print_average_stats(err_model2, trials)\n",
    "print('------Synaptic SNN ------')\n",
    "print_average_stats(err_model3, trials)\n",
    "print('------Double LIF SNN ------')\n",
    "print_average_stats(err_model4, trials)"
   ],
   "metadata": {
    "collapsed": false,
    "pycharm": {
     "name": "#%%\n"
    }
   }
  },
  {
   "cell_type": "code",
   "execution_count": null,
   "outputs": [],
   "source": [],
   "metadata": {
    "collapsed": false,
    "pycharm": {
     "name": "#%%\n"
    }
   }
  }
 ],
 "metadata": {
  "kernelspec": {
   "display_name": "Python 3",
   "language": "python",
   "name": "python3"
  },
  "language_info": {
   "codemirror_mode": {
    "name": "ipython",
    "version": 2
   },
   "file_extension": ".py",
   "mimetype": "text/x-python",
   "name": "python",
   "nbconvert_exporter": "python",
   "pygments_lexer": "ipython2",
   "version": "2.7.6"
  }
 },
 "nbformat": 4,
 "nbformat_minor": 0
}